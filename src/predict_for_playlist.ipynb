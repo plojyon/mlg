{
 "cells": [
  {
   "cell_type": "code",
   "execution_count": null,
   "metadata": {},
   "outputs": [],
   "source": [
    "import pickle\n",
    "graph = pickle.load(\"path/to/graph.pkl\")\n",
    "model = pickle.load(\"path/to/model.pkl\")"
   ]
  },
  {
   "cell_type": "code",
   "execution_count": null,
   "metadata": {},
   "outputs": [],
   "source": [
    "import torch\n",
    "\n",
    "def unqiue_in_tracks(tracks, type):\n",
    "    u = set()\n",
    "    for t in tracks:\n",
    "        v = t.get(type)\n",
    "        if v:\n",
    "            u.add(v)\n",
    "    return u\n",
    "\n",
    "def add_playlist(graph, playlist):\n",
    "    # Extract playlist id\n",
    "    assert \"playlist_id\" in playlist\n",
    "    playlist_id = playlist[\"playlist_id\"]\n",
    "\n",
    "    # Expected playlist parameters\n",
    "    key_defaults = {\n",
    "        \"num_followers\": 0,\n",
    "        \"collaborative\": False,\n",
    "        \"num_edits\": 0,\n",
    "        \"tracks\": []\n",
    "    }\n",
    "\n",
    "    # Set default values for missing parameters\n",
    "    playlist = {**key_defaults, **playlist}\n",
    "\n",
    "    # Count unique elements\n",
    "    playlist[\"num_tracks\"] = len(playlist[\"tracks\"])\n",
    "    playlist[\"num_artists\"] = len(unqiue_in_tracks(playlist[\"tracks\"], \"artist_id\"))\n",
    "    playlist[\"num_albums\"] = len(unqiue_in_tracks(playlist[\"tracks\"], \"album_id\"))\n",
    "\n",
    "    # Sum durations\n",
    "    playlist[\"duration_ms\"] = sum([t.get(\"duration_ms\", 0) for t in playlist[\"tracks\"]])\n",
    "\n",
    "    # Extract playlist embedding\n",
    "    playlist_embedding = [playlist[\"num_followers\"], playlist[\"collaborative\"], playlist[\"num_albums\"], playlist[\"num_tracks\"], playlist[\"num_edits\"], playlist[\"duration_ms\"], playlist[\"num_artists\"]]\n",
    "    playlist_embedding = torch.LongTensor(playlist_embedding).reshape(1, -1)\n",
    "\n",
    "    # Add playlist to graph\n",
    "    graph[\"playlist\"].x = torch.cat((graph[\"playlist\"].x, playlist_embedding), dim=0)\n",
    "\n",
    "    # Add track to playlist connections\n",
    "    for track in playlist[\"tracks\"]:\n",
    "        assert \"track_id\" in track\n",
    "        track_id = track[\"id\"]\n",
    "        graph[\"track\", \"contains\", \"playlist\"].edge_index = torch.cat((graph[\"track\", \"contains\", \"playlist\"].edge_index, torch.LongTensor([(track_id, playlist_id)])), dim=1)\n",
    "\n",
    "        assert \"artist_id\" in track\n",
    "        artist_id = track[\"artist_id\"]\n",
    "        graph[\"track\", \"includes\", \"album\"].edge_index = torch.cat((graph[\"track\", \"includes\", \"album\"].edge_index, torch.LongTensor([(track_id, artist_id)])), dim=1)\n",
    "\n",
    "        assert \"album_id\" in track\n",
    "        album_id = track[\"album_id\"]\n",
    "        graph[\"track\", \"includes\", \"album\"].edge_index = torch.cat((graph[\"track\", \"includes\", \"album\"].edge_index, torch.LongTensor([(track_id, album_id)])), dim=1)\n",
    "\n",
    "    # Construct index of all track connections to new playlist\n",
    "    new_playlist_tracks_index = torch.LongTensor([playlist_id] * len(graph[\"track\"].x))\n",
    "    graph[\"track\", \"contains\", \"playlist\"].edge_label_index = new_playlist_tracks_index"
   ]
  },
  {
   "cell_type": "code",
   "execution_count": null,
   "metadata": {},
   "outputs": [],
   "source": [
    "playlist = {\n",
    "    \"playlist_id\": 0,\n",
    "    \"tracks\": [\n",
    "        {\n",
    "            \"track_id\": 0,\n",
    "            \"artist_id\": 10,\n",
    "            \"album_id\": 100,\n",
    "            \"duration_ms\": 1000\n",
    "        }, \n",
    "        {\n",
    "            \"track_id\": 1,\n",
    "            \"artist_id\": 11,\n",
    "            \"album_id\": 101,\n",
    "            \"duration_ms\": 1000\n",
    "        }\n",
    "    ]\n",
    "}\n",
    "# add playlist and set track connections for prediction\n",
    "add_playlist(graph, playlist)"
   ]
  },
  {
   "cell_type": "code",
   "execution_count": null,
   "metadata": {},
   "outputs": [],
   "source": [
    "# predict track connections\n",
    "with torch.no_grad():\n",
    "    pred = model(graph)\n",
    "    \n",
    "    # get top 10 predictions\n",
    "    top_10 = pred.topk(10, dim=1).indices[0]\n",
    "\n",
    "    # get track ids\n",
    "    track_ids = graph[\"track\"].x[top_10].tolist()"
   ]
  },
  {
   "cell_type": "code",
   "execution_count": null,
   "metadata": {},
   "outputs": [],
   "source": [
    "print(track_ids)"
   ]
  }
 ],
 "metadata": {
  "kernelspec": {
   "display_name": "Python 3 (ipykernel)",
   "language": "python",
   "name": "python3"
  },
  "orig_nbformat": 4
 },
 "nbformat": 4,
 "nbformat_minor": 2
}
