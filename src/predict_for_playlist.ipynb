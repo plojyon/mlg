{
 "cells": [
  {
   "cell_type": "code",
   "execution_count": 26,
   "metadata": {},
   "outputs": [],
   "source": [
    "import sys, os.path as op\n",
    "sys.path.insert(0, '/home/yon/jupyter-server/mlg/src/')"
   ]
  },
  {
   "cell_type": "code",
   "execution_count": 27,
   "metadata": {},
   "outputs": [
    {
     "name": "stdout",
     "output_type": "stream",
     "text": [
      "carloss62.pkl\t      G_example.pkl\t      top-G-5000.pkl\n",
      "carloss66.pkl\t      ghetero_example.pkl     top-ghetero-1000.pkl\n",
      "carloss72.pkl\t      ghetero.pkl\t      top-ghetero-5000-fixed-maybe.pkl\n",
      "datasets_example.pkl  G.pkl\t\t      top-ghetero-5000.pkl\n",
      "datasets.pkl\t      top-G-1000_example.pkl  top-idx-1000.pkl\n",
      "deleteme.pkl\t      top-G-1000.pkl\t      top-idx-5000.pkl\n"
     ]
    }
   ],
   "source": [
    "source_dir = \"spotify_million_playlist_dataset/pickles\"\n",
    "!ls spotify_million_playlist_dataset/pickles"
   ]
  },
  {
   "cell_type": "code",
   "execution_count": 28,
   "metadata": {},
   "outputs": [],
   "source": [
    "import pickle\n",
    "from model import *\n",
    "graph = pickle.load(open(op.join(source_dir, \"top-ghetero-5000-fixed-maybe.pkl\"), \"rb\"))\n",
    "model = pickle.load(open(op.join(source_dir, \"carloss72.pkl\"), \"rb\"))\n",
    "name_to_id = pickle.load(open(op.join(source_dir, \"top-idx-5000.pkl\"), \"rb\"))\n",
    "id_to_name = {T: {v : k for k, v in dictionary.items()} for T, dictionary in name_to_id.items()}"
   ]
  },
  {
   "cell_type": "code",
   "execution_count": 29,
   "metadata": {},
   "outputs": [],
   "source": [
    "import torch\n",
    "\n",
    "def count_unique_connections(graph, edge_type, position=1):\n",
    "    return len(torch.unique(graph[edge_type].edge_index[position, :], dim=0))\n",
    "\n",
    "def add_playlist(graph, playlist):\n",
    "    # Set new playlist id\n",
    "    playlist_id = len(graph[\"playlist\"].x)\n",
    "\n",
    "    # Expected playlist parameters\n",
    "    key_defaults = {\n",
    "        \"num_followers\": 0,\n",
    "        \"collaborative\": False,\n",
    "        \"num_edits\": 0,\n",
    "        \"tracks\": []\n",
    "    }\n",
    "\n",
    "    # Set default values for missing parameters\n",
    "    playlist = {**key_defaults, **playlist}\n",
    "\n",
    "    # Count unique elements\n",
    "    playlist[\"num_tracks\"] = len(playlist[\"tracks\"])\n",
    "    playlist[\"num_artists\"] = count_unique_connections(graph, (\"track\", \"authors\", \"artist\"))\n",
    "    playlist[\"num_albums\"] = count_unique_connections(graph, (\"track\", \"includes\", \"album\"))\n",
    "\n",
    "    # Sum durations\n",
    "    playlist[\"duration_ms\"] = sum([graph[\"track\"].x[track_id][0] for track_id in playlist[\"tracks\"]])\n",
    "\n",
    "    # Extract playlist embedding\n",
    "    playlist_embedding_array = [playlist[\"num_followers\"], playlist[\"collaborative\"], playlist[\"num_albums\"], playlist[\"num_tracks\"], playlist[\"num_edits\"], playlist[\"duration_ms\"], playlist[\"num_artists\"]]\n",
    "    playlist_embedding = torch.FloatTensor(playlist_embedding_array).reshape(1, -1)\n",
    "\n",
    "    # Add playlist to graph\n",
    "    graph[\"playlist\"].x = torch.cat((graph[\"playlist\"].x, playlist_embedding), dim=0)\n",
    "\n",
    "    # Add track to playlist connections\n",
    "    for track_id in playlist[\"tracks\"]:\n",
    "        graph[\"track\", \"contains\", \"playlist\"].edge_index = torch.cat((graph[\"track\", \"contains\", \"playlist\"].edge_index, torch.LongTensor([[track_id], [playlist_id]])), dim=1)\n",
    "\n",
    "        track_artist_index = graph[\"track\", \"authors\", \"artist\"].edge_index[0, :].eq(track_id).nonzero()\n",
    "        if track_artist_index.size(0) == 0:\n",
    "            raise Exception(\"Track {} has no artist\".format(track_id))\n",
    "        artist_id = graph[\"track\", \"authors\", \"artist\"].edge_index[1, track_artist_index]\n",
    "        artist_id = artist_id if artist_id.dim() == 0 else artist_id[0]\n",
    "        \n",
    "\n",
    "        track_album_index = graph[\"track\", \"includes\", \"album\"].edge_index[0, :].eq(track_id).nonzero()\n",
    "        if track_album_index.size(0) == 0:\n",
    "            raise Exception(\"Track {} has no album\".format(track_id))\n",
    "        album_id = graph[\"track\", \"includes\", \"album\"].edge_index[1, track_album_index]\n",
    "        album_id = album_id if album_id.dim() == 0 else album_id[0]\n",
    "\n",
    "        graph[\"track\", \"authors\", \"artist\"].edge_index = torch.cat((graph[\"track\", \"authors\", \"artist\"].edge_index, torch.LongTensor([[track_id], [artist_id]])), dim=1)\n",
    "        graph[\"track\", \"includes\", \"album\"].edge_index = torch.cat((graph[\"track\", \"includes\", \"album\"].edge_index, torch.LongTensor([[track_id], [album_id]])), dim=1)\n",
    "\n",
    "    # Construct index of all track connections to new playlist for prediction\n",
    "    track_ids = torch.LongTensor([i for i in range(len(graph[\"track\"].x))])\n",
    "    playlist_ids = torch.LongTensor([playlist_id] * len(graph[\"track\"].x))\n",
    "    new_playlist_tracks_edge_index = torch.cat((track_ids.reshape(1, -1), playlist_ids.reshape(1, -1)), dim=0)\n",
    "    graph[\"track\", \"contains\", \"playlist\"].edge_label_index = new_playlist_tracks_edge_index"
   ]
  },
  {
   "cell_type": "code",
   "execution_count": 30,
   "metadata": {},
   "outputs": [],
   "source": [
    "# Set playlist tracks by name\n",
    "tracks_names = [\n",
    "    \"spotify:track:7N3PAbqfTjSEU1edb2tY8j\", \"spotify:track:7o2CTH4ctstm8TNelqjb51\", \"spotify:track:7o2CTH4ctstm8TNelqjb51\", \n",
    "    \"spotify:track:70Z9t1qhytWtG4cCmmi7mU\",             \n",
    "                ]\n",
    "track_ids = [name_to_id[\"track\"][name] for name in tracks_names]\n",
    "\n",
    "# Add playlist and set track connections for prediction\n",
    "graph.to(\"cpu\")\n",
    "add_playlist(graph, {\n",
    "    \"collaborative\": False,\n",
    "    \"num_edits\": 0,\n",
    "    \"num_followers\": 0,\n",
    "    \"tracks\": track_ids\n",
    "})"
   ]
  },
  {
   "cell_type": "code",
   "execution_count": 31,
   "metadata": {},
   "outputs": [],
   "source": [
    "# predict track connections\n",
    "device = torch.device(\"cuda\" if torch.cuda.is_available() else \"cpu\")\n",
    "model = model.to(device)\n",
    "graph = graph.to(device)\n",
    "with torch.no_grad():\n",
    "    pred = model(graph)\n",
    "    \n",
    "    # get top 10 predictions\n",
    "    most_likely = torch.topk(pred, 10, dim=0)"
   ]
  },
  {
   "cell_type": "code",
   "execution_count": 32,
   "metadata": {},
   "outputs": [
    {
     "data": {
      "text/plain": [
       "torch.return_types.topk(\n",
       "values=tensor([0.7601, 0.7575, 0.7522, 0.7521, 0.7511, 0.7510, 0.7509, 0.7508, 0.7508,\n",
       "        0.7507], device='cuda:0'),\n",
       "indices=tensor([ 96845, 100513,  95372,  56272,  66383,  37171,  91803, 118145,  29110,\n",
       "        101717], device='cuda:0'))"
      ]
     },
     "execution_count": 32,
     "metadata": {},
     "output_type": "execute_result"
    }
   ],
   "source": [
    "# Most likely track id prediction\n",
    "most_likely"
   ]
  },
  {
   "cell_type": "code",
   "execution_count": 33,
   "metadata": {},
   "outputs": [
    {
     "data": {
      "text/plain": [
       "['spotify:track:5tl8usOmZVss5gtf1bDQy6',\n",
       " 'spotify:track:1ZPCfXdkN4UQkbQRnh9yJW',\n",
       " 'spotify:track:08hNyQHnhEpEbm3DZNbnH0',\n",
       " 'spotify:track:43wxfOT7MnPKC306eD35HC',\n",
       " 'spotify:track:5mPSyjLatqB00IkPqRlbTE',\n",
       " 'spotify:track:6mghCOaaSvrke0z1EUVUIf',\n",
       " 'spotify:track:6BbINUfGabVyiNFJpQXn3x',\n",
       " 'spotify:track:6RcQOut9fWL6FSqeIr5M1r',\n",
       " 'spotify:track:1Ser4X0TKttOvo8bgdytTP',\n",
       " 'spotify:track:2q4rjDy9WhaN3o9MvDbO21']"
      ]
     },
     "execution_count": 33,
     "metadata": {},
     "output_type": "execute_result"
    }
   ],
   "source": [
    "# Predicted track names\n",
    "[id_to_name[\"track\"][i.item()] for i in most_likely.indices]"
   ]
  }
 ],
 "metadata": {
  "kernelspec": {
   "display_name": "Python 3 (ipykernel)",
   "language": "python",
   "name": "python3"
  },
  "language_info": {
   "codemirror_mode": {
    "name": "ipython",
    "version": 3
   },
   "file_extension": ".py",
   "mimetype": "text/x-python",
   "name": "python",
   "nbconvert_exporter": "python",
   "pygments_lexer": "ipython3",
   "version": "3.10.8"
  },
  "orig_nbformat": 4
 },
 "nbformat": 4,
 "nbformat_minor": 2
}
