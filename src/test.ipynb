{
  "cells": [
    {
      "attachments": {},
      "cell_type": "markdown",
      "metadata": {},
      "source": [
        "In this project, we will train a GNN to perform link prediction on a heterogenous graph from the Spotify Million Playlists dataset."
      ]
    },
    {
      "attachments": {},
      "cell_type": "markdown",
      "metadata": {},
      "source": [
        "# Import libraries"
      ]
    },
    {
      "cell_type": "code",
      "execution_count": 1,
      "metadata": {},
      "outputs": [],
      "source": [
        "import sys  \n",
        "sys.path.insert(0, '/home/yon/jupyter-server/mlg/src/')\n",
        "\n",
        "import loader\n",
        "import config\n",
        "import model as M\n",
        "import preprocessing\n",
        "from pprint import pprint\n",
        "import torch\n",
        "import random\n",
        "import torch_geometric\n",
        "import numpy as np\n",
        "import time\n",
        "import matplotlib.pyplot as plt\n",
        "import torch_geometric.transforms as T\n",
        "\n",
        "device = torch.device('cuda' if torch.cuda.is_available() else 'cpu')"
      ]
    },
    {
      "attachments": {},
      "cell_type": "markdown",
      "metadata": {},
      "source": [
        "# Model"
      ]
    },
    {
      "cell_type": "code",
      "execution_count": 2,
      "metadata": {},
      "outputs": [],
      "source": [
        "from torcheval.metrics import BinaryAccuracy\n",
        "\n",
        "class GNN(torch.nn.Module):\n",
        "    def __init__(self, hidden_channels):\n",
        "        super().__init__()\n",
        "        self.conv1 = torch_geometric.nn.SAGEConv((-1, -1), hidden_channels, normalize=False)\n",
        "        self.conv2 = torch_geometric.nn.SAGEConv((-1, -1), hidden_channels, normalize=False)\n",
        "\n",
        "    def forward(self, x, edge_index):\n",
        "        x = self.conv1(x, edge_index).relu()\n",
        "        x = self.conv2(x, edge_index)\n",
        "        return x\n",
        "\n",
        "class LinkPredictor(torch.nn.Module):\n",
        "    def forward(self, x_track, x_playlist, track_playlist_edge):\n",
        "        track_embedding = x_track[track_playlist_edge[0]]\n",
        "        playlist_embedding = x_playlist[track_playlist_edge[1]]\n",
        "\n",
        "        #print(playlist_embedding)\n",
        "\n",
        "        # Apply dot-product to get a prediction per supervision edge:\n",
        "        return (playlist_embedding * track_embedding).sum(dim=-1)\n",
        "\n",
        "class HeteroModel(torch.nn.Module):\n",
        "    def __init__(self, hidden_channels, node_features, metadata):\n",
        "        super().__init__()\n",
        "        # Since the dataset does not come with rich features, we also learn two\n",
        "        # embedding matrices for users and movies:\n",
        "\n",
        "        self.node_lin = {\n",
        "            k: torch.nn.Linear(v.shape[1], hidden_channels).to(device) for k, v in node_features.items()\n",
        "        }\n",
        "\n",
        "        for _, v in self.node_lin.items():\n",
        "            torch.nn.init.xavier_uniform_(v.weight)\n",
        "        \n",
        "        # Instantiate homogeneous GNN:\n",
        "        self.gnn = GNN(hidden_channels).to(device)\n",
        "        # Convert GNN model into a heterogeneous variant:\n",
        "        self.gnn = torch_geometric.nn.to_hetero(self.gnn, metadata=metadata).to(device)\n",
        "\n",
        "        self.classifier = LinkPredictor().to(device)\n",
        "\n",
        "    def forward(self, data):\n",
        "        x_dict = {\n",
        "            k: self.node_lin[k](v) for k, v in data.x_dict.items()\n",
        "        }\n",
        "\n",
        "        x_dict = self.gnn(x_dict, data.edge_index_dict)\n",
        "        pred = self.classifier(\n",
        "            x_dict[\"track\"],\n",
        "            x_dict[\"playlist\"],\n",
        "            data[\"track\", \"contains\", \"playlist\"].edge_label_index,\n",
        "        )\n",
        "        return pred\n",
        "\n",
        "    def reset_parameters(self):\n",
        "        for _, v in self.node_lin.items():\n",
        "            torch.nn.init.xavier_uniform_(v.weight)\n",
        "        self.gnn.reset_parameters()\n",
        "\n",
        "def dummy_generator(source):\n",
        "    for e in source:\n",
        "        yield e\n",
        "\n",
        "def train(model, train_loader, optimizer, batch_wrapper=dummy_generator):\n",
        "    model.train()\n",
        "\n",
        "    accuracy = 0\n",
        "\n",
        "    total_examples = total_loss = 0\n",
        "    for i, batch in enumerate(batch_wrapper(train_loader)):\n",
        "        optimizer.zero_grad()\n",
        "        \n",
        "        out = model(batch)\n",
        "        truth = batch[\"track\", \"contains\", \"playlist\"].edge_label\n",
        "\n",
        "\n",
        "        ind = torch.randint(len(out),(5,))\n",
        "\n",
        "        if(i % 10 == 0):\n",
        "            #print(out[:10])\n",
        "            #print(batch[\"track\", \"contains\", \"playlist\"].edge_label[:10])\n",
        "            pass\n",
        "        loss = torch.nn.functional.mse_loss(\n",
        "            out, truth\n",
        "        )\n",
        "        loss.backward()\n",
        "        optimizer.step()\n",
        "\n",
        "        metric = BinaryAccuracy()\n",
        "        metric.update(out.to('cpu'), truth.to('cpu'))\n",
        "        accuracy += metric.compute() * len(out)\n",
        "\n",
        "        total_examples += len(out)\n",
        "        total_loss += float(loss) * len(out)\n",
        "\n",
        "    return total_loss / total_examples, accuracy / total_examples"
      ]
    },
    {
      "attachments": {},
      "cell_type": "markdown",
      "metadata": {},
      "source": [
        "# Test Run"
      ]
    },
    {
      "cell_type": "code",
      "execution_count": 3,
      "metadata": {},
      "outputs": [
        {
          "name": "stdout",
          "output_type": "stream",
          "text": [
            "Loading ghetero from pickle ...\n",
            "Loading datasets from pickle ...\n"
          ]
        }
      ],
      "source": [
        "ghetero = loader.get_ghetero(False, config.big)\n",
        "data_train, data_val, data_test = loader.get_datasets(False, config.big)"
      ]
    },
    {
      "cell_type": "code",
      "execution_count": 4,
      "metadata": {},
      "outputs": [],
      "source": [
        "#!rm spotify_million_playlist_dataset/pickles/ghetero.pkl"
      ]
    },
    {
      "cell_type": "code",
      "execution_count": 53,
      "metadata": {},
      "outputs": [
        {
          "name": "stderr",
          "output_type": "stream",
          "text": [
            "Train100%|██████████| 100/100 [00:07<00:00, 13.27epoch/s, Loss: 0.2222, Accuracy 0.6667] \n"
          ]
        },
        {
          "data": {
            "image/png": "[encoded data removed]",
            "text/plain": [
              "<Figure size 640x480 with 1 Axes>"
            ]
          },
          "metadata": {},
          "output_type": "display_data"
        }
      ],
      "source": [
        "# create training mask for playlist nodes\n",
        "train_mask = torch.zeros(ghetero[\"playlist\"].x.shape[0], dtype=torch.bool)\n",
        "train_mask[torch.randperm(train_mask.shape[0])[:int(train_mask.shape[0]*0.8)]] = True\n",
        "\n",
        "ghetero[\"playlist\"].train_mask = train_mask\n",
        "\n",
        "ghetero[\"playlist\"].y = torch.LongTensor([1]*ghetero[\"playlist\"].x.shape[0]).to(device)\n",
        "\n",
        "model = HeteroModel(64, ghetero.x_dict, ghetero.metadata()).to(device)\n",
        "optimizer = torch.optim.Adam(model.parameters(), lr=0.01)\n",
        "edge_label_index = data_train[\"track\", \"contains\", \"playlist\"].edge_label_index\n",
        "edge_label = data_train[\"track\", \"contains\", \"playlist\"].edge_label\n",
        "\n",
        "def kek(*k,**k1):\n",
        "    print(\"to device called\", k, k1)\n",
        "    return T.ToDevice(device)(*k,**k1)\n",
        "\n",
        "train_loader = torch_geometric.loader.LinkNeighborLoader(\n",
        "    data=data_train,\n",
        "    num_neighbors=[50, 30],\n",
        "    neg_sampling_ratio=2.0,\n",
        "    edge_label_index=((\"track\", \"contains\", \"playlist\"), edge_label_index),\n",
        "    edge_label=edge_label,\n",
        "    batch_size=10000,\n",
        "    shuffle=True,\n",
        "    transform=T.ToDevice(device)\n",
        ")\n",
        "\n",
        "import tqdm\n",
        "epoch = 100\n",
        "\n",
        "render_graph = True\n",
        "\n",
        "losses = []\n",
        "accuracies = []\n",
        "\n",
        "epoch_iter = tqdm.tqdm(range(epoch), unit='epoch', desc='Training', bar_format='{desc:<5.5}{percentage:3.0f}%|{bar:10}{r_bar}')\n",
        "for i in epoch_iter:\n",
        "    loss, accuracy = train(model, train_loader, optimizer)\n",
        "    losses.append(loss)\n",
        "    accuracies.append(accuracy)\n",
        "    epoch_iter.set_postfix_str(f\"Loss: {loss:.4f}, Accuracy {accuracy:.4f}\")\n",
        "\n",
        "plt.clf()\n",
        "# add labels\n",
        "plt.plot(np.arange(len(accuracies)), accuracies, label='Accuracy')\n",
        "plt.plot(np.arange(len(losses)), losses, label='Loss')\n",
        "# add legend\n",
        "\n",
        "#start plot at 0\n",
        "plt.ylim(0, 1)\n",
        "plt.legend()\n",
        "plt.show()"
      ]
    },
    {
      "cell_type": "code",
      "execution_count": null,
      "metadata": {},
      "outputs": [],
      "source": []
    }
  ],
  "metadata": {
    "kernelspec": {
      "display_name": "Python 3 (ipykernel)",
      "language": "python",
      "name": "python3"
    },
    "language_info": {
      "codemirror_mode": {
        "name": "ipython",
        "version": 3
      },
      "file_extension": ".py",
      "mimetype": "text/x-python",
      "name": "python",
      "nbconvert_exporter": "python",
      "pygments_lexer": "ipython3",
      "version": "3.10.8"
    },
    "orig_nbformat": 4,
    "vscode": {
      "interpreter": {
        "hash": "fdd1bf0cdef9f431ef204eb65428406a6292ed13583a3a7833f3ab005ff2b93a"
      }
    }
  },
  "nbformat": 4,
  "nbformat_minor": 2
}
