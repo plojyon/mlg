{
 "cells": [
  {
   "attachments": {},
   "cell_type": "markdown",
   "metadata": {},
   "source": [
    "In this project, we will train a GNN to perform link prediction on a heterogenous graph from the Spotify Million Playlists dataset."
   ]
  },
  {
   "attachments": {},
   "cell_type": "markdown",
   "metadata": {},
   "source": [
    "# Import libraries"
   ]
  },
  {
   "cell_type": "code",
   "execution_count": 1,
   "metadata": {},
   "outputs": [],
   "source": [
    "import sys  \n",
    "sys.path.insert(0, '/home/yon/jupyter-server/mlg/src/')\n",
    "\n",
    "import loader\n",
    "import config\n",
    "import model as M\n",
    "import preprocessing\n",
    "from pprint import pprint\n",
    "import torch\n",
    "import random\n",
    "import torch_geometric\n",
    "import numpy as np\n",
    "import time"
   ]
  },
  {
   "attachments": {},
   "cell_type": "markdown",
   "metadata": {},
   "source": [
    "# Test Run"
   ]
  },
  {
   "cell_type": "code",
   "execution_count": 5,
   "metadata": {},
   "outputs": [],
   "source": [
    "!rm spotify_million_playlist_dataset/pickles/G_example.pkl"
   ]
  },
  {
   "cell_type": "code",
   "execution_count": 6,
   "metadata": {},
   "outputs": [
    {
     "name": "stdout",
     "output_type": "stream",
     "text": [
      "Pickled ghetero not found, generating anew ...\n",
      "Pickled G not found, generating anew ...\n"
     ]
    },
    {
     "name": "stderr",
     "output_type": "stream",
     "text": [
      "100%|███████████████████████████████████████████████████████████████████████| 1/1 [00:00<00:00,  1.26files/s]\n"
     ]
    },
    {
     "name": "stdout",
     "output_type": "stream",
     "text": [
      "G generated, pickle saved to spotify_million_playlist_dataset/pickles/G_example.pkl\n"
     ]
    },
    {
     "ename": "TypeError",
     "evalue": "'NodeDataView' object is not an iterator",
     "output_type": "error",
     "traceback": [
      "\u001b[0;31m---------------------------------------------------------------------------\u001b[0m",
      "\u001b[0;31mTypeError\u001b[0m                                 Traceback (most recent call last)",
      "Cell \u001b[0;32mIn[6], line 1\u001b[0m\n\u001b[0;32m----> 1\u001b[0m ghetero \u001b[39m=\u001b[39m loader\u001b[39m.\u001b[39;49mget_ghetero(\u001b[39mTrue\u001b[39;49;00m, config)\n\u001b[1;32m      2\u001b[0m data_train, data_val, data_test \u001b[39m=\u001b[39m loader\u001b[39m.\u001b[39mget_datasets(\u001b[39mTrue\u001b[39;00m, config)\n",
      "File \u001b[0;32m~/jupyter-server/mlg/src/loader.py:178\u001b[0m, in \u001b[0;36m<lambda>\u001b[0;34m(i, c)\u001b[0m\n\u001b[1;32m    175\u001b[0m         \u001b[39mreturn\u001b[39;00m obj\n\u001b[1;32m    177\u001b[0m get_g \u001b[39m=\u001b[39m \u001b[39mlambda\u001b[39;00m i\u001b[39m=\u001b[39m\u001b[39mFalse\u001b[39;00m, c\u001b[39m=\u001b[39mconfig: get_cached(\u001b[39m\"\u001b[39m\u001b[39mG\u001b[39m\u001b[39m\"\u001b[39m, c\u001b[39m.\u001b[39mpickled_graph, fallback\u001b[39m=\u001b[39mload_graph, ignore_cache\u001b[39m=\u001b[39mi)\n\u001b[0;32m--> 178\u001b[0m get_ghetero \u001b[39m=\u001b[39m \u001b[39mlambda\u001b[39;00m i\u001b[39m=\u001b[39m\u001b[39mFalse\u001b[39;00m, c\u001b[39m=\u001b[39mconfig: get_cached(\u001b[39m\"\u001b[39;49m\u001b[39mghetero\u001b[39;49m\u001b[39m\"\u001b[39;49m, c\u001b[39m.\u001b[39;49mpickled_ghetero, fallback\u001b[39m=\u001b[39;49m\u001b[39mlambda\u001b[39;49;00m: nx2hetero(get_g()), ignore_cache\u001b[39m=\u001b[39;49mi)\n\u001b[1;32m    179\u001b[0m get_datasets \u001b[39m=\u001b[39m \u001b[39mlambda\u001b[39;00m i\u001b[39m=\u001b[39m\u001b[39mFalse\u001b[39;00m, c\u001b[39m=\u001b[39mconfig: get_cached(\u001b[39m\"\u001b[39m\u001b[39mdatasets\u001b[39m\u001b[39m\"\u001b[39m, c\u001b[39m.\u001b[39mpickled_datasets, fallback\u001b[39m=\u001b[39m\u001b[39mlambda\u001b[39;00m: ghetero2datasets(get_ghetero()), ignore_cache\u001b[39m=\u001b[39mi)\n",
      "File \u001b[0;32m~/jupyter-server/mlg/src/loader.py:172\u001b[0m, in \u001b[0;36mget_cached\u001b[0;34m(var, pickled_filename, fallback, ignore_cache)\u001b[0m\n\u001b[1;32m    170\u001b[0m \u001b[39melse\u001b[39;00m:\n\u001b[1;32m    171\u001b[0m     \u001b[39mprint\u001b[39m(\u001b[39mf\u001b[39m\u001b[39m\"\u001b[39m\u001b[39mPickled \u001b[39m\u001b[39m{\u001b[39;00mvar\u001b[39m}\u001b[39;00m\u001b[39m not found, generating anew ...\u001b[39m\u001b[39m\"\u001b[39m)\n\u001b[0;32m--> 172\u001b[0m     obj \u001b[39m=\u001b[39m fallback()\n\u001b[1;32m    173\u001b[0m     pickle\u001b[39m.\u001b[39mdump(obj, \u001b[39mopen\u001b[39m(pickled_filename, \u001b[39m\"\u001b[39m\u001b[39mwb\u001b[39m\u001b[39m\"\u001b[39m))\n\u001b[1;32m    174\u001b[0m     \u001b[39mprint\u001b[39m(\u001b[39mf\u001b[39m\u001b[39m\"\u001b[39m\u001b[39m{\u001b[39;00mvar\u001b[39m}\u001b[39;00m\u001b[39m generated, pickle saved to \u001b[39m\u001b[39m{\u001b[39;00mpickled_filename\u001b[39m}\u001b[39;00m\u001b[39m\"\u001b[39m)\n",
      "File \u001b[0;32m~/jupyter-server/mlg/src/loader.py:178\u001b[0m, in \u001b[0;36m<lambda>\u001b[0;34m()\u001b[0m\n\u001b[1;32m    175\u001b[0m         \u001b[39mreturn\u001b[39;00m obj\n\u001b[1;32m    177\u001b[0m get_g \u001b[39m=\u001b[39m \u001b[39mlambda\u001b[39;00m i\u001b[39m=\u001b[39m\u001b[39mFalse\u001b[39;00m, c\u001b[39m=\u001b[39mconfig: get_cached(\u001b[39m\"\u001b[39m\u001b[39mG\u001b[39m\u001b[39m\"\u001b[39m, c\u001b[39m.\u001b[39mpickled_graph, fallback\u001b[39m=\u001b[39mload_graph, ignore_cache\u001b[39m=\u001b[39mi)\n\u001b[0;32m--> 178\u001b[0m get_ghetero \u001b[39m=\u001b[39m \u001b[39mlambda\u001b[39;00m i\u001b[39m=\u001b[39m\u001b[39mFalse\u001b[39;00m, c\u001b[39m=\u001b[39mconfig: get_cached(\u001b[39m\"\u001b[39m\u001b[39mghetero\u001b[39m\u001b[39m\"\u001b[39m, c\u001b[39m.\u001b[39mpickled_ghetero, fallback\u001b[39m=\u001b[39m\u001b[39mlambda\u001b[39;00m: nx2hetero(get_g()), ignore_cache\u001b[39m=\u001b[39mi)\n\u001b[1;32m    179\u001b[0m get_datasets \u001b[39m=\u001b[39m \u001b[39mlambda\u001b[39;00m i\u001b[39m=\u001b[39m\u001b[39mFalse\u001b[39;00m, c\u001b[39m=\u001b[39mconfig: get_cached(\u001b[39m\"\u001b[39m\u001b[39mdatasets\u001b[39m\u001b[39m\"\u001b[39m, c\u001b[39m.\u001b[39mpickled_datasets, fallback\u001b[39m=\u001b[39m\u001b[39mlambda\u001b[39;00m: ghetero2datasets(get_ghetero()), ignore_cache\u001b[39m=\u001b[39mi)\n",
      "File \u001b[0;32m~/jupyter-server/mlg/src/loader.py:81\u001b[0m, in \u001b[0;36mnx2hetero\u001b[0;34m(graph_getter)\u001b[0m\n\u001b[1;32m     49\u001b[0m node_features_by_type \u001b[39m=\u001b[39m {\n\u001b[1;32m     50\u001b[0m     \u001b[39m\"\u001b[39m\u001b[39mplaylist\u001b[39m\u001b[39m\"\u001b[39m: [],\n\u001b[1;32m     51\u001b[0m     \u001b[39m\"\u001b[39m\u001b[39mtrack\u001b[39m\u001b[39m\"\u001b[39m: [],\n\u001b[1;32m     52\u001b[0m     \u001b[39m\"\u001b[39m\u001b[39martist\u001b[39m\u001b[39m\"\u001b[39m: [],\n\u001b[1;32m     53\u001b[0m     \u001b[39m\"\u001b[39m\u001b[39malbum\u001b[39m\u001b[39m\"\u001b[39m: []\n\u001b[1;32m     54\u001b[0m }\n\u001b[1;32m     56\u001b[0m \u001b[39m# {\u001b[39;00m\n\u001b[1;32m     57\u001b[0m \u001b[39m#     \"name\": \"musical\",\u001b[39;00m\n\u001b[1;32m     58\u001b[0m \u001b[39m#     \"collaborative\": \"false\",\u001b[39;00m\n\u001b[0;32m   (...)\u001b[0m\n\u001b[1;32m     79\u001b[0m \n\u001b[1;32m     80\u001b[0m \u001b[39m# }\u001b[39;00m\n\u001b[0;32m---> 81\u001b[0m \u001b[39mprint\u001b[39m(\u001b[39mnext\u001b[39;49m(G\u001b[39m.\u001b[39;49mnodes(data\u001b[39m=\u001b[39;49m\u001b[39mTrue\u001b[39;49;00m)))\n\u001b[1;32m     83\u001b[0m \u001b[39mfor\u001b[39;00m node \u001b[39min\u001b[39;00m G\u001b[39m.\u001b[39mnodes(data\u001b[39m=\u001b[39m\u001b[39mTrue\u001b[39;00m):\n\u001b[1;32m     84\u001b[0m     t \u001b[39m=\u001b[39m node[\u001b[39m1\u001b[39m][\u001b[39m\"\u001b[39m\u001b[39mnode_type\u001b[39m\u001b[39m\"\u001b[39m]\n",
      "\u001b[0;31mTypeError\u001b[0m: 'NodeDataView' object is not an iterator"
     ]
    }
   ],
   "source": [
    "ghetero = loader.get_ghetero(True, config)\n",
    "data_train, data_val, data_test = loader.get_datasets(True, config)"
   ]
  },
  {
   "cell_type": "code",
   "execution_count": null,
   "metadata": {},
   "outputs": [],
   "source": [
    "# create training mask for playlist nodes\n",
    "train_mask = torch.zeros(ghetero[\"playlist\"].x.shape[0], dtype=torch.bool)\n",
    "train_mask[torch.randperm(train_mask.shape[0])[:int(train_mask.shape[0]*0.8)]] = True\n",
    "\n",
    "ghetero[\"playlist\"].train_mask = train_mask\n",
    "\n",
    "ghetero[\"playlist\"].y = torch.LongTensor([1]*ghetero[\"playlist\"].x.shape[0])\n",
    "\n",
    "model = M.HeteroModel(64, ghetero.x_dict, ghetero.metadata())\n",
    "optimizer = torch.optim.Adam(model.parameters(), lr=0.01)\n",
    "\n",
    "edge_label_index = data_train[\"track\", \"contains\", \"playlist\"].edge_label_index\n",
    "edge_label = data_train[\"track\", \"contains\", \"playlist\"].edge_label\n",
    "train_loader = torch_geometric.loader.LinkNeighborLoader(\n",
    "    data=data_train,\n",
    "    num_neighbors=[20, 10],\n",
    "    neg_sampling_ratio=2.0,\n",
    "    edge_label_index=((\"track\", \"contains\", \"playlist\"), edge_label_index),\n",
    "    edge_label=edge_label,\n",
    "    batch_size=128,\n",
    "    shuffle=True,\n",
    ")"
   ]
  },
  {
   "cell_type": "code",
   "execution_count": null,
   "metadata": {},
   "outputs": [
    {
     "data": {
      "text/plain": [
       "HeteroData(\n",
       "  \u001b[1mplaylist\u001b[0m={ x=[1000, 1] },\n",
       "  \u001b[1mtrack\u001b[0m={ x=[35289, 1] },\n",
       "  \u001b[1martist\u001b[0m={ x=[10091, 1] },\n",
       "  \u001b[1malbum\u001b[0m={ x=[20469, 1] },\n",
       "  \u001b[1m(track, contains, playlist)\u001b[0m={\n",
       "    edge_index=[2, 37146],\n",
       "    edge_label=[15919],\n",
       "    edge_label_index=[2, 15919]\n",
       "  },\n",
       "  \u001b[1m(track, includes, album)\u001b[0m={ edge_index=[2, 35289] },\n",
       "  \u001b[1m(track, authors, artist)\u001b[0m={ edge_index=[2, 35289] },\n",
       "  \u001b[1m(playlist, rev_contains, track)\u001b[0m={ edge_index=[2, 37146] },\n",
       "  \u001b[1m(album, rev_includes, track)\u001b[0m={ edge_index=[2, 35289] },\n",
       "  \u001b[1m(artist, rev_authors, track)\u001b[0m={ edge_index=[2, 35289] }\n",
       ")"
      ]
     },
     "execution_count": 5,
     "metadata": {},
     "output_type": "execute_result"
    }
   ],
   "source": [
    "data_train"
   ]
  },
  {
   "cell_type": "code",
   "execution_count": null,
   "metadata": {},
   "outputs": [
    {
     "name": "stderr",
     "output_type": "stream",
     "text": [
      "100%|██████████████████████████████████████████████████████████████████████| 125/125 [00:06<00:00, 19.92it/s]\n"
     ]
    },
    {
     "name": "stdout",
     "output_type": "stream",
     "text": [
      "Epoch 1/100, Loss: 758.6188\n"
     ]
    },
    {
     "name": "stderr",
     "output_type": "stream",
     "text": [
      "100%|██████████████████████████████████████████████████████████████████████| 125/125 [00:06<00:00, 20.09it/s]\n"
     ]
    },
    {
     "name": "stdout",
     "output_type": "stream",
     "text": [
      "Epoch 2/100, Loss: 758.5325\n"
     ]
    },
    {
     "name": "stderr",
     "output_type": "stream",
     "text": [
      "100%|██████████████████████████████████████████████████████████████████████| 125/125 [00:06<00:00, 20.25it/s]\n"
     ]
    },
    {
     "name": "stdout",
     "output_type": "stream",
     "text": [
      "Epoch 3/100, Loss: 758.5125\n"
     ]
    },
    {
     "name": "stderr",
     "output_type": "stream",
     "text": [
      "100%|██████████████████████████████████████████████████████████████████████| 125/125 [00:06<00:00, 19.80it/s]\n"
     ]
    },
    {
     "name": "stdout",
     "output_type": "stream",
     "text": [
      "Epoch 4/100, Loss: 758.5638\n"
     ]
    },
    {
     "name": "stderr",
     "output_type": "stream",
     "text": [
      "100%|██████████████████████████████████████████████████████████████████████| 125/125 [00:06<00:00, 20.11it/s]\n"
     ]
    },
    {
     "name": "stdout",
     "output_type": "stream",
     "text": [
      "Epoch 5/100, Loss: 758.5302\n"
     ]
    },
    {
     "name": "stderr",
     "output_type": "stream",
     "text": [
      " 22%|███████████████▉                                                       | 28/125 [00:01<00:04, 19.68it/s]\n"
     ]
    },
    {
     "ename": "KeyboardInterrupt",
     "evalue": "",
     "output_type": "error",
     "traceback": [
      "\u001b[0;31m---------------------------------------------------------------------------\u001b[0m",
      "\u001b[0;31mKeyboardInterrupt\u001b[0m                         Traceback (most recent call last)",
      "Cell \u001b[0;32mIn[4], line 4\u001b[0m\n\u001b[1;32m      2\u001b[0m epoch \u001b[39m=\u001b[39m \u001b[39m100\u001b[39m\n\u001b[1;32m      3\u001b[0m \u001b[39mfor\u001b[39;00m i \u001b[39min\u001b[39;00m \u001b[39mrange\u001b[39m(epoch):\n\u001b[0;32m----> 4\u001b[0m     loss \u001b[39m=\u001b[39m M\u001b[39m.\u001b[39;49mtrain(model, train_loader, optimizer, batch_wrapper\u001b[39m=\u001b[39;49mtqdm\u001b[39m.\u001b[39;49mtqdm)\n\u001b[1;32m      5\u001b[0m     \u001b[39mprint\u001b[39m(\u001b[39mf\u001b[39m\u001b[39m\"\u001b[39m\u001b[39mEpoch \u001b[39m\u001b[39m{\u001b[39;00mi\u001b[39m+\u001b[39m\u001b[39m1\u001b[39m\u001b[39m}\u001b[39;00m\u001b[39m/\u001b[39m\u001b[39m{\u001b[39;00mepoch\u001b[39m}\u001b[39;00m\u001b[39m, Loss: \u001b[39m\u001b[39m{\u001b[39;00mloss\u001b[39m:\u001b[39;00m\u001b[39m.4f\u001b[39m\u001b[39m}\u001b[39;00m\u001b[39m\"\u001b[39m)\n",
      "File \u001b[0;32m~/jupyter-server/mlg/src/model.py:70\u001b[0m, in \u001b[0;36mtrain\u001b[0;34m(model, train_loader, optimizer, batch_wrapper)\u001b[0m\n\u001b[1;32m     67\u001b[0m model\u001b[39m.\u001b[39mtrain()\n\u001b[1;32m     69\u001b[0m total_examples \u001b[39m=\u001b[39m total_loss \u001b[39m=\u001b[39m \u001b[39m0\u001b[39m\n\u001b[0;32m---> 70\u001b[0m \u001b[39mfor\u001b[39;00m batch \u001b[39min\u001b[39;00m batch_wrapper(train_loader):\n\u001b[1;32m     71\u001b[0m     optimizer\u001b[39m.\u001b[39mzero_grad()\n\u001b[1;32m     73\u001b[0m     out \u001b[39m=\u001b[39m model(batch)\n",
      "File \u001b[0;32m~/jupyter-server/venv/lib/python3.10/site-packages/tqdm/std.py:1195\u001b[0m, in \u001b[0;36mtqdm.__iter__\u001b[0;34m(self)\u001b[0m\n\u001b[1;32m   1192\u001b[0m time \u001b[39m=\u001b[39m \u001b[39mself\u001b[39m\u001b[39m.\u001b[39m_time\n\u001b[1;32m   1194\u001b[0m \u001b[39mtry\u001b[39;00m:\n\u001b[0;32m-> 1195\u001b[0m     \u001b[39mfor\u001b[39;00m obj \u001b[39min\u001b[39;00m iterable:\n\u001b[1;32m   1196\u001b[0m         \u001b[39myield\u001b[39;00m obj\n\u001b[1;32m   1197\u001b[0m         \u001b[39m# Update and possibly print the progressbar.\u001b[39;00m\n\u001b[1;32m   1198\u001b[0m         \u001b[39m# Note: does not call self.update(1) for speed optimisation.\u001b[39;00m\n",
      "File \u001b[0;32m~/jupyter-server/venv/lib/python3.10/site-packages/torch_geometric/loader/base.py:36\u001b[0m, in \u001b[0;36mDataLoaderIterator.__next__\u001b[0;34m(self)\u001b[0m\n\u001b[1;32m     35\u001b[0m \u001b[39mdef\u001b[39;00m \u001b[39m__next__\u001b[39m(\u001b[39mself\u001b[39m) \u001b[39m-\u001b[39m\u001b[39m>\u001b[39m Any:\n\u001b[0;32m---> 36\u001b[0m     \u001b[39mreturn\u001b[39;00m \u001b[39mself\u001b[39m\u001b[39m.\u001b[39mtransform_fn(\u001b[39mnext\u001b[39;49m(\u001b[39mself\u001b[39;49m\u001b[39m.\u001b[39;49miterator))\n",
      "File \u001b[0;32m~/jupyter-server/venv/lib64/python3.10/site-packages/torch/utils/data/dataloader.py:628\u001b[0m, in \u001b[0;36m_BaseDataLoaderIter.__next__\u001b[0;34m(self)\u001b[0m\n\u001b[1;32m    625\u001b[0m \u001b[39mif\u001b[39;00m \u001b[39mself\u001b[39m\u001b[39m.\u001b[39m_sampler_iter \u001b[39mis\u001b[39;00m \u001b[39mNone\u001b[39;00m:\n\u001b[1;32m    626\u001b[0m     \u001b[39m# TODO(https://github.com/pytorch/pytorch/issues/76750)\u001b[39;00m\n\u001b[1;32m    627\u001b[0m     \u001b[39mself\u001b[39m\u001b[39m.\u001b[39m_reset()  \u001b[39m# type: ignore[call-arg]\u001b[39;00m\n\u001b[0;32m--> 628\u001b[0m data \u001b[39m=\u001b[39m \u001b[39mself\u001b[39;49m\u001b[39m.\u001b[39;49m_next_data()\n\u001b[1;32m    629\u001b[0m \u001b[39mself\u001b[39m\u001b[39m.\u001b[39m_num_yielded \u001b[39m+\u001b[39m\u001b[39m=\u001b[39m \u001b[39m1\u001b[39m\n\u001b[1;32m    630\u001b[0m \u001b[39mif\u001b[39;00m \u001b[39mself\u001b[39m\u001b[39m.\u001b[39m_dataset_kind \u001b[39m==\u001b[39m _DatasetKind\u001b[39m.\u001b[39mIterable \u001b[39mand\u001b[39;00m \\\n\u001b[1;32m    631\u001b[0m         \u001b[39mself\u001b[39m\u001b[39m.\u001b[39m_IterableDataset_len_called \u001b[39mis\u001b[39;00m \u001b[39mnot\u001b[39;00m \u001b[39mNone\u001b[39;00m \u001b[39mand\u001b[39;00m \\\n\u001b[1;32m    632\u001b[0m         \u001b[39mself\u001b[39m\u001b[39m.\u001b[39m_num_yielded \u001b[39m>\u001b[39m \u001b[39mself\u001b[39m\u001b[39m.\u001b[39m_IterableDataset_len_called:\n",
      "File \u001b[0;32m~/jupyter-server/venv/lib64/python3.10/site-packages/torch/utils/data/dataloader.py:671\u001b[0m, in \u001b[0;36m_SingleProcessDataLoaderIter._next_data\u001b[0;34m(self)\u001b[0m\n\u001b[1;32m    669\u001b[0m \u001b[39mdef\u001b[39;00m \u001b[39m_next_data\u001b[39m(\u001b[39mself\u001b[39m):\n\u001b[1;32m    670\u001b[0m     index \u001b[39m=\u001b[39m \u001b[39mself\u001b[39m\u001b[39m.\u001b[39m_next_index()  \u001b[39m# may raise StopIteration\u001b[39;00m\n\u001b[0;32m--> 671\u001b[0m     data \u001b[39m=\u001b[39m \u001b[39mself\u001b[39;49m\u001b[39m.\u001b[39;49m_dataset_fetcher\u001b[39m.\u001b[39;49mfetch(index)  \u001b[39m# may raise StopIteration\u001b[39;00m\n\u001b[1;32m    672\u001b[0m     \u001b[39mif\u001b[39;00m \u001b[39mself\u001b[39m\u001b[39m.\u001b[39m_pin_memory:\n\u001b[1;32m    673\u001b[0m         data \u001b[39m=\u001b[39m _utils\u001b[39m.\u001b[39mpin_memory\u001b[39m.\u001b[39mpin_memory(data, \u001b[39mself\u001b[39m\u001b[39m.\u001b[39m_pin_memory_device)\n",
      "File \u001b[0;32m~/jupyter-server/venv/lib64/python3.10/site-packages/torch/utils/data/_utils/fetch.py:61\u001b[0m, in \u001b[0;36m_MapDatasetFetcher.fetch\u001b[0;34m(self, possibly_batched_index)\u001b[0m\n\u001b[1;32m     59\u001b[0m \u001b[39melse\u001b[39;00m:\n\u001b[1;32m     60\u001b[0m     data \u001b[39m=\u001b[39m \u001b[39mself\u001b[39m\u001b[39m.\u001b[39mdataset[possibly_batched_index]\n\u001b[0;32m---> 61\u001b[0m \u001b[39mreturn\u001b[39;00m \u001b[39mself\u001b[39;49m\u001b[39m.\u001b[39;49mcollate_fn(data)\n",
      "File \u001b[0;32m~/jupyter-server/venv/lib/python3.10/site-packages/torch_geometric/loader/link_loader.py:171\u001b[0m, in \u001b[0;36mLinkLoader.collate_fn\u001b[0;34m(self, index)\u001b[0m\n\u001b[1;32m    168\u001b[0m \u001b[39m\u001b[39m\u001b[39mr\u001b[39m\u001b[39m\"\"\"Samples a subgraph from a batch of input nodes.\"\"\"\u001b[39;00m\n\u001b[1;32m    169\u001b[0m input_data: EdgeSamplerInput \u001b[39m=\u001b[39m \u001b[39mself\u001b[39m\u001b[39m.\u001b[39minput_data[index]\n\u001b[0;32m--> 171\u001b[0m out \u001b[39m=\u001b[39m \u001b[39mself\u001b[39;49m\u001b[39m.\u001b[39;49mlink_sampler\u001b[39m.\u001b[39;49msample_from_edges(\n\u001b[1;32m    172\u001b[0m     input_data, neg_sampling\u001b[39m=\u001b[39;49m\u001b[39mself\u001b[39;49m\u001b[39m.\u001b[39;49mneg_sampling)\n\u001b[1;32m    174\u001b[0m \u001b[39mif\u001b[39;00m \u001b[39mself\u001b[39m\u001b[39m.\u001b[39mfilter_per_worker:  \u001b[39m# Execute `filter_fn` in the worker process\u001b[39;00m\n\u001b[1;32m    175\u001b[0m     out \u001b[39m=\u001b[39m \u001b[39mself\u001b[39m\u001b[39m.\u001b[39mfilter_fn(out)\n",
      "File \u001b[0;32m~/jupyter-server/venv/lib/python3.10/site-packages/torch_geometric/sampler/neighbor_sampler.py:345\u001b[0m, in \u001b[0;36mNeighborSampler.sample_from_edges\u001b[0;34m(self, index, **kwargs)\u001b[0m\n\u001b[1;32m    340\u001b[0m \u001b[39mdef\u001b[39;00m \u001b[39msample_from_edges\u001b[39m(\n\u001b[1;32m    341\u001b[0m     \u001b[39mself\u001b[39m,\n\u001b[1;32m    342\u001b[0m     index: EdgeSamplerInput,\n\u001b[1;32m    343\u001b[0m     \u001b[39m*\u001b[39m\u001b[39m*\u001b[39mkwargs,\n\u001b[1;32m    344\u001b[0m ) \u001b[39m-\u001b[39m\u001b[39m>\u001b[39m Union[SamplerOutput, HeteroSamplerOutput]:\n\u001b[0;32m--> 345\u001b[0m     \u001b[39mreturn\u001b[39;00m edge_sample(index, \u001b[39mself\u001b[39;49m\u001b[39m.\u001b[39;49m_sample, \u001b[39mself\u001b[39;49m\u001b[39m.\u001b[39;49mnum_src_nodes,\n\u001b[1;32m    346\u001b[0m                        \u001b[39mself\u001b[39;49m\u001b[39m.\u001b[39;49mnum_dst_nodes, \u001b[39mself\u001b[39;49m\u001b[39m.\u001b[39;49mdisjoint, \u001b[39mself\u001b[39;49m\u001b[39m.\u001b[39;49minput_type,\n\u001b[1;32m    347\u001b[0m                        node_time\u001b[39m=\u001b[39;49m\u001b[39mself\u001b[39;49m\u001b[39m.\u001b[39;49mnode_time, \u001b[39m*\u001b[39;49m\u001b[39m*\u001b[39;49mkwargs)\n",
      "File \u001b[0;32m~/jupyter-server/venv/lib/python3.10/site-packages/torch_geometric/sampler/neighbor_sampler.py:494\u001b[0m, in \u001b[0;36medge_sample\u001b[0;34m(index, sample_fn, num_src_nodes, num_dst_nodes, disjoint, input_type, node_time, neg_sampling)\u001b[0m\n\u001b[1;32m    489\u001b[0m     \u001b[39mif\u001b[39;00m edge_label_time \u001b[39mis\u001b[39;00m \u001b[39mnot\u001b[39;00m \u001b[39mNone\u001b[39;00m:  \u001b[39m# Always disjoint.\u001b[39;00m\n\u001b[1;32m    490\u001b[0m         seed_time_dict \u001b[39m=\u001b[39m {\n\u001b[1;32m    491\u001b[0m             input_type[\u001b[39m0\u001b[39m]: torch\u001b[39m.\u001b[39mcat([src_time, dst_time], dim\u001b[39m=\u001b[39m\u001b[39m0\u001b[39m),\n\u001b[1;32m    492\u001b[0m         }\n\u001b[0;32m--> 494\u001b[0m out \u001b[39m=\u001b[39m sample_fn(seed\u001b[39m=\u001b[39;49mseed_dict, seed_time_dict\u001b[39m=\u001b[39;49mseed_time_dict)\n\u001b[1;32m    496\u001b[0m \u001b[39m# Enhance `out` by label information ##################################\u001b[39;00m\n\u001b[1;32m    497\u001b[0m \u001b[39mif\u001b[39;00m disjoint:\n",
      "File \u001b[0;32m~/jupyter-server/venv/lib/python3.10/site-packages/torch_geometric/sampler/neighbor_sampler.py:258\u001b[0m, in \u001b[0;36mNeighborSampler._sample\u001b[0;34m(self, seed, **kwargs)\u001b[0m\n\u001b[1;32m    253\u001b[0m     \u001b[39mif\u001b[39;00m \u001b[39mself\u001b[39m\u001b[39m.\u001b[39mdisjoint:\n\u001b[1;32m    254\u001b[0m         \u001b[39mraise\u001b[39;00m \u001b[39mValueError\u001b[39;00m(\u001b[39m\"\u001b[39m\u001b[39m'\u001b[39m\u001b[39mdisjoint\u001b[39m\u001b[39m'\u001b[39m\u001b[39m sampling not supported for \u001b[39m\u001b[39m\"\u001b[39m\n\u001b[1;32m    255\u001b[0m                          \u001b[39m\"\u001b[39m\u001b[39mneighbor sampling via \u001b[39m\u001b[39m'\u001b[39m\u001b[39mtorch-sparse\u001b[39m\u001b[39m'\u001b[39m\u001b[39m. \u001b[39m\u001b[39m\"\u001b[39m\n\u001b[1;32m    256\u001b[0m                          \u001b[39m\"\u001b[39m\u001b[39mPlease install \u001b[39m\u001b[39m'\u001b[39m\u001b[39mpyg-lib\u001b[39m\u001b[39m'\u001b[39m\u001b[39m for improved \u001b[39m\u001b[39m\"\u001b[39m\n\u001b[1;32m    257\u001b[0m                          \u001b[39m\"\u001b[39m\u001b[39mand optimized sampling routines.\u001b[39m\u001b[39m\"\u001b[39m)\n\u001b[0;32m--> 258\u001b[0m     out \u001b[39m=\u001b[39m torch\u001b[39m.\u001b[39;49mops\u001b[39m.\u001b[39;49mtorch_sparse\u001b[39m.\u001b[39;49mhetero_neighbor_sample(\n\u001b[1;32m    259\u001b[0m         \u001b[39mself\u001b[39;49m\u001b[39m.\u001b[39;49mnode_types,\n\u001b[1;32m    260\u001b[0m         \u001b[39mself\u001b[39;49m\u001b[39m.\u001b[39;49medge_types,\n\u001b[1;32m    261\u001b[0m         \u001b[39mself\u001b[39;49m\u001b[39m.\u001b[39;49mcolptr_dict,\n\u001b[1;32m    262\u001b[0m         \u001b[39mself\u001b[39;49m\u001b[39m.\u001b[39;49mrow_dict,\n\u001b[1;32m    263\u001b[0m         seed,  \u001b[39m# seed_dict\u001b[39;49;00m\n\u001b[1;32m    264\u001b[0m         \u001b[39mself\u001b[39;49m\u001b[39m.\u001b[39;49mnum_neighbors,\n\u001b[1;32m    265\u001b[0m         \u001b[39mself\u001b[39;49m\u001b[39m.\u001b[39;49mnum_hops,\n\u001b[1;32m    266\u001b[0m         \u001b[39mself\u001b[39;49m\u001b[39m.\u001b[39;49mreplace,\n\u001b[1;32m    267\u001b[0m         \u001b[39mself\u001b[39;49m\u001b[39m.\u001b[39;49mdirected,\n\u001b[1;32m    268\u001b[0m     )\n\u001b[1;32m    269\u001b[0m     node, row, col, edge, batch \u001b[39m=\u001b[39m out \u001b[39m+\u001b[39m (\u001b[39mNone\u001b[39;00m, )\n\u001b[1;32m    271\u001b[0m \u001b[39mreturn\u001b[39;00m HeteroSamplerOutput(\n\u001b[1;32m    272\u001b[0m     node\u001b[39m=\u001b[39mnode,\n\u001b[1;32m    273\u001b[0m     row\u001b[39m=\u001b[39mremap_keys(row, \u001b[39mself\u001b[39m\u001b[39m.\u001b[39mto_edge_type),\n\u001b[0;32m   (...)\u001b[0m\n\u001b[1;32m    276\u001b[0m     batch\u001b[39m=\u001b[39mbatch,\n\u001b[1;32m    277\u001b[0m )\n",
      "File \u001b[0;32m~/jupyter-server/venv/lib64/python3.10/site-packages/torch/_ops.py:442\u001b[0m, in \u001b[0;36mOpOverloadPacket.__call__\u001b[0;34m(self, *args, **kwargs)\u001b[0m\n\u001b[1;32m    437\u001b[0m \u001b[39mdef\u001b[39;00m \u001b[39m__call__\u001b[39m(\u001b[39mself\u001b[39m, \u001b[39m*\u001b[39margs, \u001b[39m*\u001b[39m\u001b[39m*\u001b[39mkwargs):\n\u001b[1;32m    438\u001b[0m     \u001b[39m# overloading __call__ to ensure torch.ops.foo.bar()\u001b[39;00m\n\u001b[1;32m    439\u001b[0m     \u001b[39m# is still callable from JIT\u001b[39;00m\n\u001b[1;32m    440\u001b[0m     \u001b[39m# We save the function ptr as the `op` attribute on\u001b[39;00m\n\u001b[1;32m    441\u001b[0m     \u001b[39m# OpOverloadPacket to access it here.\u001b[39;00m\n\u001b[0;32m--> 442\u001b[0m     \u001b[39mreturn\u001b[39;00m \u001b[39mself\u001b[39;49m\u001b[39m.\u001b[39;49m_op(\u001b[39m*\u001b[39;49margs, \u001b[39m*\u001b[39;49m\u001b[39m*\u001b[39;49mkwargs \u001b[39mor\u001b[39;49;00m {})\n",
      "\u001b[0;31mKeyboardInterrupt\u001b[0m: "
     ]
    }
   ],
   "source": [
    "import tqdm\n",
    "epoch = 100\n",
    "for i in range(epoch):\n",
    "    loss = M.train(model, train_loader, optimizer, batch_wrapper=tqdm.tqdm)\n",
    "    print(f\"Epoch {i+1}/{epoch}, Loss: {loss:.4f}\")"
   ]
  }
 ],
 "metadata": {
  "kernelspec": {
   "display_name": "Python 3 (ipykernel)",
   "language": "python",
   "name": "python3"
  },
  "language_info": {
   "codemirror_mode": {
    "name": "ipython",
    "version": 3
   },
   "file_extension": ".py",
   "mimetype": "text/x-python",
   "name": "python",
   "nbconvert_exporter": "python",
   "pygments_lexer": "ipython3",
   "version": "3.10.8"
  },
  "orig_nbformat": 4,
  "vscode": {
   "interpreter": {
    "hash": "fdd1bf0cdef9f431ef204eb65428406a6292ed13583a3a7833f3ab005ff2b93a"
   }
  }
 },
 "nbformat": 4,
 "nbformat_minor": 2
}
