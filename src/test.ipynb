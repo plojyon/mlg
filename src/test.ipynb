{
 "cells": [
  {
   "attachments": {},
   "cell_type": "markdown",
   "metadata": {},
   "source": [
    "In this project, we will train a GNN to perform link prediction on a heterogenous graph from the Spotify Million Playlists dataset."
   ]
  },
  {
   "attachments": {},
   "cell_type": "markdown",
   "metadata": {},
   "source": [
    "# Import libraries"
   ]
  },
  {
   "cell_type": "code",
   "execution_count": null,
   "metadata": {},
   "outputs": [],
   "source": [
    "import sys  \n",
    "sys.path.insert(0, '/home/yon/jupyter-server/mlg/src/')\n",
    "\n",
    "import loader\n",
    "import config\n",
    "import model as M\n",
    "import preprocessing\n",
    "from pprint import pprint\n",
    "import torch\n",
    "import random\n",
    "import torch_geometric\n",
    "import numpy as np\n",
    "import time\n",
    "import matplotlib.pyplot as plt"
   ]
  },
  {
   "attachments": {},
   "cell_type": "markdown",
   "metadata": {},
   "source": [
    "# Model"
   ]
  },
  {
   "cell_type": "code",
   "execution_count": null,
   "metadata": {},
   "outputs": [],
   "source": [
    "from torcheval.metrics import BinaryAccuracy\n",
    "\n",
    "class GNN(torch.nn.Module):\n",
    "    def __init__(self, hidden_channels):\n",
    "        super().__init__()\n",
    "        self.conv1 = torch_geometric.nn.SAGEConv((-1, -1), hidden_channels, normalize=True)\n",
    "        self.conv2 = torch_geometric.nn.SAGEConv((-1, -1), hidden_channels, normalize=True)\n",
    "\n",
    "    def forward(self, x, edge_index):\n",
    "        x = self.conv1(x, edge_index).relu()\n",
    "        x = self.conv2(x, edge_index)\n",
    "        return x\n",
    "\n",
    "class LinkPredictor(torch.nn.Module):\n",
    "    def forward(self, x_track, x_playlist, track_playlist_edge):\n",
    "        track_embedding = x_track[track_playlist_edge[0]]\n",
    "        playlist_embedding = x_playlist[track_playlist_edge[1]]\n",
    "\n",
    "        #print(playlist_embedding)\n",
    "\n",
    "        # Apply dot-product to get a prediction per supervision edge:\n",
    "        return (playlist_embedding * track_embedding).sum(dim=-1)\n",
    "\n",
    "class HeteroModel(torch.nn.Module):\n",
    "    def __init__(self, hidden_channels, node_features, metadata):\n",
    "        super().__init__()\n",
    "        # Since the dataset does not come with rich features, we also learn two\n",
    "        # embedding matrices for users and movies:\n",
    "\n",
    "        self.node_lin = {\n",
    "            k: torch.nn.Linear(v.shape[1], hidden_channels) for k, v in node_features.items()\n",
    "        }\n",
    "\n",
    "        for _, v in self.node_lin.items():\n",
    "            torch.nn.init.xavier_uniform_(v.weight)\n",
    "        \n",
    "        # Instantiate homogeneous GNN:\n",
    "        self.gnn = GNN(hidden_channels)\n",
    "        # Convert GNN model into a heterogeneous variant:\n",
    "        self.gnn = torch_geometric.nn.to_hetero(self.gnn, metadata=metadata)\n",
    "\n",
    "        self.classifier = LinkPredictor()\n",
    "\n",
    "    def forward(self, data):\n",
    "        x_dict = {\n",
    "            k: self.node_lin[k](v) for k, v in data.x_dict.items()\n",
    "        }\n",
    "\n",
    "        x_dict = self.gnn(x_dict, data.edge_index_dict)\n",
    "        pred = self.classifier(\n",
    "            x_dict[\"track\"],\n",
    "            x_dict[\"playlist\"],\n",
    "            data[\"track\", \"contains\", \"playlist\"].edge_label_index,\n",
    "        )\n",
    "        return pred\n",
    "\n",
    "    def reset_parameters(self):\n",
    "        for _, v in self.node_lin.items():\n",
    "            torch.nn.init.xavier_uniform_(v.weight)\n",
    "        self.gnn.reset_parameters()\n",
    "\n",
    "def dummy_generator(source):\n",
    "    for e in source:\n",
    "        yield e\n",
    "\n",
    "def train(model, train_loader, optimizer, batch_wrapper=dummy_generator):\n",
    "    model.train()\n",
    "\n",
    "    accuracy = 0\n",
    "\n",
    "    total_examples = total_loss = 0\n",
    "    for i, batch in enumerate(batch_wrapper(train_loader)):\n",
    "        optimizer.zero_grad()\n",
    "        \n",
    "        out = model(batch)\n",
    "        truth = batch[\"track\", \"contains\", \"playlist\"].edge_label\n",
    "\n",
    "\n",
    "        ind = torch.randint(len(out),(5,))\n",
    "\n",
    "        print(out[ind])\n",
    "        print(truth[ind])\n",
    "\n",
    "        if(i % 10 == 0):\n",
    "            #print(out[:10])\n",
    "            #print(batch[\"track\", \"contains\", \"playlist\"].edge_label[:10])\n",
    "            pass\n",
    "        loss = torch.nn.functional.mse_loss(\n",
    "            out, truth\n",
    "        )\n",
    "        loss.backward()\n",
    "        optimizer.step()\n",
    "\n",
    "        metric = BinaryAccuracy()\n",
    "        metric.update(out, truth)\n",
    "        accuracy += metric.compute() * len(out)\n",
    "\n",
    "        total_examples += len(out)\n",
    "        total_loss += float(loss) * len(out)\n",
    "\n",
    "    return total_loss / total_examples, accuracy / total_examples"
   ]
  },
  {
   "attachments": {},
   "cell_type": "markdown",
   "metadata": {},
   "source": [
    "# Test Run"
   ]
  },
  {
   "cell_type": "code",
   "execution_count": null,
   "metadata": {},
   "outputs": [],
   "source": [
    "!rm spotify_million_playlist_dataset/pickles/G_example.pkl"
   ]
  },
  {
   "cell_type": "code",
   "execution_count": null,
   "metadata": {},
   "outputs": [],
   "source": [
    "ghetero = loader.get_ghetero(True, config)\n",
    "data_train, data_val, data_test = loader.get_datasets(True, config)"
   ]
  },
  {
   "cell_type": "code",
   "execution_count": null,
   "metadata": {},
   "outputs": [],
   "source": [
    "# create training mask for playlist nodes\n",
    "train_mask = torch.zeros(ghetero[\"playlist\"].x.shape[0], dtype=torch.bool)\n",
    "train_mask[torch.randperm(train_mask.shape[0])[:int(train_mask.shape[0]*0.8)]] = True\n",
    "\n",
    "ghetero[\"playlist\"].train_mask = train_mask\n",
    "\n",
    "ghetero[\"playlist\"].y = torch.LongTensor([1]*ghetero[\"playlist\"].x.shape[0])\n",
    "\n",
    "model = HeteroModel(64, ghetero.x_dict, ghetero.metadata())\n",
    "optimizer = torch.optim.Adam(model.parameters(), lr=0.1, weight_decay=0.0001)\n",
    "\n",
    "edge_label_index = data_train[\"track\", \"contains\", \"playlist\"].edge_label_index\n",
    "edge_label = data_train[\"track\", \"contains\", \"playlist\"].edge_label\n",
    "train_loader = torch_geometric.loader.LinkNeighborLoader(\n",
    "    data=data_train,\n",
    "    num_neighbors=[20, 10],\n",
    "    neg_sampling_ratio=2.0,\n",
    "    edge_label_index=((\"track\", \"contains\", \"playlist\"), edge_label_index),\n",
    "    edge_label=edge_label,\n",
    "    batch_size=128,\n",
    "    shuffle=True,\n",
    ")"
   ]
  },
  {
   "cell_type": "code",
   "execution_count": null,
   "metadata": {},
   "outputs": [],
   "source": [
    "data_train"
   ]
  },
  {
   "cell_type": "code",
   "execution_count": 126,
   "metadata": {},
   "outputs": [
    {
     "name": "stderr",
     "output_type": "stream",
     "text": [
      " 58%|████████████████████████████████████████▉                              | 72/125 [00:02<00:02, 24.93it/s]"
     ]
    },
    {
     "name": "stdout",
     "output_type": "stream",
     "text": [
      "tensor([0.3750, 0.3662, 0.3816, 0.1446, 0.5960], grad_fn=<SliceBackward0>)\n",
      "tensor([1., 1., 1., 1., 1.])\n",
      "tensor([0.1992, 0.1685, 0.5131, 0.5703, 0.3960], grad_fn=<SliceBackward0>)\n",
      "tensor([1., 1., 1., 1., 1.])\n",
      "tensor([0.3947, 0.5004, 0.2134, 0.4695, 0.6114], grad_fn=<SliceBackward0>)\n",
      "tensor([1., 1., 1., 1., 1.])\n",
      "tensor([0.3920, 0.2098, 0.3707, 0.3833, 0.4864], grad_fn=<SliceBackward0>)\n",
      "tensor([1., 1., 1., 1., 1.])\n",
      "tensor([0.4408, 0.2041, 0.4373, 0.4451, 0.2018], grad_fn=<SliceBackward0>)\n",
      "tensor([1., 1., 1., 1., 1.])\n"
     ]
    },
    {
     "name": "stderr",
     "output_type": "stream",
     "text": [
      " 62%|████████████████████████████████████████████▎                          | 78/125 [00:03<00:01, 24.80it/s]"
     ]
    },
    {
     "name": "stdout",
     "output_type": "stream",
     "text": [
      "tensor([0.5524, 0.5033, 0.4474, 0.2355, 0.4444], grad_fn=<SliceBackward0>)\n",
      "tensor([1., 1., 1., 1., 1.])\n",
      "tensor([0.1784, 0.1774, 0.4460, 0.3866, 0.4394], grad_fn=<SliceBackward0>)\n",
      "tensor([1., 1., 1., 1., 1.])\n",
      "tensor([0.2579, 0.4547, 0.3015, 0.2520, 0.2824], grad_fn=<SliceBackward0>)\n",
      "tensor([1., 1., 1., 1., 1.])\n",
      "tensor([0.2311, 0.4808, 0.4790, 0.4165, 0.3404], grad_fn=<SliceBackward0>)\n",
      "tensor([1., 1., 1., 1., 1.])\n",
      "tensor([0.3964, 0.2738, 0.2673, 0.3435, 0.3942], grad_fn=<SliceBackward0>)\n",
      "tensor([1., 1., 1., 1., 1.])\n"
     ]
    },
    {
     "name": "stderr",
     "output_type": "stream",
     "text": [
      " 65%|██████████████████████████████████████████████                         | 81/125 [00:03<00:01, 24.81it/s]"
     ]
    },
    {
     "name": "stdout",
     "output_type": "stream",
     "text": [
      "tensor([0.1732, 0.5817, 0.2712, 0.3862, 0.2859], grad_fn=<SliceBackward0>)\n",
      "tensor([1., 1., 1., 1., 1.])\n",
      "tensor([0.4130, 0.2108, 0.4208, 0.3669, 0.1776], grad_fn=<SliceBackward0>)\n",
      "tensor([1., 1., 1., 1., 1.])\n",
      "tensor([0.1650, 0.5099, 0.3373, 0.4894, 0.4570], grad_fn=<SliceBackward0>)\n",
      "tensor([1., 1., 1., 1., 1.])\n",
      "tensor([0.3814, 0.3621, 0.3758, 0.4898, 0.4129], grad_fn=<SliceBackward0>)\n",
      "tensor([1., 1., 1., 1., 1.])\n",
      "tensor([0.3560, 0.4385, 0.3821, 0.4499, 0.4640], grad_fn=<SliceBackward0>)\n",
      "tensor([1., 1., 1., 1., 1.])\n",
      "tensor([0.3606, 0.4053, 0.3558, 0.3519, 0.3375], grad_fn=<SliceBackward0>)\n",
      "tensor([1., 1., 1., 1., 1.])\n"
     ]
    },
    {
     "name": "stderr",
     "output_type": "stream",
     "text": [
      " 70%|█████████████████████████████████████████████████▍                     | 87/125 [00:03<00:01, 24.72it/s]"
     ]
    },
    {
     "name": "stdout",
     "output_type": "stream",
     "text": [
      "tensor([0.4584, 0.5027, 0.6118, 0.5276, 0.3860], grad_fn=<SliceBackward0>)\n",
      "tensor([1., 1., 1., 1., 1.])\n",
      "tensor([0.2224, 0.0761, 0.1981, 0.1135, 0.0788], grad_fn=<SliceBackward0>)\n",
      "tensor([1., 1., 1., 1., 1.])\n",
      "tensor([0.4438, 0.4096, 0.4067, 0.4780, 0.3979], grad_fn=<SliceBackward0>)\n",
      "tensor([1., 1., 1., 1., 1.])\n",
      "tensor([0.7312, 0.6019, 0.4199, 0.4588, 0.4929], grad_fn=<SliceBackward0>)\n",
      "tensor([1., 1., 1., 1., 1.])\n",
      "tensor([0.2446, 0.3687, 0.3432, 0.3636, 0.3654], grad_fn=<SliceBackward0>)\n",
      "tensor([1., 1., 1., 1., 1.])\n",
      "tensor([0.1458, 0.2294, 0.2963, 0.1490, 0.2900], grad_fn=<SliceBackward0>)\n"
     ]
    },
    {
     "name": "stderr",
     "output_type": "stream",
     "text": [
      " 74%|████████████████████████████████████████████████████▊                  | 93/125 [00:03<00:01, 24.88it/s]"
     ]
    },
    {
     "name": "stdout",
     "output_type": "stream",
     "text": [
      "tensor([1., 1., 1., 1., 1.])\n",
      "tensor([0.3251, 0.2771, 0.3420, 0.3440, 0.6328], grad_fn=<SliceBackward0>)\n",
      "tensor([1., 1., 1., 1., 1.])\n",
      "tensor([0.6583, 0.2956, 0.6215, 0.3288, 0.2958], grad_fn=<SliceBackward0>)\n",
      "tensor([1., 1., 1., 1., 1.])\n",
      "tensor([0.2646, 0.1358, 0.2642, 0.1763, 0.2422], grad_fn=<SliceBackward0>)\n",
      "tensor([1., 1., 1., 1., 1.])\n",
      "tensor([0.7657, 1.0528, 0.6223, 0.9340, 0.6164], grad_fn=<SliceBackward0>)\n",
      "tensor([1., 1., 1., 1., 1.])\n",
      "tensor([-0.0355,  0.0773, -0.0871,  0.1083,  0.1371], grad_fn=<SliceBackward0>)\n",
      "tensor([1., 1., 1., 1., 1.])\n"
     ]
    },
    {
     "name": "stderr",
     "output_type": "stream",
     "text": [
      " 79%|████████████████████████████████████████████████████████▏              | 99/125 [00:03<00:01, 25.06it/s]"
     ]
    },
    {
     "name": "stdout",
     "output_type": "stream",
     "text": [
      "tensor([-0.0180, -0.0060,  0.1545,  0.0198,  0.1437], grad_fn=<SliceBackward0>)\n",
      "tensor([1., 1., 1., 1., 1.])\n",
      "tensor([0.5932, 0.6368, 0.5361, 0.5805, 0.6522], grad_fn=<SliceBackward0>)\n",
      "tensor([1., 1., 1., 1., 1.])\n",
      "tensor([0.5262, 0.5574, 0.4622, 0.4858, 0.5668], grad_fn=<SliceBackward0>)\n",
      "tensor([1., 1., 1., 1., 1.])\n",
      "tensor([-0.0421, -0.0056, -0.1265,  0.1175, -0.1069], grad_fn=<SliceBackward0>)\n",
      "tensor([1., 1., 1., 1., 1.])\n",
      "tensor([0.5869, 0.5493, 0.5895, 0.5699, 0.5376], grad_fn=<SliceBackward0>)\n",
      "tensor([1., 1., 1., 1., 1.])\n",
      "tensor([0.4456, 0.4420, 0.5382, 0.5066, 0.4133], grad_fn=<SliceBackward0>)\n",
      "tensor([1., 1., 1., 1., 1.])\n"
     ]
    },
    {
     "name": "stderr",
     "output_type": "stream",
     "text": [
      " 84%|██████████████████████████████████████████████████████████▊           | 105/125 [00:04<00:00, 25.05it/s]"
     ]
    },
    {
     "name": "stdout",
     "output_type": "stream",
     "text": [
      "tensor([0.2197, 0.2057, 0.2042, 0.2652, 0.3114], grad_fn=<SliceBackward0>)\n",
      "tensor([1., 1., 1., 1., 1.])\n",
      "tensor([0.1545, 0.1973, 0.1107, 0.0340, 0.0569], grad_fn=<SliceBackward0>)\n",
      "tensor([1., 1., 1., 1., 1.])\n",
      "tensor([0.2863, 0.2960, 0.2741, 0.3105, 0.2827], grad_fn=<SliceBackward0>)\n",
      "tensor([1., 1., 1., 1., 1.])\n",
      "tensor([0.3822, 0.4301, 0.4729, 0.4558, 0.4761], grad_fn=<SliceBackward0>)\n",
      "tensor([1., 1., 1., 1., 1.])\n",
      "tensor([0.5080, 0.5149, 0.4907, 0.4590, 0.5403], grad_fn=<SliceBackward0>)\n",
      "tensor([1., 1., 1., 1., 1.])\n"
     ]
    },
    {
     "name": "stderr",
     "output_type": "stream",
     "text": [
      " 89%|██████████████████████████████████████████████████████████████▏       | 111/125 [00:04<00:00, 24.24it/s]"
     ]
    },
    {
     "name": "stdout",
     "output_type": "stream",
     "text": [
      "tensor([0.4057, 0.4367, 0.3263, 0.4163, 0.4169], grad_fn=<SliceBackward0>)\n",
      "tensor([1., 1., 1., 1., 1.])\n",
      "tensor([0.1827, 0.2691, 0.2705, 0.2750, 0.2443], grad_fn=<SliceBackward0>)\n",
      "tensor([1., 1., 1., 1., 1.])\n",
      "tensor([0.2435, 0.2746, 0.2430, 0.2418, 0.2253], grad_fn=<SliceBackward0>)\n",
      "tensor([1., 1., 1., 1., 1.])\n",
      "tensor([0.3571, 0.3409, 0.3243, 0.2961, 0.3359], grad_fn=<SliceBackward0>)\n",
      "tensor([1., 1., 1., 1., 1.])\n",
      "tensor([0.4331, 0.4411, 0.4329, 0.4142, 0.3713], grad_fn=<SliceBackward0>)\n",
      "tensor([1., 1., 1., 1., 1.])\n"
     ]
    },
    {
     "name": "stderr",
     "output_type": "stream",
     "text": [
      " 91%|███████████████████████████████████████████████████████████████▊      | 114/125 [00:04<00:00, 24.39it/s]"
     ]
    },
    {
     "name": "stdout",
     "output_type": "stream",
     "text": [
      "tensor([0.3634, 0.4707, 0.4821, 0.4461, 0.4501], grad_fn=<SliceBackward0>)\n",
      "tensor([1., 1., 1., 1., 1.])\n",
      "tensor([0.4180, 0.4092, 0.4485, 0.4018, 0.3020], grad_fn=<SliceBackward0>)\n",
      "tensor([1., 1., 1., 1., 1.])\n",
      "tensor([0.3214, 0.3231, 0.3352, 0.3106, 0.3250], grad_fn=<SliceBackward0>)\n",
      "tensor([1., 1., 1., 1., 1.])\n",
      "tensor([0.2310, 0.3599, 0.3504, 0.3725, 0.2409], grad_fn=<SliceBackward0>)\n",
      "tensor([1., 1., 1., 1., 1.])\n",
      "tensor([0.4151, 0.3847, 0.4031, 0.4906, 0.3867], grad_fn=<SliceBackward0>)\n",
      "tensor([1., 1., 1., 1., 1.])\n",
      "tensor([0.4050, 0.3826, 0.4093, 0.4698, 0.2501], grad_fn=<SliceBackward0>)\n",
      "tensor([1., 1., 1., 1., 1.])\n"
     ]
    },
    {
     "name": "stderr",
     "output_type": "stream",
     "text": [
      " 94%|██████████████████████████████████████████████████████████████████    | 118/125 [00:04<00:00, 24.50it/s]\n"
     ]
    },
    {
     "name": "stdout",
     "output_type": "stream",
     "text": [
      "tensor([0.2166, 0.3393, 0.2892, 0.3508, 0.3315], grad_fn=<SliceBackward0>)\n",
      "tensor([1., 1., 1., 1., 1.])\n",
      "tensor([0.3758, 0.2162, 0.2274, 0.3131, 0.3785], grad_fn=<SliceBackward0>)\n",
      "tensor([1., 1., 1., 1., 1.])\n"
     ]
    },
    {
     "ename": "KeyboardInterrupt",
     "evalue": "",
     "output_type": "error",
     "traceback": [
      "\u001b[0;31m---------------------------------------------------------------------------\u001b[0m",
      "\u001b[0;31mKeyboardInterrupt\u001b[0m                         Traceback (most recent call last)",
      "Cell \u001b[0;32mIn[126], line 11\u001b[0m\n\u001b[1;32m      7\u001b[0m accuracies \u001b[39m=\u001b[39m []\n\u001b[1;32m     10\u001b[0m \u001b[39mfor\u001b[39;00m i \u001b[39min\u001b[39;00m \u001b[39mrange\u001b[39m(epoch):\n\u001b[0;32m---> 11\u001b[0m     loss, accuracy \u001b[39m=\u001b[39m train(model, train_loader, optimizer, batch_wrapper\u001b[39m=\u001b[39;49mtqdm\u001b[39m.\u001b[39;49mtqdm)\n\u001b[1;32m     12\u001b[0m     losses\u001b[39m.\u001b[39mappend(loss)\n\u001b[1;32m     13\u001b[0m     accuracies\u001b[39m.\u001b[39mappend(accuracy)\n",
      "Cell \u001b[0;32mIn[121], line 91\u001b[0m, in \u001b[0;36mtrain\u001b[0;34m(model, train_loader, optimizer, batch_wrapper)\u001b[0m\n\u001b[1;32m     88\u001b[0m loss\u001b[39m.\u001b[39mbackward()\n\u001b[1;32m     89\u001b[0m optimizer\u001b[39m.\u001b[39mstep()\n\u001b[0;32m---> 91\u001b[0m metric \u001b[39m=\u001b[39m BinaryAccuracy()\n\u001b[1;32m     92\u001b[0m metric\u001b[39m.\u001b[39mupdate(out, truth)\n\u001b[1;32m     93\u001b[0m accuracy \u001b[39m+\u001b[39m\u001b[39m=\u001b[39m metric\u001b[39m.\u001b[39mcompute() \u001b[39m*\u001b[39m \u001b[39mlen\u001b[39m(out)\n",
      "File \u001b[0;32m~/jupyter-server/venv/lib/python3.10/site-packages/torcheval/metrics/classification/accuracy.py:184\u001b[0m, in \u001b[0;36mBinaryAccuracy.__init__\u001b[0;34m(self, threshold, device)\u001b[0m\n\u001b[1;32m    178\u001b[0m \u001b[39mdef\u001b[39;00m \u001b[39m__init__\u001b[39m(\n\u001b[1;32m    179\u001b[0m     \u001b[39mself\u001b[39m: TBinaryAccuracy,\n\u001b[1;32m    180\u001b[0m     \u001b[39m*\u001b[39m,\n\u001b[1;32m    181\u001b[0m     threshold: \u001b[39mfloat\u001b[39m \u001b[39m=\u001b[39m \u001b[39m0.5\u001b[39m,\n\u001b[1;32m    182\u001b[0m     device: Optional[torch\u001b[39m.\u001b[39mdevice] \u001b[39m=\u001b[39m \u001b[39mNone\u001b[39;00m,\n\u001b[1;32m    183\u001b[0m ) \u001b[39m-\u001b[39m\u001b[39m>\u001b[39m \u001b[39mNone\u001b[39;00m:\n\u001b[0;32m--> 184\u001b[0m     \u001b[39msuper\u001b[39;49m()\u001b[39m.\u001b[39;49m\u001b[39m__init__\u001b[39;49m(device\u001b[39m=\u001b[39;49mdevice)\n\u001b[1;32m    185\u001b[0m     \u001b[39mself\u001b[39m\u001b[39m.\u001b[39mthreshold \u001b[39m=\u001b[39m threshold\n",
      "File \u001b[0;32m~/jupyter-server/venv/lib/python3.10/site-packages/torcheval/metrics/classification/accuracy.py:98\u001b[0m, in \u001b[0;36mMulticlassAccuracy.__init__\u001b[0;34m(self, average, num_classes, k, device)\u001b[0m\n\u001b[1;32m     96\u001b[0m \u001b[39mif\u001b[39;00m average \u001b[39m==\u001b[39m \u001b[39m\"\u001b[39m\u001b[39mmicro\u001b[39m\u001b[39m\"\u001b[39m:\n\u001b[1;32m     97\u001b[0m     \u001b[39mself\u001b[39m\u001b[39m.\u001b[39m_add_state(\u001b[39m\"\u001b[39m\u001b[39mnum_correct\u001b[39m\u001b[39m\"\u001b[39m, torch\u001b[39m.\u001b[39mtensor(\u001b[39m0.0\u001b[39m, device\u001b[39m=\u001b[39m\u001b[39mself\u001b[39m\u001b[39m.\u001b[39mdevice))\n\u001b[0;32m---> 98\u001b[0m     \u001b[39mself\u001b[39;49m\u001b[39m.\u001b[39;49m_add_state(\u001b[39m\"\u001b[39;49m\u001b[39mnum_total\u001b[39;49m\u001b[39m\"\u001b[39;49m, torch\u001b[39m.\u001b[39;49mtensor(\u001b[39m0.0\u001b[39;49m, device\u001b[39m=\u001b[39;49m\u001b[39mself\u001b[39;49m\u001b[39m.\u001b[39;49mdevice))\n\u001b[1;32m     99\u001b[0m \u001b[39melse\u001b[39;00m:\n\u001b[1;32m    100\u001b[0m     \u001b[39m# num_classes is verified to be not None when average != \"micro\"\u001b[39;00m\n\u001b[1;32m    101\u001b[0m     \u001b[39mself\u001b[39m\u001b[39m.\u001b[39m_add_state(\n\u001b[1;32m    102\u001b[0m         \u001b[39m\"\u001b[39m\u001b[39mnum_correct\u001b[39m\u001b[39m\"\u001b[39m,\n\u001b[1;32m    103\u001b[0m         torch\u001b[39m.\u001b[39mzeros(num_classes \u001b[39mor\u001b[39;00m \u001b[39m0\u001b[39m, device\u001b[39m=\u001b[39m\u001b[39mself\u001b[39m\u001b[39m.\u001b[39mdevice),\n\u001b[1;32m    104\u001b[0m     )\n",
      "File \u001b[0;32m~/jupyter-server/venv/lib/python3.10/site-packages/torcheval/metrics/metric.py:67\u001b[0m, in \u001b[0;36mMetric._add_state\u001b[0;34m(self, name, default)\u001b[0m\n\u001b[1;32m     64\u001b[0m _check_state_variable_type(name, default)\n\u001b[1;32m     65\u001b[0m \u001b[39m# deepcopy makes sure the input/initial value/default value of the state\u001b[39;00m\n\u001b[1;32m     66\u001b[0m \u001b[39m# variable are independent.\u001b[39;00m\n\u001b[0;32m---> 67\u001b[0m \u001b[39msetattr\u001b[39m(\u001b[39mself\u001b[39m, name, deepcopy(default))\n\u001b[1;32m     68\u001b[0m \u001b[39mself\u001b[39m\u001b[39m.\u001b[39m_state_name_to_default[name] \u001b[39m=\u001b[39m deepcopy(default)\n",
      "File \u001b[0;32m/usr/lib64/python3.10/copy.py:153\u001b[0m, in \u001b[0;36mdeepcopy\u001b[0;34m(x, memo, _nil)\u001b[0m\n\u001b[1;32m    151\u001b[0m copier \u001b[39m=\u001b[39m \u001b[39mgetattr\u001b[39m(x, \u001b[39m\"\u001b[39m\u001b[39m__deepcopy__\u001b[39m\u001b[39m\"\u001b[39m, \u001b[39mNone\u001b[39;00m)\n\u001b[1;32m    152\u001b[0m \u001b[39mif\u001b[39;00m copier \u001b[39mis\u001b[39;00m \u001b[39mnot\u001b[39;00m \u001b[39mNone\u001b[39;00m:\n\u001b[0;32m--> 153\u001b[0m     y \u001b[39m=\u001b[39m copier(memo)\n\u001b[1;32m    154\u001b[0m \u001b[39melse\u001b[39;00m:\n\u001b[1;32m    155\u001b[0m     reductor \u001b[39m=\u001b[39m dispatch_table\u001b[39m.\u001b[39mget(\u001b[39mcls\u001b[39m)\n",
      "File \u001b[0;32m~/jupyter-server/venv/lib64/python3.10/site-packages/torch/_tensor.py:119\u001b[0m, in \u001b[0;36mTensor.__deepcopy__\u001b[0;34m(self, memo)\u001b[0m\n\u001b[1;32m    107\u001b[0m     \u001b[39mreturn\u001b[39;00m memo[\u001b[39mid\u001b[39m(\u001b[39mself\u001b[39m)]\n\u001b[1;32m    108\u001b[0m \u001b[39mwith\u001b[39;00m torch\u001b[39m.\u001b[39mno_grad():\n\u001b[1;32m    109\u001b[0m     \u001b[39m# TODO: skipping storage copy is wrong for meta, as meta\u001b[39;00m\n\u001b[1;32m    110\u001b[0m     \u001b[39m# does accurate alias tracking; however, the code below\u001b[39;00m\n\u001b[1;32m    111\u001b[0m     \u001b[39m# doesn't work because of\u001b[39;00m\n\u001b[1;32m    112\u001b[0m     \u001b[39m# https://github.com/pytorch/pytorch/issues/47442\u001b[39;00m\n\u001b[1;32m    113\u001b[0m     \u001b[39m# Update the test in test_serialization if you remove 'meta' from here\u001b[39;00m\n\u001b[1;32m    114\u001b[0m     \u001b[39mif\u001b[39;00m (\n\u001b[1;32m    115\u001b[0m         \u001b[39mself\u001b[39m\u001b[39m.\u001b[39mis_sparse\n\u001b[1;32m    116\u001b[0m         \u001b[39mor\u001b[39;00m \u001b[39mself\u001b[39m\u001b[39m.\u001b[39mdevice\u001b[39m.\u001b[39mtype\n\u001b[1;32m    117\u001b[0m         \u001b[39min\u001b[39;00m [\u001b[39m\"\u001b[39m\u001b[39mlazy\u001b[39m\u001b[39m\"\u001b[39m, \u001b[39m\"\u001b[39m\u001b[39mxla\u001b[39m\u001b[39m\"\u001b[39m, \u001b[39m\"\u001b[39m\u001b[39mmps\u001b[39m\u001b[39m\"\u001b[39m, \u001b[39m\"\u001b[39m\u001b[39mort\u001b[39m\u001b[39m\"\u001b[39m, \u001b[39m\"\u001b[39m\u001b[39mmeta\u001b[39m\u001b[39m\"\u001b[39m, \u001b[39m\"\u001b[39m\u001b[39mhpu\u001b[39m\u001b[39m\"\u001b[39m, \u001b[39m\"\u001b[39m\u001b[39mipu\u001b[39m\u001b[39m\"\u001b[39m]\n\u001b[1;32m    118\u001b[0m         \u001b[39mor\u001b[39;00m (\n\u001b[0;32m--> 119\u001b[0m             \u001b[39mnot\u001b[39;00m torch\u001b[39m.\u001b[39;49m_C\u001b[39m.\u001b[39;49m_has_storage(\u001b[39mself\u001b[39;49m)\n\u001b[1;32m    120\u001b[0m             \u001b[39mand\u001b[39;00m \u001b[39mself\u001b[39m\u001b[39m.\u001b[39mdevice\u001b[39m.\u001b[39mtype \u001b[39m==\u001b[39m \u001b[39m\"\u001b[39m\u001b[39mprivateuseone\u001b[39m\u001b[39m\"\u001b[39m\n\u001b[1;32m    121\u001b[0m         )\n\u001b[1;32m    122\u001b[0m         \u001b[39mor\u001b[39;00m (\u001b[39mtype\u001b[39m(\u001b[39mself\u001b[39m) \u001b[39mis\u001b[39;00m \u001b[39mnot\u001b[39;00m Tensor \u001b[39mand\u001b[39;00m \u001b[39mself\u001b[39m\u001b[39m.\u001b[39mdata_ptr() \u001b[39m==\u001b[39m \u001b[39m0\u001b[39m)\n\u001b[1;32m    123\u001b[0m     ):\n\u001b[1;32m    124\u001b[0m         new_tensor \u001b[39m=\u001b[39m \u001b[39mself\u001b[39m\u001b[39m.\u001b[39mclone()\n\u001b[1;32m    125\u001b[0m         \u001b[39mif\u001b[39;00m \u001b[39mtype\u001b[39m(new_tensor) \u001b[39mis\u001b[39;00m \u001b[39mnot\u001b[39;00m \u001b[39mtype\u001b[39m(\u001b[39mself\u001b[39m):\n",
      "\u001b[0;31mKeyboardInterrupt\u001b[0m: "
     ]
    },
    {
     "data": {
      "image/png": "[encoded data removed]",
      "text/plain": [
       "<Figure size 640x480 with 1 Axes>"
      ]
     },
     "metadata": {},
     "output_type": "display_data"
    }
   ],
   "source": [
    "import tqdm\n",
    "epoch = 100\n",
    "\n",
    "render_graph = True\n",
    "\n",
    "losses = []\n",
    "accuracies = []\n",
    "\n",
    "\n",
    "for i in range(epoch):\n",
    "    loss, accuracy = train(model, train_loader, optimizer, batch_wrapper=tqdm.tqdm)\n",
    "    losses.append(loss)\n",
    "    accuracies.append(accuracy)\n",
    "    print(f\"Epoch {i+1}/{epoch}, Loss: {loss:.4f}, Accuracy {accuracy:.4f}\")\n",
    "\n",
    "    plt.clf()\n",
    "    plt.plot(np.arange(len(accuracies)), accuracies)\n",
    "    plt.plot(np.arange(len(losses)), losses)\n",
    "\n",
    "    #start plot at 0\n",
    "    plt.ylim(0, 1)\n",
    "\n",
    "    if render_graph and i % 10 == 0 and i != 0:\n",
    "        plt.show()\n",
    "\n"
   ]
  }
 ],
 "metadata": {
  "kernelspec": {
   "display_name": "Python 3 (ipykernel)",
   "language": "python",
   "name": "python3"
  },
  "language_info": {
   "codemirror_mode": {
    "name": "ipython",
    "version": 3
   },
   "file_extension": ".py",
   "mimetype": "text/x-python",
   "name": "python",
   "nbconvert_exporter": "python",
   "pygments_lexer": "ipython3",
   "version": "3.10.8"
  },
  "orig_nbformat": 4,
  "vscode": {
   "interpreter": {
    "hash": "fdd1bf0cdef9f431ef204eb65428406a6292ed13583a3a7833f3ab005ff2b93a"
   }
  }
 },
 "nbformat": 4,
 "nbformat_minor": 2
}
