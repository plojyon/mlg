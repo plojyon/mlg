{
 "cells": [
  {
   "cell_type": "code",
   "execution_count": 3,
   "metadata": {},
   "outputs": [],
   "source": [
    "from torch_geometric.datasets import OGB_MAG\n",
    "\n",
    "dataset = OGB_MAG(root='./data', preprocess='metapath2vec')\n",
    "data = dataset[0]"
   ]
  },
  {
   "cell_type": "code",
   "execution_count": 4,
   "metadata": {},
   "outputs": [
    {
     "data": {
      "text/plain": [
       "HeteroData(\n",
       "  \u001b[1mpaper\u001b[0m={\n",
       "    x=[736389, 128],\n",
       "    year=[736389],\n",
       "    y=[736389],\n",
       "    train_mask=[736389],\n",
       "    val_mask=[736389],\n",
       "    test_mask=[736389]\n",
       "  },\n",
       "  \u001b[1mauthor\u001b[0m={ x=[1134649, 128] },\n",
       "  \u001b[1minstitution\u001b[0m={ x=[8740, 128] },\n",
       "  \u001b[1mfield_of_study\u001b[0m={ x=[59965, 128] },\n",
       "  \u001b[1m(author, affiliated_with, institution)\u001b[0m={ edge_index=[2, 1043998] },\n",
       "  \u001b[1m(author, writes, paper)\u001b[0m={ edge_index=[2, 7145660] },\n",
       "  \u001b[1m(paper, cites, paper)\u001b[0m={ edge_index=[2, 5416271] },\n",
       "  \u001b[1m(paper, has_topic, field_of_study)\u001b[0m={ edge_index=[2, 7505078] }\n",
       ")"
      ]
     },
     "execution_count": 4,
     "metadata": {},
     "output_type": "execute_result"
    }
   ],
   "source": [
    "data"
   ]
  },
  {
   "cell_type": "code",
   "execution_count": 47,
   "metadata": {},
   "outputs": [],
   "source": [
    "import os\n",
    "import networkx as nx\n",
    "import json\n",
    "from tqdm import tqdm\n",
    "import torch\n",
    "import torch_geometric\n",
    "\n",
    "def nx2hetero(G):\n",
    "\tids_by_type = {\n",
    "\t\t\"playlist\": {},\n",
    "\t\t\"track\": {},\n",
    "\t\t\"artist\": {},\n",
    "\t\t\"album\": {}\n",
    "\t}\n",
    "\tdef node_id(type, id, exception=False):\n",
    "\t\td = ids_by_type[type]\n",
    "\t\tif id not in d:\n",
    "\t\t\tif exception:\n",
    "\t\t\t\traise Exception(f'node {id} not found for type {type}')\n",
    "\t\t\td[id] = len(d)\n",
    "\t\treturn d[id]\n",
    "\n",
    "\t\n",
    "\tnode_features_by_type = {\n",
    "\t\t\"playlist\": [],\n",
    "\t\t\"track\": [],\n",
    "\t\t\"artist\": [],\n",
    "\t\t\"album\": []\n",
    "\t}\n",
    "\tfor node in G.nodes(data=True):\n",
    "\t\tt = node[1][\"node_type\"]\n",
    "\t\tif t == \"playlist\":\n",
    "\t\t\tnode_id(\"playlist\", node[0])\n",
    "\t\t\tnode_features_by_type[\"playlist\"] += [node[1][\"num_tracks\"]]\n",
    "\t\telif t == \"track\":\n",
    "\t\t\tnode_id(\"track\", node[0])\n",
    "\t\t\tnode_features_by_type[\"track\"] += [node[1][\"num_albums\"]]\n",
    "\t\telif t == \"artist\":\n",
    "\t\t\tnode_id(\"artist\", node[0])\n",
    "\t\t\tnode_features_by_type[\"artist\"] += [node[1][\"num_tracks\"]]\n",
    "\t\telif t == \"album\":\n",
    "\t\t\tnode_id(\"album\", node[0])\n",
    "\t\t\tnode_features_by_type[\"album\"] += [node[1][\"num_tracks\"]]\n",
    "\n",
    "\tedge_index_by_type = {\n",
    "\t\t(\"playlist\", \"contains\", \"track\"): [],\n",
    "\t\t(\"album\", \"includes\", \"track\"): [],\n",
    "\t\t(\"artist\", \"authors\", \"track\"): []\n",
    "\t}\n",
    "\tfor edge in G.edges(data=True):\n",
    "\t\tif G[edge[0]][edge[1]][\"edge_type\"] == \"track-playlist\":\n",
    "\t\t\ts_id = node_id(\"track\", edge[1], exception=True)\n",
    "\t\t\tt_id = node_id(\"playlist\", edge[0], exception=True)\n",
    "\t\t\t\n",
    "\t\t\tedge_index_by_type[(\"playlist\", \"contains\", \"track\")] += [(t_id, s_id)]\n",
    "\t\telif G[edge[0]][edge[1]][\"edge_type\"] == \"track-album\":\n",
    "\t\t\ts_id = node_id(\"track\", edge[0], exception=True)\n",
    "\t\t\tt_id = node_id(\"album\", edge[1], exception=True)\n",
    "\t\t\t\n",
    "\t\t\tedge_index_by_type[(\"album\", \"includes\", \"track\")] += [(t_id, s_id)]\n",
    "\t\telif G[edge[0]][edge[1]][\"edge_type\"] == \"track-artist\":\n",
    "\t\t\ts_id = node_id(\"track\", edge[0], exception=True)\n",
    "\t\t\tt_id = node_id(\"artist\", edge[1], exception=True)\n",
    "\t\t\t\n",
    "\t\t\tedge_index_by_type[(\"artist\", \"authors\", \"track\")] += [(t_id, s_id)]\n",
    "\n",
    "\t# construct HeteroData\n",
    "\thetero = torch_geometric.data.HeteroData()\n",
    "\n",
    "\t# add initial node features\n",
    "\thetero[\"playlist\"].x = torch.IntTensor(node_features_by_type[\"playlist\"]).reshape(-1,1)\n",
    "\thetero[\"track\"].x = torch.IntTensor(node_features_by_type[\"track\"]).reshape(-1,1)\n",
    "\thetero[\"artist\"].x = torch.IntTensor(node_features_by_type[\"artist\"]).reshape(-1,1)\n",
    "\thetero[\"album\"].x = torch.IntTensor(node_features_by_type[\"album\"]).reshape(-1,1)\n",
    "\n",
    "\t# add edge indices\n",
    "\thetero[\"playlist\", \"contains\", \"track\"].edge_index = torch.tensor(edge_index_by_type[(\"playlist\", \"contains\", \"track\")]).t()\n",
    "\thetero[\"album\", \"includes\", \"track\"].edge_index = torch.tensor(edge_index_by_type[(\"album\", \"includes\", \"track\")]).t()\n",
    "\thetero[\"artist\", \"authors\", \"track\"].edge_index = torch.tensor(edge_index_by_type[(\"artist\", \"authors\", \"track\")]).t()\n",
    "\n",
    "\treturn hetero\n"
   ]
  },
  {
   "cell_type": "code",
   "execution_count": 48,
   "metadata": {},
   "outputs": [
    {
     "name": "stdout",
     "output_type": "stream",
     "text": [
      "{'spotify:playlist:42395', 'spotify:playlist:42582', 'spotify:playlist:42412', 'spotify:playlist:42302', 'spotify:playlist:42522', 'spotify:playlist:42601', 'spotify:playlist:42707', 'spotify:playlist:42839', 'spotify:playlist:42741', 'spotify:playlist:42802', 'spotify:playlist:42010', 'spotify:playlist:42136', 'spotify:playlist:42208', 'spotify:playlist:42900', 'spotify:playlist:42527', 'spotify:playlist:42644', 'spotify:playlist:42983', 'spotify:playlist:42283', 'spotify:playlist:42356', 'spotify:playlist:42161', 'spotify:playlist:42114', 'spotify:playlist:42789', 'spotify:playlist:42476', 'spotify:playlist:42876', 'spotify:playlist:42426', 'spotify:playlist:42158', 'spotify:playlist:42525', 'spotify:playlist:42126', 'spotify:playlist:42274', 'spotify:playlist:42298', 'spotify:playlist:42791', 'spotify:playlist:42927', 'spotify:playlist:42182', 'spotify:playlist:42581', 'spotify:playlist:42932', 'spotify:playlist:42716', 'spotify:playlist:42729', 'spotify:playlist:42203', 'spotify:playlist:42979', 'spotify:playlist:42147', 'spotify:playlist:42055', 'spotify:playlist:42507', 'spotify:playlist:42991', 'spotify:playlist:42951', 'spotify:playlist:42311', 'spotify:playlist:42698', 'spotify:playlist:42020', 'spotify:playlist:42793', 'spotify:playlist:42465', 'spotify:playlist:42239', 'spotify:playlist:42721', 'spotify:playlist:42076', 'spotify:playlist:42570', 'spotify:playlist:42868', 'spotify:playlist:42145', 'spotify:playlist:42115', 'spotify:playlist:42638', 'spotify:playlist:42998', 'spotify:playlist:42563', 'spotify:playlist:42854', 'spotify:playlist:42263', 'spotify:playlist:42077', 'spotify:playlist:42528', 'spotify:playlist:42695', 'spotify:playlist:42282', 'spotify:playlist:42887', 'spotify:playlist:42337', 'spotify:playlist:42504', 'spotify:playlist:42261', 'spotify:playlist:42869', 'spotify:playlist:42150', 'spotify:playlist:42349', 'spotify:playlist:42244', 'spotify:playlist:42963', 'spotify:playlist:42417', 'spotify:playlist:42181', 'spotify:playlist:42346', 'spotify:playlist:42352', 'spotify:playlist:42471', 'spotify:playlist:42511', 'spotify:playlist:42574', 'spotify:playlist:42598', 'spotify:playlist:42433', 'spotify:playlist:42907', 'spotify:playlist:42159', 'spotify:playlist:42666', 'spotify:playlist:42892', 'spotify:playlist:42037', 'spotify:playlist:42908', 'spotify:playlist:42832', 'spotify:playlist:42468', 'spotify:playlist:42822', 'spotify:playlist:42955', 'spotify:playlist:42667', 'spotify:playlist:42506', 'spotify:playlist:42378', 'spotify:playlist:42556', 'spotify:playlist:42723', 'spotify:playlist:42947', 'spotify:playlist:42308', 'spotify:playlist:42108', 'spotify:playlist:42025', 'spotify:playlist:42187', 'spotify:playlist:42277', 'spotify:playlist:42453', 'spotify:playlist:42988', 'spotify:playlist:42336', 'spotify:playlist:42392', 'spotify:playlist:42075', 'spotify:playlist:42823', 'spotify:playlist:42344', 'spotify:playlist:42474', 'spotify:playlist:42035', 'spotify:playlist:42727', 'spotify:playlist:42396', 'spotify:playlist:42216', 'spotify:playlist:42258', 'spotify:playlist:42728', 'spotify:playlist:42842', 'spotify:playlist:42501', 'spotify:playlist:42681', 'spotify:playlist:42362', 'spotify:playlist:42275', 'spotify:playlist:42503', 'spotify:playlist:42697', 'spotify:playlist:42325', 'spotify:playlist:42141', 'spotify:playlist:42593', 'spotify:playlist:42764', 'spotify:playlist:42266', 'spotify:playlist:42278', 'spotify:playlist:42186', 'spotify:playlist:42224', 'spotify:playlist:42238', 'spotify:playlist:42588', 'spotify:playlist:42782', 'spotify:playlist:42078', 'spotify:playlist:42762', 'spotify:playlist:42746', 'spotify:playlist:42034', 'spotify:playlist:42937', 'spotify:playlist:42985', 'spotify:playlist:42828', 'spotify:playlist:42027', 'spotify:playlist:42196', 'spotify:playlist:42827', 'spotify:playlist:42097', 'spotify:playlist:42067', 'spotify:playlist:42419', 'spotify:playlist:42659', 'spotify:playlist:42001', 'spotify:playlist:42591', 'spotify:playlist:42148', 'spotify:playlist:42251', 'spotify:playlist:42491', 'spotify:playlist:42052', 'spotify:playlist:42303', 'spotify:playlist:42664', 'spotify:playlist:42826', 'spotify:playlist:42297', 'spotify:playlist:42360', 'spotify:playlist:42732', 'spotify:playlist:42185', 'spotify:playlist:42399', 'spotify:playlist:42299', 'spotify:playlist:42543', 'spotify:playlist:42130', 'spotify:playlist:42661', 'spotify:playlist:42952', 'spotify:playlist:42029', 'spotify:playlist:42089', 'spotify:playlist:42562', 'spotify:playlist:42384', 'spotify:playlist:42992', 'spotify:playlist:42726', 'spotify:playlist:42825', 'spotify:playlist:42409', 'spotify:playlist:42488', 'spotify:playlist:42919', 'spotify:playlist:42778', 'spotify:playlist:42705', 'spotify:playlist:42655', 'spotify:playlist:42350', 'spotify:playlist:42406', 'spotify:playlist:42819', 'spotify:playlist:42592', 'spotify:playlist:42912', 'spotify:playlist:42607', 'spotify:playlist:42783', 'spotify:playlist:42017', 'spotify:playlist:42226', 'spotify:playlist:42394', 'spotify:playlist:42899', 'spotify:playlist:42387', 'spotify:playlist:42036', 'spotify:playlist:42060', 'spotify:playlist:42495', 'spotify:playlist:42675', 'spotify:playlist:42677', 'spotify:playlist:42144', 'spotify:playlist:42006', 'spotify:playlist:42100', 'spotify:playlist:42301', 'spotify:playlist:42131', 'spotify:playlist:42173', 'spotify:playlist:42420', 'spotify:playlist:42579', 'spotify:playlist:42810', 'spotify:playlist:42351', 'spotify:playlist:42737', 'spotify:playlist:42434', 'spotify:playlist:42797', 'spotify:playlist:42033', 'spotify:playlist:42153', 'spotify:playlist:42183', 'spotify:playlist:42880', 'spotify:playlist:42121', 'spotify:playlist:42366', 'spotify:playlist:42957', 'spotify:playlist:42250', 'spotify:playlist:42718', 'spotify:playlist:42046', 'spotify:playlist:42917', 'spotify:playlist:42620', 'spotify:playlist:42312', 'spotify:playlist:42342', 'spotify:playlist:42811', 'spotify:playlist:42584', 'spotify:playlist:42787', 'spotify:playlist:42742', 'spotify:playlist:42866', 'spotify:playlist:42008', 'spotify:playlist:42288', 'spotify:playlist:42290', 'spotify:playlist:42367', 'spotify:playlist:42431', 'spotify:playlist:42480', 'spotify:playlist:42779', 'spotify:playlist:42248', 'spotify:playlist:42731', 'spotify:playlist:42871', 'spotify:playlist:42268', 'spotify:playlist:42313', 'spotify:playlist:42364', 'spotify:playlist:42385', 'spotify:playlist:42066', 'spotify:playlist:42686', 'spotify:playlist:42163', 'spotify:playlist:42044', 'spotify:playlist:42494', 'spotify:playlist:42967', 'spotify:playlist:42119', 'spotify:playlist:42922', 'spotify:playlist:42848', 'spotify:playlist:42198', 'spotify:playlist:42713', 'spotify:playlist:42096', 'spotify:playlist:42450', 'spotify:playlist:42411', 'spotify:playlist:42451', 'spotify:playlist:42152', 'spotify:playlist:42328', 'spotify:playlist:42116', 'spotify:playlist:42902', 'spotify:playlist:42801', 'spotify:playlist:42024', 'spotify:playlist:42380', 'spotify:playlist:42397', 'spotify:playlist:42492', 'spotify:playlist:42026', 'spotify:playlist:42070', 'spotify:playlist:42805', 'spotify:playlist:42429', 'spotify:playlist:42995', 'spotify:playlist:42561', 'spotify:playlist:42693', 'spotify:playlist:42668', 'spotify:playlist:42265', 'spotify:playlist:42410', 'spotify:playlist:42541', 'spotify:playlist:42030', 'spotify:playlist:42291', 'spotify:playlist:42930', 'spotify:playlist:42844', 'spotify:playlist:42023', 'spotify:playlist:42567', 'spotify:playlist:42704', 'spotify:playlist:42903', 'spotify:playlist:42106', 'spotify:playlist:42212', 'spotify:playlist:42699', 'spotify:playlist:42971', 'spotify:playlist:42031', 'spotify:playlist:42109', 'spotify:playlist:42190', 'spotify:playlist:42177', 'spotify:playlist:42763', 'spotify:playlist:42989', 'spotify:playlist:42040', 'spotify:playlist:42873', 'spotify:playlist:42893', 'spotify:playlist:42856', 'spotify:playlist:42039', 'spotify:playlist:42172', 'spotify:playlist:42164', 'spotify:playlist:42914', 'spotify:playlist:42246', 'spotify:playlist:42690', 'spotify:playlist:42225', 'spotify:playlist:42850', 'spotify:playlist:42542', 'spotify:playlist:42124', 'spotify:playlist:42944', 'spotify:playlist:42982', 'spotify:playlist:42566', 'spotify:playlist:42284', 'spotify:playlist:42649', 'spotify:playlist:42259', 'spotify:playlist:42327', 'spotify:playlist:42636', 'spotify:playlist:42885', 'spotify:playlist:42000', 'spotify:playlist:42489', 'spotify:playlist:42517', 'spotify:playlist:42759', 'spotify:playlist:42273', 'spotify:playlist:42744', 'spotify:playlist:42028', 'spotify:playlist:42270', 'spotify:playlist:42279', 'spotify:playlist:42658', 'spotify:playlist:42054', 'spotify:playlist:42310', 'spotify:playlist:42634', 'spotify:playlist:42672', 'spotify:playlist:42720', 'spotify:playlist:42478', 'spotify:playlist:42497', 'spotify:playlist:42673', 'spotify:playlist:42240', 'spotify:playlist:42418', 'spotify:playlist:42230', 'spotify:playlist:42630', 'spotify:playlist:42774', 'spotify:playlist:42467', 'spotify:playlist:42408', 'spotify:playlist:42432', 'spotify:playlist:42269', 'spotify:playlist:42348', 'spotify:playlist:42676', 'spotify:playlist:42920', 'spotify:playlist:42296', 'spotify:playlist:42176', 'spotify:playlist:42635', 'spotify:playlist:42389', 'spotify:playlist:42660', 'spotify:playlist:42505', 'spotify:playlist:42894', 'spotify:playlist:42948', 'spotify:playlist:42547', 'spotify:playlist:42211', 'spotify:playlist:42221', 'spotify:playlist:42440', 'spotify:playlist:42444', 'spotify:playlist:42470', 'spotify:playlist:42904', 'spotify:playlist:42654', 'spotify:playlist:42771', 'spotify:playlist:42063', 'spotify:playlist:42237', 'spotify:playlist:42508', 'spotify:playlist:42830', 'spotify:playlist:42137', 'spotify:playlist:42276', 'spotify:playlist:42458', 'spotify:playlist:42092', 'spotify:playlist:42583', 'spotify:playlist:42416', 'spotify:playlist:42730', 'spotify:playlist:42087', 'spotify:playlist:42229', 'spotify:playlist:42794', 'spotify:playlist:42530', 'spotify:playlist:42775', 'spotify:playlist:42966', 'spotify:playlist:42330', 'spotify:playlist:42652', 'spotify:playlist:42080', 'spotify:playlist:42083', 'spotify:playlist:42423', 'spotify:playlist:42679', 'spotify:playlist:42795', 'spotify:playlist:42857', 'spotify:playlist:42890', 'spotify:playlist:42858', 'spotify:playlist:42555', 'spotify:playlist:42101', 'spotify:playlist:42786', 'spotify:playlist:42829', 'spotify:playlist:42309', 'spotify:playlist:42314', 'spotify:playlist:42845', 'spotify:playlist:42891', 'spotify:playlist:42840', 'spotify:playlist:42994', 'spotify:playlist:42123', 'spotify:playlist:42174', 'spotify:playlist:42625', 'spotify:playlist:42175', 'spotify:playlist:42424', 'spotify:playlist:42155', 'spotify:playlist:42687', 'spotify:playlist:42837', 'spotify:playlist:42911', 'spotify:playlist:42315', 'spotify:playlist:42441', 'spotify:playlist:42481', 'spotify:playlist:42604', 'spotify:playlist:42210', 'spotify:playlist:42316', 'spotify:playlist:42717', 'spotify:playlist:42865', 'spotify:playlist:42088', 'spotify:playlist:42712', 'spotify:playlist:42165', 'spotify:playlist:42252', 'spotify:playlist:42996', 'spotify:playlist:42691', 'spotify:playlist:42578', 'spotify:playlist:42516', 'spotify:playlist:42537', 'spotify:playlist:42151', 'spotify:playlist:42692', 'spotify:playlist:42806', 'spotify:playlist:42769', 'spotify:playlist:42855', 'spotify:playlist:42750', 'spotify:playlist:42103', 'spotify:playlist:42859', 'spotify:playlist:42925', 'spotify:playlist:42928', 'spotify:playlist:42215', 'spotify:playlist:42615', 'spotify:playlist:42122', 'spotify:playlist:42493', 'spotify:playlist:42896', 'spotify:playlist:42557', 'spotify:playlist:42898', 'spotify:playlist:42206', 'spotify:playlist:42243', 'spotify:playlist:42924', 'spotify:playlist:42558', 'spotify:playlist:42512', 'spotify:playlist:42610', 'spotify:playlist:42815', 'spotify:playlist:42946', 'spotify:playlist:42800', 'spotify:playlist:42958', 'spotify:playlist:42382', 'spotify:playlist:42755', 'spotify:playlist:42743', 'spotify:playlist:42191', 'spotify:playlist:42936', 'spotify:playlist:42011', 'spotify:playlist:42452', 'spotify:playlist:42715', 'spotify:playlist:42073', 'spotify:playlist:42722', 'spotify:playlist:42643', 'spotify:playlist:42835', 'spotify:playlist:42694', 'spotify:playlist:42267', 'spotify:playlist:42586', 'spotify:playlist:42702', 'spotify:playlist:42753', 'spotify:playlist:42393', 'spotify:playlist:42553', 'spotify:playlist:42223', 'spotify:playlist:42295', 'spotify:playlist:42496', 'spotify:playlist:42515', 'spotify:playlist:42536', 'spotify:playlist:42796', 'spotify:playlist:42486', 'spotify:playlist:42518', 'spotify:playlist:42531', 'spotify:playlist:42595', 'spotify:playlist:42329', 'spotify:playlist:42790', 'spotify:playlist:42194', 'spotify:playlist:42227', 'spotify:playlist:42292', 'spotify:playlist:42442', 'spotify:playlist:42377', 'spotify:playlist:42701', 'spotify:playlist:42637', 'spotify:playlist:42710', 'spotify:playlist:42018', 'spotify:playlist:42332', 'spotify:playlist:42589', 'spotify:playlist:42657', 'spotify:playlist:42777', 'spotify:playlist:42326', 'spotify:playlist:42134', 'spotify:playlist:42708', 'spotify:playlist:42343', 'spotify:playlist:42140', 'spotify:playlist:42281', 'spotify:playlist:42072', 'spotify:playlist:42943', 'spotify:playlist:42042', 'spotify:playlist:42576', 'spotify:playlist:42189', 'spotify:playlist:42242', 'spotify:playlist:42824', 'spotify:playlist:42663', 'spotify:playlist:42019', 'spotify:playlist:42881', 'spotify:playlist:42146', 'spotify:playlist:42287', 'spotify:playlist:42138', 'spotify:playlist:42318', 'spotify:playlist:42403', 'spotify:playlist:42179', 'spotify:playlist:42767', 'spotify:playlist:42736', 'spotify:playlist:42594', 'spotify:playlist:42472', 'spotify:playlist:42107', 'spotify:playlist:42933', 'spotify:playlist:42133', 'spotify:playlist:42766', 'spotify:playlist:42386', 'spotify:playlist:42804', 'spotify:playlist:42628', 'spotify:playlist:42400', 'spotify:playlist:42886', 'spotify:playlist:42609', 'spotify:playlist:42977', 'spotify:playlist:42551', 'spotify:playlist:42653', 'spotify:playlist:42670', 'spotify:playlist:42748', 'spotify:playlist:42232', 'spotify:playlist:42498', 'spotify:playlist:42545', 'spotify:playlist:42821', 'spotify:playlist:42798', 'spotify:playlist:42086', 'spotify:playlist:42781', 'spotify:playlist:42817', 'spotify:playlist:42571', 'spotify:playlist:42245', 'spotify:playlist:42479', 'spotify:playlist:42135', 'spotify:playlist:42535', 'spotify:playlist:42575', 'spotify:playlist:42888', 'spotify:playlist:42621', 'spotify:playlist:42499', 'spotify:playlist:42843', 'spotify:playlist:42895', 'spotify:playlist:42457', 'spotify:playlist:42841', 'spotify:playlist:42976', 'spotify:playlist:42565', 'spotify:playlist:42803', 'spotify:playlist:42872', 'spotify:playlist:42633', 'spotify:playlist:42665', 'spotify:playlist:42788', 'spotify:playlist:42984', 'spotify:playlist:42339', 'spotify:playlist:42700', 'spotify:playlist:42358', 'spotify:playlist:42464', 'spotify:playlist:42460', 'spotify:playlist:42475', 'spotify:playlist:42646', 'spotify:playlist:42662', 'spotify:playlist:42430', 'spotify:playlist:42602', 'spotify:playlist:42568', 'spotify:playlist:42626', 'spotify:playlist:42685', 'spotify:playlist:42714', 'spotify:playlist:42878', 'spotify:playlist:42260', 'spotify:playlist:42831', 'spotify:playlist:42975', 'spotify:playlist:42461', 'spotify:playlist:42906', 'spotify:playlist:42820', 'spotify:playlist:42443', 'spotify:playlist:42195', 'spotify:playlist:42335', 'spotify:playlist:42533', 'spotify:playlist:42846', 'spotify:playlist:42233', 'spotify:playlist:42680', 'spotify:playlist:42338', 'spotify:playlist:42776', 'spotify:playlist:42834', 'spotify:playlist:42918', 'spotify:playlist:42454', 'spotify:playlist:42188', 'spotify:playlist:42222', 'spotify:playlist:42852', 'spotify:playlist:42085', 'spotify:playlist:42874', 'spotify:playlist:42178', 'spotify:playlist:42439', 'spotify:playlist:42916', 'spotify:playlist:42973', 'spotify:playlist:42950', 'spotify:playlist:42149', 'spotify:playlist:42564', 'spotify:playlist:42882', 'spotify:playlist:42398', 'spotify:playlist:42913', 'spotify:playlist:42012', 'spotify:playlist:42098', 'spotify:playlist:42915', 'spotify:playlist:42921', 'spotify:playlist:42091', 'spotify:playlist:42262', 'spotify:playlist:42960', 'spotify:playlist:42523', 'spotify:playlist:42534', 'spotify:playlist:42799', 'spotify:playlist:42200', 'spotify:playlist:42477', 'spotify:playlist:42065', 'spotify:playlist:42061', 'spotify:playlist:42247', 'spotify:playlist:42376', 'spotify:playlist:42942', 'spotify:playlist:42041', 'spotify:playlist:42064', 'spotify:playlist:42257', 'spotify:playlist:42306', 'spotify:playlist:42473', 'spotify:playlist:42612', 'spotify:playlist:42264', 'spotify:playlist:42597', 'spotify:playlist:42446', 'spotify:playlist:42560', 'spotify:playlist:42608', 'spotify:playlist:42207', 'spotify:playlist:42616', 'spotify:playlist:42388', 'spotify:playlist:42645', 'spotify:playlist:42987', 'spotify:playlist:42965', 'spotify:playlist:42099', 'spotify:playlist:42105', 'spotify:playlist:42162', 'spotify:playlist:42294', 'spotify:playlist:42463', 'spotify:playlist:42554', 'spotify:playlist:42647', 'spotify:playlist:42482', 'spotify:playlist:42519', 'spotify:playlist:42022', 'spotify:playlist:42733', 'spotify:playlist:42739', 'spotify:playlist:42132', 'spotify:playlist:42219', 'spotify:playlist:42836', 'spotify:playlist:42969', 'spotify:playlist:42074', 'spotify:playlist:42285', 'spotify:playlist:42125', 'spotify:playlist:42300', 'spotify:playlist:42614', 'spotify:playlist:42365', 'spotify:playlist:42548', 'spotify:playlist:42334', 'spotify:playlist:42889', 'spotify:playlist:42142', 'spotify:playlist:42683', 'spotify:playlist:42353', 'spotify:playlist:42671', 'spotify:playlist:42110', 'spotify:playlist:42413', 'spotify:playlist:42940', 'spotify:playlist:42007', 'spotify:playlist:42015', 'spotify:playlist:42111', 'spotify:playlist:42550', 'spotify:playlist:42617', 'spotify:playlist:42047', 'spotify:playlist:42459', 'spotify:playlist:42585', 'spotify:playlist:42768', 'spotify:playlist:42931', 'spotify:playlist:42613', 'spotify:playlist:42102', 'spotify:playlist:42414', 'spotify:playlist:42867', 'spotify:playlist:42999', 'spotify:playlist:42169', 'spotify:playlist:42254', 'spotify:playlist:42156', 'spotify:playlist:42272', 'spotify:playlist:42600', 'spotify:playlist:42619', 'spotify:playlist:42305', 'spotify:playlist:42320', 'spotify:playlist:42909', 'spotify:playlist:42964', 'spotify:playlist:42199', 'spotify:playlist:42514', 'spotify:playlist:42751', 'spotify:playlist:42938', 'spotify:playlist:42280', 'spotify:playlist:42500', 'spotify:playlist:42447', 'spotify:playlist:42758', 'spotify:playlist:42372', 'spotify:playlist:42021', 'spotify:playlist:42205', 'spotify:playlist:42656', 'spotify:playlist:42910', 'spotify:playlist:42166', 'spotify:playlist:42128', 'spotify:playlist:42838', 'spotify:playlist:42005', 'spotify:playlist:42448', 'spotify:playlist:42014', 'spotify:playlist:42792', 'spotify:playlist:42333', 'spotify:playlist:42552', 'spotify:playlist:42532', 'spotify:playlist:42354', 'spotify:playlist:42639', 'spotify:playlist:42760', 'spotify:playlist:42445', 'spotify:playlist:42627', 'spotify:playlist:42081', 'spotify:playlist:42405', 'spotify:playlist:42319', 'spotify:playlist:42438', 'spotify:playlist:42322', 'spotify:playlist:42719', 'spotify:playlist:42734', 'spotify:playlist:42941', 'spotify:playlist:42580', 'spotify:playlist:42978', 'spotify:playlist:42618', 'spotify:playlist:42688', 'spotify:playlist:42139', 'spotify:playlist:42168', 'spotify:playlist:42469', 'spotify:playlist:42129', 'spotify:playlist:42487', 'spotify:playlist:42095', 'spotify:playlist:42684', 'spotify:playlist:42094', 'spotify:playlist:42249', 'spotify:playlist:42363', 'spotify:playlist:42674', 'spotify:playlist:42689', 'spotify:playlist:42738', 'spotify:playlist:42361', 'spotify:playlist:42357', 'spotify:playlist:42961', 'spotify:playlist:42862', 'spotify:playlist:42379', 'spotify:playlist:42391', 'spotify:playlist:42509', 'spotify:playlist:42808', 'spotify:playlist:42901', 'spotify:playlist:42682', 'spotify:playlist:42546', 'spotify:playlist:42990', 'spotify:playlist:42355', 'spotify:playlist:42849', 'spotify:playlist:42740', 'spotify:playlist:42954', 'spotify:playlist:42905', 'spotify:playlist:42629', 'spotify:playlist:42113', 'spotify:playlist:42375', 'spotify:playlist:42003', 'spotify:playlist:42780', 'spotify:playlist:42997', 'spotify:playlist:42703', 'spotify:playlist:42814', 'spotify:playlist:42502', 'spotify:playlist:42559', 'spotify:playlist:42864', 'spotify:playlist:42939', 'spotify:playlist:42711', 'spotify:playlist:42949', 'spotify:playlist:42972', 'spotify:playlist:42813', 'spotify:playlist:42993', 'spotify:playlist:42773', 'spotify:playlist:42877', 'spotify:playlist:42402', 'spotify:playlist:42437', 'spotify:playlist:42650', 'spotify:playlist:42678', 'spotify:playlist:42968', 'spotify:playlist:42812', 'spotify:playlist:42117', 'spotify:playlist:42368', 'spotify:playlist:42466', 'spotify:playlist:42572', 'spotify:playlist:42197', 'spotify:playlist:42347', 'spotify:playlist:42082', 'spotify:playlist:42369', 'spotify:playlist:42422', 'spotify:playlist:42490', 'spotify:playlist:42538', 'spotify:playlist:42573', 'spotify:playlist:42622', 'spotify:playlist:42004', 'spotify:playlist:42847', 'spotify:playlist:42057', 'spotify:playlist:42875', 'spotify:playlist:42772', 'spotify:playlist:42485', 'spotify:playlist:42049', 'spotify:playlist:42059', 'spotify:playlist:42255', 'spotify:playlist:42624', 'spotify:playlist:42204', 'spotify:playlist:42051', 'spotify:playlist:42056', 'spotify:playlist:42009', 'spotify:playlist:42013', 'spotify:playlist:42526', 'spotify:playlist:42833', 'spotify:playlist:42879', 'spotify:playlist:42606', 'spotify:playlist:42373', 'spotify:playlist:42401', 'spotify:playlist:42271', 'spotify:playlist:42761', 'spotify:playlist:42436', 'spotify:playlist:42449', 'spotify:playlist:42752', 'spotify:playlist:42428', 'spotify:playlist:42569', 'spotify:playlist:42045', 'spotify:playlist:42934', 'spotify:playlist:42192', 'spotify:playlist:42860', 'spotify:playlist:42236', 'spotify:playlist:42069', 'spotify:playlist:42317', 'spotify:playlist:42167', 'spotify:playlist:42539', 'spotify:playlist:42093', 'spotify:playlist:42214', 'spotify:playlist:42084', 'spotify:playlist:42809', 'spotify:playlist:42341', 'spotify:playlist:42599', 'spotify:playlist:42120', 'spotify:playlist:42632', 'spotify:playlist:42897', 'spotify:playlist:42218', 'spotify:playlist:42231', 'spotify:playlist:42340', 'spotify:playlist:42631', 'spotify:playlist:42118', 'spotify:playlist:42986', 'spotify:playlist:42590', 'spotify:playlist:42293', 'spotify:playlist:42381', 'spotify:playlist:42929', 'spotify:playlist:42529', 'spotify:playlist:42415', 'spotify:playlist:42923', 'spotify:playlist:42390', 'spotify:playlist:42784', 'spotify:playlist:42724', 'spotify:playlist:42157', 'spotify:playlist:42345', 'spotify:playlist:42383', 'spotify:playlist:42425', 'spotify:playlist:42331', 'spotify:playlist:42725', 'spotify:playlist:42623', 'spotify:playlist:42521', 'spotify:playlist:42002', 'spotify:playlist:42180', 'spotify:playlist:42641', 'spotify:playlist:42770', 'spotify:playlist:42193', 'spotify:playlist:42935', 'spotify:playlist:42079', 'spotify:playlist:42596', 'spotify:playlist:42754', 'spotify:playlist:42970', 'spotify:playlist:42851', 'spotify:playlist:42143', 'spotify:playlist:42071', 'spotify:playlist:42959', 'spotify:playlist:42861', 'spotify:playlist:42757', 'spotify:playlist:42577', 'spotify:playlist:42611', 'spotify:playlist:42050', 'spotify:playlist:42321', 'spotify:playlist:42981', 'spotify:playlist:42127', 'spotify:playlist:42184', 'spotify:playlist:42289', 'spotify:playlist:42587', 'spotify:playlist:42974', 'spotify:playlist:42816', 'spotify:playlist:42228', 'spotify:playlist:42043', 'spotify:playlist:42235', 'spotify:playlist:42863', 'spotify:playlist:42540', 'spotify:playlist:42213', 'spotify:playlist:42032', 'spotify:playlist:42324', 'spotify:playlist:42407', 'spotify:playlist:42648', 'spotify:playlist:42404', 'spotify:playlist:42785', 'spotify:playlist:42870', 'spotify:playlist:42038', 'spotify:playlist:42286', 'spotify:playlist:42104', 'spotify:playlist:42853', 'spotify:playlist:42171', 'spotify:playlist:42209', 'spotify:playlist:42747', 'spotify:playlist:42374', 'spotify:playlist:42980', 'spotify:playlist:42241', 'spotify:playlist:42818', 'spotify:playlist:42053', 'spotify:playlist:42154', 'spotify:playlist:42510', 'spotify:playlist:42170', 'spotify:playlist:42427', 'spotify:playlist:42068', 'spotify:playlist:42642', 'spotify:playlist:42217', 'spotify:playlist:42706', 'spotify:playlist:42234', 'spotify:playlist:42735', 'spotify:playlist:42765', 'spotify:playlist:42884', 'spotify:playlist:42520', 'spotify:playlist:42524', 'spotify:playlist:42112', 'spotify:playlist:42513', 'spotify:playlist:42640', 'spotify:playlist:42048', 'spotify:playlist:42651', 'spotify:playlist:42359', 'spotify:playlist:42253', 'spotify:playlist:42669', 'spotify:playlist:42456', 'spotify:playlist:42201', 'spotify:playlist:42883', 'spotify:playlist:42696', 'spotify:playlist:42220', 'spotify:playlist:42605', 'spotify:playlist:42435', 'spotify:playlist:42202', 'spotify:playlist:42455', 'spotify:playlist:42962', 'spotify:playlist:42749', 'spotify:playlist:42603', 'spotify:playlist:42709', 'spotify:playlist:42370', 'spotify:playlist:42062', 'spotify:playlist:42756', 'spotify:playlist:42058', 'spotify:playlist:42371', 'spotify:playlist:42926', 'spotify:playlist:42544', 'spotify:playlist:42160', 'spotify:playlist:42307', 'spotify:playlist:42421', 'spotify:playlist:42016', 'spotify:playlist:42807', 'spotify:playlist:42484', 'spotify:playlist:42549', 'spotify:playlist:42483', 'spotify:playlist:42745', 'spotify:playlist:42945', 'spotify:playlist:42956', 'spotify:playlist:42462', 'spotify:playlist:42953', 'spotify:playlist:42323', 'spotify:playlist:42256', 'spotify:playlist:42090', 'spotify:playlist:42304'}\n",
      "spotify:track:4BGJSbB5rAcg4pNzD4gfxU ('spotify:playlist:42000', 'spotify:track:4BGJSbB5rAcg4pNzD4gfxU', {'edge_type': 'track-playlist'})\n"
     ]
    },
    {
     "ename": "Exception",
     "evalue": "playlist not found",
     "output_type": "error",
     "traceback": [
      "\u001b[0;31m---------------------------------------------------------------------------\u001b[0m",
      "\u001b[0;31mException\u001b[0m                                 Traceback (most recent call last)",
      "Cell \u001b[0;32mIn[48], line 8\u001b[0m\n\u001b[1;32m      4\u001b[0m graph_path \u001b[39m=\u001b[39m os\u001b[39m.\u001b[39mpath\u001b[39m.\u001b[39mjoin(pickles, \u001b[39m\"\u001b[39m\u001b[39mG_example.pkl\u001b[39m\u001b[39m\"\u001b[39m)\n\u001b[1;32m      6\u001b[0m G \u001b[39m=\u001b[39m pickle\u001b[39m.\u001b[39mload(\u001b[39mopen\u001b[39m(graph_path, \u001b[39m\"\u001b[39m\u001b[39mrb\u001b[39m\u001b[39m\"\u001b[39m))\n\u001b[0;32m----> 8\u001b[0m our_data \u001b[39m=\u001b[39m nx2hetero(G)\n",
      "Cell \u001b[0;32mIn[47], line 51\u001b[0m, in \u001b[0;36mnx2hetero\u001b[0;34m(G)\u001b[0m\n\u001b[1;32m     49\u001b[0m \t\u001b[39mif\u001b[39;00m edge[\u001b[39m1\u001b[39m] \u001b[39mnot\u001b[39;00m \u001b[39min\u001b[39;00m all_playlist_names:\n\u001b[1;32m     50\u001b[0m \t\t\u001b[39mprint\u001b[39m(edge[\u001b[39m1\u001b[39m], edge)\n\u001b[0;32m---> 51\u001b[0m \t\t\u001b[39mraise\u001b[39;00m \u001b[39mException\u001b[39;00m(\u001b[39m\"\u001b[39m\u001b[39mplaylist not found\u001b[39m\u001b[39m\"\u001b[39m)\n\u001b[1;32m     52\u001b[0m \tplaylist_track \u001b[39m+\u001b[39m\u001b[39m=\u001b[39m [(s_id, t_id)]\n\u001b[1;32m     53\u001b[0m \u001b[39melif\u001b[39;00m G[edge[\u001b[39m0\u001b[39m]][edge[\u001b[39m1\u001b[39m]][\u001b[39m\"\u001b[39m\u001b[39medge_type\u001b[39m\u001b[39m\"\u001b[39m] \u001b[39m==\u001b[39m \u001b[39m\"\u001b[39m\u001b[39mtrack-album\u001b[39m\u001b[39m\"\u001b[39m:\n",
      "\u001b[0;31mException\u001b[0m: playlist not found"
     ]
    }
   ],
   "source": [
    "import pickle\n",
    "base = \"spotify_million_playlist_dataset\"\n",
    "pickles = base + \"/pickles\"\n",
    "graph_path = os.path.join(pickles, \"G_example.pkl\")\n",
    "\n",
    "G = pickle.load(open(graph_path, \"rb\"))\n",
    "\n",
    "our_data = nx2hetero(G)"
   ]
  },
  {
   "cell_type": "code",
   "execution_count": 35,
   "metadata": {},
   "outputs": [],
   "source": [
    "# create training mask for playlist nodes\n",
    "train_mask = torch.zeros(our_data[\"playlist\"].x.shape[0], dtype=torch.bool)\n",
    "train_mask[torch.randperm(train_mask.shape[0])[:int(train_mask.shape[0]*0.8)]] = True\n",
    "\n",
    "our_data[\"playlist\"].train_mask = train_mask"
   ]
  },
  {
   "cell_type": "code",
   "execution_count": 36,
   "metadata": {},
   "outputs": [
    {
     "data": {
      "text/plain": [
       "tensor([[    0,     0,     0,  ..., 35668, 35668, 35668],\n",
       "        [    0,     1,     2,  ..., 36226, 36227, 36228]])"
      ]
     },
     "execution_count": 36,
     "metadata": {},
     "output_type": "execute_result"
    }
   ],
   "source": [
    "our_data[\"playlist\", \"contains\", \"track\"].edge_index"
   ]
  },
  {
   "cell_type": "code",
   "execution_count": 20,
   "metadata": {},
   "outputs": [
    {
     "data": {
      "text/plain": [
       "(['playlist', 'track', 'artist', 'album'],\n",
       " [('playlist', 'contains', 'track'),\n",
       "  ('album', 'includes', 'track'),\n",
       "  ('artist', 'authors', 'track'),\n",
       "  ('track', 'rev_contains', 'playlist'),\n",
       "  ('track', 'rev_includes', 'album'),\n",
       "  ('track', 'rev_authors', 'artist')])"
      ]
     },
     "execution_count": 20,
     "metadata": {},
     "output_type": "execute_result"
    }
   ],
   "source": [
    "our_data.metadata()"
   ]
  },
  {
   "cell_type": "code",
   "execution_count": 15,
   "metadata": {},
   "outputs": [],
   "source": [
    "data = our_data"
   ]
  },
  {
   "cell_type": "code",
   "execution_count": 16,
   "metadata": {},
   "outputs": [
    {
     "data": {
      "text/plain": [
       "False"
      ]
     },
     "execution_count": 16,
     "metadata": {},
     "output_type": "execute_result"
    }
   ],
   "source": [
    "data.is_undirected()"
   ]
  },
  {
   "cell_type": "code",
   "execution_count": 17,
   "metadata": {},
   "outputs": [
    {
     "data": {
      "text/plain": [
       "Data(edge_index=[2, 136909], x=[66849, 1], train_mask=[66849], node_type=[66849], edge_type=[136909])"
      ]
     },
     "execution_count": 17,
     "metadata": {},
     "output_type": "execute_result"
    }
   ],
   "source": [
    "homogeneous_data = data.to_homogeneous()\n",
    "homogeneous_data"
   ]
  },
  {
   "cell_type": "code",
   "execution_count": 18,
   "metadata": {},
   "outputs": [],
   "source": [
    "import torch_geometric.transforms as T\n",
    "\n",
    "data = T.ToUndirected()(data)\n",
    "# data = T.NormalizeFeatures()(data)"
   ]
  },
  {
   "cell_type": "code",
   "execution_count": 19,
   "metadata": {},
   "outputs": [
    {
     "data": {
      "text/plain": [
       "True"
      ]
     },
     "execution_count": 19,
     "metadata": {},
     "output_type": "execute_result"
    }
   ],
   "source": [
    "data.is_undirected()"
   ]
  },
  {
   "cell_type": "code",
   "execution_count": 21,
   "metadata": {},
   "outputs": [],
   "source": [
    "import torch_geometric.transforms as T\n",
    "from torch_geometric.datasets import OGB_MAG\n",
    "from torch_geometric.nn import SAGEConv, to_hetero\n",
    "import torch\n",
    "import torch.nn.functional as F\n",
    "\n",
    "class GNN(torch.nn.Module):\n",
    "    def __init__(self, hidden_channels, out_channels):\n",
    "        super().__init__()\n",
    "        self.conv1 = SAGEConv((-1, -1), hidden_channels)\n",
    "        self.conv2 = SAGEConv((-1, -1), out_channels)\n",
    "\n",
    "    def forward(self, x, edge_index):\n",
    "        x = self.conv1(x, edge_index).relu()\n",
    "        x = self.conv2(x, edge_index)\n",
    "        return x\n",
    "\n",
    "\n",
    "model = GNN(hidden_channels=64, out_channels=dataset.num_classes)\n",
    "model = to_hetero(model, data.metadata(), aggr='sum')\n",
    "# model = model.to('cuda:0')"
   ]
  },
  {
   "cell_type": "code",
   "execution_count": 22,
   "metadata": {},
   "outputs": [],
   "source": [
    "optimizer = torch.optim.Adam(model.parameters(), lr=0.01)"
   ]
  },
  {
   "cell_type": "code",
   "execution_count": 23,
   "metadata": {},
   "outputs": [
    {
     "ename": "ValueError",
     "evalue": "'edge_index' of edge type ('playlist', 'contains', 'track') contains larger source indices than the number of nodes (1000) of this node type in 'HeteroData' (found 66694)",
     "output_type": "error",
     "traceback": [
      "\u001b[0;31m---------------------------------------------------------------------------\u001b[0m",
      "\u001b[0;31mValueError\u001b[0m                                Traceback (most recent call last)",
      "Cell \u001b[0;32mIn[23], line 1\u001b[0m\n\u001b[0;32m----> 1\u001b[0m data\u001b[39m.\u001b[39;49mvalidate()\n",
      "File \u001b[0;32m~/jupyter-server/venv/lib/python3.10/site-packages/torch_geometric/data/hetero_data.py:381\u001b[0m, in \u001b[0;36mHeteroData.validate\u001b[0;34m(self, raise_on_error)\u001b[0m\n\u001b[1;32m    378\u001b[0m \u001b[39mif\u001b[39;00m (num_src_nodes \u001b[39mis\u001b[39;00m \u001b[39mnot\u001b[39;00m \u001b[39mNone\u001b[39;00m\n\u001b[1;32m    379\u001b[0m         \u001b[39mand\u001b[39;00m store\u001b[39m.\u001b[39medge_index[\u001b[39m0\u001b[39m]\u001b[39m.\u001b[39mmax() \u001b[39m>\u001b[39m\u001b[39m=\u001b[39m num_src_nodes):\n\u001b[1;32m    380\u001b[0m     status \u001b[39m=\u001b[39m \u001b[39mFalse\u001b[39;00m\n\u001b[0;32m--> 381\u001b[0m     warn_or_raise(\n\u001b[1;32m    382\u001b[0m         \u001b[39mf\u001b[39;49m\u001b[39m\"\u001b[39;49m\u001b[39m'\u001b[39;49m\u001b[39medge_index\u001b[39;49m\u001b[39m'\u001b[39;49m\u001b[39m of edge type \u001b[39;49m\u001b[39m{\u001b[39;49;00medge_type\u001b[39m}\u001b[39;49;00m\u001b[39m contains \u001b[39;49m\u001b[39m\"\u001b[39;49m\n\u001b[1;32m    383\u001b[0m         \u001b[39mf\u001b[39;49m\u001b[39m\"\u001b[39;49m\u001b[39mlarger source indices than the number of nodes \u001b[39;49m\u001b[39m\"\u001b[39;49m\n\u001b[1;32m    384\u001b[0m         \u001b[39mf\u001b[39;49m\u001b[39m\"\u001b[39;49m\u001b[39m(\u001b[39;49m\u001b[39m{\u001b[39;49;00mnum_src_nodes\u001b[39m}\u001b[39;49;00m\u001b[39m) of this node type in \u001b[39;49m\u001b[39m'\u001b[39;49m\u001b[39m{\u001b[39;49;00mcls_name\u001b[39m}\u001b[39;49;00m\u001b[39m'\u001b[39;49m\u001b[39m \u001b[39;49m\u001b[39m\"\u001b[39;49m\n\u001b[1;32m    385\u001b[0m         \u001b[39mf\u001b[39;49m\u001b[39m\"\u001b[39;49m\u001b[39m(found \u001b[39;49m\u001b[39m{\u001b[39;49;00m\u001b[39mint\u001b[39;49m(store\u001b[39m.\u001b[39;49medge_index[\u001b[39m0\u001b[39;49m]\u001b[39m.\u001b[39;49mmax())\u001b[39m}\u001b[39;49;00m\u001b[39m)\u001b[39;49m\u001b[39m\"\u001b[39;49m,\n\u001b[1;32m    386\u001b[0m         raise_on_error)\n\u001b[1;32m    388\u001b[0m \u001b[39mif\u001b[39;00m (num_dst_nodes \u001b[39mis\u001b[39;00m \u001b[39mnot\u001b[39;00m \u001b[39mNone\u001b[39;00m\n\u001b[1;32m    389\u001b[0m         \u001b[39mand\u001b[39;00m store\u001b[39m.\u001b[39medge_index[\u001b[39m1\u001b[39m]\u001b[39m.\u001b[39mmax() \u001b[39m>\u001b[39m\u001b[39m=\u001b[39m num_dst_nodes):\n\u001b[1;32m    390\u001b[0m     status \u001b[39m=\u001b[39m \u001b[39mFalse\u001b[39;00m\n",
      "File \u001b[0;32m~/jupyter-server/venv/lib/python3.10/site-packages/torch_geometric/data/data.py:943\u001b[0m, in \u001b[0;36mwarn_or_raise\u001b[0;34m(msg, raise_on_error)\u001b[0m\n\u001b[1;32m    941\u001b[0m \u001b[39mdef\u001b[39;00m \u001b[39mwarn_or_raise\u001b[39m(msg: \u001b[39mstr\u001b[39m, raise_on_error: \u001b[39mbool\u001b[39m \u001b[39m=\u001b[39m \u001b[39mTrue\u001b[39;00m):\n\u001b[1;32m    942\u001b[0m     \u001b[39mif\u001b[39;00m raise_on_error:\n\u001b[0;32m--> 943\u001b[0m         \u001b[39mraise\u001b[39;00m \u001b[39mValueError\u001b[39;00m(msg)\n\u001b[1;32m    944\u001b[0m     \u001b[39melse\u001b[39;00m:\n\u001b[1;32m    945\u001b[0m         warnings\u001b[39m.\u001b[39mwarn(msg)\n",
      "\u001b[0;31mValueError\u001b[0m: 'edge_index' of edge type ('playlist', 'contains', 'track') contains larger source indices than the number of nodes (1000) of this node type in 'HeteroData' (found 66694)"
     ]
    }
   ],
   "source": [
    "data.validate()"
   ]
  },
  {
   "cell_type": "code",
   "execution_count": null,
   "metadata": {},
   "outputs": [
    {
     "ename": "",
     "evalue": "",
     "output_type": "error",
     "traceback": [
      "\u001b[1;31mThe Kernel crashed while executing code in the the current cell or a previous cell. Please review the code in the cell(s) to identify a possible cause of the failure. Click <a href='https://aka.ms/vscodeJupyterKernelCrash'>here</a> for more info. View Jupyter <a href='command:jupyter.viewOutput'>log</a> for further details."
     ]
    },
    {
     "ename": "",
     "evalue": "",
     "output_type": "error",
     "traceback": [
      "\u001b[1;31mCanceled future for execute_request message before replies were done"
     ]
    }
   ],
   "source": [
    "import torch_geometric.transforms as T\n",
    "from torch_geometric.datasets import OGB_MAG\n",
    "from torch_geometric.loader import NeighborLoader\n",
    "\n",
    "# transform = T.ToUndirected()  # Add reverse edge types.\n",
    "# data = OGB_MAG(root='./data', preprocess='metapath2vec', transform=transform)[0]\n",
    "\n",
    "train_loader = NeighborLoader(\n",
    "    data,\n",
    "    # Sample 15 neighbors for each node and each edge type for 2 iterations:\n",
    "    num_neighbors=[15] * 2,\n",
    "    # num_neighbors = {key: [15] * 2 for key in data.edge_types} will sample different ammounts for each node type\n",
    "    # Use a batch size of 128 for sampling training nodes of type \"paper\":\n",
    "    batch_size=128,\n",
    "    input_nodes=('playlist', data['playlist'].train_mask),\n",
    ")\n",
    "\n",
    "batch = next(iter(train_loader))"
   ]
  },
  {
   "cell_type": "code",
   "execution_count": null,
   "metadata": {},
   "outputs": [
    {
     "data": {
      "text/plain": [
       "HeteroData(\n",
       "  \u001b[1mpaper\u001b[0m={\n",
       "    x=[20796, 128],\n",
       "    year=[20796],\n",
       "    y=[20796],\n",
       "    train_mask=[20796],\n",
       "    val_mask=[20796],\n",
       "    test_mask=[20796],\n",
       "    input_id=[128],\n",
       "    batch_size=128\n",
       "  },\n",
       "  \u001b[1mauthor\u001b[0m={ x=[4454, 128] },\n",
       "  \u001b[1minstitution\u001b[0m={ x=[306, 128] },\n",
       "  \u001b[1mfield_of_study\u001b[0m={ x=[2584, 128] },\n",
       "  \u001b[1m(author, affiliated_with, institution)\u001b[0m={ edge_index=[2, 0] },\n",
       "  \u001b[1m(author, writes, paper)\u001b[0m={ edge_index=[2, 5916] },\n",
       "  \u001b[1m(paper, cites, paper)\u001b[0m={ edge_index=[2, 11751] },\n",
       "  \u001b[1m(paper, has_topic, field_of_study)\u001b[0m={ edge_index=[2, 10573] },\n",
       "  \u001b[1m(institution, rev_affiliated_with, author)\u001b[0m={ edge_index=[2, 821] },\n",
       "  \u001b[1m(paper, rev_writes, author)\u001b[0m={ edge_index=[2, 5484] },\n",
       "  \u001b[1m(field_of_study, rev_has_topic, paper)\u001b[0m={ edge_index=[2, 10432] }\n",
       ")"
      ]
     },
     "execution_count": 71,
     "metadata": {},
     "output_type": "execute_result"
    }
   ],
   "source": [
    "batch"
   ]
  },
  {
   "cell_type": "code",
   "execution_count": null,
   "metadata": {},
   "outputs": [],
   "source": [
    "def train():\n",
    "    model.train()\n",
    "\n",
    "    total_examples = total_loss = 0\n",
    "    for batch in train_loader:\n",
    "        optimizer.zero_grad()\n",
    "        # batch = batch.to('cuda:0')\n",
    "        batch_size = batch['paper'].batch_size\n",
    "        out = model(batch.x_dict, batch.edge_index_dict)\n",
    "        loss = F.cross_entropy(out['paper'][:batch_size],\n",
    "                               batch['paper'].y[:batch_size])\n",
    "        loss.backward()\n",
    "        optimizer.step()\n",
    "\n",
    "        total_examples += batch_size\n",
    "        print(f'Loss: {loss:.4f}')\n",
    "        total_loss += float(loss) * batch_size\n",
    "\n",
    "    return total_loss / total_examples"
   ]
  },
  {
   "cell_type": "code",
   "execution_count": null,
   "metadata": {},
   "outputs": [
    {
     "ename": "ValueError",
     "evalue": "`MessagePassing.propagate` only supports integer tensors of shape `[2, num_messages]`, `torch_sparse.SparseTensor` or `torch.sparse.Tensor` for argument `edge_index`.",
     "output_type": "error",
     "traceback": [
      "\u001b[0;31m---------------------------------------------------------------------------\u001b[0m",
      "\u001b[0;31mValueError\u001b[0m                                Traceback (most recent call last)",
      "Cell \u001b[0;32mIn[69], line 1\u001b[0m\n\u001b[0;32m----> 1\u001b[0m train()\n",
      "Cell \u001b[0;32mIn[68], line 9\u001b[0m, in \u001b[0;36mtrain\u001b[0;34m()\u001b[0m\n\u001b[1;32m      7\u001b[0m \u001b[39m# batch = batch.to('cuda:0')\u001b[39;00m\n\u001b[1;32m      8\u001b[0m batch_size \u001b[39m=\u001b[39m batch[\u001b[39m'\u001b[39m\u001b[39mpaper\u001b[39m\u001b[39m'\u001b[39m]\u001b[39m.\u001b[39mbatch_size\n\u001b[0;32m----> 9\u001b[0m out \u001b[39m=\u001b[39m model(batch\u001b[39m.\u001b[39;49mx_dict, batch\u001b[39m.\u001b[39;49medge_index_dict)\n\u001b[1;32m     10\u001b[0m loss \u001b[39m=\u001b[39m F\u001b[39m.\u001b[39mcross_entropy(out[\u001b[39m'\u001b[39m\u001b[39mpaper\u001b[39m\u001b[39m'\u001b[39m][:batch_size],\n\u001b[1;32m     11\u001b[0m                        batch[\u001b[39m'\u001b[39m\u001b[39mpaper\u001b[39m\u001b[39m'\u001b[39m]\u001b[39m.\u001b[39my[:batch_size])\n\u001b[1;32m     12\u001b[0m loss\u001b[39m.\u001b[39mbackward()\n",
      "File \u001b[0;32m~/jupyter-server/venv/lib64/python3.10/site-packages/torch/fx/graph_module.py:658\u001b[0m, in \u001b[0;36mGraphModule.recompile.<locals>.call_wrapped\u001b[0;34m(self, *args, **kwargs)\u001b[0m\n\u001b[1;32m    657\u001b[0m \u001b[39mdef\u001b[39;00m \u001b[39mcall_wrapped\u001b[39m(\u001b[39mself\u001b[39m, \u001b[39m*\u001b[39margs, \u001b[39m*\u001b[39m\u001b[39m*\u001b[39mkwargs):\n\u001b[0;32m--> 658\u001b[0m     \u001b[39mreturn\u001b[39;00m \u001b[39mself\u001b[39;49m\u001b[39m.\u001b[39;49m_wrapped_call(\u001b[39mself\u001b[39;49m, \u001b[39m*\u001b[39;49margs, \u001b[39m*\u001b[39;49m\u001b[39m*\u001b[39;49mkwargs)\n",
      "File \u001b[0;32m~/jupyter-server/venv/lib64/python3.10/site-packages/torch/fx/graph_module.py:277\u001b[0m, in \u001b[0;36m_WrappedCall.__call__\u001b[0;34m(self, obj, *args, **kwargs)\u001b[0m\n\u001b[1;32m    275\u001b[0m     \u001b[39mraise\u001b[39;00m e\u001b[39m.\u001b[39mwith_traceback(\u001b[39mNone\u001b[39;00m)\n\u001b[1;32m    276\u001b[0m \u001b[39melse\u001b[39;00m:\n\u001b[0;32m--> 277\u001b[0m     \u001b[39mraise\u001b[39;00m e\n",
      "File \u001b[0;32m~/jupyter-server/venv/lib64/python3.10/site-packages/torch/fx/graph_module.py:267\u001b[0m, in \u001b[0;36m_WrappedCall.__call__\u001b[0;34m(self, obj, *args, **kwargs)\u001b[0m\n\u001b[1;32m    265\u001b[0m         \u001b[39mreturn\u001b[39;00m \u001b[39mself\u001b[39m\u001b[39m.\u001b[39mcls_call(obj, \u001b[39m*\u001b[39margs, \u001b[39m*\u001b[39m\u001b[39m*\u001b[39mkwargs)\n\u001b[1;32m    266\u001b[0m     \u001b[39melse\u001b[39;00m:\n\u001b[0;32m--> 267\u001b[0m         \u001b[39mreturn\u001b[39;00m \u001b[39msuper\u001b[39;49m(\u001b[39mself\u001b[39;49m\u001b[39m.\u001b[39;49mcls, obj)\u001b[39m.\u001b[39;49m\u001b[39m__call__\u001b[39;49m(\u001b[39m*\u001b[39;49margs, \u001b[39m*\u001b[39;49m\u001b[39m*\u001b[39;49mkwargs)  \u001b[39m# type: ignore[misc]\u001b[39;00m\n\u001b[1;32m    268\u001b[0m \u001b[39mexcept\u001b[39;00m \u001b[39mException\u001b[39;00m \u001b[39mas\u001b[39;00m e:\n\u001b[1;32m    269\u001b[0m     \u001b[39massert\u001b[39;00m e\u001b[39m.\u001b[39m__traceback__\n",
      "File \u001b[0;32m~/jupyter-server/venv/lib64/python3.10/site-packages/torch/nn/modules/module.py:1194\u001b[0m, in \u001b[0;36mModule._call_impl\u001b[0;34m(self, *input, **kwargs)\u001b[0m\n\u001b[1;32m   1190\u001b[0m \u001b[39m# If we don't have any hooks, we want to skip the rest of the logic in\u001b[39;00m\n\u001b[1;32m   1191\u001b[0m \u001b[39m# this function, and just call forward.\u001b[39;00m\n\u001b[1;32m   1192\u001b[0m \u001b[39mif\u001b[39;00m \u001b[39mnot\u001b[39;00m (\u001b[39mself\u001b[39m\u001b[39m.\u001b[39m_backward_hooks \u001b[39mor\u001b[39;00m \u001b[39mself\u001b[39m\u001b[39m.\u001b[39m_forward_hooks \u001b[39mor\u001b[39;00m \u001b[39mself\u001b[39m\u001b[39m.\u001b[39m_forward_pre_hooks \u001b[39mor\u001b[39;00m _global_backward_hooks\n\u001b[1;32m   1193\u001b[0m         \u001b[39mor\u001b[39;00m _global_forward_hooks \u001b[39mor\u001b[39;00m _global_forward_pre_hooks):\n\u001b[0;32m-> 1194\u001b[0m     \u001b[39mreturn\u001b[39;00m forward_call(\u001b[39m*\u001b[39;49m\u001b[39minput\u001b[39;49m, \u001b[39m*\u001b[39;49m\u001b[39m*\u001b[39;49mkwargs)\n\u001b[1;32m   1195\u001b[0m \u001b[39m# Do not call functions when jit is used\u001b[39;00m\n\u001b[1;32m   1196\u001b[0m full_backward_hooks, non_full_backward_hooks \u001b[39m=\u001b[39m [], []\n",
      "File \u001b[0;32m<eval_with_key>.7:17\u001b[0m, in \u001b[0;36mforward\u001b[0;34m(self, x, edge_index)\u001b[0m\n\u001b[1;32m     15\u001b[0m edge_index__track__rev_includes__album \u001b[39m=\u001b[39m edge_index_dict\u001b[39m.\u001b[39mget((\u001b[39m'\u001b[39m\u001b[39mtrack\u001b[39m\u001b[39m'\u001b[39m, \u001b[39m'\u001b[39m\u001b[39mrev_includes\u001b[39m\u001b[39m'\u001b[39m, \u001b[39m'\u001b[39m\u001b[39malbum\u001b[39m\u001b[39m'\u001b[39m), \u001b[39mNone\u001b[39;00m)\n\u001b[1;32m     16\u001b[0m edge_index__track__rev_authors__artist \u001b[39m=\u001b[39m edge_index_dict\u001b[39m.\u001b[39mget((\u001b[39m'\u001b[39m\u001b[39mtrack\u001b[39m\u001b[39m'\u001b[39m, \u001b[39m'\u001b[39m\u001b[39mrev_authors\u001b[39m\u001b[39m'\u001b[39m, \u001b[39m'\u001b[39m\u001b[39martist\u001b[39m\u001b[39m'\u001b[39m), \u001b[39mNone\u001b[39;00m);  edge_index_dict \u001b[39m=\u001b[39m \u001b[39mNone\u001b[39;00m\n\u001b[0;32m---> 17\u001b[0m conv1__track1 \u001b[39m=\u001b[39m \u001b[39mself\u001b[39;49m\u001b[39m.\u001b[39;49mconv1\u001b[39m.\u001b[39;49mplaylist__contains__track((x__playlist, x__track), edge_index__playlist__contains__track)\n\u001b[1;32m     18\u001b[0m conv1__track2 \u001b[39m=\u001b[39m \u001b[39mself\u001b[39m\u001b[39m.\u001b[39mconv1\u001b[39m.\u001b[39malbum__includes__track((x__album, x__track), edge_index__album__includes__track)\n\u001b[1;32m     19\u001b[0m conv1__track3 \u001b[39m=\u001b[39m \u001b[39mself\u001b[39m\u001b[39m.\u001b[39mconv1\u001b[39m.\u001b[39martist__authors__track((x__artist, x__track), edge_index__artist__authors__track)\n",
      "File \u001b[0;32m~/jupyter-server/venv/lib64/python3.10/site-packages/torch/nn/modules/module.py:1194\u001b[0m, in \u001b[0;36mModule._call_impl\u001b[0;34m(self, *input, **kwargs)\u001b[0m\n\u001b[1;32m   1190\u001b[0m \u001b[39m# If we don't have any hooks, we want to skip the rest of the logic in\u001b[39;00m\n\u001b[1;32m   1191\u001b[0m \u001b[39m# this function, and just call forward.\u001b[39;00m\n\u001b[1;32m   1192\u001b[0m \u001b[39mif\u001b[39;00m \u001b[39mnot\u001b[39;00m (\u001b[39mself\u001b[39m\u001b[39m.\u001b[39m_backward_hooks \u001b[39mor\u001b[39;00m \u001b[39mself\u001b[39m\u001b[39m.\u001b[39m_forward_hooks \u001b[39mor\u001b[39;00m \u001b[39mself\u001b[39m\u001b[39m.\u001b[39m_forward_pre_hooks \u001b[39mor\u001b[39;00m _global_backward_hooks\n\u001b[1;32m   1193\u001b[0m         \u001b[39mor\u001b[39;00m _global_forward_hooks \u001b[39mor\u001b[39;00m _global_forward_pre_hooks):\n\u001b[0;32m-> 1194\u001b[0m     \u001b[39mreturn\u001b[39;00m forward_call(\u001b[39m*\u001b[39;49m\u001b[39minput\u001b[39;49m, \u001b[39m*\u001b[39;49m\u001b[39m*\u001b[39;49mkwargs)\n\u001b[1;32m   1195\u001b[0m \u001b[39m# Do not call functions when jit is used\u001b[39;00m\n\u001b[1;32m   1196\u001b[0m full_backward_hooks, non_full_backward_hooks \u001b[39m=\u001b[39m [], []\n",
      "File \u001b[0;32m~/jupyter-server/venv/lib/python3.10/site-packages/torch_geometric/nn/conv/sage_conv.py:131\u001b[0m, in \u001b[0;36mSAGEConv.forward\u001b[0;34m(self, x, edge_index, size)\u001b[0m\n\u001b[1;32m    128\u001b[0m     x \u001b[39m=\u001b[39m (\u001b[39mself\u001b[39m\u001b[39m.\u001b[39mlin(x[\u001b[39m0\u001b[39m])\u001b[39m.\u001b[39mrelu(), x[\u001b[39m1\u001b[39m])\n\u001b[1;32m    130\u001b[0m \u001b[39m# propagate_type: (x: OptPairTensor)\u001b[39;00m\n\u001b[0;32m--> 131\u001b[0m out \u001b[39m=\u001b[39m \u001b[39mself\u001b[39;49m\u001b[39m.\u001b[39;49mpropagate(edge_index, x\u001b[39m=\u001b[39;49mx, size\u001b[39m=\u001b[39;49msize)\n\u001b[1;32m    132\u001b[0m out \u001b[39m=\u001b[39m \u001b[39mself\u001b[39m\u001b[39m.\u001b[39mlin_l(out)\n\u001b[1;32m    134\u001b[0m x_r \u001b[39m=\u001b[39m x[\u001b[39m1\u001b[39m]\n",
      "File \u001b[0;32m~/jupyter-server/venv/lib/python3.10/site-packages/torch_geometric/nn/conv/message_passing.py:392\u001b[0m, in \u001b[0;36mMessagePassing.propagate\u001b[0;34m(self, edge_index, size, **kwargs)\u001b[0m\n\u001b[1;32m    389\u001b[0m     \u001b[39mif\u001b[39;00m res \u001b[39mis\u001b[39;00m \u001b[39mnot\u001b[39;00m \u001b[39mNone\u001b[39;00m:\n\u001b[1;32m    390\u001b[0m         edge_index, size, kwargs \u001b[39m=\u001b[39m res\n\u001b[0;32m--> 392\u001b[0m size \u001b[39m=\u001b[39m \u001b[39mself\u001b[39;49m\u001b[39m.\u001b[39;49m__check_input__(edge_index, size)\n\u001b[1;32m    394\u001b[0m \u001b[39m# Run \"fused\" message and aggregation (if applicable).\u001b[39;00m\n\u001b[1;32m    395\u001b[0m \u001b[39mif\u001b[39;00m is_sparse(edge_index) \u001b[39mand\u001b[39;00m \u001b[39mself\u001b[39m\u001b[39m.\u001b[39mfuse \u001b[39mand\u001b[39;00m \u001b[39mnot\u001b[39;00m \u001b[39mself\u001b[39m\u001b[39m.\u001b[39mexplain:\n",
      "File \u001b[0;32m~/jupyter-server/venv/lib/python3.10/site-packages/torch_geometric/nn/conv/message_passing.py:216\u001b[0m, in \u001b[0;36mMessagePassing.__check_input__\u001b[0;34m(self, edge_index, size)\u001b[0m\n\u001b[1;32m    213\u001b[0m         the_size[\u001b[39m1\u001b[39m] \u001b[39m=\u001b[39m size[\u001b[39m1\u001b[39m]\n\u001b[1;32m    214\u001b[0m     \u001b[39mreturn\u001b[39;00m the_size\n\u001b[0;32m--> 216\u001b[0m \u001b[39mraise\u001b[39;00m \u001b[39mValueError\u001b[39;00m(\n\u001b[1;32m    217\u001b[0m     (\u001b[39m'\u001b[39m\u001b[39m`MessagePassing.propagate` only supports integer tensors of \u001b[39m\u001b[39m'\u001b[39m\n\u001b[1;32m    218\u001b[0m      \u001b[39m'\u001b[39m\u001b[39mshape `[2, num_messages]`, `torch_sparse.SparseTensor` or \u001b[39m\u001b[39m'\u001b[39m\n\u001b[1;32m    219\u001b[0m      \u001b[39m'\u001b[39m\u001b[39m`torch.sparse.Tensor` for argument `edge_index`.\u001b[39m\u001b[39m'\u001b[39m))\n",
      "\u001b[0;31mValueError\u001b[0m: `MessagePassing.propagate` only supports integer tensors of shape `[2, num_messages]`, `torch_sparse.SparseTensor` or `torch.sparse.Tensor` for argument `edge_index`."
     ]
    }
   ],
   "source": [
    "train()"
   ]
  }
 ],
 "metadata": {
  "kernelspec": {
   "display_name": "Python 3 (ipykernel)",
   "language": "python",
   "name": "python3"
  },
  "language_info": {
   "codemirror_mode": {
    "name": "ipython",
    "version": 3
   },
   "file_extension": ".py",
   "mimetype": "text/x-python",
   "name": "python",
   "nbconvert_exporter": "python",
   "pygments_lexer": "ipython3",
   "version": "3.10.8"
  },
  "orig_nbformat": 4
 },
 "nbformat": 4,
 "nbformat_minor": 2
}
