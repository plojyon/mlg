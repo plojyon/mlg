{
 "cells": [
  {
   "cell_type": "code",
   "execution_count": 176,
   "metadata": {},
   "outputs": [],
   "source": [
    "from torch_geometric.datasets import OGB_MAG\n",
    "\n",
    "dataset = OGB_MAG(root='./data', preprocess='metapath2vec')\n",
    "data = dataset[0]"
   ]
  },
  {
   "cell_type": "code",
   "execution_count": 177,
   "metadata": {},
   "outputs": [
    {
     "data": {
      "text/plain": [
       "HeteroData(\n",
       "  \u001b[1mpaper\u001b[0m={\n",
       "    x=[736389, 128],\n",
       "    year=[736389],\n",
       "    y=[736389],\n",
       "    train_mask=[736389],\n",
       "    val_mask=[736389],\n",
       "    test_mask=[736389]\n",
       "  },\n",
       "  \u001b[1mauthor\u001b[0m={ x=[1134649, 128] },\n",
       "  \u001b[1minstitution\u001b[0m={ x=[8740, 128] },\n",
       "  \u001b[1mfield_of_study\u001b[0m={ x=[59965, 128] },\n",
       "  \u001b[1m(author, affiliated_with, institution)\u001b[0m={ edge_index=[2, 1043998] },\n",
       "  \u001b[1m(author, writes, paper)\u001b[0m={ edge_index=[2, 7145660] },\n",
       "  \u001b[1m(paper, cites, paper)\u001b[0m={ edge_index=[2, 5416271] },\n",
       "  \u001b[1m(paper, has_topic, field_of_study)\u001b[0m={ edge_index=[2, 7505078] }\n",
       ")"
      ]
     },
     "execution_count": 177,
     "metadata": {},
     "output_type": "execute_result"
    }
   ],
   "source": [
    "data"
   ]
  },
  {
   "cell_type": "code",
   "execution_count": 178,
   "metadata": {},
   "outputs": [],
   "source": [
    "import os\n",
    "import networkx as nx\n",
    "import json\n",
    "from tqdm import tqdm\n",
    "import torch\n",
    "import torch_geometric\n",
    "\n",
    "def nx2hetero(G):\n",
    "\tids_by_type = {\n",
    "\t\t\"playlist\": {},\n",
    "\t\t\"track\": {},\n",
    "\t\t\"artist\": {},\n",
    "\t\t\"album\": {}\n",
    "\t}\n",
    "\tdef node_id(type, id, exception=False):\n",
    "\t\td = ids_by_type[type]\n",
    "\t\tif id not in d:\n",
    "\t\t\tif exception:\n",
    "\t\t\t\traise Exception(f'node {id} not found for type {type}')\n",
    "\t\t\td[id] = len(d)\n",
    "\t\treturn d[id]\n",
    "\n",
    "\t\n",
    "\tnode_features_by_type = {\n",
    "\t\t\"playlist\": [],\n",
    "\t\t\"track\": [],\n",
    "\t\t\"artist\": [],\n",
    "\t\t\"album\": []\n",
    "\t}\n",
    "\tfor node in G.nodes(data=True):\n",
    "\t\tt = node[1][\"node_type\"]\n",
    "\t\tif t == \"playlist\":\n",
    "\t\t\tnode_id(\"playlist\", node[0])\n",
    "\t\t\tnode_features_by_type[\"playlist\"] += [node[1][\"num_followers\"]]\n",
    "\t\telif t == \"track\":\n",
    "\t\t\tnode_id(\"track\", node[0])\n",
    "\t\t\tnode_features_by_type[\"track\"] += [node[1][\"duration\"]]\n",
    "\t\telif t == \"artist\":\n",
    "\t\t\tnode_id(\"artist\", node[0])\n",
    "\t\t\tnode_features_by_type[\"artist\"] += [1]\n",
    "\t\telif t == \"album\":\n",
    "\t\t\tnode_id(\"album\", node[0])\n",
    "\t\t\tnode_features_by_type[\"album\"] += [1]\n",
    "\n",
    "\tprint(ids_by_type[\"playlist\"])\n",
    "\n",
    "\n",
    "\tedge_index_by_type = {\n",
    "\t\t(\"playlist\", \"contains\", \"track\"): [],\n",
    "\t\t(\"album\", \"includes\", \"track\"): [],\n",
    "\t\t(\"artist\", \"authors\", \"track\"): []\n",
    "\t}\n",
    "\tfor edge in G.edges(data=True):\n",
    "\t\tif G[edge[0]][edge[1]][\"edge_type\"] == \"track-playlist\":\n",
    "\t\t\ts_id = node_id(\"track\", edge[0], exception=True)\n",
    "\t\t\tt_id = node_id(\"playlist\", edge[1], exception=True)\n",
    "\t\t\t\n",
    "\t\t\tedge_index_by_type[(\"playlist\", \"contains\", \"track\")] += [(t_id, s_id)]\n",
    "\t\telif G[edge[0]][edge[1]][\"edge_type\"] == \"track-album\":\n",
    "\t\t\ts_id = node_id(\"track\", edge[0], exception=True)\n",
    "\t\t\tt_id = node_id(\"album\", edge[1], exception=True)\n",
    "\t\t\t\n",
    "\t\t\tedge_index_by_type[(\"album\", \"includes\", \"track\")] += [(t_id, s_id)]\n",
    "\t\telif G[edge[0]][edge[1]][\"edge_type\"] == \"track-artist\":\n",
    "\t\t\ts_id = node_id(\"track\", edge[0], exception=True)\n",
    "\t\t\tt_id = node_id(\"artist\", edge[1], exception=True)\n",
    "\t\t\t\n",
    "\t\t\tedge_index_by_type[(\"artist\", \"authors\", \"track\")] += [(t_id, s_id)]\n",
    "\n",
    "\t# construct HeteroData\n",
    "\thetero = torch_geometric.data.HeteroData()\n",
    "\n",
    "\t# add initial node features\n",
    "\thetero[\"playlist\"].x = torch.FloatTensor(node_features_by_type[\"playlist\"]).reshape(-1,1)\n",
    "\thetero[\"track\"].x = torch.FloatTensor(node_features_by_type[\"track\"]).reshape(-1,1)\n",
    "\thetero[\"artist\"].x = torch.FloatTensor(node_features_by_type[\"artist\"]).reshape(-1,1)\n",
    "\thetero[\"album\"].x = torch.FloatTensor(node_features_by_type[\"album\"]).reshape(-1,1)\n",
    "\n",
    "\t# add edge indices\n",
    "\thetero[\"playlist\", \"contains\", \"track\"].edge_index = torch.tensor(edge_index_by_type[(\"playlist\", \"contains\", \"track\")]).t()\n",
    "\thetero[\"album\", \"includes\", \"track\"].edge_index = torch.tensor(edge_index_by_type[(\"album\", \"includes\", \"track\")]).t()\n",
    "\thetero[\"artist\", \"authors\", \"track\"].edge_index = torch.tensor(edge_index_by_type[(\"artist\", \"authors\", \"track\")]).t()\n",
    "\n",
    "\treturn hetero\n"
   ]
  },
  {
   "cell_type": "code",
   "execution_count": 179,
   "metadata": {},
   "outputs": [
    {
     "name": "stdout",
     "output_type": "stream",
     "text": [
      "{'spotify:playlist:42000': 0, 'spotify:playlist:42001': 1, 'spotify:playlist:42002': 2, 'spotify:playlist:42003': 3, 'spotify:playlist:42004': 4, 'spotify:playlist:42005': 5, 'spotify:playlist:42006': 6, 'spotify:playlist:42007': 7, 'spotify:playlist:42008': 8, 'spotify:playlist:42009': 9, 'spotify:playlist:42010': 10, 'spotify:playlist:42011': 11, 'spotify:playlist:42012': 12, 'spotify:playlist:42013': 13, 'spotify:playlist:42014': 14, 'spotify:playlist:42015': 15, 'spotify:playlist:42016': 16, 'spotify:playlist:42017': 17, 'spotify:playlist:42018': 18, 'spotify:playlist:42019': 19, 'spotify:playlist:42020': 20, 'spotify:playlist:42021': 21, 'spotify:playlist:42022': 22, 'spotify:playlist:42023': 23, 'spotify:playlist:42024': 24, 'spotify:playlist:42025': 25, 'spotify:playlist:42026': 26, 'spotify:playlist:42027': 27, 'spotify:playlist:42028': 28, 'spotify:playlist:42029': 29, 'spotify:playlist:42030': 30, 'spotify:playlist:42031': 31, 'spotify:playlist:42032': 32, 'spotify:playlist:42033': 33, 'spotify:playlist:42034': 34, 'spotify:playlist:42035': 35, 'spotify:playlist:42036': 36, 'spotify:playlist:42037': 37, 'spotify:playlist:42038': 38, 'spotify:playlist:42039': 39, 'spotify:playlist:42040': 40, 'spotify:playlist:42041': 41, 'spotify:playlist:42042': 42, 'spotify:playlist:42043': 43, 'spotify:playlist:42044': 44, 'spotify:playlist:42045': 45, 'spotify:playlist:42046': 46, 'spotify:playlist:42047': 47, 'spotify:playlist:42048': 48, 'spotify:playlist:42049': 49, 'spotify:playlist:42050': 50, 'spotify:playlist:42051': 51, 'spotify:playlist:42052': 52, 'spotify:playlist:42053': 53, 'spotify:playlist:42054': 54, 'spotify:playlist:42055': 55, 'spotify:playlist:42056': 56, 'spotify:playlist:42057': 57, 'spotify:playlist:42058': 58, 'spotify:playlist:42059': 59, 'spotify:playlist:42060': 60, 'spotify:playlist:42061': 61, 'spotify:playlist:42062': 62, 'spotify:playlist:42063': 63, 'spotify:playlist:42064': 64, 'spotify:playlist:42065': 65, 'spotify:playlist:42066': 66, 'spotify:playlist:42067': 67, 'spotify:playlist:42068': 68, 'spotify:playlist:42069': 69, 'spotify:playlist:42070': 70, 'spotify:playlist:42071': 71, 'spotify:playlist:42072': 72, 'spotify:playlist:42073': 73, 'spotify:playlist:42074': 74, 'spotify:playlist:42075': 75, 'spotify:playlist:42076': 76, 'spotify:playlist:42077': 77, 'spotify:playlist:42078': 78, 'spotify:playlist:42079': 79, 'spotify:playlist:42080': 80, 'spotify:playlist:42081': 81, 'spotify:playlist:42082': 82, 'spotify:playlist:42083': 83, 'spotify:playlist:42084': 84, 'spotify:playlist:42085': 85, 'spotify:playlist:42086': 86, 'spotify:playlist:42087': 87, 'spotify:playlist:42088': 88, 'spotify:playlist:42089': 89, 'spotify:playlist:42090': 90, 'spotify:playlist:42091': 91, 'spotify:playlist:42092': 92, 'spotify:playlist:42093': 93, 'spotify:playlist:42094': 94, 'spotify:playlist:42095': 95, 'spotify:playlist:42096': 96, 'spotify:playlist:42097': 97, 'spotify:playlist:42098': 98, 'spotify:playlist:42099': 99, 'spotify:playlist:42100': 100, 'spotify:playlist:42101': 101, 'spotify:playlist:42102': 102, 'spotify:playlist:42103': 103, 'spotify:playlist:42104': 104, 'spotify:playlist:42105': 105, 'spotify:playlist:42106': 106, 'spotify:playlist:42107': 107, 'spotify:playlist:42108': 108, 'spotify:playlist:42109': 109, 'spotify:playlist:42110': 110, 'spotify:playlist:42111': 111, 'spotify:playlist:42112': 112, 'spotify:playlist:42113': 113, 'spotify:playlist:42114': 114, 'spotify:playlist:42115': 115, 'spotify:playlist:42116': 116, 'spotify:playlist:42117': 117, 'spotify:playlist:42118': 118, 'spotify:playlist:42119': 119, 'spotify:playlist:42120': 120, 'spotify:playlist:42121': 121, 'spotify:playlist:42122': 122, 'spotify:playlist:42123': 123, 'spotify:playlist:42124': 124, 'spotify:playlist:42125': 125, 'spotify:playlist:42126': 126, 'spotify:playlist:42127': 127, 'spotify:playlist:42128': 128, 'spotify:playlist:42129': 129, 'spotify:playlist:42130': 130, 'spotify:playlist:42131': 131, 'spotify:playlist:42132': 132, 'spotify:playlist:42133': 133, 'spotify:playlist:42134': 134, 'spotify:playlist:42135': 135, 'spotify:playlist:42136': 136, 'spotify:playlist:42137': 137, 'spotify:playlist:42138': 138, 'spotify:playlist:42139': 139, 'spotify:playlist:42140': 140, 'spotify:playlist:42141': 141, 'spotify:playlist:42142': 142, 'spotify:playlist:42143': 143, 'spotify:playlist:42144': 144, 'spotify:playlist:42145': 145, 'spotify:playlist:42146': 146, 'spotify:playlist:42147': 147, 'spotify:playlist:42148': 148, 'spotify:playlist:42149': 149, 'spotify:playlist:42150': 150, 'spotify:playlist:42151': 151, 'spotify:playlist:42152': 152, 'spotify:playlist:42153': 153, 'spotify:playlist:42154': 154, 'spotify:playlist:42155': 155, 'spotify:playlist:42156': 156, 'spotify:playlist:42157': 157, 'spotify:playlist:42158': 158, 'spotify:playlist:42159': 159, 'spotify:playlist:42160': 160, 'spotify:playlist:42161': 161, 'spotify:playlist:42162': 162, 'spotify:playlist:42163': 163, 'spotify:playlist:42164': 164, 'spotify:playlist:42165': 165, 'spotify:playlist:42166': 166, 'spotify:playlist:42167': 167, 'spotify:playlist:42168': 168, 'spotify:playlist:42169': 169, 'spotify:playlist:42170': 170, 'spotify:playlist:42171': 171, 'spotify:playlist:42172': 172, 'spotify:playlist:42173': 173, 'spotify:playlist:42174': 174, 'spotify:playlist:42175': 175, 'spotify:playlist:42176': 176, 'spotify:playlist:42177': 177, 'spotify:playlist:42178': 178, 'spotify:playlist:42179': 179, 'spotify:playlist:42180': 180, 'spotify:playlist:42181': 181, 'spotify:playlist:42182': 182, 'spotify:playlist:42183': 183, 'spotify:playlist:42184': 184, 'spotify:playlist:42185': 185, 'spotify:playlist:42186': 186, 'spotify:playlist:42187': 187, 'spotify:playlist:42188': 188, 'spotify:playlist:42189': 189, 'spotify:playlist:42190': 190, 'spotify:playlist:42191': 191, 'spotify:playlist:42192': 192, 'spotify:playlist:42193': 193, 'spotify:playlist:42194': 194, 'spotify:playlist:42195': 195, 'spotify:playlist:42196': 196, 'spotify:playlist:42197': 197, 'spotify:playlist:42198': 198, 'spotify:playlist:42199': 199, 'spotify:playlist:42200': 200, 'spotify:playlist:42201': 201, 'spotify:playlist:42202': 202, 'spotify:playlist:42203': 203, 'spotify:playlist:42204': 204, 'spotify:playlist:42205': 205, 'spotify:playlist:42206': 206, 'spotify:playlist:42207': 207, 'spotify:playlist:42208': 208, 'spotify:playlist:42209': 209, 'spotify:playlist:42210': 210, 'spotify:playlist:42211': 211, 'spotify:playlist:42212': 212, 'spotify:playlist:42213': 213, 'spotify:playlist:42214': 214, 'spotify:playlist:42215': 215, 'spotify:playlist:42216': 216, 'spotify:playlist:42217': 217, 'spotify:playlist:42218': 218, 'spotify:playlist:42219': 219, 'spotify:playlist:42220': 220, 'spotify:playlist:42221': 221, 'spotify:playlist:42222': 222, 'spotify:playlist:42223': 223, 'spotify:playlist:42224': 224, 'spotify:playlist:42225': 225, 'spotify:playlist:42226': 226, 'spotify:playlist:42227': 227, 'spotify:playlist:42228': 228, 'spotify:playlist:42229': 229, 'spotify:playlist:42230': 230, 'spotify:playlist:42231': 231, 'spotify:playlist:42232': 232, 'spotify:playlist:42233': 233, 'spotify:playlist:42234': 234, 'spotify:playlist:42235': 235, 'spotify:playlist:42236': 236, 'spotify:playlist:42237': 237, 'spotify:playlist:42238': 238, 'spotify:playlist:42239': 239, 'spotify:playlist:42240': 240, 'spotify:playlist:42241': 241, 'spotify:playlist:42242': 242, 'spotify:playlist:42243': 243, 'spotify:playlist:42244': 244, 'spotify:playlist:42245': 245, 'spotify:playlist:42246': 246, 'spotify:playlist:42247': 247, 'spotify:playlist:42248': 248, 'spotify:playlist:42249': 249, 'spotify:playlist:42250': 250, 'spotify:playlist:42251': 251, 'spotify:playlist:42252': 252, 'spotify:playlist:42253': 253, 'spotify:playlist:42254': 254, 'spotify:playlist:42255': 255, 'spotify:playlist:42256': 256, 'spotify:playlist:42257': 257, 'spotify:playlist:42258': 258, 'spotify:playlist:42259': 259, 'spotify:playlist:42260': 260, 'spotify:playlist:42261': 261, 'spotify:playlist:42262': 262, 'spotify:playlist:42263': 263, 'spotify:playlist:42264': 264, 'spotify:playlist:42265': 265, 'spotify:playlist:42266': 266, 'spotify:playlist:42267': 267, 'spotify:playlist:42268': 268, 'spotify:playlist:42269': 269, 'spotify:playlist:42270': 270, 'spotify:playlist:42271': 271, 'spotify:playlist:42272': 272, 'spotify:playlist:42273': 273, 'spotify:playlist:42274': 274, 'spotify:playlist:42275': 275, 'spotify:playlist:42276': 276, 'spotify:playlist:42277': 277, 'spotify:playlist:42278': 278, 'spotify:playlist:42279': 279, 'spotify:playlist:42280': 280, 'spotify:playlist:42281': 281, 'spotify:playlist:42282': 282, 'spotify:playlist:42283': 283, 'spotify:playlist:42284': 284, 'spotify:playlist:42285': 285, 'spotify:playlist:42286': 286, 'spotify:playlist:42287': 287, 'spotify:playlist:42288': 288, 'spotify:playlist:42289': 289, 'spotify:playlist:42290': 290, 'spotify:playlist:42291': 291, 'spotify:playlist:42292': 292, 'spotify:playlist:42293': 293, 'spotify:playlist:42294': 294, 'spotify:playlist:42295': 295, 'spotify:playlist:42296': 296, 'spotify:playlist:42297': 297, 'spotify:playlist:42298': 298, 'spotify:playlist:42299': 299, 'spotify:playlist:42300': 300, 'spotify:playlist:42301': 301, 'spotify:playlist:42302': 302, 'spotify:playlist:42303': 303, 'spotify:playlist:42304': 304, 'spotify:playlist:42305': 305, 'spotify:playlist:42306': 306, 'spotify:playlist:42307': 307, 'spotify:playlist:42308': 308, 'spotify:playlist:42309': 309, 'spotify:playlist:42310': 310, 'spotify:playlist:42311': 311, 'spotify:playlist:42312': 312, 'spotify:playlist:42313': 313, 'spotify:playlist:42314': 314, 'spotify:playlist:42315': 315, 'spotify:playlist:42316': 316, 'spotify:playlist:42317': 317, 'spotify:playlist:42318': 318, 'spotify:playlist:42319': 319, 'spotify:playlist:42320': 320, 'spotify:playlist:42321': 321, 'spotify:playlist:42322': 322, 'spotify:playlist:42323': 323, 'spotify:playlist:42324': 324, 'spotify:playlist:42325': 325, 'spotify:playlist:42326': 326, 'spotify:playlist:42327': 327, 'spotify:playlist:42328': 328, 'spotify:playlist:42329': 329, 'spotify:playlist:42330': 330, 'spotify:playlist:42331': 331, 'spotify:playlist:42332': 332, 'spotify:playlist:42333': 333, 'spotify:playlist:42334': 334, 'spotify:playlist:42335': 335, 'spotify:playlist:42336': 336, 'spotify:playlist:42337': 337, 'spotify:playlist:42338': 338, 'spotify:playlist:42339': 339, 'spotify:playlist:42340': 340, 'spotify:playlist:42341': 341, 'spotify:playlist:42342': 342, 'spotify:playlist:42343': 343, 'spotify:playlist:42344': 344, 'spotify:playlist:42345': 345, 'spotify:playlist:42346': 346, 'spotify:playlist:42347': 347, 'spotify:playlist:42348': 348, 'spotify:playlist:42349': 349, 'spotify:playlist:42350': 350, 'spotify:playlist:42351': 351, 'spotify:playlist:42352': 352, 'spotify:playlist:42353': 353, 'spotify:playlist:42354': 354, 'spotify:playlist:42355': 355, 'spotify:playlist:42356': 356, 'spotify:playlist:42357': 357, 'spotify:playlist:42358': 358, 'spotify:playlist:42359': 359, 'spotify:playlist:42360': 360, 'spotify:playlist:42361': 361, 'spotify:playlist:42362': 362, 'spotify:playlist:42363': 363, 'spotify:playlist:42364': 364, 'spotify:playlist:42365': 365, 'spotify:playlist:42366': 366, 'spotify:playlist:42367': 367, 'spotify:playlist:42368': 368, 'spotify:playlist:42369': 369, 'spotify:playlist:42370': 370, 'spotify:playlist:42371': 371, 'spotify:playlist:42372': 372, 'spotify:playlist:42373': 373, 'spotify:playlist:42374': 374, 'spotify:playlist:42375': 375, 'spotify:playlist:42376': 376, 'spotify:playlist:42377': 377, 'spotify:playlist:42378': 378, 'spotify:playlist:42379': 379, 'spotify:playlist:42380': 380, 'spotify:playlist:42381': 381, 'spotify:playlist:42382': 382, 'spotify:playlist:42383': 383, 'spotify:playlist:42384': 384, 'spotify:playlist:42385': 385, 'spotify:playlist:42386': 386, 'spotify:playlist:42387': 387, 'spotify:playlist:42388': 388, 'spotify:playlist:42389': 389, 'spotify:playlist:42390': 390, 'spotify:playlist:42391': 391, 'spotify:playlist:42392': 392, 'spotify:playlist:42393': 393, 'spotify:playlist:42394': 394, 'spotify:playlist:42395': 395, 'spotify:playlist:42396': 396, 'spotify:playlist:42397': 397, 'spotify:playlist:42398': 398, 'spotify:playlist:42399': 399, 'spotify:playlist:42400': 400, 'spotify:playlist:42401': 401, 'spotify:playlist:42402': 402, 'spotify:playlist:42403': 403, 'spotify:playlist:42404': 404, 'spotify:playlist:42405': 405, 'spotify:playlist:42406': 406, 'spotify:playlist:42407': 407, 'spotify:playlist:42408': 408, 'spotify:playlist:42409': 409, 'spotify:playlist:42410': 410, 'spotify:playlist:42411': 411, 'spotify:playlist:42412': 412, 'spotify:playlist:42413': 413, 'spotify:playlist:42414': 414, 'spotify:playlist:42415': 415, 'spotify:playlist:42416': 416, 'spotify:playlist:42417': 417, 'spotify:playlist:42418': 418, 'spotify:playlist:42419': 419, 'spotify:playlist:42420': 420, 'spotify:playlist:42421': 421, 'spotify:playlist:42422': 422, 'spotify:playlist:42423': 423, 'spotify:playlist:42424': 424, 'spotify:playlist:42425': 425, 'spotify:playlist:42426': 426, 'spotify:playlist:42427': 427, 'spotify:playlist:42428': 428, 'spotify:playlist:42429': 429, 'spotify:playlist:42430': 430, 'spotify:playlist:42431': 431, 'spotify:playlist:42432': 432, 'spotify:playlist:42433': 433, 'spotify:playlist:42434': 434, 'spotify:playlist:42435': 435, 'spotify:playlist:42436': 436, 'spotify:playlist:42437': 437, 'spotify:playlist:42438': 438, 'spotify:playlist:42439': 439, 'spotify:playlist:42440': 440, 'spotify:playlist:42441': 441, 'spotify:playlist:42442': 442, 'spotify:playlist:42443': 443, 'spotify:playlist:42444': 444, 'spotify:playlist:42445': 445, 'spotify:playlist:42446': 446, 'spotify:playlist:42447': 447, 'spotify:playlist:42448': 448, 'spotify:playlist:42449': 449, 'spotify:playlist:42450': 450, 'spotify:playlist:42451': 451, 'spotify:playlist:42452': 452, 'spotify:playlist:42453': 453, 'spotify:playlist:42454': 454, 'spotify:playlist:42455': 455, 'spotify:playlist:42456': 456, 'spotify:playlist:42457': 457, 'spotify:playlist:42458': 458, 'spotify:playlist:42459': 459, 'spotify:playlist:42460': 460, 'spotify:playlist:42461': 461, 'spotify:playlist:42462': 462, 'spotify:playlist:42463': 463, 'spotify:playlist:42464': 464, 'spotify:playlist:42465': 465, 'spotify:playlist:42466': 466, 'spotify:playlist:42467': 467, 'spotify:playlist:42468': 468, 'spotify:playlist:42469': 469, 'spotify:playlist:42470': 470, 'spotify:playlist:42471': 471, 'spotify:playlist:42472': 472, 'spotify:playlist:42473': 473, 'spotify:playlist:42474': 474, 'spotify:playlist:42475': 475, 'spotify:playlist:42476': 476, 'spotify:playlist:42477': 477, 'spotify:playlist:42478': 478, 'spotify:playlist:42479': 479, 'spotify:playlist:42480': 480, 'spotify:playlist:42481': 481, 'spotify:playlist:42482': 482, 'spotify:playlist:42483': 483, 'spotify:playlist:42484': 484, 'spotify:playlist:42485': 485, 'spotify:playlist:42486': 486, 'spotify:playlist:42487': 487, 'spotify:playlist:42488': 488, 'spotify:playlist:42489': 489, 'spotify:playlist:42490': 490, 'spotify:playlist:42491': 491, 'spotify:playlist:42492': 492, 'spotify:playlist:42493': 493, 'spotify:playlist:42494': 494, 'spotify:playlist:42495': 495, 'spotify:playlist:42496': 496, 'spotify:playlist:42497': 497, 'spotify:playlist:42498': 498, 'spotify:playlist:42499': 499, 'spotify:playlist:42500': 500, 'spotify:playlist:42501': 501, 'spotify:playlist:42502': 502, 'spotify:playlist:42503': 503, 'spotify:playlist:42504': 504, 'spotify:playlist:42505': 505, 'spotify:playlist:42506': 506, 'spotify:playlist:42507': 507, 'spotify:playlist:42508': 508, 'spotify:playlist:42509': 509, 'spotify:playlist:42510': 510, 'spotify:playlist:42511': 511, 'spotify:playlist:42512': 512, 'spotify:playlist:42513': 513, 'spotify:playlist:42514': 514, 'spotify:playlist:42515': 515, 'spotify:playlist:42516': 516, 'spotify:playlist:42517': 517, 'spotify:playlist:42518': 518, 'spotify:playlist:42519': 519, 'spotify:playlist:42520': 520, 'spotify:playlist:42521': 521, 'spotify:playlist:42522': 522, 'spotify:playlist:42523': 523, 'spotify:playlist:42524': 524, 'spotify:playlist:42525': 525, 'spotify:playlist:42526': 526, 'spotify:playlist:42527': 527, 'spotify:playlist:42528': 528, 'spotify:playlist:42529': 529, 'spotify:playlist:42530': 530, 'spotify:playlist:42531': 531, 'spotify:playlist:42532': 532, 'spotify:playlist:42533': 533, 'spotify:playlist:42534': 534, 'spotify:playlist:42535': 535, 'spotify:playlist:42536': 536, 'spotify:playlist:42537': 537, 'spotify:playlist:42538': 538, 'spotify:playlist:42539': 539, 'spotify:playlist:42540': 540, 'spotify:playlist:42541': 541, 'spotify:playlist:42542': 542, 'spotify:playlist:42543': 543, 'spotify:playlist:42544': 544, 'spotify:playlist:42545': 545, 'spotify:playlist:42546': 546, 'spotify:playlist:42547': 547, 'spotify:playlist:42548': 548, 'spotify:playlist:42549': 549, 'spotify:playlist:42550': 550, 'spotify:playlist:42551': 551, 'spotify:playlist:42552': 552, 'spotify:playlist:42553': 553, 'spotify:playlist:42554': 554, 'spotify:playlist:42555': 555, 'spotify:playlist:42556': 556, 'spotify:playlist:42557': 557, 'spotify:playlist:42558': 558, 'spotify:playlist:42559': 559, 'spotify:playlist:42560': 560, 'spotify:playlist:42561': 561, 'spotify:playlist:42562': 562, 'spotify:playlist:42563': 563, 'spotify:playlist:42564': 564, 'spotify:playlist:42565': 565, 'spotify:playlist:42566': 566, 'spotify:playlist:42567': 567, 'spotify:playlist:42568': 568, 'spotify:playlist:42569': 569, 'spotify:playlist:42570': 570, 'spotify:playlist:42571': 571, 'spotify:playlist:42572': 572, 'spotify:playlist:42573': 573, 'spotify:playlist:42574': 574, 'spotify:playlist:42575': 575, 'spotify:playlist:42576': 576, 'spotify:playlist:42577': 577, 'spotify:playlist:42578': 578, 'spotify:playlist:42579': 579, 'spotify:playlist:42580': 580, 'spotify:playlist:42581': 581, 'spotify:playlist:42582': 582, 'spotify:playlist:42583': 583, 'spotify:playlist:42584': 584, 'spotify:playlist:42585': 585, 'spotify:playlist:42586': 586, 'spotify:playlist:42587': 587, 'spotify:playlist:42588': 588, 'spotify:playlist:42589': 589, 'spotify:playlist:42590': 590, 'spotify:playlist:42591': 591, 'spotify:playlist:42592': 592, 'spotify:playlist:42593': 593, 'spotify:playlist:42594': 594, 'spotify:playlist:42595': 595, 'spotify:playlist:42596': 596, 'spotify:playlist:42597': 597, 'spotify:playlist:42598': 598, 'spotify:playlist:42599': 599, 'spotify:playlist:42600': 600, 'spotify:playlist:42601': 601, 'spotify:playlist:42602': 602, 'spotify:playlist:42603': 603, 'spotify:playlist:42604': 604, 'spotify:playlist:42605': 605, 'spotify:playlist:42606': 606, 'spotify:playlist:42607': 607, 'spotify:playlist:42608': 608, 'spotify:playlist:42609': 609, 'spotify:playlist:42610': 610, 'spotify:playlist:42611': 611, 'spotify:playlist:42612': 612, 'spotify:playlist:42613': 613, 'spotify:playlist:42614': 614, 'spotify:playlist:42615': 615, 'spotify:playlist:42616': 616, 'spotify:playlist:42617': 617, 'spotify:playlist:42618': 618, 'spotify:playlist:42619': 619, 'spotify:playlist:42620': 620, 'spotify:playlist:42621': 621, 'spotify:playlist:42622': 622, 'spotify:playlist:42623': 623, 'spotify:playlist:42624': 624, 'spotify:playlist:42625': 625, 'spotify:playlist:42626': 626, 'spotify:playlist:42627': 627, 'spotify:playlist:42628': 628, 'spotify:playlist:42629': 629, 'spotify:playlist:42630': 630, 'spotify:playlist:42631': 631, 'spotify:playlist:42632': 632, 'spotify:playlist:42633': 633, 'spotify:playlist:42634': 634, 'spotify:playlist:42635': 635, 'spotify:playlist:42636': 636, 'spotify:playlist:42637': 637, 'spotify:playlist:42638': 638, 'spotify:playlist:42639': 639, 'spotify:playlist:42640': 640, 'spotify:playlist:42641': 641, 'spotify:playlist:42642': 642, 'spotify:playlist:42643': 643, 'spotify:playlist:42644': 644, 'spotify:playlist:42645': 645, 'spotify:playlist:42646': 646, 'spotify:playlist:42647': 647, 'spotify:playlist:42648': 648, 'spotify:playlist:42649': 649, 'spotify:playlist:42650': 650, 'spotify:playlist:42651': 651, 'spotify:playlist:42652': 652, 'spotify:playlist:42653': 653, 'spotify:playlist:42654': 654, 'spotify:playlist:42655': 655, 'spotify:playlist:42656': 656, 'spotify:playlist:42657': 657, 'spotify:playlist:42658': 658, 'spotify:playlist:42659': 659, 'spotify:playlist:42660': 660, 'spotify:playlist:42661': 661, 'spotify:playlist:42662': 662, 'spotify:playlist:42663': 663, 'spotify:playlist:42664': 664, 'spotify:playlist:42665': 665, 'spotify:playlist:42666': 666, 'spotify:playlist:42667': 667, 'spotify:playlist:42668': 668, 'spotify:playlist:42669': 669, 'spotify:playlist:42670': 670, 'spotify:playlist:42671': 671, 'spotify:playlist:42672': 672, 'spotify:playlist:42673': 673, 'spotify:playlist:42674': 674, 'spotify:playlist:42675': 675, 'spotify:playlist:42676': 676, 'spotify:playlist:42677': 677, 'spotify:playlist:42678': 678, 'spotify:playlist:42679': 679, 'spotify:playlist:42680': 680, 'spotify:playlist:42681': 681, 'spotify:playlist:42682': 682, 'spotify:playlist:42683': 683, 'spotify:playlist:42684': 684, 'spotify:playlist:42685': 685, 'spotify:playlist:42686': 686, 'spotify:playlist:42687': 687, 'spotify:playlist:42688': 688, 'spotify:playlist:42689': 689, 'spotify:playlist:42690': 690, 'spotify:playlist:42691': 691, 'spotify:playlist:42692': 692, 'spotify:playlist:42693': 693, 'spotify:playlist:42694': 694, 'spotify:playlist:42695': 695, 'spotify:playlist:42696': 696, 'spotify:playlist:42697': 697, 'spotify:playlist:42698': 698, 'spotify:playlist:42699': 699, 'spotify:playlist:42700': 700, 'spotify:playlist:42701': 701, 'spotify:playlist:42702': 702, 'spotify:playlist:42703': 703, 'spotify:playlist:42704': 704, 'spotify:playlist:42705': 705, 'spotify:playlist:42706': 706, 'spotify:playlist:42707': 707, 'spotify:playlist:42708': 708, 'spotify:playlist:42709': 709, 'spotify:playlist:42710': 710, 'spotify:playlist:42711': 711, 'spotify:playlist:42712': 712, 'spotify:playlist:42713': 713, 'spotify:playlist:42714': 714, 'spotify:playlist:42715': 715, 'spotify:playlist:42716': 716, 'spotify:playlist:42717': 717, 'spotify:playlist:42718': 718, 'spotify:playlist:42719': 719, 'spotify:playlist:42720': 720, 'spotify:playlist:42721': 721, 'spotify:playlist:42722': 722, 'spotify:playlist:42723': 723, 'spotify:playlist:42724': 724, 'spotify:playlist:42725': 725, 'spotify:playlist:42726': 726, 'spotify:playlist:42727': 727, 'spotify:playlist:42728': 728, 'spotify:playlist:42729': 729, 'spotify:playlist:42730': 730, 'spotify:playlist:42731': 731, 'spotify:playlist:42732': 732, 'spotify:playlist:42733': 733, 'spotify:playlist:42734': 734, 'spotify:playlist:42735': 735, 'spotify:playlist:42736': 736, 'spotify:playlist:42737': 737, 'spotify:playlist:42738': 738, 'spotify:playlist:42739': 739, 'spotify:playlist:42740': 740, 'spotify:playlist:42741': 741, 'spotify:playlist:42742': 742, 'spotify:playlist:42743': 743, 'spotify:playlist:42744': 744, 'spotify:playlist:42745': 745, 'spotify:playlist:42746': 746, 'spotify:playlist:42747': 747, 'spotify:playlist:42748': 748, 'spotify:playlist:42749': 749, 'spotify:playlist:42750': 750, 'spotify:playlist:42751': 751, 'spotify:playlist:42752': 752, 'spotify:playlist:42753': 753, 'spotify:playlist:42754': 754, 'spotify:playlist:42755': 755, 'spotify:playlist:42756': 756, 'spotify:playlist:42757': 757, 'spotify:playlist:42758': 758, 'spotify:playlist:42759': 759, 'spotify:playlist:42760': 760, 'spotify:playlist:42761': 761, 'spotify:playlist:42762': 762, 'spotify:playlist:42763': 763, 'spotify:playlist:42764': 764, 'spotify:playlist:42765': 765, 'spotify:playlist:42766': 766, 'spotify:playlist:42767': 767, 'spotify:playlist:42768': 768, 'spotify:playlist:42769': 769, 'spotify:playlist:42770': 770, 'spotify:playlist:42771': 771, 'spotify:playlist:42772': 772, 'spotify:playlist:42773': 773, 'spotify:playlist:42774': 774, 'spotify:playlist:42775': 775, 'spotify:playlist:42776': 776, 'spotify:playlist:42777': 777, 'spotify:playlist:42778': 778, 'spotify:playlist:42779': 779, 'spotify:playlist:42780': 780, 'spotify:playlist:42781': 781, 'spotify:playlist:42782': 782, 'spotify:playlist:42783': 783, 'spotify:playlist:42784': 784, 'spotify:playlist:42785': 785, 'spotify:playlist:42786': 786, 'spotify:playlist:42787': 787, 'spotify:playlist:42788': 788, 'spotify:playlist:42789': 789, 'spotify:playlist:42790': 790, 'spotify:playlist:42791': 791, 'spotify:playlist:42792': 792, 'spotify:playlist:42793': 793, 'spotify:playlist:42794': 794, 'spotify:playlist:42795': 795, 'spotify:playlist:42796': 796, 'spotify:playlist:42797': 797, 'spotify:playlist:42798': 798, 'spotify:playlist:42799': 799, 'spotify:playlist:42800': 800, 'spotify:playlist:42801': 801, 'spotify:playlist:42802': 802, 'spotify:playlist:42803': 803, 'spotify:playlist:42804': 804, 'spotify:playlist:42805': 805, 'spotify:playlist:42806': 806, 'spotify:playlist:42807': 807, 'spotify:playlist:42808': 808, 'spotify:playlist:42809': 809, 'spotify:playlist:42810': 810, 'spotify:playlist:42811': 811, 'spotify:playlist:42812': 812, 'spotify:playlist:42813': 813, 'spotify:playlist:42814': 814, 'spotify:playlist:42815': 815, 'spotify:playlist:42816': 816, 'spotify:playlist:42817': 817, 'spotify:playlist:42818': 818, 'spotify:playlist:42819': 819, 'spotify:playlist:42820': 820, 'spotify:playlist:42821': 821, 'spotify:playlist:42822': 822, 'spotify:playlist:42823': 823, 'spotify:playlist:42824': 824, 'spotify:playlist:42825': 825, 'spotify:playlist:42826': 826, 'spotify:playlist:42827': 827, 'spotify:playlist:42828': 828, 'spotify:playlist:42829': 829, 'spotify:playlist:42830': 830, 'spotify:playlist:42831': 831, 'spotify:playlist:42832': 832, 'spotify:playlist:42833': 833, 'spotify:playlist:42834': 834, 'spotify:playlist:42835': 835, 'spotify:playlist:42836': 836, 'spotify:playlist:42837': 837, 'spotify:playlist:42838': 838, 'spotify:playlist:42839': 839, 'spotify:playlist:42840': 840, 'spotify:playlist:42841': 841, 'spotify:playlist:42842': 842, 'spotify:playlist:42843': 843, 'spotify:playlist:42844': 844, 'spotify:playlist:42845': 845, 'spotify:playlist:42846': 846, 'spotify:playlist:42847': 847, 'spotify:playlist:42848': 848, 'spotify:playlist:42849': 849, 'spotify:playlist:42850': 850, 'spotify:playlist:42851': 851, 'spotify:playlist:42852': 852, 'spotify:playlist:42853': 853, 'spotify:playlist:42854': 854, 'spotify:playlist:42855': 855, 'spotify:playlist:42856': 856, 'spotify:playlist:42857': 857, 'spotify:playlist:42858': 858, 'spotify:playlist:42859': 859, 'spotify:playlist:42860': 860, 'spotify:playlist:42861': 861, 'spotify:playlist:42862': 862, 'spotify:playlist:42863': 863, 'spotify:playlist:42864': 864, 'spotify:playlist:42865': 865, 'spotify:playlist:42866': 866, 'spotify:playlist:42867': 867, 'spotify:playlist:42868': 868, 'spotify:playlist:42869': 869, 'spotify:playlist:42870': 870, 'spotify:playlist:42871': 871, 'spotify:playlist:42872': 872, 'spotify:playlist:42873': 873, 'spotify:playlist:42874': 874, 'spotify:playlist:42875': 875, 'spotify:playlist:42876': 876, 'spotify:playlist:42877': 877, 'spotify:playlist:42878': 878, 'spotify:playlist:42879': 879, 'spotify:playlist:42880': 880, 'spotify:playlist:42881': 881, 'spotify:playlist:42882': 882, 'spotify:playlist:42883': 883, 'spotify:playlist:42884': 884, 'spotify:playlist:42885': 885, 'spotify:playlist:42886': 886, 'spotify:playlist:42887': 887, 'spotify:playlist:42888': 888, 'spotify:playlist:42889': 889, 'spotify:playlist:42890': 890, 'spotify:playlist:42891': 891, 'spotify:playlist:42892': 892, 'spotify:playlist:42893': 893, 'spotify:playlist:42894': 894, 'spotify:playlist:42895': 895, 'spotify:playlist:42896': 896, 'spotify:playlist:42897': 897, 'spotify:playlist:42898': 898, 'spotify:playlist:42899': 899, 'spotify:playlist:42900': 900, 'spotify:playlist:42901': 901, 'spotify:playlist:42902': 902, 'spotify:playlist:42903': 903, 'spotify:playlist:42904': 904, 'spotify:playlist:42905': 905, 'spotify:playlist:42906': 906, 'spotify:playlist:42907': 907, 'spotify:playlist:42908': 908, 'spotify:playlist:42909': 909, 'spotify:playlist:42910': 910, 'spotify:playlist:42911': 911, 'spotify:playlist:42912': 912, 'spotify:playlist:42913': 913, 'spotify:playlist:42914': 914, 'spotify:playlist:42915': 915, 'spotify:playlist:42916': 916, 'spotify:playlist:42917': 917, 'spotify:playlist:42918': 918, 'spotify:playlist:42919': 919, 'spotify:playlist:42920': 920, 'spotify:playlist:42921': 921, 'spotify:playlist:42922': 922, 'spotify:playlist:42923': 923, 'spotify:playlist:42924': 924, 'spotify:playlist:42925': 925, 'spotify:playlist:42926': 926, 'spotify:playlist:42927': 927, 'spotify:playlist:42928': 928, 'spotify:playlist:42929': 929, 'spotify:playlist:42930': 930, 'spotify:playlist:42931': 931, 'spotify:playlist:42932': 932, 'spotify:playlist:42933': 933, 'spotify:playlist:42934': 934, 'spotify:playlist:42935': 935, 'spotify:playlist:42936': 936, 'spotify:playlist:42937': 937, 'spotify:playlist:42938': 938, 'spotify:playlist:42939': 939, 'spotify:playlist:42940': 940, 'spotify:playlist:42941': 941, 'spotify:playlist:42942': 942, 'spotify:playlist:42943': 943, 'spotify:playlist:42944': 944, 'spotify:playlist:42945': 945, 'spotify:playlist:42946': 946, 'spotify:playlist:42947': 947, 'spotify:playlist:42948': 948, 'spotify:playlist:42949': 949, 'spotify:playlist:42950': 950, 'spotify:playlist:42951': 951, 'spotify:playlist:42952': 952, 'spotify:playlist:42953': 953, 'spotify:playlist:42954': 954, 'spotify:playlist:42955': 955, 'spotify:playlist:42956': 956, 'spotify:playlist:42957': 957, 'spotify:playlist:42958': 958, 'spotify:playlist:42959': 959, 'spotify:playlist:42960': 960, 'spotify:playlist:42961': 961, 'spotify:playlist:42962': 962, 'spotify:playlist:42963': 963, 'spotify:playlist:42964': 964, 'spotify:playlist:42965': 965, 'spotify:playlist:42966': 966, 'spotify:playlist:42967': 967, 'spotify:playlist:42968': 968, 'spotify:playlist:42969': 969, 'spotify:playlist:42970': 970, 'spotify:playlist:42971': 971, 'spotify:playlist:42972': 972, 'spotify:playlist:42973': 973, 'spotify:playlist:42974': 974, 'spotify:playlist:42975': 975, 'spotify:playlist:42976': 976, 'spotify:playlist:42977': 977, 'spotify:playlist:42978': 978, 'spotify:playlist:42979': 979, 'spotify:playlist:42980': 980, 'spotify:playlist:42981': 981, 'spotify:playlist:42982': 982, 'spotify:playlist:42983': 983, 'spotify:playlist:42984': 984, 'spotify:playlist:42985': 985, 'spotify:playlist:42986': 986, 'spotify:playlist:42987': 987, 'spotify:playlist:42988': 988, 'spotify:playlist:42989': 989, 'spotify:playlist:42990': 990, 'spotify:playlist:42991': 991, 'spotify:playlist:42992': 992, 'spotify:playlist:42993': 993, 'spotify:playlist:42994': 994, 'spotify:playlist:42995': 995, 'spotify:playlist:42996': 996, 'spotify:playlist:42997': 997, 'spotify:playlist:42998': 998, 'spotify:playlist:42999': 999}\n"
     ]
    }
   ],
   "source": [
    "import pickle\n",
    "base = \"spotify_million_playlist_dataset\"\n",
    "pickles = base + \"/pickles\"\n",
    "graph_path = os.path.join(pickles, \"G_example.pkl\")\n",
    "\n",
    "G = pickle.load(open(graph_path, \"rb\"))\n",
    "\n",
    "our_data = nx2hetero(G)"
   ]
  },
  {
   "cell_type": "code",
   "execution_count": 180,
   "metadata": {},
   "outputs": [],
   "source": [
    "# create training mask for playlist nodes\n",
    "train_mask = torch.zeros(our_data[\"playlist\"].x.shape[0], dtype=torch.bool)\n",
    "train_mask[torch.randperm(train_mask.shape[0])[:int(train_mask.shape[0]*0.8)]] = True\n",
    "\n",
    "our_data[\"playlist\"].train_mask = train_mask\n",
    "\n",
    "our_data[\"playlist\"].y = torch.LongTensor([1]*our_data[\"playlist\"].x.shape[0])"
   ]
  },
  {
   "cell_type": "code",
   "execution_count": 181,
   "metadata": {},
   "outputs": [
    {
     "data": {
      "text/plain": [
       "tensor([[    0,   515,   664,  ...,   999,   999,   999],\n",
       "        [    0,     0,     0,  ..., 35286, 35287, 35288]])"
      ]
     },
     "execution_count": 181,
     "metadata": {},
     "output_type": "execute_result"
    }
   ],
   "source": [
    "our_data[\"playlist\", \"contains\", \"track\"].edge_index"
   ]
  },
  {
   "cell_type": "code",
   "execution_count": 182,
   "metadata": {},
   "outputs": [
    {
     "data": {
      "text/plain": [
       "(['playlist', 'track', 'artist', 'album'],\n",
       " [('playlist', 'contains', 'track'),\n",
       "  ('album', 'includes', 'track'),\n",
       "  ('artist', 'authors', 'track')])"
      ]
     },
     "execution_count": 182,
     "metadata": {},
     "output_type": "execute_result"
    }
   ],
   "source": [
    "our_data.metadata()"
   ]
  },
  {
   "cell_type": "code",
   "execution_count": 183,
   "metadata": {},
   "outputs": [],
   "source": [
    "data = our_data"
   ]
  },
  {
   "cell_type": "code",
   "execution_count": 184,
   "metadata": {},
   "outputs": [
    {
     "data": {
      "text/plain": [
       "False"
      ]
     },
     "execution_count": 184,
     "metadata": {},
     "output_type": "execute_result"
    }
   ],
   "source": [
    "data.is_undirected()"
   ]
  },
  {
   "cell_type": "code",
   "execution_count": 185,
   "metadata": {},
   "outputs": [
    {
     "data": {
      "text/plain": [
       "Data(edge_index=[2, 136909], x=[66849, 1], train_mask=[66849], y=[66849], node_type=[66849], edge_type=[136909])"
      ]
     },
     "execution_count": 185,
     "metadata": {},
     "output_type": "execute_result"
    }
   ],
   "source": [
    "homogeneous_data = data.to_homogeneous()\n",
    "homogeneous_data"
   ]
  },
  {
   "cell_type": "code",
   "execution_count": 186,
   "metadata": {},
   "outputs": [
    {
     "data": {
      "text/plain": [
       "HeteroData(\n",
       "  \u001b[1mplaylist\u001b[0m={\n",
       "    x=[1000, 1],\n",
       "    train_mask=[1000],\n",
       "    y=[1000]\n",
       "  },\n",
       "  \u001b[1mtrack\u001b[0m={ x=[35289, 1] },\n",
       "  \u001b[1martist\u001b[0m={ x=[10091, 1] },\n",
       "  \u001b[1malbum\u001b[0m={ x=[20469, 1] },\n",
       "  \u001b[1m(playlist, contains, track)\u001b[0m={ edge_index=[2, 66331] },\n",
       "  \u001b[1m(album, includes, track)\u001b[0m={ edge_index=[2, 35289] },\n",
       "  \u001b[1m(artist, authors, track)\u001b[0m={ edge_index=[2, 35289] }\n",
       ")"
      ]
     },
     "execution_count": 186,
     "metadata": {},
     "output_type": "execute_result"
    }
   ],
   "source": [
    "data"
   ]
  },
  {
   "cell_type": "code",
   "execution_count": 187,
   "metadata": {},
   "outputs": [],
   "source": [
    "import torch_geometric.transforms as T\n",
    "\n",
    "if not data.is_undirected():\n",
    "    data = T.ToUndirected()(data)\n",
    "# data = T.NormalizeFeatures()(data)\n",
    "if data.has_isolated_nodes():\n",
    "    data = T.RemoveIsolatedNodes()(data)"
   ]
  },
  {
   "cell_type": "code",
   "execution_count": 188,
   "metadata": {},
   "outputs": [
    {
     "data": {
      "text/plain": [
       "(True, False)"
      ]
     },
     "execution_count": 188,
     "metadata": {},
     "output_type": "execute_result"
    }
   ],
   "source": [
    "data.is_undirected(), data.has_isolated_nodes()"
   ]
  },
  {
   "cell_type": "code",
   "execution_count": 189,
   "metadata": {},
   "outputs": [
    {
     "data": {
      "text/plain": [
       "HeteroData(\n",
       "  \u001b[1mplaylist\u001b[0m={\n",
       "    x=[1000, 1],\n",
       "    train_mask=[1000],\n",
       "    y=[1000]\n",
       "  },\n",
       "  \u001b[1mtrack\u001b[0m={ x=[35289, 1] },\n",
       "  \u001b[1martist\u001b[0m={ x=[10091, 1] },\n",
       "  \u001b[1malbum\u001b[0m={ x=[20469, 1] },\n",
       "  \u001b[1m(playlist, contains, track)\u001b[0m={ edge_index=[2, 66331] },\n",
       "  \u001b[1m(album, includes, track)\u001b[0m={ edge_index=[2, 35289] },\n",
       "  \u001b[1m(artist, authors, track)\u001b[0m={ edge_index=[2, 35289] },\n",
       "  \u001b[1m(track, rev_contains, playlist)\u001b[0m={ edge_index=[2, 66331] },\n",
       "  \u001b[1m(track, rev_includes, album)\u001b[0m={ edge_index=[2, 35289] },\n",
       "  \u001b[1m(track, rev_authors, artist)\u001b[0m={ edge_index=[2, 35289] }\n",
       ")"
      ]
     },
     "execution_count": 189,
     "metadata": {},
     "output_type": "execute_result"
    }
   ],
   "source": [
    "data"
   ]
  },
  {
   "cell_type": "code",
   "execution_count": 190,
   "metadata": {},
   "outputs": [],
   "source": [
    "import torch_geometric.transforms as T\n",
    "from torch_geometric.datasets import OGB_MAG\n",
    "from torch_geometric.nn import SAGEConv, to_hetero\n",
    "import torch\n",
    "import torch.nn.functional as F\n",
    "\n",
    "class GNN(torch.nn.Module):\n",
    "    def __init__(self, hidden_channels):\n",
    "        super().__init__()\n",
    "        self.conv1 = SAGEConv((-1, -1), hidden_channels)\n",
    "        self.conv2 = SAGEConv((-1, -1), hidden_channels)\n",
    "\n",
    "    def forward(self, x, edge_index):\n",
    "        x = self.conv1(x, edge_index).relu()\n",
    "        x = self.conv2(x, edge_index)\n",
    "        return x\n",
    "    \n",
    "class LinkPredictor(torch.nn.Module):\n",
    "    def forward(self, x_playlist, x_track, playlist_track_edge):\n",
    "        playlist_embedding = x_playlist[playlist_track_edge[0]]\n",
    "        track_embedding = x_track[playlist_track_edge[1]]\n",
    "\n",
    "        # Apply dot-product to get a prediction per supervision edge:\n",
    "        return (playlist_embedding * track_embedding).sum(dim=-1)\n",
    "\n",
    "class HeteroModel(torch.nn.Module):\n",
    "    def __init__(self, hidden_channels, node_features, metadata):\n",
    "        super().__init__()\n",
    "        # Since the dataset does not come with rich features, we also learn two\n",
    "        # embedding matrices for users and movies:\n",
    "        \n",
    "        self.node_lin = {\n",
    "            k: torch.nn.Linear(v.shape[1], hidden_channels) for k, v in node_features.items()\n",
    "        }\n",
    "        \n",
    "        # Instantiate homogeneous GNN:\n",
    "        self.gnn = GNN(hidden_channels)\n",
    "        # Convert GNN model into a heterogeneous variant:\n",
    "        self.gnn = to_hetero(self.gnn, metadata=metadata)\n",
    "\n",
    "        self.classifier = LinkPredictor()\n",
    "\n",
    "    def forward(self, data):\n",
    "        x_dict = {\n",
    "            k: self.node_lin[k](v) for k, v in data.x_dict.items()\n",
    "        }\n",
    "        \n",
    "        x_dict = self.gnn(x_dict, data.edge_index_dict)\n",
    "        pred = self.classifier(\n",
    "            x_dict[\"playlist\"],\n",
    "            x_dict[\"track\"],\n",
    "            data[\"playlist\", \"contains\", \"track\"].edge_index,\n",
    "        )\n",
    "        return pred\n",
    "\n",
    "\n",
    "model = HeteroModel(64, data.x_dict, data.metadata())\n",
    "# model = model.to('cuda:0')"
   ]
  },
  {
   "cell_type": "code",
   "execution_count": 191,
   "metadata": {},
   "outputs": [],
   "source": [
    "optimizer = torch.optim.Adam(model.parameters(), lr=0.01)"
   ]
  },
  {
   "cell_type": "code",
   "execution_count": 192,
   "metadata": {},
   "outputs": [
    {
     "data": {
      "text/plain": [
       "True"
      ]
     },
     "execution_count": 192,
     "metadata": {},
     "output_type": "execute_result"
    }
   ],
   "source": [
    "data.validate()"
   ]
  },
  {
   "cell_type": "code",
   "execution_count": 193,
   "metadata": {},
   "outputs": [
    {
     "data": {
      "text/plain": [
       "HeteroData(\n",
       "  \u001b[1mplaylist\u001b[0m={\n",
       "    x=[1000, 1],\n",
       "    train_mask=[1000],\n",
       "    y=[1000]\n",
       "  },\n",
       "  \u001b[1mtrack\u001b[0m={ x=[35289, 1] },\n",
       "  \u001b[1martist\u001b[0m={ x=[10091, 1] },\n",
       "  \u001b[1malbum\u001b[0m={ x=[20469, 1] },\n",
       "  \u001b[1m(playlist, contains, track)\u001b[0m={ edge_index=[2, 66331] },\n",
       "  \u001b[1m(album, includes, track)\u001b[0m={ edge_index=[2, 35289] },\n",
       "  \u001b[1m(artist, authors, track)\u001b[0m={ edge_index=[2, 35289] },\n",
       "  \u001b[1m(track, rev_contains, playlist)\u001b[0m={ edge_index=[2, 66331] },\n",
       "  \u001b[1m(track, rev_includes, album)\u001b[0m={ edge_index=[2, 35289] },\n",
       "  \u001b[1m(track, rev_authors, artist)\u001b[0m={ edge_index=[2, 35289] }\n",
       ")"
      ]
     },
     "execution_count": 193,
     "metadata": {},
     "output_type": "execute_result"
    }
   ],
   "source": [
    "data"
   ]
  },
  {
   "cell_type": "code",
   "execution_count": 194,
   "metadata": {},
   "outputs": [],
   "source": [
    "import torch_geometric.transforms as T\n",
    "\n",
    "transform = T.RandomLinkSplit(\n",
    "    num_val=0.1,\n",
    "    num_test=0.1,\n",
    "    disjoint_train_ratio=0.3,\n",
    "    neg_sampling_ratio=2.0,\n",
    "    add_negative_train_samples=False,\n",
    "    edge_types=(\"playlist\", \"contains\", \"track\"),\n",
    "    rev_edge_types=(\"track\", \"rev_contains\", \"playlist\"), \n",
    ")\n",
    "\n",
    "train_data, val_data, test_data = transform(data)"
   ]
  },
  {
   "cell_type": "code",
   "execution_count": 195,
   "metadata": {},
   "outputs": [
    {
     "data": {
      "text/plain": [
       "HeteroData(\n",
       "  \u001b[1mplaylist\u001b[0m={\n",
       "    x=[1000, 1],\n",
       "    train_mask=[1000],\n",
       "    y=[1000]\n",
       "  },\n",
       "  \u001b[1mtrack\u001b[0m={ x=[35289, 1] },\n",
       "  \u001b[1martist\u001b[0m={ x=[10091, 1] },\n",
       "  \u001b[1malbum\u001b[0m={ x=[20469, 1] },\n",
       "  \u001b[1m(playlist, contains, track)\u001b[0m={\n",
       "    edge_index=[2, 37146],\n",
       "    edge_label=[15919],\n",
       "    edge_label_index=[2, 15919]\n",
       "  },\n",
       "  \u001b[1m(album, includes, track)\u001b[0m={ edge_index=[2, 35289] },\n",
       "  \u001b[1m(artist, authors, track)\u001b[0m={ edge_index=[2, 35289] },\n",
       "  \u001b[1m(track, rev_contains, playlist)\u001b[0m={ edge_index=[2, 37146] },\n",
       "  \u001b[1m(track, rev_includes, album)\u001b[0m={ edge_index=[2, 35289] },\n",
       "  \u001b[1m(track, rev_authors, artist)\u001b[0m={ edge_index=[2, 35289] }\n",
       ")"
      ]
     },
     "execution_count": 195,
     "metadata": {},
     "output_type": "execute_result"
    }
   ],
   "source": [
    "train_data"
   ]
  },
  {
   "cell_type": "code",
   "execution_count": 196,
   "metadata": {},
   "outputs": [],
   "source": [
    "from torch_geometric.loader import LinkNeighborLoader\n",
    "\n",
    "edge_label_index = train_data[\"playlist\", \"contains\", \"track\"].edge_label_index\n",
    "edge_label = train_data[\"playlist\", \"contains\", \"track\"].edge_label\n",
    "train_loader = LinkNeighborLoader(\n",
    "    data=train_data,\n",
    "    num_neighbors=[20, 10],\n",
    "    neg_sampling_ratio=2.0,\n",
    "    edge_label_index=((\"playlist\", \"contains\", \"track\"), edge_label_index),\n",
    "    edge_label=edge_label,\n",
    "    batch_size=128,\n",
    "    shuffle=True,\n",
    ")\n",
    "\n",
    "batch = next(iter(train_loader))"
   ]
  },
  {
   "cell_type": "code",
   "execution_count": 204,
   "metadata": {},
   "outputs": [
    {
     "data": {
      "text/plain": [
       "HeteroData(\n",
       "  \u001b[1mplaylist\u001b[0m={\n",
       "    x=[913, 1],\n",
       "    train_mask=[913],\n",
       "    y=[913]\n",
       "  },\n",
       "  \u001b[1mtrack\u001b[0m={ x=[8496, 1] },\n",
       "  \u001b[1martist\u001b[0m={ x=[2513, 1] },\n",
       "  \u001b[1malbum\u001b[0m={ x=[3886, 1] },\n",
       "  \u001b[1m(playlist, contains, track)\u001b[0m={\n",
       "    edge_index=[2, 11873],\n",
       "    edge_label=[384],\n",
       "    edge_label_index=[2, 384],\n",
       "    input_id=[128]\n",
       "  },\n",
       "  \u001b[1m(album, includes, track)\u001b[0m={ edge_index=[2, 5010] },\n",
       "  \u001b[1m(artist, authors, track)\u001b[0m={ edge_index=[2, 5010] },\n",
       "  \u001b[1m(track, rev_contains, playlist)\u001b[0m={ edge_index=[2, 7601] },\n",
       "  \u001b[1m(track, rev_includes, album)\u001b[0m={ edge_index=[2, 1293] },\n",
       "  \u001b[1m(track, rev_authors, artist)\u001b[0m={ edge_index=[2, 2205] }\n",
       ")"
      ]
     },
     "execution_count": 204,
     "metadata": {},
     "output_type": "execute_result"
    }
   ],
   "source": [
    "batch"
   ]
  },
  {
   "cell_type": "code",
   "execution_count": 200,
   "metadata": {},
   "outputs": [],
   "source": [
    "def train():\n",
    "    model.train()\n",
    "\n",
    "    total_examples = total_loss = 0\n",
    "    for batch in train_loader:\n",
    "        optimizer.zero_grad()\n",
    "        # batch = batch.to('cuda:0')\n",
    "        batch_size = 100\n",
    "        out = model(batch)\n",
    "        loss = F.cross_entropy(out,\n",
    "                               batch[\"playlist\", \"contains\", \"track\"].edge_label)\n",
    "        loss.backward()\n",
    "        optimizer.step()\n",
    "\n",
    "        total_examples += batch_size\n",
    "        print(f'Loss: {loss:.4f}')\n",
    "        total_loss += float(loss) * batch_size\n",
    "\n",
    "    return total_loss / total_examples"
   ]
  },
  {
   "cell_type": "code",
   "execution_count": 201,
   "metadata": {},
   "outputs": [
    {
     "ename": "AttributeError",
     "evalue": "'NodeStorage' object has no attribute 'batch_size'",
     "output_type": "error",
     "traceback": [
      "\u001b[0;31m---------------------------------------------------------------------------\u001b[0m",
      "\u001b[0;31mKeyError\u001b[0m                                  Traceback (most recent call last)",
      "File \u001b[0;32m~/jupyter-server/venv/lib/python3.10/site-packages/torch_geometric/data/storage.py:62\u001b[0m, in \u001b[0;36mBaseStorage.__getattr__\u001b[0;34m(self, key)\u001b[0m\n\u001b[1;32m     61\u001b[0m \u001b[39mtry\u001b[39;00m:\n\u001b[0;32m---> 62\u001b[0m     \u001b[39mreturn\u001b[39;00m \u001b[39mself\u001b[39;49m[key]\n\u001b[1;32m     63\u001b[0m \u001b[39mexcept\u001b[39;00m \u001b[39mKeyError\u001b[39;00m:\n",
      "File \u001b[0;32m~/jupyter-server/venv/lib/python3.10/site-packages/torch_geometric/data/storage.py:85\u001b[0m, in \u001b[0;36mBaseStorage.__getitem__\u001b[0;34m(self, key)\u001b[0m\n\u001b[1;32m     84\u001b[0m \u001b[39mdef\u001b[39;00m \u001b[39m__getitem__\u001b[39m(\u001b[39mself\u001b[39m, key: \u001b[39mstr\u001b[39m) \u001b[39m-\u001b[39m\u001b[39m>\u001b[39m Any:\n\u001b[0;32m---> 85\u001b[0m     \u001b[39mreturn\u001b[39;00m \u001b[39mself\u001b[39;49m\u001b[39m.\u001b[39;49m_mapping[key]\n",
      "\u001b[0;31mKeyError\u001b[0m: 'batch_size'",
      "\nDuring handling of the above exception, another exception occurred:\n",
      "\u001b[0;31mAttributeError\u001b[0m                            Traceback (most recent call last)",
      "Cell \u001b[0;32mIn[201], line 1\u001b[0m\n\u001b[0;32m----> 1\u001b[0m train()\n",
      "Cell \u001b[0;32mIn[200], line 8\u001b[0m, in \u001b[0;36mtrain\u001b[0;34m()\u001b[0m\n\u001b[1;32m      6\u001b[0m optimizer\u001b[39m.\u001b[39mzero_grad()\n\u001b[1;32m      7\u001b[0m \u001b[39m# batch = batch.to('cuda:0')\u001b[39;00m\n\u001b[0;32m----> 8\u001b[0m batch_size \u001b[39m=\u001b[39m batch[\u001b[39m'\u001b[39;49m\u001b[39mplaylist\u001b[39;49m\u001b[39m'\u001b[39;49m]\u001b[39m.\u001b[39;49mbatch_size\n\u001b[1;32m      9\u001b[0m out \u001b[39m=\u001b[39m model(batch)\n\u001b[1;32m     10\u001b[0m loss \u001b[39m=\u001b[39m F\u001b[39m.\u001b[39mcross_entropy(out[\u001b[39m'\u001b[39m\u001b[39mplaylist\u001b[39m\u001b[39m'\u001b[39m][:batch_size],\n\u001b[1;32m     11\u001b[0m                        batch[\u001b[39m'\u001b[39m\u001b[39mplaylist\u001b[39m\u001b[39m'\u001b[39m]\u001b[39m.\u001b[39my[:batch_size])\n",
      "File \u001b[0;32m~/jupyter-server/venv/lib/python3.10/site-packages/torch_geometric/data/storage.py:64\u001b[0m, in \u001b[0;36mBaseStorage.__getattr__\u001b[0;34m(self, key)\u001b[0m\n\u001b[1;32m     62\u001b[0m     \u001b[39mreturn\u001b[39;00m \u001b[39mself\u001b[39m[key]\n\u001b[1;32m     63\u001b[0m \u001b[39mexcept\u001b[39;00m \u001b[39mKeyError\u001b[39;00m:\n\u001b[0;32m---> 64\u001b[0m     \u001b[39mraise\u001b[39;00m \u001b[39mAttributeError\u001b[39;00m(\n\u001b[1;32m     65\u001b[0m         \u001b[39mf\u001b[39m\u001b[39m\"\u001b[39m\u001b[39m'\u001b[39m\u001b[39m{\u001b[39;00m\u001b[39mself\u001b[39m\u001b[39m.\u001b[39m\u001b[39m__class__\u001b[39m\u001b[39m.\u001b[39m\u001b[39m__name__\u001b[39m\u001b[39m}\u001b[39;00m\u001b[39m'\u001b[39m\u001b[39m object has no attribute \u001b[39m\u001b[39m'\u001b[39m\u001b[39m{\u001b[39;00mkey\u001b[39m}\u001b[39;00m\u001b[39m'\u001b[39m\u001b[39m\"\u001b[39m)\n",
      "\u001b[0;31mAttributeError\u001b[0m: 'NodeStorage' object has no attribute 'batch_size'"
     ]
    }
   ],
   "source": [
    "train()"
   ]
  }
 ],
 "metadata": {
  "kernelspec": {
   "display_name": "Python 3 (ipykernel)",
   "language": "python",
   "name": "python3"
  },
  "language_info": {
   "codemirror_mode": {
    "name": "ipython",
    "version": 3
   },
   "file_extension": ".py",
   "mimetype": "text/x-python",
   "name": "python",
   "nbconvert_exporter": "python",
   "pygments_lexer": "ipython3",
   "version": "3.10.8"
  },
  "orig_nbformat": 4
 },
 "nbformat": 4,
 "nbformat_minor": 2
}
