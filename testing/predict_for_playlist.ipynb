{
 "cells": [
  {
   "cell_type": "code",
   "execution_count": 1,
   "metadata": {},
   "outputs": [],
   "source": [
    "import sys, os.path as op\n",
    "sys.path.insert(0, '/home/yon/jupyter-server/mlg/src/')"
   ]
  },
  {
   "cell_type": "code",
   "execution_count": 2,
   "metadata": {},
   "outputs": [
    {
     "name": "stdout",
     "output_type": "stream",
     "text": [
      "carloss62.pkl\t      ghetero_example.pkl     top-ghetero-1000.pkl\n",
      "carloss66.pkl\t      ghetero.pkl\t      top-ghetero-5000-fixed-maybe.pkl\n",
      "carloss72.pkl\t      G.pkl\t\t      top-ghetero-5000.pkl\n",
      "datasets_example.pkl  index.pkl\t\t      top-idx-1000.pkl\n",
      "datasets.pkl\t      top-G-1000_example.pkl  top-idx-5000.pkl\n",
      "deleteme.pkl\t      top-G-1000.pkl\n",
      "G_example.pkl\t      top-G-5000.pkl\n"
     ]
    }
   ],
   "source": [
    "source_dir = \"spotify_million_playlist_dataset/pickles\"\n",
    "!ls spotify_million_playlist_dataset/pickles"
   ]
  },
  {
   "cell_type": "code",
   "execution_count": 3,
   "metadata": {},
   "outputs": [],
   "source": [
    "import pickle\n",
    "from model import *\n",
    "graph = pickle.load(open(op.join(source_dir, \"top-ghetero-5000.pkl\"), \"rb\"))\n",
    "model = pickle.load(open(op.join(source_dir, \"carloss72.pkl\"), \"rb\"))\n",
    "name_to_id = pickle.load(open(op.join(source_dir, \"top-idx-5000.pkl\"), \"rb\"))\n",
    "id_to_name = {T: {v : k for k, v in dictionary.items()} for T, dictionary in name_to_id.items()}\n",
    "index = pickle.load(open(op.join(source_dir, \"index.pkl\"), \"rb\"))"
   ]
  },
  {
   "cell_type": "code",
   "execution_count": 4,
   "metadata": {},
   "outputs": [],
   "source": [
    "import torch\n",
    "\n",
    "def count_unique_connections(graph, edge_type, position=1):\n",
    "    return len(torch.unique(graph[edge_type].edge_index[position, :], dim=0))\n",
    "\n",
    "def add_playlist(graph, playlist, exceptions=True):\n",
    "    # Set new playlist id\n",
    "    playlist_id = len(graph[\"playlist\"].x)\n",
    "\n",
    "    # Expected playlist parameters\n",
    "    key_defaults = {\n",
    "        \"num_followers\": 0,\n",
    "        \"collaborative\": False,\n",
    "        \"num_edits\": 0,\n",
    "        \"tracks\": []\n",
    "    }\n",
    "\n",
    "    # Set default values for missing parameters\n",
    "    playlist = {**key_defaults, **playlist}\n",
    "\n",
    "    # Count unique elements\n",
    "    playlist[\"num_tracks\"] = len(playlist[\"tracks\"])\n",
    "    playlist[\"num_artists\"] = count_unique_connections(graph, (\"track\", \"authors\", \"artist\"))\n",
    "    playlist[\"num_albums\"] = count_unique_connections(graph, (\"track\", \"includes\", \"album\"))\n",
    "\n",
    "    # Sum durations\n",
    "    playlist[\"duration_ms\"] = sum([graph[\"track\"].x[track_id][0] for track_id in playlist[\"tracks\"]])\n",
    "\n",
    "    # Extract playlist embedding\n",
    "    playlist_embedding_array = [playlist[\"num_followers\"], playlist[\"collaborative\"], playlist[\"num_albums\"], playlist[\"num_tracks\"], playlist[\"num_edits\"], playlist[\"duration_ms\"], playlist[\"num_artists\"]]\n",
    "    playlist_embedding = torch.FloatTensor(playlist_embedding_array).reshape(1, -1)\n",
    "\n",
    "    # Add playlist to graph\n",
    "    graph[\"playlist\"].x = torch.cat((graph[\"playlist\"].x, playlist_embedding), dim=0)\n",
    "\n",
    "    # Add track to playlist connections\n",
    "    for track_id in playlist[\"tracks\"]:\n",
    "        graph[\"track\", \"contains\", \"playlist\"].edge_index = torch.cat((graph[\"track\", \"contains\", \"playlist\"].edge_index, torch.LongTensor([[track_id], [playlist_id]])), dim=1)\n",
    "\n",
    "        track_artist_index = graph[\"track\", \"authors\", \"artist\"].edge_index[0, :].eq(track_id).nonzero()\n",
    "        if track_artist_index.size(0) == 0:\n",
    "            if exceptions:\n",
    "                raise Exception(\"Track {} has no artist\".format(track_id))\n",
    "        else:\n",
    "            artist_id = graph[\"track\", \"authors\", \"artist\"].edge_index[1, track_artist_index]\n",
    "            artist_id = artist_id if artist_id.dim() == 0 else artist_id[0]\n",
    "            graph[\"track\", \"authors\", \"artist\"].edge_index = torch.cat((graph[\"track\", \"authors\", \"artist\"].edge_index, torch.LongTensor([[track_id], [artist_id]])), dim=1)\n",
    "        \n",
    "\n",
    "        track_album_index = graph[\"track\", \"includes\", \"album\"].edge_index[0, :].eq(track_id).nonzero()\n",
    "        if track_album_index.size(0) == 0:\n",
    "            if exceptions:\n",
    "                raise Exception(\"Track {} has no album\".format(track_id))\n",
    "        else:\n",
    "            album_id = graph[\"track\", \"includes\", \"album\"].edge_index[1, track_album_index]\n",
    "            album_id = album_id if album_id.dim() == 0 else album_id[0]\n",
    "            graph[\"track\", \"includes\", \"album\"].edge_index = torch.cat((graph[\"track\", \"includes\", \"album\"].edge_index, torch.LongTensor([[track_id], [album_id]])), dim=1)\n",
    "\n",
    "    # Construct index of all track connections to new playlist for prediction\n",
    "    track_ids = torch.LongTensor([i for i in range(len(graph[\"track\"].x))])\n",
    "    playlist_ids = torch.LongTensor([playlist_id] * len(graph[\"track\"].x))\n",
    "    new_playlist_tracks_edge_index = torch.cat((track_ids.reshape(1, -1), playlist_ids.reshape(1, -1)), dim=0)\n",
    "    graph[\"track\", \"contains\", \"playlist\"].edge_label_index = new_playlist_tracks_edge_index"
   ]
  },
  {
   "cell_type": "code",
   "execution_count": 5,
   "metadata": {},
   "outputs": [
    {
     "name": "stdout",
     "output_type": "stream",
     "text": [
      "Could not find 0 tracks out of 39\n"
     ]
    }
   ],
   "source": [
    "# Set playlist tracks by name\n",
    "tracks_names = ['spotify:track:5mMxriCaSYyZopQDPYkyqT',\n",
    "  'spotify:track:0I9KnKdIVz8envRSA6yGZL',\n",
    "  'spotify:track:0FWhGmPVxLI6jOVF0wjALa',\n",
    "  'spotify:track:2yNWwardt8VzlpNBWrGYD6',\n",
    "  'spotify:track:159wbQ5j11xBszXYFym04u',\n",
    "  'spotify:track:1Jm1I3APcmVz3MqPr5vfTx',\n",
    "  'spotify:track:3R97rNX7JnmshCWBwOSFet',\n",
    "  'spotify:track:1AwJGxWNl5n8O2CSlvPKYL',\n",
    "  'spotify:track:5GorFaKkP2mLREQvhSblIg',\n",
    "  'spotify:track:29z6nESQsLBgtJkUXOJvGN',\n",
    "  'spotify:track:3koCCeSaVUyrRo3N2gHrd8',\n",
    "  'spotify:track:5lA3pwMkBdd24StM90QrNR',\n",
    "  'spotify:track:5D9Nw6HyFH0k40X8RxHfD6',\n",
    "  'spotify:track:1JClFT74TYSXlzpagbmj0S',\n",
    "  'spotify:track:0DBIL8arX0Zo6eAuxNIpik',\n",
    "  'spotify:track:2RqZFOLOnzVmHUX7ZMcaES',\n",
    "  'spotify:track:4tVEJTR4VgBvvb2R6phA2v',\n",
    "  'spotify:track:0sKlV58cODrjxGFOyf9IXY',\n",
    "  'spotify:track:6b8Be6ljOzmkOmFslEb23P',\n",
    "  'spotify:track:3M5eeHXgG4VplKNcsBC8Dj',\n",
    "  'spotify:track:6X4JeTWCuKEzKOEHXDtyBo',\n",
    "  'spotify:track:5DuTNKFEjJIySAyJH1yNDU',\n",
    "  'spotify:track:3G6hxSp260RzGw4sOiDOQ3',\n",
    "  'spotify:track:1aWV3uY3SIEZVbmv45oFWS',\n",
    "  'spotify:track:6m59VvDUi0UQsB2eZ9wVbH',\n",
    "  'spotify:track:1v0ufp7FLTFcykUGOmFZKa',\n",
    "  'spotify:track:5W4vPDfwFNQqt7frRjL41t',\n",
    "  'spotify:track:161DnLWsx1i3u1JT05lzqU',\n",
    "  'spotify:track:0KKkJNfGyhkQ5aFogxQAPU',\n",
    "  'spotify:track:5BLBpcQLF54Lxg3ufn1GCT',\n",
    "  'spotify:track:7J41dYQolQJEtj3UmKLu5r',\n",
    "  'spotify:track:3l3xTXsUXeWlkPqzMs7mPD',\n",
    "  'spotify:track:2dCmGcEOQrMQhMMS8Vj7Ca',\n",
    "  'spotify:track:5lXcSvHRVjQJ3LB2rLKQog',\n",
    "  'spotify:track:5wiu4PUC6CLNNbC48vqGOb',\n",
    "  'spotify:track:1OsCKwNZxph96EkNusILRy',\n",
    "  'spotify:track:5ChkMS8OtdzJeqyybCc9R5',\n",
    "  'spotify:track:3eRsSIhorhBnLrsy2uhM8r',\n",
    "  'spotify:track:0nyrltZrQGAJMBZc1bYvuQ']\n",
    "track_ids = [name_to_id[\"track\"][name] for name in tracks_names if name in name_to_id[\"track\"]]\n",
    "print(\"Could not find {} tracks out of {}\".format(len(tracks_names) - len(track_ids), len(tracks_names)))\n",
    "\n",
    "# Add playlist and set track connections for prediction\n",
    "graph.to(\"cpu\")\n",
    "add_playlist(graph, {\n",
    "    \"collaborative\": False,\n",
    "    \"num_edits\": 0,\n",
    "    \"num_followers\": 0,\n",
    "    \"tracks\": track_ids\n",
    "}, exceptions=False)"
   ]
  },
  {
   "cell_type": "code",
   "execution_count": 6,
   "metadata": {},
   "outputs": [],
   "source": [
    "# predict track connections\n",
    "device = torch.device(\"cuda\" if torch.cuda.is_available() else \"cpu\")\n",
    "model = model.to(device)\n",
    "graph = graph.to(device)\n",
    "with torch.no_grad():\n",
    "    pred = model(graph)\n",
    "    \n",
    "    # get top 10 predictions\n",
    "    most_likely = torch.topk(pred, 10, dim=0)\n",
    "\n",
    "    # get worst 10\n",
    "    most_unlikely = torch.topk(pred, 10, dim=0, largest=False)"
   ]
  },
  {
   "cell_type": "code",
   "execution_count": 7,
   "metadata": {},
   "outputs": [
    {
     "data": {
      "text/plain": [
       "[(\"It's A Vibe\", 'spotify:track:6H0AwSQ20mo62jGlPGB8S6'),\n",
       " ('King Kunta', 'spotify:track:0N3W5peJUQtI4eyR6GJT5O'),\n",
       " ('Iris', 'spotify:track:6Qyc6fS4DsZjB2mRW9DsQs'),\n",
       " ('Work from Home', 'spotify:track:4tCtwWceOPWzenK2HAIJSb'),\n",
       " ('Fight Song', 'spotify:track:37f4ITSlgPX81ad2EvmVQr'),\n",
       " ('Hey Mama (feat. Nicki Minaj, Bebe Rexha & Afrojack)',\n",
       "  'spotify:track:285HeuLxsngjFn4GGegGNm'),\n",
       " ('Hymn For The Weekend - Seeb Remix', 'spotify:track:1OAiWI2oPmglaOiv9fdioU'),\n",
       " ('Cheap Thrills', 'spotify:track:27SdWb2rFzO6GWiYDBTD9j'),\n",
       " ('Rude', 'spotify:track:6RtPijgfPKROxEzTHNRiDp'),\n",
       " ('All I Want', 'spotify:track:5JuA3wlm0kn7IHfbeHV0i6')]"
      ]
     },
     "execution_count": 7,
     "metadata": {},
     "output_type": "execute_result"
    }
   ],
   "source": [
    "# Best\n",
    "[(index[\"track\"][id_to_name[\"track\"][track_id.item()].split(\":\")[-1]], id_to_name[\"track\"][track_id.item()]) for track_id in most_likely.indices]"
   ]
  },
  {
   "cell_type": "code",
   "execution_count": 8,
   "metadata": {},
   "outputs": [
    {
     "data": {
      "text/plain": [
       "[('Motets for 4 Voices, Book 2: Sicut cervus',\n",
       "  'spotify:track:5xkrA4nf1k3gm0LS0ILa1x'),\n",
       " ('Hal', 'spotify:track:69qVjSZc2yDnj5TeFxSLpW'),\n",
       " ('Give Jah Glory', 'spotify:track:5eJneUnQneHSGkxCKBINZ0'),\n",
       " ('Tema a Lo Clan', 'spotify:track:5VlnqsgDtvGUmf5spvayAq'),\n",
       " ('Eniaro', 'spotify:track:4PzXygnUYEOPPnc5J3Z5Cy'),\n",
       " ('The Line (Hi Fi Bros) - Original', 'spotify:track:5m6mXRfOcdGEfQGwsGIqFj'),\n",
       " ('Aquarius', 'spotify:track:5blhQziDkdpy2pQYxoT97Y'),\n",
       " ('Invisible Prisons', 'spotify:track:52QLeW0S1iz9fhUIzfTCaN'),\n",
       " ('Spin', 'spotify:track:6Z1tVFiGHuN6JYWCVmHow6'),\n",
       " ('Twin Rays - Worst Friend Remix', 'spotify:track:72lqDdnhND0wLoqFtAIElO')]"
      ]
     },
     "execution_count": 8,
     "metadata": {},
     "output_type": "execute_result"
    }
   ],
   "source": [
    "# Worst\n",
    "[(index[\"track\"][id_to_name[\"track\"][track_id.item()].split(\":\")[-1]], id_to_name[\"track\"][track_id.item()]) for track_id in most_unlikely.indices]"
   ]
  }
 ],
 "metadata": {
  "kernelspec": {
   "display_name": "Python 3 (ipykernel)",
   "language": "python",
   "name": "python3"
  },
  "language_info": {
   "codemirror_mode": {
    "name": "ipython",
    "version": 3
   },
   "file_extension": ".py",
   "mimetype": "text/x-python",
   "name": "python",
   "nbconvert_exporter": "python",
   "pygments_lexer": "ipython3",
   "version": "3.10.8"
  },
  "orig_nbformat": 4
 },
 "nbformat": 4,
 "nbformat_minor": 2
}
