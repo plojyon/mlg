{
 "cells": [
  {
   "attachments": {},
   "cell_type": "markdown",
   "metadata": {},
   "source": [
    "In this project, we will train a GNN to perform link prediction on a heterogenous graph from the Spotify Million Playlists dataset."
   ]
  },
  {
   "attachments": {},
   "cell_type": "markdown",
   "metadata": {},
   "source": [
    "# Import libraries"
   ]
  },
  {
   "cell_type": "code",
   "execution_count": 13,
   "metadata": {},
   "outputs": [
    {
     "name": "stdout",
     "output_type": "stream",
     "text": [
      "Requirement already satisfied: numpy in ./venv/lib64/python3.10/site-packages (1.24.2)\n",
      "Requirement already satisfied: iprogress in ./venv/lib/python3.10/site-packages (0.4)\n",
      "Requirement already satisfied: tqdm in ./venv/lib/python3.10/site-packages (4.64.1)\n",
      "Requirement already satisfied: networkx in ./venv/lib/python3.10/site-packages (3.0)\n",
      "Requirement already satisfied: torch_geometric in ./venv/lib/python3.10/site-packages (2.2.0)\n",
      "Requirement already satisfied: torch_scatter in ./venv/lib64/python3.10/site-packages (2.1.0+pt113cu116)\n",
      "Requirement already satisfied: six in ./venv/lib/python3.10/site-packages (from iprogress) (1.16.0)\n",
      "Requirement already satisfied: scipy in ./venv/lib64/python3.10/site-packages (from torch_geometric) (1.10.1)\n",
      "Requirement already satisfied: requests in ./venv/lib/python3.10/site-packages (from torch_geometric) (2.28.2)\n",
      "Requirement already satisfied: psutil>=5.8.0 in ./venv/lib64/python3.10/site-packages (from torch_geometric) (5.9.4)\n",
      "Requirement already satisfied: jinja2 in ./venv/lib/python3.10/site-packages (from torch_geometric) (3.1.2)\n",
      "Requirement already satisfied: scikit-learn in ./venv/lib64/python3.10/site-packages (from torch_geometric) (1.2.1)\n",
      "Requirement already satisfied: pyparsing in ./venv/lib/python3.10/site-packages (from torch_geometric) (3.0.9)\n",
      "Requirement already satisfied: MarkupSafe>=2.0 in ./venv/lib64/python3.10/site-packages (from jinja2->torch_geometric) (2.1.2)\n",
      "Requirement already satisfied: charset-normalizer<4,>=2 in ./venv/lib64/python3.10/site-packages (from requests->torch_geometric) (3.0.1)\n",
      "Requirement already satisfied: certifi>=2017.4.17 in ./venv/lib/python3.10/site-packages (from requests->torch_geometric) (2022.12.7)\n",
      "Requirement already satisfied: idna<4,>=2.5 in ./venv/lib/python3.10/site-packages (from requests->torch_geometric) (3.4)\n",
      "Requirement already satisfied: urllib3<1.27,>=1.21.1 in ./venv/lib/python3.10/site-packages (from requests->torch_geometric) (1.26.14)\n",
      "Requirement already satisfied: joblib>=1.1.1 in ./venv/lib/python3.10/site-packages (from scikit-learn->torch_geometric) (1.2.0)\n",
      "Requirement already satisfied: threadpoolctl>=2.0.0 in ./venv/lib/python3.10/site-packages (from scikit-learn->torch_geometric) (3.1.0)\n"
     ]
    }
   ],
   "source": [
    "!pip install numpy iprogress tqdm networkx torch_geometric torch_scatter\n",
    "import os\n",
    "import json\n",
    "import torch\n",
    "import numpy as np\n",
    "from tqdm import tqdm\n",
    "import networkx as nx\n",
    "import torch_geometric\n",
    "import torch_scatter"
   ]
  },
  {
   "cell_type": "code",
   "execution_count": 14,
   "metadata": {},
   "outputs": [],
   "source": [
    "# temporary imports (delete later)\n",
    "from pprint import pprint\n",
    "import pickle\n",
    "import sys\n",
    "import deepsnap\n",
    "\n",
    "# http://192.168.0.103:8888/?token=klobasa"
   ]
  },
  {
   "attachments": {},
   "cell_type": "markdown",
   "metadata": {},
   "source": [
    "# Configuration"
   ]
  },
  {
   "cell_type": "code",
   "execution_count": 9,
   "metadata": {},
   "outputs": [],
   "source": [
    "# config\n",
    "base = \"spotify_million_playlist_dataset\"\n",
    "pickles = base + \"/pickles\"\n",
    "\n",
    "# full dataset\n",
    "dataset_path = base + \"/data\"\n",
    "pickled_graph = pickles + \"/G.pkl\"\n",
    "pickled_dataset = pickles + \"/dataset.pkl\"\n",
    "\n",
    "# example dataset (override above)\n",
    "dataset_path = base + \"/example\"\n",
    "pickled_graph = pickles + \"/G_example.pkl\"\n",
    "pickled_dataset = pickles + \"/dataset_example.pkl\""
   ]
  },
  {
   "attachments": {},
   "cell_type": "markdown",
   "metadata": {},
   "source": [
    "# Load datasets"
   ]
  },
  {
   "cell_type": "code",
   "execution_count": null,
   "metadata": {},
   "outputs": [],
   "source": [
    "G = None\n",
    "def load_graph(dataset_path=dataset_path):\n",
    "    global G\n",
    "    filenames = os.listdir(dataset_path)\n",
    "    G = nx.Graph()\n",
    "    for i in tqdm(range(len(filenames)), unit=\"files\"):\n",
    "        with open(os.path.join(dataset_path, filenames[i])) as json_file:\n",
    "            playlists = json.load(json_file)[\"playlists\"]\n",
    "            for playlist in playlists:\n",
    "                playlist_name = f\"spotify:playlist:{playlist['pid']}\"\n",
    "                G.add_node(playlist_name, node_type=\"playlist\", num_followers=playlist[\"num_followers\"])\n",
    "                for track in playlist[\"tracks\"]:\n",
    "                    G.add_node(track[\"track_uri\"], node_type=\"track\", duration=track[\"duration_ms\"])\n",
    "                    G.add_node(track[\"album_uri\"], node_type=\"album\")\n",
    "                    G.add_node(track[\"artist_uri\"], node_type=\"artist\")\n",
    "\n",
    "                    G.add_edge(track[\"track_uri\"], playlist_name, edge_type=\"track-playlist\")\n",
    "                    G.add_edge(track[\"track_uri\"], track[\"album_uri\"], edge_type=\"track-album\")\n",
    "                    G.add_edge(track[\"track_uri\"], track[\"artist_uri\"], edge_type=\"track-artist\")\n",
    "    return G\n",
    "\n",
    "def nx2hetero(graph_getter):\n",
    "\tG = graph_getter()\n",
    "\tnode_types = set([node[1][\"node_type\"] for node in G.nodes(data=True)])\n",
    "\tnodes_by_type = dict()\n",
    "\tfor node_type in node_types:\n",
    "\t\tnodes_by_type[node_type] = [node[1] for node in list(G.nodes(data=True)) if node[1][\"node_type\"] == node_type][:10]\n",
    "\tnodes_by_type\n",
    "\n",
    "\t# build node index\n",
    "\tplaylists = []\n",
    "\ttracks = []\n",
    "\tnum_artists = 0\n",
    "\tnum_albums = 0\n",
    "\tfor node in G.nodes(data=True):\n",
    "\t\tt = node[1][\"node_type\"]\n",
    "\t\tif t == \"playlist\":\n",
    "\t\t\tplaylists += [node[1][\"num_followers\"]]\n",
    "\t\telif t == \"track\":\n",
    "\t\t\ttracks += [node[1][\"duration\"]]\n",
    "\t\telif t == \"artist\":\n",
    "\t\t\tnum_artists += 1\n",
    "\t\telif t == \"album\":\n",
    "\t\t\tnum_albums += 1\n",
    "\n",
    "\t# build edge_index\n",
    "\tplaylist_track = []\n",
    "\talbum_track = []\n",
    "\tartist_track = []\n",
    "\tfor node in G.edges(data=True):\n",
    "\t\tif G[node[0]][node[1]][\"edge_type\"] == \"track-playlist\":\n",
    "\t\t\tplaylist_track += [(name2int[node[0]], name2int[node[1]])]\n",
    "\t\telif G[node[0]][node[1]][\"edge_type\"] == \"track-album\":\n",
    "\t\t\talbum_track += [(name2int[node[0]], name2int[node[1]])]\n",
    "\t\telif G[node[0]][node[1]][\"edge_type\"] == \"track-artist\":\n",
    "\t\t\tartist_track += [(name2int[node[0]], name2int[node[1]])]\n",
    "\n",
    "\t# construct HeteroData\n",
    "\thetero = HeteroData()\n",
    "\t# hetero[\"playlist\"].x = torch.tensor(playlists)\n",
    "\t# hetero[\"track\"].x = torch.tensor(tracks)\n",
    "\t# hetero[\"artist\"].x = torch.tensor([1 for _ in range(num_artists)])\n",
    "\t# hetero[\"album\"].x = torch.tensor([1 for _ in range(num_albums)])\n",
    "\thetero[\"nodes\"].x = torch.tensor([1 for _ in range(len(G.nodes))])\n",
    "\n",
    "\thetero[\"playlist\", \"contains\", \"track\"].edge_index = torch.tensor(playlist_track).t()\n",
    "\thetero[\"album\", \"contains\", \"track\"].edge_index = torch.tensor(album_track).t()\n",
    "\thetero[\"artist\", \"writes\", \"track\"].edge_index = torch.tensor(artist_track).t()\n",
    "\treturn hetero\n",
    "\n",
    "def graph_to_dataset(graph_getter):\n",
    "    # hetero = nx2hetero(graph_getter)\n",
    "    print(\"Converting graph to DeepSnap dataset ...\")\n",
    "    graph = graph_getter()\n",
    "    dataset = deepsnap.dataset.GraphDataset(\n",
    "        [graph], task=\"link_pred\", edge_train_mode=\"disjoint\"\n",
    "    )\n",
    "    return dataset.split(\n",
    "        transductive=True, split_ratio=[0.7, 0.1, 0.2]\n",
    "    )\n",
    "\n",
    "def get_cached(var, pickled_filename, generator, *args, ignore_cache=True):\n",
    "    global G\n",
    "    if not ignore_cache and var in globals():\n",
    "        print(f\"{var} already loaded :)\")\n",
    "        return globals()[var]\n",
    "    elif not ignore_cache and os.path.exists(pickled_filename):\n",
    "        print(f\"Loading {var} from pickle ...\")\n",
    "        return pickle.load(open(pickled_filename, \"rb\"))\n",
    "    else:\n",
    "        print(f\"Pickled {var} not found, generating anew ...\")\n",
    "        obj = generator(*args)\n",
    "        G = obj\n",
    "        pickle.dump(obj, open(pickled_filename, \"wb\"))\n",
    "        print(f\"{var} generated, pickle saved to {pickled_filename}\")\n",
    "        return obj\n",
    "\n",
    "import time\n",
    "start = time.time()\n",
    "# hetero = get_cached(\"hetero\", pickles + \"/HeteroGraph_nodesHaveNames.pkl\", nx2hetero, lambda: get_cached(\"G\", pickled_graph, load_graph))\n",
    "dataset = get_cached(\"dataset\", pickled_dataset, graph_to_dataset, lambda: get_cached(\"G\", pickled_graph, load_graph))\n",
    "dataset_train, dataset_val, dataset_test = dataset\n",
    "print(\"Finished loading data.\")\n",
    "\n",
    "with open(\"status.txt\", \"w\") as f:\n",
    "\tf.write(f\"Finished loading data in {time.time() - start}.\")"
   ]
  },
  {
   "cell_type": "code",
   "execution_count": 14,
   "metadata": {},
   "outputs": [
    {
     "data": {
      "text/plain": [
       "68992"
      ]
     },
     "execution_count": 14,
     "metadata": {},
     "output_type": "execute_result"
    }
   ],
   "source": [
    "import gc\n",
    "try:\n",
    "    del G  # fuckup variable here\n",
    "except: pass\n",
    "gc.collect()"
   ]
  },
  {
   "cell_type": "code",
   "execution_count": 11,
   "metadata": {},
   "outputs": [
    {
     "name": "stdout",
     "output_type": "stream",
     "text": [
      "chad_G.bak\t\t       HeteroGraph_nodesHaveNames.pkl\n",
      "chad_G_with_edge_types.pkl     top-G-10000.pkl\n",
      "dataset_example.pkl\t       top-G-1000.pkl\n",
      "G_example.pkl\t\t       top-G-100.pkl\n",
      "G_no_node_type.pkl\t       top-G-5000.pkl\n",
      "G.pkl\t\t\t       top-G-500.pkl\n",
      "HeteroData.pkl\t\t       yon_dataset_example.pkl\n",
      "HeteroGraph_nodesAreNodes.pkl  yon_G_example.pkl\n"
     ]
    }
   ],
   "source": [
    "!ls spotify_million_playlist_dataset/pickles/HeteroGraph_nodesHaveNames.pkl"
   ]
  },
  {
   "cell_type": "code",
   "execution_count": 15,
   "metadata": {},
   "outputs": [],
   "source": [
    "\n",
    "dataset = pickle.load(open(\"spotify_million_playlist_dataset/pickles/HeteroGraph_nodesHaveNames.pkl\", \"rb\"))"
   ]
  },
  {
   "cell_type": "markdown",
   "metadata": {},
   "source": []
  },
  {
   "attachments": {},
   "cell_type": "markdown",
   "metadata": {},
   "source": [
    "# Processing"
   ]
  },
  {
   "cell_type": "code",
   "execution_count": 16,
   "metadata": {},
   "outputs": [],
   "source": [
    "class LightGCNConv(torch_geometric.nn.conv.MessagePassing):\n",
    "    def __init__(self, in_channels, out_channels, normalize = True,\n",
    "                 bias = False, **kwargs):  \n",
    "        super(LightGCNConv, self).__init__(**kwargs)\n",
    "\n",
    "        self.in_channels = in_channels\n",
    "        self.out_channels = out_channels\n",
    "        self.normalize = normalize\n",
    "\n",
    "    def forward(self, x, edge_index, size = None):\n",
    "        out = self.propagate(edge_index, x=(x, x))\n",
    "        return out\n",
    "\n",
    "    def message(self, x_j):\n",
    "        out = x_j\n",
    "        return out\n",
    "\n",
    "    def aggregate(self, inputs, index, dim_size = None):\n",
    "        node_dim = self.node_dim\n",
    "        out = torch_scatter.scatter(inputs, index, dim=node_dim, reduce='mean')\n",
    "        return out"
   ]
  },
  {
   "cell_type": "code",
   "execution_count": null,
   "metadata": {},
   "outputs": [],
   "source": [
    "dataset.node_label_index"
   ]
  },
  {
   "cell_type": "code",
   "execution_count": null,
   "metadata": {},
   "outputs": [],
   "source": [
    "k = len(phrase_encoding)\n",
    "res = dict()\n",
    "for offset in range(len(words) - k + 1):\n",
    "\tphrase = [words[offset+i] if phrase_encoding[i] else \"/\" for i in range(k)]\n",
    "\tphrase = \"-\".join(phrase)\n",
    "\tif phrase in res: res[phrase] += 1\n",
    "\telse: res[phrase] = 1\n",
    "return res"
   ]
  },
  {
   "cell_type": "code",
   "execution_count": 24,
   "metadata": {},
   "outputs": [],
   "source": [
    "class LightGCN(torch.nn.Module):\n",
    "    def __init__(self, train_data, num_layers, emb_size=16, initialize_with_words=False):\n",
    "        super(LightGCN, self).__init__()\n",
    "        self.convs = torch.nn.ModuleList()\n",
    "        assert (num_layers >= 1), 'Number of layers is not >=1'\n",
    "        for l in range(num_layers):\n",
    "            self.convs.append(LightGCNConv(input_dim, input_dim))\n",
    "\n",
    "        # Initialize using custom embeddings if provided\n",
    "        num_nodes = train_data.node_label_index.size()[0]\n",
    "        self.embeddings = torch.nn.Embedding(num_nodes, emb_size)\n",
    "        if initialize_with_words:\n",
    "            self.embeddings.weight.data.copy_(train_data.node_features)\n",
    "        \n",
    "        self.loss_fn = torch.nn.BCELoss()\n",
    "        self.num_layers = num_layers\n",
    "        self.emb_size = emb_size\n",
    "        self.num_modes = num_nodes\n",
    "\n",
    "    def forward(self, data):\n",
    "        edge_index, edge_label_index, node_label_index = data.edge_index, data.edge_label_index, data.node_label_index\n",
    "        layer_embeddings = []\n",
    "        \n",
    "        x = self.embeddings(node_label_index)\n",
    "        mean_layer = x\n",
    "\n",
    "        # We take an average of ever layer's node embeddings\n",
    "        for i in range(self.num_layers):\n",
    "            x = self.convs[i](x, edge_index)\n",
    "            mean_layer += x\n",
    "\n",
    "        mean_layer /= 4\n",
    "\n",
    "        # Prediction head is simply dot product\n",
    "        nodes_first = torch.index_select(x, 0, edge_label_index[0,:].long())\n",
    "        nodes_second = torch.index_select(x, 0, edge_label_index[1,:].long())\n",
    "\n",
    "        # Since we don't want a rank output, we create a sigmoid of the dot product\n",
    "        out = torch.sum(nodes_first * nodes_second, dim=-1) # FOR RANKING\n",
    "        pred = torch.sigmoid(out)\n",
    "\n",
    "        return torch.flatten(pred)\n",
    "\n",
    "    def loss(self, pred, label):\n",
    "        return self.loss_fn(pred, label)"
   ]
  },
  {
   "cell_type": "code",
   "execution_count": 25,
   "metadata": {},
   "outputs": [
    {
     "name": "stdout",
     "output_type": "stream",
     "text": [
      "{'playlist': 1, 'track': 1, 'artist': 1, 'album': 1} {'device': 'cuda', 'num_layers': 3, 'emb_size': 32, 'epochs': 300, 'weight_decay': 1e-05, 'lr': 0.01}\n"
     ]
    }
   ],
   "source": [
    "args = {\n",
    "    'device' : 'cuda' if torch.cuda.is_available() else 'cpu',\n",
    "    'num_layers' : 3,\n",
    "    'emb_size' : 32,\n",
    "    'epochs' : 1,\n",
    "    'weight_decay': 1e-5,\n",
    "    'lr': 0.01,\n",
    "    'epochs': 300\n",
    "}\n",
    "\n",
    "datasets = {\n",
    "    'train': dataset,\n",
    "    'val': dataset,\n",
    "    'test': dataset,\n",
    "}\n",
    "\n",
    "input_dim = datasets['train'].num_node_features\n",
    "print(input_dim, args)"
   ]
  },
  {
   "cell_type": "code",
   "execution_count": 26,
   "metadata": {},
   "outputs": [
    {
     "data": {
      "text/plain": [
       "HeteroData(\n",
       "  \u001b[1mplaylist\u001b[0m={ x=[1000] },\n",
       "  \u001b[1mtrack\u001b[0m={ x=[35289] },\n",
       "  \u001b[1martist\u001b[0m={ x=[10091] },\n",
       "  \u001b[1malbum\u001b[0m={ x=[20469] },\n",
       "  \u001b[1m(playlist, contains, track)\u001b[0m={ edge_index=[2, 66331] },\n",
       "  \u001b[1m(album, contains, track)\u001b[0m={ edge_index=[2, 35289] },\n",
       "  \u001b[1m(artist, writes, track)\u001b[0m={ edge_index=[2, 35289] }\n",
       ")"
      ]
     },
     "execution_count": 26,
     "metadata": {},
     "output_type": "execute_result"
    }
   ],
   "source": [
    "datasets['train'].to(args['device'])\n",
    "datasets['val'].to(args['device'])\n",
    "datasets['test'].to(args['device'])"
   ]
  },
  {
   "cell_type": "code",
   "execution_count": 27,
   "metadata": {},
   "outputs": [],
   "source": [
    "losses = []\n",
    "\n",
    "def train(model, optimizer, args):\n",
    "    val_max = 0\n",
    "    best_model = model\n",
    "\n",
    "    for epoch in range(1, args['epochs'] + 1):\n",
    "        datasets['train'].to(args[\"device\"])\n",
    "        model.train()\n",
    "        optimizer.zero_grad()\n",
    "        pred = model(datasets['train'])\n",
    "        loss = model.loss(pred, datasets['train'].edge_label.type(pred.dtype))\n",
    "\n",
    "        loss.backward()\n",
    "        optimizer.step()\n",
    "\n",
    "        log = 'Epoch: {:03d}, Train: {:.4f}, Val: {:.4f}, Test: {:.4f}, Loss: {:.5f}, Val Loss: {:.5f}'\n",
    "        score_train, train_loss = test(model, 'train', args)\n",
    "        score_val, val_loss = test(model, 'val', args)\n",
    "        score_test, test_loss = test(model, 'test', args)\n",
    "\n",
    "        losses.append((train_loss, val_loss))\n",
    "\n",
    "        print(log.format(epoch, score_train, score_val, score_test, train_loss, val_loss))\n",
    "        if val_max < score_val:\n",
    "            val_max = score_val\n",
    "            best_model = copy.deepcopy(model)\n",
    "\n",
    "    return best_model\n",
    "\n",
    "def test(model, mode, args):\n",
    "    model.eval()\n",
    "    score = 0\n",
    "    loss_score = 0\n",
    "\n",
    "    data = datasets[mode]\n",
    "    data.to(args[\"device\"])\n",
    "\n",
    "    pred = model(data)\n",
    "    loss = model.loss(pred, data.edge_label.type(pred.dtype))\n",
    "    score += roc_auc_score(data.edge_label.flatten().cpu().numpy(), pred.flatten().data.cpu().numpy())\n",
    "    loss_score += loss.item()\n",
    "\n",
    "    return score, loss_score"
   ]
  },
  {
   "cell_type": "code",
   "execution_count": 28,
   "metadata": {},
   "outputs": [
    {
     "ename": "AttributeError",
     "evalue": "'HeteroData' has no attribute 'node_label_index'",
     "output_type": "error",
     "traceback": [
      "\u001b[0;31m---------------------------------------------------------------------------\u001b[0m",
      "\u001b[0;31mAttributeError\u001b[0m                            Traceback (most recent call last)",
      "Cell \u001b[0;32mIn[28], line 1\u001b[0m\n\u001b[0;32m----> 1\u001b[0m model \u001b[39m=\u001b[39m LightGCN(datasets[\u001b[39m'\u001b[39;49m\u001b[39mtrain\u001b[39;49m\u001b[39m'\u001b[39;49m], args[\u001b[39m'\u001b[39;49m\u001b[39mnum_layers\u001b[39;49m\u001b[39m'\u001b[39;49m], emb_size\u001b[39m=\u001b[39;49margs[\u001b[39m'\u001b[39;49m\u001b[39memb_size\u001b[39;49m\u001b[39m'\u001b[39;49m])\u001b[39m.\u001b[39mto(args[\u001b[39m'\u001b[39m\u001b[39mdevice\u001b[39m\u001b[39m'\u001b[39m])\n\u001b[1;32m      2\u001b[0m optimizer \u001b[39m=\u001b[39m torch\u001b[39m.\u001b[39moptim\u001b[39m.\u001b[39mAdam(model\u001b[39m.\u001b[39mparameters(), lr\u001b[39m=\u001b[39margs[\u001b[39m'\u001b[39m\u001b[39mlr\u001b[39m\u001b[39m'\u001b[39m], weight_decay\u001b[39m=\u001b[39margs[\u001b[39m'\u001b[39m\u001b[39mweight_decay\u001b[39m\u001b[39m'\u001b[39m])\n\u001b[1;32m      4\u001b[0m best_model \u001b[39m=\u001b[39m train(model, optimizer, args)\n",
      "Cell \u001b[0;32mIn[24], line 10\u001b[0m, in \u001b[0;36mLightGCN.__init__\u001b[0;34m(self, train_data, num_layers, emb_size, initialize_with_words)\u001b[0m\n\u001b[1;32m      7\u001b[0m     \u001b[39mself\u001b[39m\u001b[39m.\u001b[39mconvs\u001b[39m.\u001b[39mappend(LightGCNConv(input_dim, input_dim))\n\u001b[1;32m      9\u001b[0m \u001b[39m# Initialize using custom embeddings if provided\u001b[39;00m\n\u001b[0;32m---> 10\u001b[0m num_nodes \u001b[39m=\u001b[39m train_data\u001b[39m.\u001b[39;49mnode_label_index\u001b[39m.\u001b[39msize()[\u001b[39m0\u001b[39m]\n\u001b[1;32m     11\u001b[0m \u001b[39mself\u001b[39m\u001b[39m.\u001b[39membeddings \u001b[39m=\u001b[39m torch\u001b[39m.\u001b[39mnn\u001b[39m.\u001b[39mEmbedding(num_nodes, emb_size)\n\u001b[1;32m     12\u001b[0m \u001b[39mif\u001b[39;00m initialize_with_words:\n",
      "File \u001b[0;32m~/jupyter-server/venv/lib/python3.10/site-packages/torch_geometric/data/hetero_data.py:138\u001b[0m, in \u001b[0;36mHeteroData.__getattr__\u001b[0;34m(self, key)\u001b[0m\n\u001b[1;32m    136\u001b[0m \u001b[39melif\u001b[39;00m \u001b[39mbool\u001b[39m(re\u001b[39m.\u001b[39msearch(\u001b[39m'\u001b[39m\u001b[39m_dict$\u001b[39m\u001b[39m'\u001b[39m, key)):\n\u001b[1;32m    137\u001b[0m     \u001b[39mreturn\u001b[39;00m \u001b[39mself\u001b[39m\u001b[39m.\u001b[39mcollect(key[:\u001b[39m-\u001b[39m\u001b[39m5\u001b[39m])\n\u001b[0;32m--> 138\u001b[0m \u001b[39mraise\u001b[39;00m \u001b[39mAttributeError\u001b[39;00m(\u001b[39mf\u001b[39m\u001b[39m\"\u001b[39m\u001b[39m'\u001b[39m\u001b[39m{\u001b[39;00m\u001b[39mself\u001b[39m\u001b[39m.\u001b[39m\u001b[39m__class__\u001b[39m\u001b[39m.\u001b[39m\u001b[39m__name__\u001b[39m\u001b[39m}\u001b[39;00m\u001b[39m'\u001b[39m\u001b[39m has no \u001b[39m\u001b[39m\"\u001b[39m\n\u001b[1;32m    139\u001b[0m                      \u001b[39mf\u001b[39m\u001b[39m\"\u001b[39m\u001b[39mattribute \u001b[39m\u001b[39m'\u001b[39m\u001b[39m{\u001b[39;00mkey\u001b[39m}\u001b[39;00m\u001b[39m'\u001b[39m\u001b[39m\"\u001b[39m)\n",
      "\u001b[0;31mAttributeError\u001b[0m: 'HeteroData' has no attribute 'node_label_index'"
     ]
    }
   ],
   "source": [
    "model = LightGCN(datasets['train'], args['num_layers'], emb_size=args['emb_size']).to(args['device'])\n",
    "optimizer = torch.optim.Adam(model.parameters(), lr=args['lr'], weight_decay=args['weight_decay'])\n",
    "\n",
    "best_model = train(model, optimizer, args)\n",
    "log = \"Train: {:.4f}, Val: {:.4f}, Test: {:.4f}, Val Loss: {:.5f}, Test Loss: {:.5f}\"\n",
    "best_train_roc, train_loss = test(best_model, 'train', args)\n",
    "best_val_roc, val_loss = test(best_model, 'val', args)\n",
    "best_test_roc, test_loss = test(best_model, 'test', args)\n",
    "print(log.format(best_train_roc, best_val_roc, best_test_roc, train_loss, val_loss, test_loss))"
   ]
  }
 ],
 "metadata": {
  "kernelspec": {
   "display_name": "Python 3 (ipykernel)",
   "language": "python",
   "name": "python3"
  },
  "language_info": {
   "codemirror_mode": {
    "name": "ipython",
    "version": 3
   },
   "file_extension": ".py",
   "mimetype": "text/x-python",
   "name": "python",
   "nbconvert_exporter": "python",
   "pygments_lexer": "ipython3",
   "version": "3.10.8"
  },
  "orig_nbformat": 4
 },
 "nbformat": 4,
 "nbformat_minor": 2
}
