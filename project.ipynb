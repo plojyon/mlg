{
 "cells": [
  {
   "attachments": {},
   "cell_type": "markdown",
   "metadata": {},
   "source": [
    "In this project, we will train a GNN to perform link prediction on a heterogenous graph from the Spotify Million Playlists dataset."
   ]
  },
  {
   "attachments": {},
   "cell_type": "markdown",
   "metadata": {},
   "source": [
    "# Import libraries"
   ]
  },
  {
   "cell_type": "code",
   "execution_count": 5,
   "metadata": {},
   "outputs": [
    {
     "name": "stdout",
     "output_type": "stream",
     "text": [
      "Requirement already satisfied: numpy in ./venv/lib64/python3.10/site-packages (1.24.2)\n",
      "Requirement already satisfied: iprogress in ./venv/lib/python3.10/site-packages (0.4)\n",
      "Requirement already satisfied: tqdm in ./venv/lib/python3.10/site-packages (4.64.1)\n",
      "Requirement already satisfied: networkx in ./venv/lib/python3.10/site-packages (3.0)\n",
      "Requirement already satisfied: torch_geometric in ./venv/lib/python3.10/site-packages (2.2.0)\n",
      "Requirement already satisfied: six in ./venv/lib/python3.10/site-packages (from iprogress) (1.16.0)\n",
      "Requirement already satisfied: pyparsing in ./venv/lib/python3.10/site-packages (from torch_geometric) (3.0.9)\n",
      "Requirement already satisfied: psutil>=5.8.0 in ./venv/lib64/python3.10/site-packages (from torch_geometric) (5.9.4)\n",
      "Requirement already satisfied: scipy in ./venv/lib64/python3.10/site-packages (from torch_geometric) (1.10.1)\n",
      "Requirement already satisfied: requests in ./venv/lib/python3.10/site-packages (from torch_geometric) (2.28.2)\n",
      "Requirement already satisfied: scikit-learn in ./venv/lib64/python3.10/site-packages (from torch_geometric) (1.2.1)\n",
      "Requirement already satisfied: jinja2 in ./venv/lib/python3.10/site-packages (from torch_geometric) (3.1.2)\n",
      "Requirement already satisfied: MarkupSafe>=2.0 in ./venv/lib64/python3.10/site-packages (from jinja2->torch_geometric) (2.1.2)\n",
      "Requirement already satisfied: idna<4,>=2.5 in ./venv/lib/python3.10/site-packages (from requests->torch_geometric) (3.4)\n",
      "Requirement already satisfied: certifi>=2017.4.17 in ./venv/lib/python3.10/site-packages (from requests->torch_geometric) (2022.12.7)\n",
      "Requirement already satisfied: charset-normalizer<4,>=2 in ./venv/lib64/python3.10/site-packages (from requests->torch_geometric) (3.0.1)\n",
      "Requirement already satisfied: urllib3<1.27,>=1.21.1 in ./venv/lib/python3.10/site-packages (from requests->torch_geometric) (1.26.14)\n",
      "Requirement already satisfied: joblib>=1.1.1 in ./venv/lib/python3.10/site-packages (from scikit-learn->torch_geometric) (1.2.0)\n",
      "Requirement already satisfied: threadpoolctl>=2.0.0 in ./venv/lib/python3.10/site-packages (from scikit-learn->torch_geometric) (3.1.0)\n"
     ]
    }
   ],
   "source": [
    "!pip install numpy iprogress tqdm networkx torch_geometric\n",
    "import os\n",
    "import json\n",
    "import numpy as np\n",
    "from tqdm import tqdm\n",
    "import networkx as nx\n",
    "import torch_geometric"
   ]
  },
  {
   "cell_type": "code",
   "execution_count": 6,
   "metadata": {},
   "outputs": [],
   "source": [
    "# temporary imports (delete later)\n",
    "from pprint import pprint\n",
    "import pickle\n",
    "import sys\n",
    "import deepsnap\n",
    "\n",
    "# http://192.168.0.103:8888/?token=klobasa"
   ]
  },
  {
   "attachments": {},
   "cell_type": "markdown",
   "metadata": {},
   "source": [
    "# Configuration"
   ]
  },
  {
   "cell_type": "code",
   "execution_count": 9,
   "metadata": {},
   "outputs": [],
   "source": [
    "# config\n",
    "base = \"spotify_million_playlist_dataset\"\n",
    "pickles = base + \"/pickles\"\n",
    "\n",
    "# full dataset\n",
    "dataset_path = base + \"/data\"\n",
    "pickled_graph = pickles + \"/G.pkl\"\n",
    "pickled_dataset = pickles + \"/dataset.pkl\"\n",
    "\n",
    "# example dataset (override above)\n",
    "dataset_path = base + \"/example\"\n",
    "pickled_graph = pickles + \"/G_example.pkl\"\n",
    "pickled_dataset = pickles + \"/dataset_example.pkl\""
   ]
  },
  {
   "attachments": {},
   "cell_type": "markdown",
   "metadata": {},
   "source": [
    "# Load datasets"
   ]
  },
  {
   "cell_type": "code",
   "execution_count": null,
   "metadata": {},
   "outputs": [],
   "source": [
    "G = None\n",
    "def load_graph(dataset_path=dataset_path):\n",
    "    global G\n",
    "    filenames = os.listdir(dataset_path)\n",
    "    G = nx.Graph()\n",
    "    for i in tqdm(range(len(filenames)), unit=\"files\"):\n",
    "        with open(os.path.join(dataset_path, filenames[i])) as json_file:\n",
    "            playlists = json.load(json_file)[\"playlists\"]\n",
    "            for playlist in playlists:\n",
    "                playlist_name = f\"spotify:playlist:{playlist['pid']}\"\n",
    "                G.add_node(playlist_name, node_type=\"playlist\", num_followers=playlist[\"num_followers\"])\n",
    "                for track in playlist[\"tracks\"]:\n",
    "                    G.add_node(track[\"track_uri\"], node_type=\"track\", duration=track[\"duration_ms\"])\n",
    "                    G.add_node(track[\"album_uri\"], node_type=\"album\")\n",
    "                    G.add_node(track[\"artist_uri\"], node_type=\"artist\")\n",
    "\n",
    "                    G.add_edge(track[\"track_uri\"], playlist_name, edge_type=\"track-playlist\")\n",
    "                    G.add_edge(track[\"track_uri\"], track[\"album_uri\"], edge_type=\"track-album\")\n",
    "                    G.add_edge(track[\"track_uri\"], track[\"artist_uri\"], edge_type=\"track-artist\")\n",
    "    return G\n",
    "\n",
    "def nx2hetero(graph_getter):\n",
    "\tG = graph_getter()\n",
    "\tnode_types = set([node[1][\"node_type\"] for node in G.nodes(data=True)])\n",
    "\tnodes_by_type = dict()\n",
    "\tfor node_type in node_types:\n",
    "\t\tnodes_by_type[node_type] = [node[1] for node in list(G.nodes(data=True)) if node[1][\"node_type\"] == node_type][:10]\n",
    "\tnodes_by_type\n",
    "\n",
    "\t# build node index\n",
    "\tplaylists = []\n",
    "\ttracks = []\n",
    "\tnum_artists = 0\n",
    "\tnum_albums = 0\n",
    "\tfor node in G.nodes(data=True):\n",
    "\t\tt = node[1][\"node_type\"]\n",
    "\t\tif t == \"playlist\":\n",
    "\t\t\tplaylists += [node[1][\"num_followers\"]]\n",
    "\t\telif t == \"track\":\n",
    "\t\t\ttracks += [node[1][\"duration\"]]\n",
    "\t\telif t == \"artist\":\n",
    "\t\t\tnum_artists += 1\n",
    "\t\telif t == \"album\":\n",
    "\t\t\tnum_albums += 1\n",
    "\n",
    "\t# build edge_index\n",
    "\tplaylist_track = []\n",
    "\talbum_track = []\n",
    "\tartist_track = []\n",
    "\tfor node in G.edges(data=True):\n",
    "\t\tif G[node[0]][node[1]][\"edge_type\"] == \"track-playlist\":\n",
    "\t\t\tplaylist_track += [(name2int[node[0]], name2int[node[1]])]\n",
    "\t\telif G[node[0]][node[1]][\"edge_type\"] == \"track-album\":\n",
    "\t\t\talbum_track += [(name2int[node[0]], name2int[node[1]])]\n",
    "\t\telif G[node[0]][node[1]][\"edge_type\"] == \"track-artist\":\n",
    "\t\t\tartist_track += [(name2int[node[0]], name2int[node[1]])]\n",
    "\n",
    "\t# construct HeteroData\n",
    "\thetero = HeteroData()\n",
    "\t# hetero[\"playlist\"].x = torch.tensor(playlists)\n",
    "\t# hetero[\"track\"].x = torch.tensor(tracks)\n",
    "\t# hetero[\"artist\"].x = torch.tensor([1 for _ in range(num_artists)])\n",
    "\t# hetero[\"album\"].x = torch.tensor([1 for _ in range(num_albums)])\n",
    "\thetero[\"nodes\"].x = torch.tensor([1 for _ in range(len(G.nodes))])\n",
    "\n",
    "\thetero[\"playlist\", \"contains\", \"track\"].edge_index = torch.tensor(playlist_track).t()\n",
    "\thetero[\"album\", \"contains\", \"track\"].edge_index = torch.tensor(album_track).t()\n",
    "\thetero[\"artist\", \"writes\", \"track\"].edge_index = torch.tensor(artist_track).t()\n",
    "\treturn hetero\n",
    "\n",
    "def graph_to_dataset(graph_getter):\n",
    "    # hetero = nx2hetero(graph_getter)\n",
    "    print(\"Converting graph to DeepSnap dataset ...\")\n",
    "    graph = graph_getter()\n",
    "    dataset = deepsnap.dataset.GraphDataset(\n",
    "        [graph], task=\"link_pred\", edge_train_mode=\"disjoint\"\n",
    "    )\n",
    "    return dataset.split(\n",
    "        transductive=True, split_ratio=[0.7, 0.1, 0.2]\n",
    "    )\n",
    "\n",
    "def get_cached(var, pickled_filename, generator, *args, ignore_cache=True):\n",
    "    global G\n",
    "    if not ignore_cache and var in globals():\n",
    "        print(f\"{var} already loaded :)\")\n",
    "        return globals()[var]\n",
    "    elif not ignore_cache and os.path.exists(pickled_filename):\n",
    "        print(f\"Loading {var} from pickle ...\")\n",
    "        return pickle.load(open(pickled_filename, \"rb\"))\n",
    "    else:\n",
    "        print(f\"Pickled {var} not found, generating anew ...\")\n",
    "        obj = generator(*args)\n",
    "        G = obj\n",
    "        pickle.dump(obj, open(pickled_filename, \"wb\"))\n",
    "        print(f\"{var} generated, pickle saved to {pickled_filename}\")\n",
    "        return obj\n",
    "\n",
    "import time\n",
    "start = time.time()\n",
    "# hetero = get_cached(\"hetero\", pickles + \"/HeteroGraph_nodesHaveNames.pkl\", nx2hetero, lambda: get_cached(\"G\", pickled_graph, load_graph))\n",
    "dataset = get_cached(\"dataset\", pickled_dataset, graph_to_dataset, lambda: get_cached(\"G\", pickled_graph, load_graph))\n",
    "dataset_train, dataset_val, dataset_test = dataset\n",
    "print(\"Finished loading data.\")\n",
    "\n",
    "with open(\"status.txt\", \"w\") as f:\n",
    "\tf.write(f\"Finished loading data in {time.time() - start}.\")"
   ]
  },
  {
   "cell_type": "code",
   "execution_count": 14,
   "metadata": {},
   "outputs": [
    {
     "data": {
      "text/plain": [
       "68992"
      ]
     },
     "execution_count": 14,
     "metadata": {},
     "output_type": "execute_result"
    }
   ],
   "source": [
    "import gc\n",
    "try:\n",
    "    del G  # fuckup variable here\n",
    "except: pass\n",
    "gc.collect()"
   ]
  },
  {
   "attachments": {},
   "cell_type": "markdown",
   "metadata": {},
   "source": [
    "# Preprocessing"
   ]
  }
 ],
 "metadata": {
  "kernelspec": {
   "display_name": "Python 3 (ipykernel)",
   "language": "python",
   "name": "python3"
  },
  "language_info": {
   "codemirror_mode": {
    "name": "ipython",
    "version": 3
   },
   "file_extension": ".py",
   "mimetype": "text/x-python",
   "name": "python",
   "nbconvert_exporter": "python",
   "pygments_lexer": "ipython3",
   "version": "3.10.8"
  },
  "orig_nbformat": 4
 },
 "nbformat": 4,
 "nbformat_minor": 2
}
