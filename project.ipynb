{
 "cells": [
  {
   "attachments": {},
   "cell_type": "markdown",
   "metadata": {},
   "source": [
    "In this project, we will train a GNN to perform link prediction on a heterogenous graph from the Spotify Million Playlists dataset."
   ]
  },
  {
   "attachments": {},
   "cell_type": "markdown",
   "metadata": {},
   "source": [
    "# Import libraries"
   ]
  },
  {
   "cell_type": "code",
   "execution_count": 130,
   "metadata": {},
   "outputs": [
    {
     "name": "stdout",
     "output_type": "stream",
     "text": [
      "Requirement already satisfied: numpy in ./venv/lib64/python3.10/site-packages (1.24.2)\n",
      "Requirement already satisfied: iprogress in ./venv/lib/python3.10/site-packages (0.4)\n",
      "Requirement already satisfied: tqdm in ./venv/lib/python3.10/site-packages (4.64.1)\n",
      "Requirement already satisfied: networkx in ./venv/lib/python3.10/site-packages (3.0)\n",
      "Requirement already satisfied: torch_geometric in ./venv/lib/python3.10/site-packages (2.2.0)\n",
      "Requirement already satisfied: six in ./venv/lib/python3.10/site-packages (from iprogress) (1.16.0)\n",
      "Requirement already satisfied: psutil>=5.8.0 in ./venv/lib64/python3.10/site-packages (from torch_geometric) (5.9.4)\n",
      "Requirement already satisfied: pyparsing in ./venv/lib/python3.10/site-packages (from torch_geometric) (3.0.9)\n",
      "Requirement already satisfied: jinja2 in ./venv/lib/python3.10/site-packages (from torch_geometric) (3.1.2)\n",
      "Requirement already satisfied: scikit-learn in ./venv/lib64/python3.10/site-packages (from torch_geometric) (1.2.1)\n",
      "Requirement already satisfied: requests in ./venv/lib/python3.10/site-packages (from torch_geometric) (2.28.2)\n",
      "Requirement already satisfied: scipy in ./venv/lib64/python3.10/site-packages (from torch_geometric) (1.10.1)\n",
      "Requirement already satisfied: MarkupSafe>=2.0 in ./venv/lib64/python3.10/site-packages (from jinja2->torch_geometric) (2.1.2)\n",
      "Requirement already satisfied: urllib3<1.27,>=1.21.1 in ./venv/lib/python3.10/site-packages (from requests->torch_geometric) (1.26.14)\n",
      "Requirement already satisfied: certifi>=2017.4.17 in ./venv/lib/python3.10/site-packages (from requests->torch_geometric) (2022.12.7)\n",
      "Requirement already satisfied: idna<4,>=2.5 in ./venv/lib/python3.10/site-packages (from requests->torch_geometric) (3.4)\n",
      "Requirement already satisfied: charset-normalizer<4,>=2 in ./venv/lib64/python3.10/site-packages (from requests->torch_geometric) (3.0.1)\n",
      "Requirement already satisfied: joblib>=1.1.1 in ./venv/lib/python3.10/site-packages (from scikit-learn->torch_geometric) (1.2.0)\n",
      "Requirement already satisfied: threadpoolctl>=2.0.0 in ./venv/lib/python3.10/site-packages (from scikit-learn->torch_geometric) (3.1.0)\n"
     ]
    }
   ],
   "source": [
    "!pip install numpy iprogress tqdm networkx torch_geometric\n",
    "import os\n",
    "import json\n",
    "import torch\n",
    "import numpy as np\n",
    "import pickle\n",
    "from tqdm import tqdm\n",
    "import networkx as nx\n",
    "import torch_geometric"
   ]
  },
  {
   "cell_type": "code",
   "execution_count": 131,
   "metadata": {},
   "outputs": [],
   "source": [
    "# temporary imports (delete later)\n",
    "from pprint import pprint\n",
    "import random\n",
    "# http://192.168.0.103:8888/?token=klobasa"
   ]
  },
  {
   "attachments": {},
   "cell_type": "markdown",
   "metadata": {},
   "source": [
    "# Configuration"
   ]
  },
  {
   "cell_type": "code",
   "execution_count": 132,
   "metadata": {},
   "outputs": [],
   "source": [
    "# config\n",
    "base = \"spotify_million_playlist_dataset\"\n",
    "pickles = base + \"/pickles\"\n",
    "\n",
    "# full dataset\n",
    "dataset_path = base + \"/data\"\n",
    "pickled_graph = pickles + \"/G.pkl\"\n",
    "pickled_datasets = pickles + \"/datasets.pkl\"\n",
    "pickled_ghetero = pickles + \"/ghetero.pkl\"\n",
    "\n",
    "# example dataset (override above)\n",
    "dataset_path = base + \"/example\"\n",
    "pickled_graph = pickles + \"/G_example.pkl\"\n",
    "pickled_datasets = pickles + \"/datasets_example.pkl\"\n",
    "pickled_ghetero = pickles + \"/ghetero_example.pkl\""
   ]
  },
  {
   "attachments": {},
   "cell_type": "markdown",
   "metadata": {},
   "source": [
    "# Load datasets"
   ]
  },
  {
   "cell_type": "code",
   "execution_count": 145,
   "metadata": {},
   "outputs": [
    {
     "name": "stderr",
     "output_type": "stream",
     "text": [
      "3687.74s - pydevd: Sending message related to process being replaced timed-out after 5 seconds\n"
     ]
    },
    {
     "name": "stdout",
     "output_type": "stream",
     "text": [
      "Collecting xeus-python\n",
      "  Downloading xeus_python-0.15.2-cp310-cp310-manylinux_2_24_x86_64.whl (2.1 MB)\n",
      "\u001b[2K     \u001b[90m━━━━━━━━━━━━━━━━━━━━━━━━━━━━━━━━━━━━━━━━\u001b[0m \u001b[32m2.1/2.1 MB\u001b[0m \u001b[31m4.8 MB/s\u001b[0m eta \u001b[36m0:00:00\u001b[0m00:01\u001b[0m00:01\u001b[0m\n",
      "\u001b[?25hCollecting xeus-python-shell[ipython]<0.6,>=0.5\n",
      "  Downloading xeus_python_shell-0.5.0-py3-none-any.whl (8.1 kB)\n",
      "Requirement already satisfied: pygments<3,>=2.3.1 in ./venv/lib/python3.10/site-packages (from xeus-python) (2.14.0)\n",
      "Requirement already satisfied: debugpy<2,>=1.1.0 in ./venv/lib64/python3.10/site-packages (from xeus-python-shell[ipython]<0.6,>=0.5->xeus-python) (1.6.6)\n",
      "Requirement already satisfied: ipython<9,>=7.21 in ./venv/lib/python3.10/site-packages (from xeus-python-shell[ipython]<0.6,>=0.5->xeus-python) (8.11.0)\n",
      "Requirement already satisfied: matplotlib-inline in ./venv/lib/python3.10/site-packages (from ipython<9,>=7.21->xeus-python-shell[ipython]<0.6,>=0.5->xeus-python) (0.1.6)\n",
      "Requirement already satisfied: decorator in ./venv/lib/python3.10/site-packages (from ipython<9,>=7.21->xeus-python-shell[ipython]<0.6,>=0.5->xeus-python) (5.1.1)\n",
      "Requirement already satisfied: stack-data in ./venv/lib/python3.10/site-packages (from ipython<9,>=7.21->xeus-python-shell[ipython]<0.6,>=0.5->xeus-python) (0.6.2)\n",
      "Requirement already satisfied: jedi>=0.16 in ./venv/lib/python3.10/site-packages (from ipython<9,>=7.21->xeus-python-shell[ipython]<0.6,>=0.5->xeus-python) (0.18.2)\n",
      "Requirement already satisfied: pexpect>4.3 in ./venv/lib/python3.10/site-packages (from ipython<9,>=7.21->xeus-python-shell[ipython]<0.6,>=0.5->xeus-python) (4.8.0)\n",
      "Requirement already satisfied: prompt-toolkit!=3.0.37,<3.1.0,>=3.0.30 in ./venv/lib/python3.10/site-packages (from ipython<9,>=7.21->xeus-python-shell[ipython]<0.6,>=0.5->xeus-python) (3.0.38)\n",
      "Requirement already satisfied: traitlets>=5 in ./venv/lib/python3.10/site-packages (from ipython<9,>=7.21->xeus-python-shell[ipython]<0.6,>=0.5->xeus-python) (5.9.0)\n",
      "Requirement already satisfied: backcall in ./venv/lib/python3.10/site-packages (from ipython<9,>=7.21->xeus-python-shell[ipython]<0.6,>=0.5->xeus-python) (0.2.0)\n",
      "Requirement already satisfied: pickleshare in ./venv/lib/python3.10/site-packages (from ipython<9,>=7.21->xeus-python-shell[ipython]<0.6,>=0.5->xeus-python) (0.7.5)\n",
      "Requirement already satisfied: parso<0.9.0,>=0.8.0 in ./venv/lib/python3.10/site-packages (from jedi>=0.16->ipython<9,>=7.21->xeus-python-shell[ipython]<0.6,>=0.5->xeus-python) (0.8.3)\n",
      "Requirement already satisfied: ptyprocess>=0.5 in ./venv/lib/python3.10/site-packages (from pexpect>4.3->ipython<9,>=7.21->xeus-python-shell[ipython]<0.6,>=0.5->xeus-python) (0.7.0)\n",
      "Requirement already satisfied: wcwidth in ./venv/lib/python3.10/site-packages (from prompt-toolkit!=3.0.37,<3.1.0,>=3.0.30->ipython<9,>=7.21->xeus-python-shell[ipython]<0.6,>=0.5->xeus-python) (0.2.6)\n",
      "Requirement already satisfied: executing>=1.2.0 in ./venv/lib/python3.10/site-packages (from stack-data->ipython<9,>=7.21->xeus-python-shell[ipython]<0.6,>=0.5->xeus-python) (1.2.0)\n",
      "Requirement already satisfied: pure-eval in ./venv/lib/python3.10/site-packages (from stack-data->ipython<9,>=7.21->xeus-python-shell[ipython]<0.6,>=0.5->xeus-python) (0.2.2)\n",
      "Requirement already satisfied: asttokens>=2.1.0 in ./venv/lib/python3.10/site-packages (from stack-data->ipython<9,>=7.21->xeus-python-shell[ipython]<0.6,>=0.5->xeus-python) (2.2.1)\n",
      "Requirement already satisfied: six in ./venv/lib/python3.10/site-packages (from asttokens>=2.1.0->stack-data->ipython<9,>=7.21->xeus-python-shell[ipython]<0.6,>=0.5->xeus-python) (1.16.0)\n",
      "Installing collected packages: xeus-python-shell, xeus-python\n",
      "Successfully installed xeus-python-0.15.2 xeus-python-shell-0.5.0\n"
     ]
    }
   ],
   "source": [
    "!pip install xeus-python"
   ]
  },
  {
   "cell_type": "code",
   "execution_count": 144,
   "metadata": {},
   "outputs": [],
   "source": [
    "def load_graph(dataset_path=dataset_path):\n",
    "    \"\"\"Load a nx.Graph from disk.\"\"\"\n",
    "    filenames = os.listdir(dataset_path)\n",
    "    G = nx.DiGraph()\n",
    "    for i in tqdm(range(len(filenames)), unit=\"files\"):\n",
    "        with open(os.path.join(dataset_path, filenames[i])) as json_file:\n",
    "            playlists = json.load(json_file)[\"playlists\"]\n",
    "            for playlist in playlists:\n",
    "                playlist_name = f\"spotify:playlist:{playlist['pid']}\"\n",
    "                G.add_node(playlist_name, node_type=\"playlist\", num_followers=playlist[\"num_followers\"])\n",
    "                for track in playlist[\"tracks\"]:\n",
    "                    G.add_node(track[\"track_uri\"], node_type=\"track\", duration=track[\"duration_ms\"])\n",
    "                    G.add_node(track[\"album_uri\"], node_type=\"album\")\n",
    "                    G.add_node(track[\"artist_uri\"], node_type=\"artist\")\n",
    "\n",
    "                    G.add_edge(track[\"track_uri\"], playlist_name, edge_type=\"track-playlist\")\n",
    "                    G.add_edge(track[\"track_uri\"], track[\"album_uri\"], edge_type=\"track-album\")\n",
    "                    G.add_edge(track[\"track_uri\"], track[\"artist_uri\"], edge_type=\"track-artist\")\n",
    "    return G\n",
    "\n",
    "def nx2hetero(graph_getter):\n",
    "    G = graph_getter\n",
    "    \"\"\"Convert a nx.Graph into a torch_geometric.data.HeteroData object.\"\"\"\n",
    "    ids_by_type = {\n",
    "        \"playlist\": {},\n",
    "        \"track\": {},\n",
    "        \"artist\": {},\n",
    "        \"album\": {}\n",
    "    }\n",
    "    \n",
    "    def node_id(node_type, id, exception=False):\n",
    "        d = ids_by_type[node_type]\n",
    "        if id not in d:\n",
    "            if exception:\n",
    "                raise RuntimeError(node_type, id, d)\n",
    "            d[id] = len(d)\n",
    "        return d[id]\n",
    "\n",
    "    node_features_by_type = {\n",
    "        \"playlist\": [],\n",
    "        \"track\": [],\n",
    "        \"artist\": [],\n",
    "        \"album\": []\n",
    "    }\n",
    "    for node in G.nodes(data=True):\n",
    "        t = node[1][\"node_type\"]\n",
    "        node_id(t, node[0])\n",
    "        if t == \"playlist\":\n",
    "            node_features_by_type[\"playlist\"] += [node[1][\"num_followers\"]]\n",
    "        elif t == \"track\":\n",
    "            node_features_by_type[\"track\"] += [node[1][\"duration\"]]\n",
    "        elif t == \"artist\":\n",
    "            node_features_by_type[\"artist\"] += [1]\n",
    "        elif t == \"album\":\n",
    "            node_features_by_type[\"album\"] += [1]\n",
    "\n",
    "    edge_index_by_type = {\n",
    "        (\"track\", \"contains\", \"playlist\"): [],\n",
    "        (\"track\", \"includes\", \"album\"): [],\n",
    "        (\"track\", \"authors\", \"artist\"): []\n",
    "    }\n",
    "    for edge in G.edges(data=True):\n",
    "        if G[edge[0]][edge[1]][\"edge_type\"] == \"track-playlist\":\n",
    "            s_id = node_id(\"track\", edge[0], exception=True)\n",
    "            d_id = node_id(\"playlist\", edge[1], exception=True)\n",
    "            edge_index_by_type[(\"track\", \"contains\", \"playlist\")] += [(s_id, d_id)]\n",
    "        elif G[edge[0]][edge[1]][\"edge_type\"] == \"track-album\":\n",
    "            s_id = node_id(\"track\", edge[0], exception=True)\n",
    "            d_id = node_id(\"album\", edge[1], exception=True)\n",
    "            edge_index_by_type[(\"track\", \"includes\", \"album\")] += [(s_id, d_id)]\n",
    "        elif G[edge[0]][edge[1]][\"edge_type\"] == \"track-artist\":\n",
    "            s_id = node_id(\"track\", edge[0], exception=True)\n",
    "            d_id = node_id(\"artist\", edge[1], exception=True)\n",
    "            edge_index_by_type[(\"track\", \"authors\", \"artist\")] += [(s_id, d_id)]\n",
    "\n",
    "    # construct HeteroData\n",
    "    hetero = torch_geometric.data.HeteroData()\n",
    "\n",
    "    # add initial node features\n",
    "    hetero[\"playlist\"].x = torch.FloatTensor(node_features_by_type[\"playlist\"]).reshape(-1,1)\n",
    "    hetero[\"track\"].x = torch.FloatTensor(node_features_by_type[\"track\"]).reshape(-1,1)\n",
    "    hetero[\"artist\"].x = torch.FloatTensor(node_features_by_type[\"artist\"]).reshape(-1,1)\n",
    "    hetero[\"album\"].x = torch.FloatTensor(node_features_by_type[\"album\"]).reshape(-1,1)\n",
    "\n",
    "    # add edge indices\n",
    "    hetero[\"track\", \"contains\", \"playlist\"].edge_index = torch.tensor(edge_index_by_type[(\"track\", \"contains\", \"playlist\")]).t()\n",
    "    hetero[\"track\", \"includes\", \"album\"].edge_index = torch.tensor(edge_index_by_type[(\"track\", \"includes\", \"album\")]).t()\n",
    "    hetero[\"track\", \"authors\", \"artist\"].edge_index = torch.tensor(edge_index_by_type[(\"track\", \"authors\", \"artist\")]).t()\n",
    "\n",
    "    # post-processing\n",
    "    # hetero = torch_geometric.transforms.ToUndirected()(hetero)\n",
    "    # hetero = torch_geometric.transforms.RemoveIsolatedNodes()(hetero)\n",
    "    assert ghetero.validate()\n",
    "    return hetero\n",
    "\n",
    "def get_cached(var, pickled_filename, fallback, ignore_cache=True):\n",
    "    \"\"\"Get a variable from cache.\n",
    "    \n",
    "    First, check global memory (variable `var`).\n",
    "    If not found, check pickle (file `pickled_filename`).\n",
    "    If not found, generate anew (use `fallback` function).\n",
    "    \"\"\"\n",
    "    if not ignore_cache and var in globals():\n",
    "        print(f\"Using {var} from global memory ...\")\n",
    "        return globals()[var]\n",
    "    elif not ignore_cache and os.path.exists(pickled_filename):\n",
    "        print(f\"Loading {var} from pickle ...\")\n",
    "        return pickle.load(open(pickled_filename, \"rb\"))\n",
    "    else:\n",
    "        print(f\"Pickled {var} not found, generating anew ...\")\n",
    "        obj = fallback()\n",
    "        # pickle.dump(obj, open(pickled_filename, \"wb\"))\n",
    "        print(f\"{var} generated, pickle saved to {pickled_filename}\")\n",
    "        return obj"
   ]
  },
  {
   "cell_type": "code",
   "execution_count": 134,
   "metadata": {},
   "outputs": [],
   "source": [
    "# !rm spotify_million_playlist_dataset/pickles/datasets_example.pkl\n",
    "# !rm spotify_million_playlist_dataset/pickles/G_example.pkl\n",
    "# !ls spotify_million_playlist_dataset/pickles/"
   ]
  },
  {
   "cell_type": "code",
   "execution_count": 135,
   "metadata": {},
   "outputs": [],
   "source": [
    "def ghetero2datasets(ghetero):\n",
    "    \"\"\"Split the dataset into train, validation and test sets.\"\"\"\n",
    "    transform = torch_geometric.transforms.RandomLinkSplit(\n",
    "        num_val=0.1,\n",
    "        num_test=0.1,\n",
    "        disjoint_train_ratio=0.3,\n",
    "        neg_sampling_ratio=2.0,\n",
    "        add_negative_train_samples=False,\n",
    "        edge_types=(\"track\", \"contains\", \"playlist\"),\n",
    "        rev_edge_types=(\"track\", \"rev_contains\", \"playlist\"), \n",
    "    )\n",
    "\n",
    "    return transform(ghetero)  # 3-tuple: data_train, data_val, data_test"
   ]
  },
  {
   "cell_type": "code",
   "execution_count": 136,
   "metadata": {},
   "outputs": [
    {
     "name": "stdout",
     "output_type": "stream",
     "text": [
      "Pickled ghetero not found, generating anew ...\n",
      "Pickled G not found, generating anew ...\n"
     ]
    },
    {
     "name": "stderr",
     "output_type": "stream",
     "text": [
      "100%|████████████████████████████████████████████████| 1/1 [00:00<00:00,  1.04files/s]"
     ]
    },
    {
     "name": "stdout",
     "output_type": "stream",
     "text": [
      "G generated, pickle saved to spotify_million_playlist_dataset/pickles/G_example.pkl\n"
     ]
    },
    {
     "name": "stderr",
     "output_type": "stream",
     "text": [
      "\n"
     ]
    },
    {
     "ename": "RuntimeError",
     "evalue": "('album', 'spotify:album:0DjJIQPOsxd5OiUoVskRBH', dict_keys(['spotify:album:6eXE4xeu9GHSa8zTEVtFep', 'spotify:album:5WupqgR68HfuHt3BMJtgun', 'spotify:album:7dtLYwLOdYQa2S8Vjeuxci', 'spotify:album:03quwfxVOzXduvxgawbLRn', 'spotify:album:2rrxATdBTvNt2i9lJo68qU', 'spotify:album:4FqFaw9BTntS6dZkk0PNe4', 'spotify:album:2LQYvrh5jOxAAZjiBX3f2b', 'spotify:album:0bCAjiUamIFqKJsekOYuRw', 'spotify:album:5Dbax7G8SWrP9xyzkOvy2F', 'spotify:album:4OaxrDxZe97lotUT4cxoRX', 'spotify:album:0nTTEAhCZsbbeplyDMIFuA', 'spotify:album:5QL7RNVpZIoIxElgdykaa8', 'spotify:album:7xe8VI48TxUpU1IIo0RfGi', 'spotify:album:6zK7GV2JCqLknAdTeIhooB', 'spotify:album:6NBox81OQox7U4I0hZB9t0', 'spotify:album:6YabPKtZAjxwyWbuO9p4ZD', 'spotify:album:19MOC02Ei3l2SalGUGWozw', 'spotify:album:7K6JtyaSSVr7HidQsCHun0', 'spotify:album:2nGBuSKC8wIopt81s5mzGy', 'spotify:album:6wH0jlf2q1yCprUO5XWSdz', 'spotify:album:7KOZivQqRbfrKEsd5Hx9Ir', 'spotify:album:5TNzBp7QYsXIHrI5xxVuic', 'spotify:album:77ErLrVvYETIlQJHAwhfIH', 'spotify:album:3LdlOZcV0dp7ePBXe2KAGa', 'spotify:album:7HNboS0n64gNVx0rV3qT6a', 'spotify:album:5hLazW5a3Ysgy3dncwGgUn', 'spotify:album:257oomaawruFknt5wYCPDh', 'spotify:album:6MFIBPVrZjHjP0pPkVF3IU', 'spotify:album:4AsXQ17Arq1cUVoa9dKJ3F', 'spotify:album:4L5pz06MVlsWaTEjSQPN8h', 'spotify:album:0iRdx0LWzTkRhCYmUhSMfi', 'spotify:album:2A4sin52eEjkavgFwPdEoZ', 'spotify:album:4dp33vx7vWx93lxuxjNTz2', 'spotify:album:7Fp8MWr9mKMquAWrVvQvKi', 'spotify:album:3R3x4zIabsvpD3yxqLaUpc', 'spotify:album:1cM3r0WQZWNkCpEbmFjLln', 'spotify:album:1klALx0u4AavZNEvC4LrTL', 'spotify:album:0g6DaZtBNmIAiTJGW4n4SR', 'spotify:album:0BBWJ3L9fhkmNLdt4zs4fu', 'spotify:album:1pM1BsMVd8CuEpgCwbqmFO', 'spotify:album:1qJOmC60ez9RNWPg4ELMBW', 'spotify:album:1VW1MFNstaJuygaoTPkdCk', 'spotify:album:2R4j5z94KVN4SmAhmzuhgM', 'spotify:album:5pd9B3KQWKshHw4lnsSLNy', 'spotify:album:6xAjzeZbweRlhOz2KTJz3u', 'spotify:album:5G6pS4ES22Np0hehqJYIct', 'spotify:album:3uSVy9q97sAzd5UE0dMdOT', 'spotify:album:6IaaRbkw6tOfM2NaX5lZ63', 'spotify:album:1K9DEVSr5iG2W72escDZV7', 'spotify:album:1vbpW28Od2ATmVyAZ0QZ3j', 'spotify:album:2BOlaNQt6WJ1HO5pQcKHGh', 'spotify:album:53tvjWbVNZKd3CvpENkzOC', 'spotify:album:5dR0fhE3oveLRSUMMQ3oRB', 'spotify:album:6sTKCXNE3sOCgwS9mahfiO', 'spotify:album:481JiVXZYUlTtqlv9ewJXV', 'spotify:album:5fKL7vMTXvhR9tov8Kqt3u', 'spotify:album:59Tni3gA1OczshFWTMxmbo', 'spotify:album:5qHjA0aU9vt9c2UwDeEGjS', 'spotify:album:4rTrbTxqjHtjle04l4blOV', 'spotify:album:2guirTSEqLizK7j9i1MTTZ', 'spotify:album:7mhk75WqSVNIvxZumfCdvu', 'spotify:album:6ohX7moZZnF1FwYrli1OJ6', 'spotify:album:7ysDeat0kDelEE7M6MUwXZ', 'spotify:album:1xHWwGSoF1DNE4hqgBRkJX', 'spotify:album:0NV96Rqo10ytbCHlR14E8r', 'spotify:album:24E6rDvGDuYFjlGewp4ntF', 'spotify:album:4Io5vWtmV1rFj4yirKb4y4', 'spotify:album:5LbHbwejgZXRZAgzVAjkhj', 'spotify:album:0ZhGG0DUBuvVNyICBnHlpZ', 'spotify:album:7F1dp39OljDwaJes2ruO0w', 'spotify:album:401V2sVeZfq8bjBqojsPRb', 'spotify:album:7BpwkWqF16bL3L5TIqireM', 'spotify:album:7xk1Tl6UZ8OALZkFEagPsM', 'spotify:album:30mXi1BVpzrlrncFYwWjWg', 'spotify:album:3jMUfZpBUTZOl91khbj4ic', 'spotify:album:43NNW7iDuAE8pIouzvwWWi', 'spotify:album:07cWSvrkFTgaQGYh7M1cCt', 'spotify:album:3APVCDFvi77ex2VZxl4pWS', 'spotify:album:3smHEWBKoqDUFuJrV8BCg1', 'spotify:album:4KnWR76aRieR6QREuid3y7', 'spotify:album:4eUmncMYQRg0Ot29KKqbuk', 'spotify:album:0x3uUHhj8bCoM5Uzi5FNIv', 'spotify:album:3DxLga8esIW4kag2FGPWMI', 'spotify:album:0MomEpdhFU5YUXQxr47kxe', 'spotify:album:4YLvPRA05HFduTusoq4Sne', 'spotify:album:6nZQaZ0is5KhtuJeay9wxP', 'spotify:album:5OCg9OWnL1PY4tW2ON8ssj', 'spotify:album:25uQbh16wllWga68eUvDB7', 'spotify:album:0eMkSSaQQ9cWk4l07WPRPy', 'spotify:album:5cUiPJUUMfNQr0ELSDGscs', 'spotify:album:0HX6Lqi58R0eCWR5LKIrkP', 'spotify:album:5fTNeCEV1GcmOSmo0y2ceX', 'spotify:album:1lZahjeu4AhPkg9JARZr5F', 'spotify:album:3i13RcPnJ0AkHEamweLGhq', 'spotify:album:10aiDpdFGyfCFEcqpx6XTq', 'spotify:album:5Z62AU91ftqaWtTllfvkvr', 'spotify:album:0dZB8UHYsM7jKmm7ByzAVq', 'spotify:album:3VdXq4YQIt3ugs05SjFmsD', 'spotify:album:1VlMcoG1aI4E4kBIVoH5cp', 'spotify:album:4nO7EUWCOzqHK3iGDXDzzU', 'spotify:album:5WwXMygJ3dQXk3S6mDDfCH', 'spotify:album:5NH94cATqx5fjBE794xZLy', 'spotify:album:4VsKb9RJl0GdvVWtjaJg9k', 'spotify:album:0dAD49L0BeGHuxXeyjEq4o', 'spotify:album:47ZlUaIT7HQeEzOioXrRj6', 'spotify:album:0HogGfosAvj4tF3GTv2KIE', 'spotify:album:69ny9Y7VrjVP7JNK0xhYke', 'spotify:album:6MCNMOCRsh6nxs7PNzc0zN', 'spotify:album:7aiQ0WWBBC0HzeI0PgGYJs', 'spotify:album:2gToC0XAblE9h3UZD6aAaQ', 'spotify:album:4UMjBXcRqIgMZ1XumU2x5T', 'spotify:album:6j6Zgm7vzAZegr48UppFVT', 'spotify:album:6cEJTnEqJMbqhIKiwWBLko', 'spotify:album:4jd0qgZ4gaHW6b0lgpZKWk', 'spotify:album:4vUXTcKz7tXxrNl84meN6i', 'spotify:album:64peTvbTLBDeSBu0GsCRE4', 'spotify:album:72olNArm75vOycSziqIX9Y', 'spotify:album:5gO2acKSOaJnP0Mcy8IpU6', 'spotify:album:1QBU2iq38q3Y8PWlBhRFzk', 'spotify:album:4WAujFDGR5UdnGpK0tKy2v', 'spotify:album:1qKYc6GDWKNj3wbQpD5hXt', 'spotify:album:2kyTLcEZe6nc1s6ve0zW9P', 'spotify:album:4ZCT6K4mFgQMC5RXdXfhjb', 'spotify:album:6DMUAqxiFfLdqXv0vqcrQA', 'spotify:album:1To7kv722A8SpZF789MZy7', 'spotify:album:4R3tXoorBpHji6Jdms8a4Q', 'spotify:album:30Perjew8HyGkdSmqguYyg', 'spotify:album:6IQxEwIABLLej0bEYdrB0V', 'spotify:album:2zJcrLrN7EAcDYXm4j99k1', 'spotify:album:3XbMeJ9zrtH806HuHWkZF2', 'spotify:album:4Rvc82pV7HCKZyRHbLWCac', 'spotify:album:3YDm8Vu6IOjjVdLNHlJtj0', 'spotify:album:63HdXCn0Xz1pRZc2GzMw7k', 'spotify:album:7c6A82iJXXYlZq2huhkU3E', 'spotify:album:1HASBGfr6eXmuCUXm8jhhM', 'spotify:album:5B4PYA7wNN4WdEXdIJu58a', 'spotify:album:1WJ3UbOi2QYGuRgXCc9FIV', 'spotify:album:3Z72KfamjH9Wc5m9mgVqI7', 'spotify:album:02w1xMzzdF2OJxTeh1basm', 'spotify:album:20mh1X1FQQidKMu2XypyMI', 'spotify:album:6jbjx0LGKl11H6UtrgS2nV', 'spotify:album:5lkNnHVlnCCCV304t89wOH', 'spotify:album:6epR3D622KWsnuHye7ApOl', 'spotify:album:6tJ0Cy3DitXaUQh6TB1Y9w', 'spotify:album:4skqOUXyBUnzxVPNPxrGWV', 'spotify:album:5eLVoIPq7P3Bu29lVgD4x0', 'spotify:album:2SaYqv9d4lxLBm5nYPJHWh', 'spotify:album:0NrZHZ0y5kTO8EHliuUUca', 'spotify:album:5KmHLqummeGUiCexCkFEa4', 'spotify:album:36k5aXpxffjVGcNce12GLZ', 'spotify:album:2kqn09pydzvKvB3xWbAxY4', 'spotify:album:2UCyiayMoJOwBilPLQPQvK', 'spotify:album:6kLRZzu2brIRW2nIHyy6z4', 'spotify:album:3pWJFrSX6apPzt4inM4zXt', 'spotify:album:3zXR5GOXPq0Uc7tWC9fO3X', 'spotify:album:7qqCw47pAWFzhwTpVRd0zE', 'spotify:album:0CoiTAUBiO70lic9p9Lboq', 'spotify:album:5ImvJCAX33Pt2XGMaYaMia', 'spotify:album:3StpQT9Qd87FSeWeQAdg1h', 'spotify:album:3BB1Pe1PfijkrftFVmBEBs', 'spotify:album:2qmNh22xTORtqL9oHfqrQS', 'spotify:album:2gXTTQ713nCELgPOS0qWyt', 'spotify:album:55ErdDg54WTAEySb0r7yzb', 'spotify:album:1uuSC0RCJB3dSp8Mb6GflZ', 'spotify:album:72c3ugX0yPaFCtEuHPDXaY', 'spotify:album:5gCo4z8XZ0T16nJmnw9wnG', 'spotify:album:6NoBzYmh5gUusGPCfg0pct', 'spotify:album:3Yk19X5zgXDSrG8uqrPnXC', 'spotify:album:1ypH0eU9RcE6wngSGSqmeY', 'spotify:album:2LkWHNNHgD6BRNeZI2SL1L', 'spotify:album:1UR8sxJvEYKJRmKWBaHh67', 'spotify:album:6bjFeCExXDbBUd7volJ0o5', 'spotify:album:4xkM0BwLM9H2IUcbYzpcBI', 'spotify:album:71xFWYFtiHC8eP99QB30AA', 'spotify:album:65OwxsoVvJztqS3wSCyGlL', 'spotify:album:0pF0oyuPNdOObniB1Ng0kW', 'spotify:album:6se6q5nk4VCVbWWnZcguCc', 'spotify:album:6rnzvZhe3PA57xKcKLRtJ6', 'spotify:album:0pMPk0E9YCgU1PzxDViKf5', 'spotify:album:6p01JdkB7ry8iAf4IuC1Lv', 'spotify:album:6S3ZHdLQRkuknoivj0xS8e', 'spotify:album:2gcqSlK5xTxcpuLZ1iik3Z', 'spotify:album:77jAfTh3KH9K2reMOmTgOh', 'spotify:album:6NQ2RNksdSKdtnlFOLJo24', 'spotify:album:4OmqJXPhD5FOqwdg5tBsnu', 'spotify:album:0zMLyv1kNV2B0LDGEK2RbB', 'spotify:album:0uMIzWh1uEpHEBell4rlF8', 'spotify:album:5IDGBfcVjwMoGPKOsfyXLN', 'spotify:album:40LbnfieVTWtHrK24WQeEB', 'spotify:album:3o99825qhG7K7D07naRs4F', 'spotify:album:259fprFM35HqQLjnsrZNVY', 'spotify:album:0rSLgV8p5FzfnqlEk4GzxE', 'spotify:album:55bbXORm6ZrVq52zfZnxBf', 'spotify:album:0K4pIOOsfJ9lK8OjrZfXzd', 'spotify:album:0KQDN58Lz8CXOsfIG6tQ7X', 'spotify:album:2cX9e3renOX5bUQEXWFrJr', 'spotify:album:2V7Z0e4YnXyNfpoK3cYIGp', 'spotify:album:5jfuIbTeaLhBZxsCVv3QyM', 'spotify:album:0dzeoQhVNzKkwM5ieOJC54', 'spotify:album:2eV6DIPDnGl1idcjww6xyX', 'spotify:album:3rDbA12I5duZnlwakqDdZa', 'spotify:album:4sbZHOW6I2LTTjlRJbhVtA', 'spotify:album:6gRVzufIFqLpTr8LUNamWj', 'spotify:album:3Kbuu2tHsIbplFUkB7a5oE', 'spotify:album:5nkgosKhWt1yXRzmjXNV2d', 'spotify:album:40XGTQ7FN6Y3dZXJhKBe96', 'spotify:album:6Zpf7RlSRIavYGwvsuj94C', 'spotify:album:75kX486cBBkuaLkZGjBptl', 'spotify:album:2hNgR6ZGiEnIKl7aFkaSyA', 'spotify:album:5m01tty1948HnkXUhG0urw', 'spotify:album:19EklIEq4hXaKt6jNBTvXm', 'spotify:album:4PgleR09JVnm3zY1fW3XBA', 'spotify:album:5GykKNn2KjofEoA8SpNnuw', 'spotify:album:4lVR2fg3DAUQpGVJ6DciHW', 'spotify:album:7F2E71riKnBUpeu5VFmcDI', 'spotify:album:5qeKpDQFyotJjLh61pUZQo', 'spotify:album:1j0apvEvaWbTmlZpKsfr2D', 'spotify:album:1fgSS7d1R3fin79TUkhuxW', 'spotify:album:3nxlM2DFwij3JVP55yNRya', 'spotify:album:4WLBBrag22FKHEEFMy4AFv', 'spotify:album:6twKQ0EsUJHVlAr6XBylrj', 'spotify:album:0QFMqnSP2kBMTrbfNkj3SB', 'spotify:album:3qoMadqfValFjOdwKh9TsL', 'spotify:album:5MxXY7DbFMUiHFTPUabgJJ', 'spotify:album:1Jmq5HEJeA9kNi2SgQul4U', 'spotify:album:2e8nzTZ0HtK94IifOWgN7o', 'spotify:album:3yWRq9Dd2UO5xyqxTjLDmp', 'spotify:album:46yAYzRhSMPA44m0MzSr6g', 'spotify:album:5YLRVHDVRw3QqWbeTGpC5B', 'spotify:album:4OvZxAPXffMV0LYf9DzqUZ', 'spotify:album:6zt4678UXSVglciM8zOFw1', 'spotify:album:7hraatQiNd3Ye6FkSTQbOj', 'spotify:album:4aaJt5nTQKFOr96FGF0Wzb', 'spotify:album:5rhAHVyLgOU7V1Fvwke1UO', 'spotify:album:30PoPzX7vW76jGToGvp8zL', 'spotify:album:3yJTnFHeDojQEa0LdfVQ1C', 'spotify:album:7ygK4tK0qSpdlMau3sBnO5', 'spotify:album:1GDq3ZgaXQw2WOeG62q1lI', 'spotify:album:4jndjHZNhKX5gXUVXTi4LH', 'spotify:album:21cao9LyIbuDwVxKBn7eFb', 'spotify:album:69p3SPXFemC5FotqR7uGcw', 'spotify:album:00QJ6bXf7b4k8WO7mVgX4g', 'spotify:album:2UQxTDspi5wbrkgHaJ0KRs', 'spotify:album:5DT7PZVY50nSK1HWHpt8Kk', 'spotify:album:4iRlrw1I5IXYg49fC8jVCc', 'spotify:album:1O1nyYm5SUm1CCdmE5gyKN', 'spotify:album:2juK3lQuw2PDkHgznOwfqT', 'spotify:album:60DeFVKhMRfPq3TBQdNvpH', 'spotify:album:0D6WqIi4oRhWI6lApKIdrO', 'spotify:album:6CCoOceNV1wB4dw3Sw4XCG', 'spotify:album:0EWEajVe0Hpe3nDvGG1i3f', 'spotify:album:4i8bBIPi0BwcTp9NMyfkZ9', 'spotify:album:7tMbpYu7HoxN5B3vww6cAA', 'spotify:album:5TIsOman7EvQkCOe1LvGt3', 'spotify:album:40P6d6VGfGVTSiJU69dDm2', 'spotify:album:4F7DNG4XaKfSoyf9u72a75', 'spotify:album:1G4PB5RWEy9of1YacsKPUz', 'spotify:album:6JoSqtayzPH6zA8pkQSDrB', 'spotify:album:5Rw8q2mLMsTetbyR8PazGt', 'spotify:album:2G5DerLgpBRGRb7oq53DJ4', 'spotify:album:3CZy1PECcq9DPvPlJnch8S', 'spotify:album:5O42JuPx4XiSErqLM9a2Na', 'spotify:album:7K5p2YIJnOhFEs6OMYtBbv', 'spotify:album:57wjv2FzXmuizNmYEoaP1P', 'spotify:album:0lHdnag5DIjHk0OG92Xn0N', 'spotify:album:3eIdxEJgbOm1eRoWiWb4yL', 'spotify:album:5e9lUnOjElMVS0PWWiQ3qa', 'spotify:album:6G8xSsjSnQZGNcJx1qctVI', 'spotify:album:0e9WrkVzzFzoP3E0GwAd8l', 'spotify:album:7mSBBTJDIIMIpKyhDMaSME', 'spotify:album:0xvwAd1sHTF8Eq1bjnRqyw', 'spotify:album:1A2ZhhsKu1qzEKM3RL51nK', 'spotify:album:4qUEyTqynqE5pjNE9Qg9S0', 'spotify:album:70zjKqpAO7faWjYVbxLHdX', 'spotify:album:4DWB1x3QUkFL4ykNzqGBX0', 'spotify:album:3prtLYlcrOJy27FNNmym5x', 'spotify:album:1P9nuT6SAeKZOY6AfZatcd', 'spotify:album:5xuN42ltNDWbkCvWKuQNKW', 'spotify:album:51b0nhcuk57A2C8fGY4xdP', 'spotify:album:1ajlHwthbgnoJ8aDbwKwyE', 'spotify:album:6eAdvfUO4MyTNcEcazGW2J', 'spotify:album:0SijqGUUCbaYy7jk9cCBSg', 'spotify:album:11JHRCPKllt4DDiaaBi3Kl', 'spotify:album:2DQHgaOMVOs2OKLaksiMx9', 'spotify:album:6teArUjXEHY8nEbWiOf1Hq', 'spotify:album:0RHX9XECH8IVI3LNgWDpmQ', 'spotify:album:1r9uK2UaltNuR5rX3poKmy', 'spotify:album:6DcQ0gH9Hxp42PvNBoo5gX', 'spotify:album:6k3vC8nep1BfqAIJ81L6OL', 'spotify:album:5CZR6ljD0x9fTiS4mh9wMp', 'spotify:album:628mzd76o1S71Os8xfDn8j', 'spotify:album:0lw68yx3MhKflWFqCsGkIs', 'spotify:album:07Fr36M0hRPJrSJMFWGnvD', 'spotify:album:4nKfZbCALT9H9LfedtDwnZ', 'spotify:album:2KsgTeLQXz7yDV1joGOd2L', 'spotify:album:4eIIhlbOicFmydsRuCV8z7', 'spotify:album:4YArB2Q848BDmmwUUumEFP', 'spotify:album:7KkiEooAVT3EyqQMOl6Iah', 'spotify:album:0E4xv5gPjykrwBgBZzI8XG', 'spotify:album:5QqVXRTiGpLgmo1YNoz9Bk', 'spotify:album:57lJNxlrPSin9SySEnerNb', 'spotify:album:7iMybHeeEiPQSEI0TG3pdo', 'spotify:album:0e87bN6benf8fhvqtcly35', 'spotify:album:3oylWMc9TTC6Nx4I6U3axc', 'spotify:album:23PusidYfyDzIC8X9l640f', 'spotify:album:1wKwGLPJl68zYLaA0Od0vc', 'spotify:album:7CzrzGbCwqT8Y43tvIUPBX', 'spotify:album:0YcQyzstsSbcnLCk4h7AUh', 'spotify:album:3CDM5os6kA4y6mYYGukMIZ', 'spotify:album:0JwHz5SSvpYWuuCNbtYZoV', 'spotify:album:3XsOzkIBoHsxZ7jP3QF2oB', 'spotify:album:3XCBGh4tuBd9UXGYUudjz5', 'spotify:album:5X40XkUkJ0YM2w4S2CStrg', 'spotify:album:3yddXawPNWK9qUDqB2UMY7', 'spotify:album:7HRbybmcHz91kPl3XYdm9B', 'spotify:album:79x0PRGIZv33znrCkPkCZ5', 'spotify:album:14IYDXybb1XKu51QHDryak', 'spotify:album:784THwrPRbheFoUMDEpWh8', 'spotify:album:0hPXaSKyujqCej452raazD', 'spotify:album:4OvTGO8pAGafsfSmwEhXyU', 'spotify:album:7sm5NEXba842nQEOpM94FY', 'spotify:album:4KT6G8fj8EEIfsyr75hbgc', 'spotify:album:0rmhjUgoVa17LZuS8xWQ3v', 'spotify:album:5l3jo3oe2M7KM37SIeUzLc', 'spotify:album:5S9b8euumqMhQbMk0zzQdH', 'spotify:album:47enZlu6ssi5aFaAxHc0wt', 'spotify:album:7o2VLivg95UduHjTMTIEIf', 'spotify:album:7m4d3jbswZ7fy8aeLAcbsa', 'spotify:album:0vrIRUpI2gB2QqOUQEG05v', 'spotify:album:0ecUmBX4469DFW5iWkuHia', 'spotify:album:5D20ZzsNB377xbshIFP9Nb', 'spotify:album:60S1WVKnxsYjVrSl5jj5rw', 'spotify:album:5ttIIMPWCp2bvwsdAPcEXC', 'spotify:album:31oyGwiewTzgbSLuE9tBgy', 'spotify:album:2SVnr4t5nRzhmKAT3YE0mn', 'spotify:album:6tVih0dRzgCchcTqH8WNDP', 'spotify:album:1NAjWuELiyrM0RoQfNbHWb', 'spotify:album:32ZHgC0LuRgS10QUiNHZKK', 'spotify:album:1KusR4da6WsjVySRUNRO3O', 'spotify:album:62GbuN0YhO6jAggFCaukWX', 'spotify:album:4SKnp9LlgXiEeVVud74fTS', 'spotify:album:1tdkgJofTb9Q8NNC8Gfuxh', 'spotify:album:1Rt1JCTjjtDRrY9FHIwzKx', 'spotify:album:44z2k1OcFWSN81CI6YCmWy', 'spotify:album:2J3oEeOGKOD3G0HtNO4w62', 'spotify:album:2tPNtiaGp4MD2gjlrfxmr1', 'spotify:album:56JpDb8ezFfUm7IyYxoxKK', 'spotify:album:5y3wpUTsIatqZCQjlE82N5', 'spotify:album:2QLp07RO6anZHmtcKTEvSC', 'spotify:album:7MejfRSNnrpcLZIxkeZDqR', 'spotify:album:53PBYiedQrASAs5sy63JqT', 'spotify:album:44Ig8dzqOkvkGDzaUof9lK', 'spotify:album:5z090LQztiqh13wYspQvKQ', 'spotify:album:0c78nsgqX6VfniSNWIxwoD', 'spotify:album:4euX7BHHIVZecdn7Ii3eg2', 'spotify:album:71SdSYZuuy7fCWbx0iqtac', 'spotify:album:5rtOJsiDDjA9V5306cyTRS', 'spotify:album:31q47gQszFt0CddSyMksgO', 'spotify:album:7j6HilCQwlaGWopfoqz7ON', 'spotify:album:4gouGcdQn9OvjX42xnWrF0', 'spotify:album:7dsWupQRlFuhG8FGiQAUjC', 'spotify:album:6Jnw1MZ5lrICgurtzc3WqB', 'spotify:album:2widuo17g5CEC66IbzveRu', 'spotify:album:2tWvZmP9EVRYqmWyJPLzjP', 'spotify:album:6TLTd0P2CUI0Q29AQ1LyFi', 'spotify:album:3JLNft8uUVcQLxB8tKX3gg', 'spotify:album:6Cf545T4jkaiyvMnTRPOB2', 'spotify:album:7DdEbYFPKTZ8KB4z6L4UnQ', 'spotify:album:3bzgbgiytguTDnwzflAZr2', 'spotify:album:4M9csrFM1XVEpwMeYUBRmX', 'spotify:album:0GBrlPh90D25SQ6EJu4VtT', 'spotify:album:1ydlm89JR8cV8VuSaNvHNL', 'spotify:album:2Y5GORWYwVAZ8msuEuh5FN', 'spotify:album:0Xwkx2TLFwRcoK0OWQ0Msa', 'spotify:album:0Em8m9kRctyH9S3MTXAHvY', 'spotify:album:3PkdGRruLnJ9zCtANiDrpB', 'spotify:album:6LRJF97hgXHj8uMLHyCDbh', 'spotify:album:51B7LbLWgYLKBVSpkan8Z7', 'spotify:album:1n9rbMLUmrXBBBJffS7pDj', 'spotify:album:5WZFtmADuJUZPtt0NER0Qi', 'spotify:album:7Jigl7PJCgN4mAODbJYkFT', 'spotify:album:57GMEh9tkmc1TGs4rcdVhN', 'spotify:album:6DExt1eX4lflLacVjHHbOs', 'spotify:album:37oy7Ti9xfebvoe7KPEGIw', 'spotify:album:3OhZTb3unARrvpYc0STkFM', 'spotify:album:30sgpxWf6U9417FySmLEGK', 'spotify:album:372cMadhAGlNuDnc8TssqF', 'spotify:album:1Jv2AqzhgsduUik2p4k3cS', 'spotify:album:70lQYZtypdCALtFVlQAcvx', 'spotify:album:3ycjBixZf7S3WpC5WZhhUK', 'spotify:album:3REUXdj5OPKhuDTrTtCBU0', 'spotify:album:1w7JOjdpfTBz4rvhWQDWJz', 'spotify:album:5yqBTSoJqE9EfApl2Pptva', 'spotify:album:0M2KWMbvY5x1sUnIKNpyUt', 'spotify:album:2x1Yi30lsWJUoBj1kmovnm', 'spotify:album:1sW1HxI9VppbiXqgFQHVCP', 'spotify:album:2iCHyD9XHtA3vJFJIuXzqu', 'spotify:album:3D9JqZG5Q1ptOJr8ZQ0j7I', 'spotify:album:0RLw5OMSYJ9FNUJvBTfHzU', 'spotify:album:7rqgm1BnAZ8I4d6hukpkdg', 'spotify:album:4jxokHekH1qSad1DcC82ku', 'spotify:album:0nuPXgAXAfPmz9AW1PPrlk', 'spotify:album:708Whrc4abJEtqBINv9S2b', 'spotify:album:0siomtYa15lZBHSI66bNfP', 'spotify:album:0PRgsdDXQ8QPaDUetVF7yN', 'spotify:album:7eqBAR9pblivMBOI70q2um', 'spotify:album:7IHuFGc7AcmhiayLrkCtmY', 'spotify:album:0MLCxvyIfAuh5xwPORv8p6', 'spotify:album:25K5y3lCpNcrRcfsoU1asm', 'spotify:album:4wVHvawxZy52Oemd4sGyUm', 'spotify:album:5phxHbK2GSr7hEu4orLywP', 'spotify:album:1BD9WvduFaoUHDUUGAr9Yt', 'spotify:album:4krv5xmTGdK9LhWINUkVgO', 'spotify:album:3O59NzKXBD0NGaqpDtVjie', 'spotify:album:3LhyUnz6C7GdN80PaH7zXa', 'spotify:album:6TwlLNU5Zd9qGuNgSLeWPt', 'spotify:album:4h1e47X26VQHXCjNZZ5P3v', 'spotify:album:4Gh6pRaXqXTtJx4plAJbBw', 'spotify:album:3smvpv7CdrhVcGYaNDLOqn', 'spotify:album:5GlPAy2PRJW06GVFhKwGTl', 'spotify:album:5yYFrOnqG8cEciKnsxHz2r', 'spotify:album:1HiN2YXZcc3EjmVZ4WjfBk', 'spotify:album:6X1lkkRDiOivjt2Y1UtVdA', 'spotify:album:7Bh5oQckPzHqO7GHVGY5LE', 'spotify:album:6301sWkK7hVwcrhcEwKPcH', 'spotify:album:6kf46HbnYCZzP6rjvQHYzg', 'spotify:album:67JIEtnPssg757z0tvgAcf', 'spotify:album:4eDxmXSdCErBVeu2cRZ5hP', 'spotify:album:1FZKIm3JVDCxTchXDo5jOV', 'spotify:album:5GFNkpB5E3L6LFlkqpQvQv', 'spotify:album:6wu7tiTr8zchRG7PWwTOK1', 'spotify:album:4do8v7rn5kSlH98AnV12P1', 'spotify:album:6OwbAeCAH0qPJ7NZA3O0EO', 'spotify:album:4WsNWsROcn2mnYXWgrsLqq', 'spotify:album:4fBqQQJK4TKPHTGPAzmFCC', 'spotify:album:2W2X3BUJtw39VeT7jSGd4r', 'spotify:album:4Ip0NEIF3WAWh5QmqKkx6H', 'spotify:album:29O6CotpIYRJj61l842Ec7', 'spotify:album:0rNpzCr1xpth9rycOtZh0G', 'spotify:album:52BxuML6DKN5OsBIXYWHEB', 'spotify:album:6QrGC6NjL1xjMOhJQIiiux', 'spotify:album:4jZU4fyxPjway7vHJsWoOO', 'spotify:album:4txi1wxQuswExI8OaCHPKQ', 'spotify:album:0qMbfvhVcfLkCIGrjUlAja', 'spotify:album:23pM83jp9nl1325SiAmCwk', 'spotify:album:54bO9jrn1NExmpg6Afsc2A', 'spotify:album:02gH963ro23jvFuWkBds0s', 'spotify:album:0cnNCK2xpudXjB8pzsrYy9', 'spotify:album:0NQ6Dn9si4mgFKoRoBGkn8', 'spotify:album:2NauBynslhNjePGjGcN202', 'spotify:album:4o1jHCrMnkiRMdFpyCnNaH', 'spotify:album:5ddpf5pxYjw9ob4DjPLuiz', 'spotify:album:0gyRFAfY08NFv7N8RTFg9M', 'spotify:album:48SrarUhE6csdPsGbTAgEl', 'spotify:album:0VYi6aRMwxXpfvNwDCr3bB', 'spotify:album:0gtU58GVllHFpZzIgLd5lV', 'spotify:album:3PYk8e7eo2t5CA1Y3AvhaG', 'spotify:album:6qb9MDR0lfsN9a2pw77uJy', 'spotify:album:5OZJflQcQCdZLQjtUudCin', 'spotify:album:5JpH5T1sCYnUyZD6TM0QaY', 'spotify:album:5FavjcaDyf8naLuVcP2nR5', 'spotify:album:1XoZXbaY5k41bIxBekZG5b', 'spotify:album:2r1iXEfyFZaYSmthwnKGGp', 'spotify:album:22cFcAQkydpTzeSKQZEKv0', 'spotify:album:3yhETmhJwSVSLGDyTJgnqo', 'spotify:album:2GXBbakBxezU9ei9nLhAXI', 'spotify:album:7zuqkqhGkTH3PSdywhLgY4', 'spotify:album:0iSRofVrTOCOs841JkSgwk', 'spotify:album:4aiYZjnbNsGa0ccNQyTm3V', 'spotify:album:6PrcsM0LNzEYEmxvLNTJQN', 'spotify:album:7n2OEdfF8dac71VQEekeP0', 'spotify:album:2ztnrpo6EzarVTkkRk3EcD', 'spotify:album:4p9dVvZDaZliSjTCbFRhJy', 'spotify:album:3VfcbvbaalkDLRCIplPj3e', 'spotify:album:7Kmmw7Z5D2UD5MVwdm10sT', 'spotify:album:6Xi4dJ9SudvC0ZoE5Krh3G', 'spotify:album:7HBKKw5pJLNj6mdRLb1KG3', 'spotify:album:54IMJ8S0redmP6krSlKZLD', 'spotify:album:4PAyBqzCYoIIjjPFszeqgT', 'spotify:album:1BJMCEXQ7JmuVlJ6cYbe3x', 'spotify:album:4EK8gtQfdVsmDTji7gBFlz', 'spotify:album:7xpjpdislqMXOCw5xsDt4g', 'spotify:album:6iKqPv9C5oU29LR82N8lJf', 'spotify:album:0vBxqUHwetFn5jCwAKX7Uk', 'spotify:album:20H8EV43UpeAHF35ivADsz', 'spotify:album:3MyJIgsNrnzy0ZRcLEVu3e', 'spotify:album:1FtH1WWaGL1OvhTMAMw5XI', 'spotify:album:4u8WQJuGK4qZEHDb9y4l7Q', 'spotify:album:6dpT05za5nh7IQWtfBdfEK', 'spotify:album:4oktVvRuO1In9B7Hz0xm0a', 'spotify:album:7A8fZ2jjiu5heq7wNCutKN', 'spotify:album:37ABUtLPqktcopsBJ7jmXT', 'spotify:album:1oHY6eQmEG8skElDvFgKz2', 'spotify:album:08iSi4GIyoDt2zSvNyru7M', 'spotify:album:5g4E06cxsFEMFE9hSekAt2', 'spotify:album:59XIzmDorOZjehHcBAyA3J', 'spotify:album:3T4tUhGYeRNVUGevb0wThu', 'spotify:album:5NMQ1I3ME6BZFyBiABNsdl', 'spotify:album:72xhsdVmVWFXJuSjABjqtC', 'spotify:album:3wxabU9l3JMkb3UcAI7CI3', 'spotify:album:5t54vdZ7HdfogMEMKVfRR1', 'spotify:album:2c0sgdPLDcNkjXGVTihxya', 'spotify:album:3mN4QrBX6pOg0LcdhzT5Bi', 'spotify:album:1shlAIeCnK7JafMu8LcM68', 'spotify:album:4JPguzRps3kuWDD5GS6oXr', 'spotify:album:3MkcfcWjL0cey5ugIsDe2i', 'spotify:album:43URJ507cdoIRy3GJdfxjs', 'spotify:album:1QhonXpNQq8wrGEKX0ofbk', 'spotify:album:6PmuEq2op3EMw1ZhCjjucB', 'spotify:album:2VmLk5bAd5QjLtX7cHm594', 'spotify:album:1rpLjvQfzQAeZuRVpyMkh4', 'spotify:album:25Z3GFmKx6ntosMpCSngnI', 'spotify:album:5iyJwtJJoTLFLa0NmiJeYx', 'spotify:album:30QoUTsSdpQuZunPNFsLnm', 'spotify:album:2TDuXjtpO4tdvm86KVNMk0', 'spotify:album:1TkwzY3l4LqAfrQwBAx45Q', 'spotify:album:0nW0w37lrQ87k7PLZvC4qJ', 'spotify:album:3cQO7jp5S9qLBoIVtbkSM1', 'spotify:album:3zRcLPFlbstom1vCWT3y9r', 'spotify:album:5Eevxp2BCbWq25ZdiXRwYd', 'spotify:album:3DYUTCofeh7LlkuQncKzap', 'spotify:album:6MSOHtUiG49Grd7BdZrRUm', 'spotify:album:44W9VWwamOCncBJtzbMUkk', 'spotify:album:3HJiLDJgWA9Z0MvCxlzHYQ', 'spotify:album:394iVM0BcR0DTb8AoNijdg', 'spotify:album:4jdJSsxnZM4RbRxxJ8TO9L', 'spotify:album:71o4Eq4gL2QGUb1FOey4G7', 'spotify:album:4hn0zhFiaWgWgA5I9POoA2', 'spotify:album:4uDAyNO819g7fiZBdkHQGw', 'spotify:album:247KCXJJqEGxii7kfI4NZ2', 'spotify:album:1JFmNyVPdBF1ECvv4fhpW4', 'spotify:album:4TJUrdwbeKC9qcouPlBuLe', 'spotify:album:2PXy9USZAoTSdtrxfkPBnl', 'spotify:album:6CvDqzAy3kotkd17lDraxn', 'spotify:album:5GOHOQxjLxkcW9oXPJChBf', 'spotify:album:1XjQdv4eIOJNqNMUUnSGCk', 'spotify:album:3qfJA3aAu7nKEJjJb08YDg', 'spotify:album:0lUaIHoBEbk85zZz5oZT0y', 'spotify:album:03ntx95u0wotf68NnE3aGw', 'spotify:album:0NvirtaDCaZU5PAW1O5FDE', 'spotify:album:5lFvZh6pCTJzr9UStebyCF', 'spotify:album:7qE6RXYyz5kj5Tll7mJU0v', 'spotify:album:6rhe02ppDhYAvPmavWeBkZ', 'spotify:album:0EFitK3T7hqin7iGMbpltM', 'spotify:album:1TGwCuVPI0jQIOknItuTvc', 'spotify:album:11vjbOVFGoGXWFQF5PwzUN', 'spotify:album:6pDQs06Zcc2Q4GPkngmJbv', 'spotify:album:6rIbiUMmZJfqJRnXhVxFvg', 'spotify:album:0GrsyGe54U6ftyvfrA6aIi', 'spotify:album:7IbXPN9iNFIBMutzPj6NaZ', 'spotify:album:3SNCFg4bu74beanI2G5AeM', 'spotify:album:4drUfNemILKYJl6BHK42nf', 'spotify:album:2XlLP05nQtmy70mvHnV7Js', 'spotify:album:2hyDesSAYNefikDJXlqhPE', 'spotify:album:4cKBAg2zgjrVF2XefrW4WC', 'spotify:album:20OPxsW0aYB6InxDImJRdt', 'spotify:album:6R0ynY7RF20ofs9GJR5TXR', 'spotify:album:4KXLjIEas8MTwwX3xpmAdC', 'spotify:album:1WGjSVIw0TVfbp5KrOFiP0', 'spotify:album:1V5vQRMWTNGmqwxY8jMVou', 'spotify:album:1Xsprdt1q9rOzTic7b9zYM', 'spotify:album:6MzrSTAQdDR92tHLLAhYp0', 'spotify:album:6Fb9nn6E2gMqHG6sWp9R9o', 'spotify:album:72fx005Eok1uET27uqssxq', 'spotify:album:2ul2crtAgmZVIcCUZ8zb4w', 'spotify:album:5EGHyHKk3InwfWpwr9hoV5', 'spotify:album:71P81ODnpkKeDQOVlnAAEd', 'spotify:album:0F076g2OEpSny7QMyyRRsU', 'spotify:album:1XTBf3TRhY46bRt5clik1p', 'spotify:album:1glsDIZI9OpQQ1rNNk54xl', 'spotify:album:0yqRJ6uAorZ73Dp90yZ7uQ', 'spotify:album:0DXzTaMzhm1ojc6b5H3PaJ', 'spotify:album:0AZznwvACPJ3SFK7vBFos0', 'spotify:album:4eDGpwoD0tZXHSBFql2Ex5', 'spotify:album:6w1vPjL0gu6J2qzcC2TzzE', 'spotify:album:61KTKfjFX7exj2Od31ulYA', 'spotify:album:2JVchfGAOejBNAA2mc2bUA', 'spotify:album:3VThTmMrzPDzNFSnzAUxqC', 'spotify:album:1ROVEUk4lc2vD4a0IN1TWS', 'spotify:album:2axcYaQbzEWASvD4J0OjRG', 'spotify:album:5l9xEYHyPmQYTiXHbqlydt', 'spotify:album:1yiRR1b7JjeyJivEaUsVCe', 'spotify:album:6Rkm6kbTaw7ViHDUrhWa1u', 'spotify:album:68pBVLvF14n0d3c6BYlOTk', 'spotify:album:35Eb5SiBa2J4BSwFqrIX61', 'spotify:album:6MuWCR3WPjwyKhqsTKLZ3z', 'spotify:album:7pzwt3MlcxBDbLwfKXpOuW', 'spotify:album:3ruSCcNKDkQ03BskewAR2o', 'spotify:album:7abPoR0SXjsHVkHquLrV7B', 'spotify:album:6omvsb1YTJEZHAG8CgQUGO', 'spotify:album:3H4BfzRGLpJ9xMRViR2znY', 'spotify:album:3KHkCXWAJANXQztdpMmKt4', 'spotify:album:5zC2WoRHM1XdRsIT2EQ1QM', 'spotify:album:7HBk57kKtUdegxib7t3Nfe', 'spotify:album:0XedUV6JTQiDfB3ozJJnSr', 'spotify:album:1aNWsfl6osnt0NO7Kubknx', 'spotify:album:1ukpF3eKewIjkKGpu70sKm', 'spotify:album:5cPHT4yMCfETLRYAoBFcOZ', 'spotify:album:3ADELRoZ4I8WLE7clLU7La', 'spotify:album:300EGFtj4QagerCvQ5PXjn', 'spotify:album:2Mh2Q5RDLX8EsF5IbIWenw', 'spotify:album:7l8UCNznxZVcsLTe0h3Tbk', 'spotify:album:0hyfR5zm43TSTt5mRWr4w5', 'spotify:album:1L78MAHMB04EPgZGoJN2nZ', 'spotify:album:0mFDIOqypzHp6Xd0el1hoT', 'spotify:album:4967HGjmvsMtcOZ3AaPfI4', 'spotify:album:59xqFRG2IgFTsZtQ73yIp6', 'spotify:album:3c2TzUftOakyVsesUMgAOB', 'spotify:album:3xCqAU2CP0ktv1yavl3d2i', 'spotify:album:5UIDadF0rMa4LqHAucuMpK', 'spotify:album:6AvhoDJOvrqtTaRD9XKBMx', 'spotify:album:0PEfSinZe0SZliDqXcNfRB', 'spotify:album:1P3B7c85W4mTXHk0fafGw2', 'spotify:album:2ipSXAsBLmvEeVKKbRAL7i', 'spotify:album:6Ch7FqyzX7GiazBlXVdxMA', 'spotify:album:3K5jW2vkunhourPeQ3DiwV', 'spotify:album:0Sgb4DFSyhc6yYwpr6bEBj', 'spotify:album:2PsJuf0H17AqYjmZnqmkUA', 'spotify:album:0PKHzd9oqCLi9PDHPfnngz', 'spotify:album:0FCAIjkz366qJJbLe7RSis', 'spotify:album:0JLnI9ib5sMtVN780xE4Cv', 'spotify:album:0OXvZRSULi7NpXwW3fiFJR', 'spotify:album:6Bomq75jyr2Px0MN25ViuA', 'spotify:album:7eIdlHTVcGUhf6WGGffQES', 'spotify:album:03RGNAEAzMcff5wg8FzbE2', 'spotify:album:67v63ubEsvDUQkYMzI7A9t', 'spotify:album:2MxcbOGFi99D9JACvj74AH', 'spotify:album:2k7ihU5gg81j2qsZkNQoNa', 'spotify:album:5PfFoXGYCOwCyqt71MhQa9', 'spotify:album:2UvU0egYoXsysWkHqQy4Lc', 'spotify:album:34CxcAYNmdugoNQZq2Bl3Z', 'spotify:album:6DlMt7amOn4hXHagjNdkCF', 'spotify:album:5LAeTo4AXWQ3rMjfIau8nb', 'spotify:album:1GhJDkopguzkbRlhaEmD8h', 'spotify:album:5AQ7uKRSpAv7SNUl4j24ru', 'spotify:album:1u8OmwItT46Y1gD2xKAK9D', 'spotify:album:7BEPVoBcHuTLWpcdj8FhM8', 'spotify:album:114sumrk5wTeMWHVin86QC', 'spotify:album:6Q7yIbfFPzplTCBM7d1WRO', 'spotify:album:4p9HfQYiCYWd5fg6yAei8l', 'spotify:album:7l9uIV35NqVTEHa3gqvC3h', 'spotify:album:7HnhPbF2gdb3gufe3vUxJn', 'spotify:album:7GwxgUetlgERKVoIuw7dUP', 'spotify:album:5cE5mPZHpbU2p8tWjZqJOE', 'spotify:album:0f76y2SetY65asEqyesJed', 'spotify:album:600XgAY1N6sRPVczmBogiF', 'spotify:album:4qDqWx1XVBiAk061Aynq8P', 'spotify:album:3PZRrrwPzADgXEFYkw804F', 'spotify:album:57oZp54KFTEyRvLMhhjd6v', 'spotify:album:6N7Py2a40WPHLur7gYpHxB', 'spotify:album:5I3AY0vtZ1aK2w2Dkqypxn', 'spotify:album:6pezlo1IsYidEfzuwznPJl', 'spotify:album:0fYwtCHdnNkjW9XzRrDJsB', 'spotify:album:4lxxyKsTplmAkT2PJTZvW9', 'spotify:album:0llgzDj4NBSZ4i5dYHJw6d', 'spotify:album:2MHqxbn79K6dpo0WJcFKiU', 'spotify:album:5tFoieEkDjaAss8jJC5OI6', 'spotify:album:3u5s5VOQ3zNLg8HEoGIyJB', 'spotify:album:6jfuBG9u0Au2nWXGXTXmux', 'spotify:album:4VGWCKMQK00uxVcA48Ny69', 'spotify:album:6GfKQzHucHLIocjXpNpm95', 'spotify:album:4TFrlUENkLrNjZXMSZZf9S', 'spotify:album:4h0tjU6OtEblavBHGOnZFY', 'spotify:album:6g7DKD0AwTwXecNmv4LGsZ', 'spotify:album:2Ikwvi1jUFdIjxg93aQyYd', 'spotify:album:58wGNG8mnqB59k2e13lre7', 'spotify:album:57R9CGPhzwaV54uT2F4Vbx', 'spotify:album:4IsuDtntzsiVmTTTEP7nQl', 'spotify:album:2EK49El8u15IXCEB2jG9kZ', 'spotify:album:7t834kJtkjoiN1x374FmgK', 'spotify:album:7za8qVGR3wUEJ01pLFcnPB', 'spotify:album:7HUnDmvDPJGVdNwCyyFHdd', 'spotify:album:17b8zmLzuoWmrLjbwdSO4e', 'spotify:album:16ElbnOtY2UgGaPKoLfst4', 'spotify:album:0CYqqFFdIDafAsrYEXkK5w', 'spotify:album:0ja8b5YdGJVr6A4SQA2v9U', 'spotify:album:6pUg9RDDoVyQQVJ48FkmXz', 'spotify:album:3fbJak1k96KraCoZNyvjwH', 'spotify:album:2rGZDtgaNopMScqimif5Ot', 'spotify:album:2JUpjRRxWKUZwVwY9sTXS1', 'spotify:album:0LNmHHs49sHToICuw5Ufx2', 'spotify:album:53ACU7fnyveK5SCWjPlVTG', 'spotify:album:3VLsJrvLxXyarSq5ngtR8B', 'spotify:album:6KbN9ipWBRR5xa5wg4CFtF', 'spotify:album:6r2NtrEC8GsU8G7eCHRxkK', 'spotify:album:2NeJdEWras0uSuzLPlJZk5', 'spotify:album:5AGquc2cY104P5S1nis7yx', 'spotify:album:7BLcea96Wy0Xo7Nm1HqNBC', 'spotify:album:01sizdfN5713iRU00hbIFp', 'spotify:album:3gQerhWK0nFDxmqRZww8Qp', 'spotify:album:63o2Wjzlnv5FsMSuEmT0Xu', 'spotify:album:2DBI4FHJsNsf6cYm73Lke1', 'spotify:album:3rdhHLp8c07rmDpN7lEARY', 'spotify:album:55Fm920hiqUcGhKuv8hjgV', 'spotify:album:6ojPMWx8YMfdd2idb8rM9h', 'spotify:album:5rf2b44aWkkcAaoED4wVpu', 'spotify:album:4pgbf6PoUwBlPQDBcATNq0', 'spotify:album:0acdHwwT3BP0dB8VCdYOYT']))",
     "output_type": "error",
     "traceback": [
      "\u001b[0;31m---------------------------------------------------------------------------\u001b[0m",
      "\u001b[0;31mRuntimeError\u001b[0m                              Traceback (most recent call last)",
      "Cell \u001b[0;32mIn[136], line 5\u001b[0m\n\u001b[1;32m      2\u001b[0m get_ghetero \u001b[39m=\u001b[39m \u001b[39mlambda\u001b[39;00m: get_cached(\u001b[39m\"\u001b[39m\u001b[39mghetero\u001b[39m\u001b[39m\"\u001b[39m, pickled_ghetero, fallback\u001b[39m=\u001b[39m\u001b[39mlambda\u001b[39;00m: nx2hetero(get_g()))\n\u001b[1;32m      3\u001b[0m get_datasets \u001b[39m=\u001b[39m \u001b[39mlambda\u001b[39;00m: get_cached(\u001b[39m\"\u001b[39m\u001b[39mdatasets\u001b[39m\u001b[39m\"\u001b[39m, pickled_datasets, fallback\u001b[39m=\u001b[39m\u001b[39mlambda\u001b[39;00m: ghetero2datasets(get_ghetero()))\n\u001b[0;32m----> 5\u001b[0m ghetero \u001b[39m=\u001b[39m get_ghetero()\n\u001b[1;32m      6\u001b[0m datasets \u001b[39m=\u001b[39m get_datasets()\n\u001b[1;32m      7\u001b[0m data_train, data_val, data_test \u001b[39m=\u001b[39m datasets\n",
      "Cell \u001b[0;32mIn[136], line 2\u001b[0m, in \u001b[0;36m<lambda>\u001b[0;34m()\u001b[0m\n\u001b[1;32m      1\u001b[0m get_g \u001b[39m=\u001b[39m \u001b[39mlambda\u001b[39;00m: get_cached(\u001b[39m\"\u001b[39m\u001b[39mG\u001b[39m\u001b[39m\"\u001b[39m, pickled_graph, fallback\u001b[39m=\u001b[39mload_graph)\n\u001b[0;32m----> 2\u001b[0m get_ghetero \u001b[39m=\u001b[39m \u001b[39mlambda\u001b[39;00m: get_cached(\u001b[39m\"\u001b[39;49m\u001b[39mghetero\u001b[39;49m\u001b[39m\"\u001b[39;49m, pickled_ghetero, fallback\u001b[39m=\u001b[39;49m\u001b[39mlambda\u001b[39;49;00m: nx2hetero(get_g()))\n\u001b[1;32m      3\u001b[0m get_datasets \u001b[39m=\u001b[39m \u001b[39mlambda\u001b[39;00m: get_cached(\u001b[39m\"\u001b[39m\u001b[39mdatasets\u001b[39m\u001b[39m\"\u001b[39m, pickled_datasets, fallback\u001b[39m=\u001b[39m\u001b[39mlambda\u001b[39;00m: ghetero2datasets(get_ghetero()))\n\u001b[1;32m      5\u001b[0m ghetero \u001b[39m=\u001b[39m get_ghetero()\n",
      "Cell \u001b[0;32mIn[133], line 113\u001b[0m, in \u001b[0;36mget_cached\u001b[0;34m(var, pickled_filename, fallback, ignore_cache)\u001b[0m\n\u001b[1;32m    111\u001b[0m \u001b[39melse\u001b[39;00m:\n\u001b[1;32m    112\u001b[0m     \u001b[39mprint\u001b[39m(\u001b[39mf\u001b[39m\u001b[39m\"\u001b[39m\u001b[39mPickled \u001b[39m\u001b[39m{\u001b[39;00mvar\u001b[39m}\u001b[39;00m\u001b[39m not found, generating anew ...\u001b[39m\u001b[39m\"\u001b[39m)\n\u001b[0;32m--> 113\u001b[0m     obj \u001b[39m=\u001b[39m fallback()\n\u001b[1;32m    114\u001b[0m     \u001b[39m# pickle.dump(obj, open(pickled_filename, \"wb\"))\u001b[39;00m\n\u001b[1;32m    115\u001b[0m     \u001b[39mprint\u001b[39m(\u001b[39mf\u001b[39m\u001b[39m\"\u001b[39m\u001b[39m{\u001b[39;00mvar\u001b[39m}\u001b[39;00m\u001b[39m generated, pickle saved to \u001b[39m\u001b[39m{\u001b[39;00mpickled_filename\u001b[39m}\u001b[39;00m\u001b[39m\"\u001b[39m)\n",
      "Cell \u001b[0;32mIn[136], line 2\u001b[0m, in \u001b[0;36m<lambda>\u001b[0;34m()\u001b[0m\n\u001b[1;32m      1\u001b[0m get_g \u001b[39m=\u001b[39m \u001b[39mlambda\u001b[39;00m: get_cached(\u001b[39m\"\u001b[39m\u001b[39mG\u001b[39m\u001b[39m\"\u001b[39m, pickled_graph, fallback\u001b[39m=\u001b[39mload_graph)\n\u001b[0;32m----> 2\u001b[0m get_ghetero \u001b[39m=\u001b[39m \u001b[39mlambda\u001b[39;00m: get_cached(\u001b[39m\"\u001b[39m\u001b[39mghetero\u001b[39m\u001b[39m\"\u001b[39m, pickled_ghetero, fallback\u001b[39m=\u001b[39m\u001b[39mlambda\u001b[39;00m: nx2hetero(get_g()))\n\u001b[1;32m      3\u001b[0m get_datasets \u001b[39m=\u001b[39m \u001b[39mlambda\u001b[39;00m: get_cached(\u001b[39m\"\u001b[39m\u001b[39mdatasets\u001b[39m\u001b[39m\"\u001b[39m, pickled_datasets, fallback\u001b[39m=\u001b[39m\u001b[39mlambda\u001b[39;00m: ghetero2datasets(get_ghetero()))\n\u001b[1;32m      5\u001b[0m ghetero \u001b[39m=\u001b[39m get_ghetero()\n",
      "Cell \u001b[0;32mIn[133], line 49\u001b[0m, in \u001b[0;36mnx2hetero\u001b[0;34m(graph_getter)\u001b[0m\n\u001b[1;32m     47\u001b[0m \u001b[39mfor\u001b[39;00m node \u001b[39min\u001b[39;00m G\u001b[39m.\u001b[39mnodes(data\u001b[39m=\u001b[39m\u001b[39mTrue\u001b[39;00m):\n\u001b[1;32m     48\u001b[0m     t \u001b[39m=\u001b[39m node[\u001b[39m1\u001b[39m][\u001b[39m\"\u001b[39m\u001b[39mnode_type\u001b[39m\u001b[39m\"\u001b[39m]\n\u001b[0;32m---> 49\u001b[0m     node_id(t, node[\u001b[39m0\u001b[39;49m])\n\u001b[1;32m     50\u001b[0m     \u001b[39mif\u001b[39;00m t \u001b[39m==\u001b[39m \u001b[39m\"\u001b[39m\u001b[39mplaylist\u001b[39m\u001b[39m\"\u001b[39m:\n\u001b[1;32m     51\u001b[0m         node_features_by_type[\u001b[39m\"\u001b[39m\u001b[39mplaylist\u001b[39m\u001b[39m\"\u001b[39m] \u001b[39m+\u001b[39m\u001b[39m=\u001b[39m [node[\u001b[39m1\u001b[39m][\u001b[39m\"\u001b[39m\u001b[39mnum_followers\u001b[39m\u001b[39m\"\u001b[39m]]\n",
      "Cell \u001b[0;32mIn[133], line 35\u001b[0m, in \u001b[0;36mnx2hetero.<locals>.node_id\u001b[0;34m(node_type, id, exception)\u001b[0m\n\u001b[1;32m     33\u001b[0m \u001b[39mif\u001b[39;00m \u001b[39mid\u001b[39m \u001b[39mnot\u001b[39;00m \u001b[39min\u001b[39;00m d:\n\u001b[1;32m     34\u001b[0m     \u001b[39mif\u001b[39;00m random\u001b[39m.\u001b[39mrandom() \u001b[39m<\u001b[39m \u001b[39m0.001\u001b[39m:\n\u001b[0;32m---> 35\u001b[0m         \u001b[39mraise\u001b[39;00m \u001b[39mRuntimeError\u001b[39;00m(node_type, \u001b[39mid\u001b[39m, d\u001b[39m.\u001b[39mkeys())\n\u001b[1;32m     36\u001b[0m     \u001b[39mif\u001b[39;00m exception:\n\u001b[1;32m     37\u001b[0m         \u001b[39mraise\u001b[39;00m \u001b[39mRuntimeError\u001b[39;00m(node_type, \u001b[39mid\u001b[39m, d)\n",
      "\u001b[0;31mRuntimeError\u001b[0m: ('album', 'spotify:album:0DjJIQPOsxd5OiUoVskRBH', dict_keys(['spotify:album:6eXE4xeu9GHSa8zTEVtFep', 'spotify:album:5WupqgR68HfuHt3BMJtgun', 'spotify:album:7dtLYwLOdYQa2S8Vjeuxci', 'spotify:album:03quwfxVOzXduvxgawbLRn', 'spotify:album:2rrxATdBTvNt2i9lJo68qU', 'spotify:album:4FqFaw9BTntS6dZkk0PNe4', 'spotify:album:2LQYvrh5jOxAAZjiBX3f2b', 'spotify:album:0bCAjiUamIFqKJsekOYuRw', 'spotify:album:5Dbax7G8SWrP9xyzkOvy2F', 'spotify:album:4OaxrDxZe97lotUT4cxoRX', 'spotify:album:0nTTEAhCZsbbeplyDMIFuA', 'spotify:album:5QL7RNVpZIoIxElgdykaa8', 'spotify:album:7xe8VI48TxUpU1IIo0RfGi', 'spotify:album:6zK7GV2JCqLknAdTeIhooB', 'spotify:album:6NBox81OQox7U4I0hZB9t0', 'spotify:album:6YabPKtZAjxwyWbuO9p4ZD', 'spotify:album:19MOC02Ei3l2SalGUGWozw', 'spotify:album:7K6JtyaSSVr7HidQsCHun0', 'spotify:album:2nGBuSKC8wIopt81s5mzGy', 'spotify:album:6wH0jlf2q1yCprUO5XWSdz', 'spotify:album:7KOZivQqRbfrKEsd5Hx9Ir', 'spotify:album:5TNzBp7QYsXIHrI5xxVuic', 'spotify:album:77ErLrVvYETIlQJHAwhfIH', 'spotify:album:3LdlOZcV0dp7ePBXe2KAGa', 'spotify:album:7HNboS0n64gNVx0rV3qT6a', 'spotify:album:5hLazW5a3Ysgy3dncwGgUn', 'spotify:album:257oomaawruFknt5wYCPDh', 'spotify:album:6MFIBPVrZjHjP0pPkVF3IU', 'spotify:album:4AsXQ17Arq1cUVoa9dKJ3F', 'spotify:album:4L5pz06MVlsWaTEjSQPN8h', 'spotify:album:0iRdx0LWzTkRhCYmUhSMfi', 'spotify:album:2A4sin52eEjkavgFwPdEoZ', 'spotify:album:4dp33vx7vWx93lxuxjNTz2', 'spotify:album:7Fp8MWr9mKMquAWrVvQvKi', 'spotify:album:3R3x4zIabsvpD3yxqLaUpc', 'spotify:album:1cM3r0WQZWNkCpEbmFjLln', 'spotify:album:1klALx0u4AavZNEvC4LrTL', 'spotify:album:0g6DaZtBNmIAiTJGW4n4SR', 'spotify:album:0BBWJ3L9fhkmNLdt4zs4fu', 'spotify:album:1pM1BsMVd8CuEpgCwbqmFO', 'spotify:album:1qJOmC60ez9RNWPg4ELMBW', 'spotify:album:1VW1MFNstaJuygaoTPkdCk', 'spotify:album:2R4j5z94KVN4SmAhmzuhgM', 'spotify:album:5pd9B3KQWKshHw4lnsSLNy', 'spotify:album:6xAjzeZbweRlhOz2KTJz3u', 'spotify:album:5G6pS4ES22Np0hehqJYIct', 'spotify:album:3uSVy9q97sAzd5UE0dMdOT', 'spotify:album:6IaaRbkw6tOfM2NaX5lZ63', 'spotify:album:1K9DEVSr5iG2W72escDZV7', 'spotify:album:1vbpW28Od2ATmVyAZ0QZ3j', 'spotify:album:2BOlaNQt6WJ1HO5pQcKHGh', 'spotify:album:53tvjWbVNZKd3CvpENkzOC', 'spotify:album:5dR0fhE3oveLRSUMMQ3oRB', 'spotify:album:6sTKCXNE3sOCgwS9mahfiO', 'spotify:album:481JiVXZYUlTtqlv9ewJXV', 'spotify:album:5fKL7vMTXvhR9tov8Kqt3u', 'spotify:album:59Tni3gA1OczshFWTMxmbo', 'spotify:album:5qHjA0aU9vt9c2UwDeEGjS', 'spotify:album:4rTrbTxqjHtjle04l4blOV', 'spotify:album:2guirTSEqLizK7j9i1MTTZ', 'spotify:album:7mhk75WqSVNIvxZumfCdvu', 'spotify:album:6ohX7moZZnF1FwYrli1OJ6', 'spotify:album:7ysDeat0kDelEE7M6MUwXZ', 'spotify:album:1xHWwGSoF1DNE4hqgBRkJX', 'spotify:album:0NV96Rqo10ytbCHlR14E8r', 'spotify:album:24E6rDvGDuYFjlGewp4ntF', 'spotify:album:4Io5vWtmV1rFj4yirKb4y4', 'spotify:album:5LbHbwejgZXRZAgzVAjkhj', 'spotify:album:0ZhGG0DUBuvVNyICBnHlpZ', 'spotify:album:7F1dp39OljDwaJes2ruO0w', 'spotify:album:401V2sVeZfq8bjBqojsPRb', 'spotify:album:7BpwkWqF16bL3L5TIqireM', 'spotify:album:7xk1Tl6UZ8OALZkFEagPsM', 'spotify:album:30mXi1BVpzrlrncFYwWjWg', 'spotify:album:3jMUfZpBUTZOl91khbj4ic', 'spotify:album:43NNW7iDuAE8pIouzvwWWi', 'spotify:album:07cWSvrkFTgaQGYh7M1cCt', 'spotify:album:3APVCDFvi77ex2VZxl4pWS', 'spotify:album:3smHEWBKoqDUFuJrV8BCg1', 'spotify:album:4KnWR76aRieR6QREuid3y7', 'spotify:album:4eUmncMYQRg0Ot29KKqbuk', 'spotify:album:0x3uUHhj8bCoM5Uzi5FNIv', 'spotify:album:3DxLga8esIW4kag2FGPWMI', 'spotify:album:0MomEpdhFU5YUXQxr47kxe', 'spotify:album:4YLvPRA05HFduTusoq4Sne', 'spotify:album:6nZQaZ0is5KhtuJeay9wxP', 'spotify:album:5OCg9OWnL1PY4tW2ON8ssj', 'spotify:album:25uQbh16wllWga68eUvDB7', 'spotify:album:0eMkSSaQQ9cWk4l07WPRPy', 'spotify:album:5cUiPJUUMfNQr0ELSDGscs', 'spotify:album:0HX6Lqi58R0eCWR5LKIrkP', 'spotify:album:5fTNeCEV1GcmOSmo0y2ceX', 'spotify:album:1lZahjeu4AhPkg9JARZr5F', 'spotify:album:3i13RcPnJ0AkHEamweLGhq', 'spotify:album:10aiDpdFGyfCFEcqpx6XTq', 'spotify:album:5Z62AU91ftqaWtTllfvkvr', 'spotify:album:0dZB8UHYsM7jKmm7ByzAVq', 'spotify:album:3VdXq4YQIt3ugs05SjFmsD', 'spotify:album:1VlMcoG1aI4E4kBIVoH5cp', 'spotify:album:4nO7EUWCOzqHK3iGDXDzzU', 'spotify:album:5WwXMygJ3dQXk3S6mDDfCH', 'spotify:album:5NH94cATqx5fjBE794xZLy', 'spotify:album:4VsKb9RJl0GdvVWtjaJg9k', 'spotify:album:0dAD49L0BeGHuxXeyjEq4o', 'spotify:album:47ZlUaIT7HQeEzOioXrRj6', 'spotify:album:0HogGfosAvj4tF3GTv2KIE', 'spotify:album:69ny9Y7VrjVP7JNK0xhYke', 'spotify:album:6MCNMOCRsh6nxs7PNzc0zN', 'spotify:album:7aiQ0WWBBC0HzeI0PgGYJs', 'spotify:album:2gToC0XAblE9h3UZD6aAaQ', 'spotify:album:4UMjBXcRqIgMZ1XumU2x5T', 'spotify:album:6j6Zgm7vzAZegr48UppFVT', 'spotify:album:6cEJTnEqJMbqhIKiwWBLko', 'spotify:album:4jd0qgZ4gaHW6b0lgpZKWk', 'spotify:album:4vUXTcKz7tXxrNl84meN6i', 'spotify:album:64peTvbTLBDeSBu0GsCRE4', 'spotify:album:72olNArm75vOycSziqIX9Y', 'spotify:album:5gO2acKSOaJnP0Mcy8IpU6', 'spotify:album:1QBU2iq38q3Y8PWlBhRFzk', 'spotify:album:4WAujFDGR5UdnGpK0tKy2v', 'spotify:album:1qKYc6GDWKNj3wbQpD5hXt', 'spotify:album:2kyTLcEZe6nc1s6ve0zW9P', 'spotify:album:4ZCT6K4mFgQMC5RXdXfhjb', 'spotify:album:6DMUAqxiFfLdqXv0vqcrQA', 'spotify:album:1To7kv722A8SpZF789MZy7', 'spotify:album:4R3tXoorBpHji6Jdms8a4Q', 'spotify:album:30Perjew8HyGkdSmqguYyg', 'spotify:album:6IQxEwIABLLej0bEYdrB0V', 'spotify:album:2zJcrLrN7EAcDYXm4j99k1', 'spotify:album:3XbMeJ9zrtH806HuHWkZF2', 'spotify:album:4Rvc82pV7HCKZyRHbLWCac', 'spotify:album:3YDm8Vu6IOjjVdLNHlJtj0', 'spotify:album:63HdXCn0Xz1pRZc2GzMw7k', 'spotify:album:7c6A82iJXXYlZq2huhkU3E', 'spotify:album:1HASBGfr6eXmuCUXm8jhhM', 'spotify:album:5B4PYA7wNN4WdEXdIJu58a', 'spotify:album:1WJ3UbOi2QYGuRgXCc9FIV', 'spotify:album:3Z72KfamjH9Wc5m9mgVqI7', 'spotify:album:02w1xMzzdF2OJxTeh1basm', 'spotify:album:20mh1X1FQQidKMu2XypyMI', 'spotify:album:6jbjx0LGKl11H6UtrgS2nV', 'spotify:album:5lkNnHVlnCCCV304t89wOH', 'spotify:album:6epR3D622KWsnuHye7ApOl', 'spotify:album:6tJ0Cy3DitXaUQh6TB1Y9w', 'spotify:album:4skqOUXyBUnzxVPNPxrGWV', 'spotify:album:5eLVoIPq7P3Bu29lVgD4x0', 'spotify:album:2SaYqv9d4lxLBm5nYPJHWh', 'spotify:album:0NrZHZ0y5kTO8EHliuUUca', 'spotify:album:5KmHLqummeGUiCexCkFEa4', 'spotify:album:36k5aXpxffjVGcNce12GLZ', 'spotify:album:2kqn09pydzvKvB3xWbAxY4', 'spotify:album:2UCyiayMoJOwBilPLQPQvK', 'spotify:album:6kLRZzu2brIRW2nIHyy6z4', 'spotify:album:3pWJFrSX6apPzt4inM4zXt', 'spotify:album:3zXR5GOXPq0Uc7tWC9fO3X', 'spotify:album:7qqCw47pAWFzhwTpVRd0zE', 'spotify:album:0CoiTAUBiO70lic9p9Lboq', 'spotify:album:5ImvJCAX33Pt2XGMaYaMia', 'spotify:album:3StpQT9Qd87FSeWeQAdg1h', 'spotify:album:3BB1Pe1PfijkrftFVmBEBs', 'spotify:album:2qmNh22xTORtqL9oHfqrQS', 'spotify:album:2gXTTQ713nCELgPOS0qWyt', 'spotify:album:55ErdDg54WTAEySb0r7yzb', 'spotify:album:1uuSC0RCJB3dSp8Mb6GflZ', 'spotify:album:72c3ugX0yPaFCtEuHPDXaY', 'spotify:album:5gCo4z8XZ0T16nJmnw9wnG', 'spotify:album:6NoBzYmh5gUusGPCfg0pct', 'spotify:album:3Yk19X5zgXDSrG8uqrPnXC', 'spotify:album:1ypH0eU9RcE6wngSGSqmeY', 'spotify:album:2LkWHNNHgD6BRNeZI2SL1L', 'spotify:album:1UR8sxJvEYKJRmKWBaHh67', 'spotify:album:6bjFeCExXDbBUd7volJ0o5', 'spotify:album:4xkM0BwLM9H2IUcbYzpcBI', 'spotify:album:71xFWYFtiHC8eP99QB30AA', 'spotify:album:65OwxsoVvJztqS3wSCyGlL', 'spotify:album:0pF0oyuPNdOObniB1Ng0kW', 'spotify:album:6se6q5nk4VCVbWWnZcguCc', 'spotify:album:6rnzvZhe3PA57xKcKLRtJ6', 'spotify:album:0pMPk0E9YCgU1PzxDViKf5', 'spotify:album:6p01JdkB7ry8iAf4IuC1Lv', 'spotify:album:6S3ZHdLQRkuknoivj0xS8e', 'spotify:album:2gcqSlK5xTxcpuLZ1iik3Z', 'spotify:album:77jAfTh3KH9K2reMOmTgOh', 'spotify:album:6NQ2RNksdSKdtnlFOLJo24', 'spotify:album:4OmqJXPhD5FOqwdg5tBsnu', 'spotify:album:0zMLyv1kNV2B0LDGEK2RbB', 'spotify:album:0uMIzWh1uEpHEBell4rlF8', 'spotify:album:5IDGBfcVjwMoGPKOsfyXLN', 'spotify:album:40LbnfieVTWtHrK24WQeEB', 'spotify:album:3o99825qhG7K7D07naRs4F', 'spotify:album:259fprFM35HqQLjnsrZNVY', 'spotify:album:0rSLgV8p5FzfnqlEk4GzxE', 'spotify:album:55bbXORm6ZrVq52zfZnxBf', 'spotify:album:0K4pIOOsfJ9lK8OjrZfXzd', 'spotify:album:0KQDN58Lz8CXOsfIG6tQ7X', 'spotify:album:2cX9e3renOX5bUQEXWFrJr', 'spotify:album:2V7Z0e4YnXyNfpoK3cYIGp', 'spotify:album:5jfuIbTeaLhBZxsCVv3QyM', 'spotify:album:0dzeoQhVNzKkwM5ieOJC54', 'spotify:album:2eV6DIPDnGl1idcjww6xyX', 'spotify:album:3rDbA12I5duZnlwakqDdZa', 'spotify:album:4sbZHOW6I2LTTjlRJbhVtA', 'spotify:album:6gRVzufIFqLpTr8LUNamWj', 'spotify:album:3Kbuu2tHsIbplFUkB7a5oE', 'spotify:album:5nkgosKhWt1yXRzmjXNV2d', 'spotify:album:40XGTQ7FN6Y3dZXJhKBe96', 'spotify:album:6Zpf7RlSRIavYGwvsuj94C', 'spotify:album:75kX486cBBkuaLkZGjBptl', 'spotify:album:2hNgR6ZGiEnIKl7aFkaSyA', 'spotify:album:5m01tty1948HnkXUhG0urw', 'spotify:album:19EklIEq4hXaKt6jNBTvXm', 'spotify:album:4PgleR09JVnm3zY1fW3XBA', 'spotify:album:5GykKNn2KjofEoA8SpNnuw', 'spotify:album:4lVR2fg3DAUQpGVJ6DciHW', 'spotify:album:7F2E71riKnBUpeu5VFmcDI', 'spotify:album:5qeKpDQFyotJjLh61pUZQo', 'spotify:album:1j0apvEvaWbTmlZpKsfr2D', 'spotify:album:1fgSS7d1R3fin79TUkhuxW', 'spotify:album:3nxlM2DFwij3JVP55yNRya', 'spotify:album:4WLBBrag22FKHEEFMy4AFv', 'spotify:album:6twKQ0EsUJHVlAr6XBylrj', 'spotify:album:0QFMqnSP2kBMTrbfNkj3SB', 'spotify:album:3qoMadqfValFjOdwKh9TsL', 'spotify:album:5MxXY7DbFMUiHFTPUabgJJ', 'spotify:album:1Jmq5HEJeA9kNi2SgQul4U', 'spotify:album:2e8nzTZ0HtK94IifOWgN7o', 'spotify:album:3yWRq9Dd2UO5xyqxTjLDmp', 'spotify:album:46yAYzRhSMPA44m0MzSr6g', 'spotify:album:5YLRVHDVRw3QqWbeTGpC5B', 'spotify:album:4OvZxAPXffMV0LYf9DzqUZ', 'spotify:album:6zt4678UXSVglciM8zOFw1', 'spotify:album:7hraatQiNd3Ye6FkSTQbOj', 'spotify:album:4aaJt5nTQKFOr96FGF0Wzb', 'spotify:album:5rhAHVyLgOU7V1Fvwke1UO', 'spotify:album:30PoPzX7vW76jGToGvp8zL', 'spotify:album:3yJTnFHeDojQEa0LdfVQ1C', 'spotify:album:7ygK4tK0qSpdlMau3sBnO5', 'spotify:album:1GDq3ZgaXQw2WOeG62q1lI', 'spotify:album:4jndjHZNhKX5gXUVXTi4LH', 'spotify:album:21cao9LyIbuDwVxKBn7eFb', 'spotify:album:69p3SPXFemC5FotqR7uGcw', 'spotify:album:00QJ6bXf7b4k8WO7mVgX4g', 'spotify:album:2UQxTDspi5wbrkgHaJ0KRs', 'spotify:album:5DT7PZVY50nSK1HWHpt8Kk', 'spotify:album:4iRlrw1I5IXYg49fC8jVCc', 'spotify:album:1O1nyYm5SUm1CCdmE5gyKN', 'spotify:album:2juK3lQuw2PDkHgznOwfqT', 'spotify:album:60DeFVKhMRfPq3TBQdNvpH', 'spotify:album:0D6WqIi4oRhWI6lApKIdrO', 'spotify:album:6CCoOceNV1wB4dw3Sw4XCG', 'spotify:album:0EWEajVe0Hpe3nDvGG1i3f', 'spotify:album:4i8bBIPi0BwcTp9NMyfkZ9', 'spotify:album:7tMbpYu7HoxN5B3vww6cAA', 'spotify:album:5TIsOman7EvQkCOe1LvGt3', 'spotify:album:40P6d6VGfGVTSiJU69dDm2', 'spotify:album:4F7DNG4XaKfSoyf9u72a75', 'spotify:album:1G4PB5RWEy9of1YacsKPUz', 'spotify:album:6JoSqtayzPH6zA8pkQSDrB', 'spotify:album:5Rw8q2mLMsTetbyR8PazGt', 'spotify:album:2G5DerLgpBRGRb7oq53DJ4', 'spotify:album:3CZy1PECcq9DPvPlJnch8S', 'spotify:album:5O42JuPx4XiSErqLM9a2Na', 'spotify:album:7K5p2YIJnOhFEs6OMYtBbv', 'spotify:album:57wjv2FzXmuizNmYEoaP1P', 'spotify:album:0lHdnag5DIjHk0OG92Xn0N', 'spotify:album:3eIdxEJgbOm1eRoWiWb4yL', 'spotify:album:5e9lUnOjElMVS0PWWiQ3qa', 'spotify:album:6G8xSsjSnQZGNcJx1qctVI', 'spotify:album:0e9WrkVzzFzoP3E0GwAd8l', 'spotify:album:7mSBBTJDIIMIpKyhDMaSME', 'spotify:album:0xvwAd1sHTF8Eq1bjnRqyw', 'spotify:album:1A2ZhhsKu1qzEKM3RL51nK', 'spotify:album:4qUEyTqynqE5pjNE9Qg9S0', 'spotify:album:70zjKqpAO7faWjYVbxLHdX', 'spotify:album:4DWB1x3QUkFL4ykNzqGBX0', 'spotify:album:3prtLYlcrOJy27FNNmym5x', 'spotify:album:1P9nuT6SAeKZOY6AfZatcd', 'spotify:album:5xuN42ltNDWbkCvWKuQNKW', 'spotify:album:51b0nhcuk57A2C8fGY4xdP', 'spotify:album:1ajlHwthbgnoJ8aDbwKwyE', 'spotify:album:6eAdvfUO4MyTNcEcazGW2J', 'spotify:album:0SijqGUUCbaYy7jk9cCBSg', 'spotify:album:11JHRCPKllt4DDiaaBi3Kl', 'spotify:album:2DQHgaOMVOs2OKLaksiMx9', 'spotify:album:6teArUjXEHY8nEbWiOf1Hq', 'spotify:album:0RHX9XECH8IVI3LNgWDpmQ', 'spotify:album:1r9uK2UaltNuR5rX3poKmy', 'spotify:album:6DcQ0gH9Hxp42PvNBoo5gX', 'spotify:album:6k3vC8nep1BfqAIJ81L6OL', 'spotify:album:5CZR6ljD0x9fTiS4mh9wMp', 'spotify:album:628mzd76o1S71Os8xfDn8j', 'spotify:album:0lw68yx3MhKflWFqCsGkIs', 'spotify:album:07Fr36M0hRPJrSJMFWGnvD', 'spotify:album:4nKfZbCALT9H9LfedtDwnZ', 'spotify:album:2KsgTeLQXz7yDV1joGOd2L', 'spotify:album:4eIIhlbOicFmydsRuCV8z7', 'spotify:album:4YArB2Q848BDmmwUUumEFP', 'spotify:album:7KkiEooAVT3EyqQMOl6Iah', 'spotify:album:0E4xv5gPjykrwBgBZzI8XG', 'spotify:album:5QqVXRTiGpLgmo1YNoz9Bk', 'spotify:album:57lJNxlrPSin9SySEnerNb', 'spotify:album:7iMybHeeEiPQSEI0TG3pdo', 'spotify:album:0e87bN6benf8fhvqtcly35', 'spotify:album:3oylWMc9TTC6Nx4I6U3axc', 'spotify:album:23PusidYfyDzIC8X9l640f', 'spotify:album:1wKwGLPJl68zYLaA0Od0vc', 'spotify:album:7CzrzGbCwqT8Y43tvIUPBX', 'spotify:album:0YcQyzstsSbcnLCk4h7AUh', 'spotify:album:3CDM5os6kA4y6mYYGukMIZ', 'spotify:album:0JwHz5SSvpYWuuCNbtYZoV', 'spotify:album:3XsOzkIBoHsxZ7jP3QF2oB', 'spotify:album:3XCBGh4tuBd9UXGYUudjz5', 'spotify:album:5X40XkUkJ0YM2w4S2CStrg', 'spotify:album:3yddXawPNWK9qUDqB2UMY7', 'spotify:album:7HRbybmcHz91kPl3XYdm9B', 'spotify:album:79x0PRGIZv33znrCkPkCZ5', 'spotify:album:14IYDXybb1XKu51QHDryak', 'spotify:album:784THwrPRbheFoUMDEpWh8', 'spotify:album:0hPXaSKyujqCej452raazD', 'spotify:album:4OvTGO8pAGafsfSmwEhXyU', 'spotify:album:7sm5NEXba842nQEOpM94FY', 'spotify:album:4KT6G8fj8EEIfsyr75hbgc', 'spotify:album:0rmhjUgoVa17LZuS8xWQ3v', 'spotify:album:5l3jo3oe2M7KM37SIeUzLc', 'spotify:album:5S9b8euumqMhQbMk0zzQdH', 'spotify:album:47enZlu6ssi5aFaAxHc0wt', 'spotify:album:7o2VLivg95UduHjTMTIEIf', 'spotify:album:7m4d3jbswZ7fy8aeLAcbsa', 'spotify:album:0vrIRUpI2gB2QqOUQEG05v', 'spotify:album:0ecUmBX4469DFW5iWkuHia', 'spotify:album:5D20ZzsNB377xbshIFP9Nb', 'spotify:album:60S1WVKnxsYjVrSl5jj5rw', 'spotify:album:5ttIIMPWCp2bvwsdAPcEXC', 'spotify:album:31oyGwiewTzgbSLuE9tBgy', 'spotify:album:2SVnr4t5nRzhmKAT3YE0mn', 'spotify:album:6tVih0dRzgCchcTqH8WNDP', 'spotify:album:1NAjWuELiyrM0RoQfNbHWb', 'spotify:album:32ZHgC0LuRgS10QUiNHZKK', 'spotify:album:1KusR4da6WsjVySRUNRO3O', 'spotify:album:62GbuN0YhO6jAggFCaukWX', 'spotify:album:4SKnp9LlgXiEeVVud74fTS', 'spotify:album:1tdkgJofTb9Q8NNC8Gfuxh', 'spotify:album:1Rt1JCTjjtDRrY9FHIwzKx', 'spotify:album:44z2k1OcFWSN81CI6YCmWy', 'spotify:album:2J3oEeOGKOD3G0HtNO4w62', 'spotify:album:2tPNtiaGp4MD2gjlrfxmr1', 'spotify:album:56JpDb8ezFfUm7IyYxoxKK', 'spotify:album:5y3wpUTsIatqZCQjlE82N5', 'spotify:album:2QLp07RO6anZHmtcKTEvSC', 'spotify:album:7MejfRSNnrpcLZIxkeZDqR', 'spotify:album:53PBYiedQrASAs5sy63JqT', 'spotify:album:44Ig8dzqOkvkGDzaUof9lK', 'spotify:album:5z090LQztiqh13wYspQvKQ', 'spotify:album:0c78nsgqX6VfniSNWIxwoD', 'spotify:album:4euX7BHHIVZecdn7Ii3eg2', 'spotify:album:71SdSYZuuy7fCWbx0iqtac', 'spotify:album:5rtOJsiDDjA9V5306cyTRS', 'spotify:album:31q47gQszFt0CddSyMksgO', 'spotify:album:7j6HilCQwlaGWopfoqz7ON', 'spotify:album:4gouGcdQn9OvjX42xnWrF0', 'spotify:album:7dsWupQRlFuhG8FGiQAUjC', 'spotify:album:6Jnw1MZ5lrICgurtzc3WqB', 'spotify:album:2widuo17g5CEC66IbzveRu', 'spotify:album:2tWvZmP9EVRYqmWyJPLzjP', 'spotify:album:6TLTd0P2CUI0Q29AQ1LyFi', 'spotify:album:3JLNft8uUVcQLxB8tKX3gg', 'spotify:album:6Cf545T4jkaiyvMnTRPOB2', 'spotify:album:7DdEbYFPKTZ8KB4z6L4UnQ', 'spotify:album:3bzgbgiytguTDnwzflAZr2', 'spotify:album:4M9csrFM1XVEpwMeYUBRmX', 'spotify:album:0GBrlPh90D25SQ6EJu4VtT', 'spotify:album:1ydlm89JR8cV8VuSaNvHNL', 'spotify:album:2Y5GORWYwVAZ8msuEuh5FN', 'spotify:album:0Xwkx2TLFwRcoK0OWQ0Msa', 'spotify:album:0Em8m9kRctyH9S3MTXAHvY', 'spotify:album:3PkdGRruLnJ9zCtANiDrpB', 'spotify:album:6LRJF97hgXHj8uMLHyCDbh', 'spotify:album:51B7LbLWgYLKBVSpkan8Z7', 'spotify:album:1n9rbMLUmrXBBBJffS7pDj', 'spotify:album:5WZFtmADuJUZPtt0NER0Qi', 'spotify:album:7Jigl7PJCgN4mAODbJYkFT', 'spotify:album:57GMEh9tkmc1TGs4rcdVhN', 'spotify:album:6DExt1eX4lflLacVjHHbOs', 'spotify:album:37oy7Ti9xfebvoe7KPEGIw', 'spotify:album:3OhZTb3unARrvpYc0STkFM', 'spotify:album:30sgpxWf6U9417FySmLEGK', 'spotify:album:372cMadhAGlNuDnc8TssqF', 'spotify:album:1Jv2AqzhgsduUik2p4k3cS', 'spotify:album:70lQYZtypdCALtFVlQAcvx', 'spotify:album:3ycjBixZf7S3WpC5WZhhUK', 'spotify:album:3REUXdj5OPKhuDTrTtCBU0', 'spotify:album:1w7JOjdpfTBz4rvhWQDWJz', 'spotify:album:5yqBTSoJqE9EfApl2Pptva', 'spotify:album:0M2KWMbvY5x1sUnIKNpyUt', 'spotify:album:2x1Yi30lsWJUoBj1kmovnm', 'spotify:album:1sW1HxI9VppbiXqgFQHVCP', 'spotify:album:2iCHyD9XHtA3vJFJIuXzqu', 'spotify:album:3D9JqZG5Q1ptOJr8ZQ0j7I', 'spotify:album:0RLw5OMSYJ9FNUJvBTfHzU', 'spotify:album:7rqgm1BnAZ8I4d6hukpkdg', 'spotify:album:4jxokHekH1qSad1DcC82ku', 'spotify:album:0nuPXgAXAfPmz9AW1PPrlk', 'spotify:album:708Whrc4abJEtqBINv9S2b', 'spotify:album:0siomtYa15lZBHSI66bNfP', 'spotify:album:0PRgsdDXQ8QPaDUetVF7yN', 'spotify:album:7eqBAR9pblivMBOI70q2um', 'spotify:album:7IHuFGc7AcmhiayLrkCtmY', 'spotify:album:0MLCxvyIfAuh5xwPORv8p6', 'spotify:album:25K5y3lCpNcrRcfsoU1asm', 'spotify:album:4wVHvawxZy52Oemd4sGyUm', 'spotify:album:5phxHbK2GSr7hEu4orLywP', 'spotify:album:1BD9WvduFaoUHDUUGAr9Yt', 'spotify:album:4krv5xmTGdK9LhWINUkVgO', 'spotify:album:3O59NzKXBD0NGaqpDtVjie', 'spotify:album:3LhyUnz6C7GdN80PaH7zXa', 'spotify:album:6TwlLNU5Zd9qGuNgSLeWPt', 'spotify:album:4h1e47X26VQHXCjNZZ5P3v', 'spotify:album:4Gh6pRaXqXTtJx4plAJbBw', 'spotify:album:3smvpv7CdrhVcGYaNDLOqn', 'spotify:album:5GlPAy2PRJW06GVFhKwGTl', 'spotify:album:5yYFrOnqG8cEciKnsxHz2r', 'spotify:album:1HiN2YXZcc3EjmVZ4WjfBk', 'spotify:album:6X1lkkRDiOivjt2Y1UtVdA', 'spotify:album:7Bh5oQckPzHqO7GHVGY5LE', 'spotify:album:6301sWkK7hVwcrhcEwKPcH', 'spotify:album:6kf46HbnYCZzP6rjvQHYzg', 'spotify:album:67JIEtnPssg757z0tvgAcf', 'spotify:album:4eDxmXSdCErBVeu2cRZ5hP', 'spotify:album:1FZKIm3JVDCxTchXDo5jOV', 'spotify:album:5GFNkpB5E3L6LFlkqpQvQv', 'spotify:album:6wu7tiTr8zchRG7PWwTOK1', 'spotify:album:4do8v7rn5kSlH98AnV12P1', 'spotify:album:6OwbAeCAH0qPJ7NZA3O0EO', 'spotify:album:4WsNWsROcn2mnYXWgrsLqq', 'spotify:album:4fBqQQJK4TKPHTGPAzmFCC', 'spotify:album:2W2X3BUJtw39VeT7jSGd4r', 'spotify:album:4Ip0NEIF3WAWh5QmqKkx6H', 'spotify:album:29O6CotpIYRJj61l842Ec7', 'spotify:album:0rNpzCr1xpth9rycOtZh0G', 'spotify:album:52BxuML6DKN5OsBIXYWHEB', 'spotify:album:6QrGC6NjL1xjMOhJQIiiux', 'spotify:album:4jZU4fyxPjway7vHJsWoOO', 'spotify:album:4txi1wxQuswExI8OaCHPKQ', 'spotify:album:0qMbfvhVcfLkCIGrjUlAja', 'spotify:album:23pM83jp9nl1325SiAmCwk', 'spotify:album:54bO9jrn1NExmpg6Afsc2A', 'spotify:album:02gH963ro23jvFuWkBds0s', 'spotify:album:0cnNCK2xpudXjB8pzsrYy9', 'spotify:album:0NQ6Dn9si4mgFKoRoBGkn8', 'spotify:album:2NauBynslhNjePGjGcN202', 'spotify:album:4o1jHCrMnkiRMdFpyCnNaH', 'spotify:album:5ddpf5pxYjw9ob4DjPLuiz', 'spotify:album:0gyRFAfY08NFv7N8RTFg9M', 'spotify:album:48SrarUhE6csdPsGbTAgEl', 'spotify:album:0VYi6aRMwxXpfvNwDCr3bB', 'spotify:album:0gtU58GVllHFpZzIgLd5lV', 'spotify:album:3PYk8e7eo2t5CA1Y3AvhaG', 'spotify:album:6qb9MDR0lfsN9a2pw77uJy', 'spotify:album:5OZJflQcQCdZLQjtUudCin', 'spotify:album:5JpH5T1sCYnUyZD6TM0QaY', 'spotify:album:5FavjcaDyf8naLuVcP2nR5', 'spotify:album:1XoZXbaY5k41bIxBekZG5b', 'spotify:album:2r1iXEfyFZaYSmthwnKGGp', 'spotify:album:22cFcAQkydpTzeSKQZEKv0', 'spotify:album:3yhETmhJwSVSLGDyTJgnqo', 'spotify:album:2GXBbakBxezU9ei9nLhAXI', 'spotify:album:7zuqkqhGkTH3PSdywhLgY4', 'spotify:album:0iSRofVrTOCOs841JkSgwk', 'spotify:album:4aiYZjnbNsGa0ccNQyTm3V', 'spotify:album:6PrcsM0LNzEYEmxvLNTJQN', 'spotify:album:7n2OEdfF8dac71VQEekeP0', 'spotify:album:2ztnrpo6EzarVTkkRk3EcD', 'spotify:album:4p9dVvZDaZliSjTCbFRhJy', 'spotify:album:3VfcbvbaalkDLRCIplPj3e', 'spotify:album:7Kmmw7Z5D2UD5MVwdm10sT', 'spotify:album:6Xi4dJ9SudvC0ZoE5Krh3G', 'spotify:album:7HBKKw5pJLNj6mdRLb1KG3', 'spotify:album:54IMJ8S0redmP6krSlKZLD', 'spotify:album:4PAyBqzCYoIIjjPFszeqgT', 'spotify:album:1BJMCEXQ7JmuVlJ6cYbe3x', 'spotify:album:4EK8gtQfdVsmDTji7gBFlz', 'spotify:album:7xpjpdislqMXOCw5xsDt4g', 'spotify:album:6iKqPv9C5oU29LR82N8lJf', 'spotify:album:0vBxqUHwetFn5jCwAKX7Uk', 'spotify:album:20H8EV43UpeAHF35ivADsz', 'spotify:album:3MyJIgsNrnzy0ZRcLEVu3e', 'spotify:album:1FtH1WWaGL1OvhTMAMw5XI', 'spotify:album:4u8WQJuGK4qZEHDb9y4l7Q', 'spotify:album:6dpT05za5nh7IQWtfBdfEK', 'spotify:album:4oktVvRuO1In9B7Hz0xm0a', 'spotify:album:7A8fZ2jjiu5heq7wNCutKN', 'spotify:album:37ABUtLPqktcopsBJ7jmXT', 'spotify:album:1oHY6eQmEG8skElDvFgKz2', 'spotify:album:08iSi4GIyoDt2zSvNyru7M', 'spotify:album:5g4E06cxsFEMFE9hSekAt2', 'spotify:album:59XIzmDorOZjehHcBAyA3J', 'spotify:album:3T4tUhGYeRNVUGevb0wThu', 'spotify:album:5NMQ1I3ME6BZFyBiABNsdl', 'spotify:album:72xhsdVmVWFXJuSjABjqtC', 'spotify:album:3wxabU9l3JMkb3UcAI7CI3', 'spotify:album:5t54vdZ7HdfogMEMKVfRR1', 'spotify:album:2c0sgdPLDcNkjXGVTihxya', 'spotify:album:3mN4QrBX6pOg0LcdhzT5Bi', 'spotify:album:1shlAIeCnK7JafMu8LcM68', 'spotify:album:4JPguzRps3kuWDD5GS6oXr', 'spotify:album:3MkcfcWjL0cey5ugIsDe2i', 'spotify:album:43URJ507cdoIRy3GJdfxjs', 'spotify:album:1QhonXpNQq8wrGEKX0ofbk', 'spotify:album:6PmuEq2op3EMw1ZhCjjucB', 'spotify:album:2VmLk5bAd5QjLtX7cHm594', 'spotify:album:1rpLjvQfzQAeZuRVpyMkh4', 'spotify:album:25Z3GFmKx6ntosMpCSngnI', 'spotify:album:5iyJwtJJoTLFLa0NmiJeYx', 'spotify:album:30QoUTsSdpQuZunPNFsLnm', 'spotify:album:2TDuXjtpO4tdvm86KVNMk0', 'spotify:album:1TkwzY3l4LqAfrQwBAx45Q', 'spotify:album:0nW0w37lrQ87k7PLZvC4qJ', 'spotify:album:3cQO7jp5S9qLBoIVtbkSM1', 'spotify:album:3zRcLPFlbstom1vCWT3y9r', 'spotify:album:5Eevxp2BCbWq25ZdiXRwYd', 'spotify:album:3DYUTCofeh7LlkuQncKzap', 'spotify:album:6MSOHtUiG49Grd7BdZrRUm', 'spotify:album:44W9VWwamOCncBJtzbMUkk', 'spotify:album:3HJiLDJgWA9Z0MvCxlzHYQ', 'spotify:album:394iVM0BcR0DTb8AoNijdg', 'spotify:album:4jdJSsxnZM4RbRxxJ8TO9L', 'spotify:album:71o4Eq4gL2QGUb1FOey4G7', 'spotify:album:4hn0zhFiaWgWgA5I9POoA2', 'spotify:album:4uDAyNO819g7fiZBdkHQGw', 'spotify:album:247KCXJJqEGxii7kfI4NZ2', 'spotify:album:1JFmNyVPdBF1ECvv4fhpW4', 'spotify:album:4TJUrdwbeKC9qcouPlBuLe', 'spotify:album:2PXy9USZAoTSdtrxfkPBnl', 'spotify:album:6CvDqzAy3kotkd17lDraxn', 'spotify:album:5GOHOQxjLxkcW9oXPJChBf', 'spotify:album:1XjQdv4eIOJNqNMUUnSGCk', 'spotify:album:3qfJA3aAu7nKEJjJb08YDg', 'spotify:album:0lUaIHoBEbk85zZz5oZT0y', 'spotify:album:03ntx95u0wotf68NnE3aGw', 'spotify:album:0NvirtaDCaZU5PAW1O5FDE', 'spotify:album:5lFvZh6pCTJzr9UStebyCF', 'spotify:album:7qE6RXYyz5kj5Tll7mJU0v', 'spotify:album:6rhe02ppDhYAvPmavWeBkZ', 'spotify:album:0EFitK3T7hqin7iGMbpltM', 'spotify:album:1TGwCuVPI0jQIOknItuTvc', 'spotify:album:11vjbOVFGoGXWFQF5PwzUN', 'spotify:album:6pDQs06Zcc2Q4GPkngmJbv', 'spotify:album:6rIbiUMmZJfqJRnXhVxFvg', 'spotify:album:0GrsyGe54U6ftyvfrA6aIi', 'spotify:album:7IbXPN9iNFIBMutzPj6NaZ', 'spotify:album:3SNCFg4bu74beanI2G5AeM', 'spotify:album:4drUfNemILKYJl6BHK42nf', 'spotify:album:2XlLP05nQtmy70mvHnV7Js', 'spotify:album:2hyDesSAYNefikDJXlqhPE', 'spotify:album:4cKBAg2zgjrVF2XefrW4WC', 'spotify:album:20OPxsW0aYB6InxDImJRdt', 'spotify:album:6R0ynY7RF20ofs9GJR5TXR', 'spotify:album:4KXLjIEas8MTwwX3xpmAdC', 'spotify:album:1WGjSVIw0TVfbp5KrOFiP0', 'spotify:album:1V5vQRMWTNGmqwxY8jMVou', 'spotify:album:1Xsprdt1q9rOzTic7b9zYM', 'spotify:album:6MzrSTAQdDR92tHLLAhYp0', 'spotify:album:6Fb9nn6E2gMqHG6sWp9R9o', 'spotify:album:72fx005Eok1uET27uqssxq', 'spotify:album:2ul2crtAgmZVIcCUZ8zb4w', 'spotify:album:5EGHyHKk3InwfWpwr9hoV5', 'spotify:album:71P81ODnpkKeDQOVlnAAEd', 'spotify:album:0F076g2OEpSny7QMyyRRsU', 'spotify:album:1XTBf3TRhY46bRt5clik1p', 'spotify:album:1glsDIZI9OpQQ1rNNk54xl', 'spotify:album:0yqRJ6uAorZ73Dp90yZ7uQ', 'spotify:album:0DXzTaMzhm1ojc6b5H3PaJ', 'spotify:album:0AZznwvACPJ3SFK7vBFos0', 'spotify:album:4eDGpwoD0tZXHSBFql2Ex5', 'spotify:album:6w1vPjL0gu6J2qzcC2TzzE', 'spotify:album:61KTKfjFX7exj2Od31ulYA', 'spotify:album:2JVchfGAOejBNAA2mc2bUA', 'spotify:album:3VThTmMrzPDzNFSnzAUxqC', 'spotify:album:1ROVEUk4lc2vD4a0IN1TWS', 'spotify:album:2axcYaQbzEWASvD4J0OjRG', 'spotify:album:5l9xEYHyPmQYTiXHbqlydt', 'spotify:album:1yiRR1b7JjeyJivEaUsVCe', 'spotify:album:6Rkm6kbTaw7ViHDUrhWa1u', 'spotify:album:68pBVLvF14n0d3c6BYlOTk', 'spotify:album:35Eb5SiBa2J4BSwFqrIX61', 'spotify:album:6MuWCR3WPjwyKhqsTKLZ3z', 'spotify:album:7pzwt3MlcxBDbLwfKXpOuW', 'spotify:album:3ruSCcNKDkQ03BskewAR2o', 'spotify:album:7abPoR0SXjsHVkHquLrV7B', 'spotify:album:6omvsb1YTJEZHAG8CgQUGO', 'spotify:album:3H4BfzRGLpJ9xMRViR2znY', 'spotify:album:3KHkCXWAJANXQztdpMmKt4', 'spotify:album:5zC2WoRHM1XdRsIT2EQ1QM', 'spotify:album:7HBk57kKtUdegxib7t3Nfe', 'spotify:album:0XedUV6JTQiDfB3ozJJnSr', 'spotify:album:1aNWsfl6osnt0NO7Kubknx', 'spotify:album:1ukpF3eKewIjkKGpu70sKm', 'spotify:album:5cPHT4yMCfETLRYAoBFcOZ', 'spotify:album:3ADELRoZ4I8WLE7clLU7La', 'spotify:album:300EGFtj4QagerCvQ5PXjn', 'spotify:album:2Mh2Q5RDLX8EsF5IbIWenw', 'spotify:album:7l8UCNznxZVcsLTe0h3Tbk', 'spotify:album:0hyfR5zm43TSTt5mRWr4w5', 'spotify:album:1L78MAHMB04EPgZGoJN2nZ', 'spotify:album:0mFDIOqypzHp6Xd0el1hoT', 'spotify:album:4967HGjmvsMtcOZ3AaPfI4', 'spotify:album:59xqFRG2IgFTsZtQ73yIp6', 'spotify:album:3c2TzUftOakyVsesUMgAOB', 'spotify:album:3xCqAU2CP0ktv1yavl3d2i', 'spotify:album:5UIDadF0rMa4LqHAucuMpK', 'spotify:album:6AvhoDJOvrqtTaRD9XKBMx', 'spotify:album:0PEfSinZe0SZliDqXcNfRB', 'spotify:album:1P3B7c85W4mTXHk0fafGw2', 'spotify:album:2ipSXAsBLmvEeVKKbRAL7i', 'spotify:album:6Ch7FqyzX7GiazBlXVdxMA', 'spotify:album:3K5jW2vkunhourPeQ3DiwV', 'spotify:album:0Sgb4DFSyhc6yYwpr6bEBj', 'spotify:album:2PsJuf0H17AqYjmZnqmkUA', 'spotify:album:0PKHzd9oqCLi9PDHPfnngz', 'spotify:album:0FCAIjkz366qJJbLe7RSis', 'spotify:album:0JLnI9ib5sMtVN780xE4Cv', 'spotify:album:0OXvZRSULi7NpXwW3fiFJR', 'spotify:album:6Bomq75jyr2Px0MN25ViuA', 'spotify:album:7eIdlHTVcGUhf6WGGffQES', 'spotify:album:03RGNAEAzMcff5wg8FzbE2', 'spotify:album:67v63ubEsvDUQkYMzI7A9t', 'spotify:album:2MxcbOGFi99D9JACvj74AH', 'spotify:album:2k7ihU5gg81j2qsZkNQoNa', 'spotify:album:5PfFoXGYCOwCyqt71MhQa9', 'spotify:album:2UvU0egYoXsysWkHqQy4Lc', 'spotify:album:34CxcAYNmdugoNQZq2Bl3Z', 'spotify:album:6DlMt7amOn4hXHagjNdkCF', 'spotify:album:5LAeTo4AXWQ3rMjfIau8nb', 'spotify:album:1GhJDkopguzkbRlhaEmD8h', 'spotify:album:5AQ7uKRSpAv7SNUl4j24ru', 'spotify:album:1u8OmwItT46Y1gD2xKAK9D', 'spotify:album:7BEPVoBcHuTLWpcdj8FhM8', 'spotify:album:114sumrk5wTeMWHVin86QC', 'spotify:album:6Q7yIbfFPzplTCBM7d1WRO', 'spotify:album:4p9HfQYiCYWd5fg6yAei8l', 'spotify:album:7l9uIV35NqVTEHa3gqvC3h', 'spotify:album:7HnhPbF2gdb3gufe3vUxJn', 'spotify:album:7GwxgUetlgERKVoIuw7dUP', 'spotify:album:5cE5mPZHpbU2p8tWjZqJOE', 'spotify:album:0f76y2SetY65asEqyesJed', 'spotify:album:600XgAY1N6sRPVczmBogiF', 'spotify:album:4qDqWx1XVBiAk061Aynq8P', 'spotify:album:3PZRrrwPzADgXEFYkw804F', 'spotify:album:57oZp54KFTEyRvLMhhjd6v', 'spotify:album:6N7Py2a40WPHLur7gYpHxB', 'spotify:album:5I3AY0vtZ1aK2w2Dkqypxn', 'spotify:album:6pezlo1IsYidEfzuwznPJl', 'spotify:album:0fYwtCHdnNkjW9XzRrDJsB', 'spotify:album:4lxxyKsTplmAkT2PJTZvW9', 'spotify:album:0llgzDj4NBSZ4i5dYHJw6d', 'spotify:album:2MHqxbn79K6dpo0WJcFKiU', 'spotify:album:5tFoieEkDjaAss8jJC5OI6', 'spotify:album:3u5s5VOQ3zNLg8HEoGIyJB', 'spotify:album:6jfuBG9u0Au2nWXGXTXmux', 'spotify:album:4VGWCKMQK00uxVcA48Ny69', 'spotify:album:6GfKQzHucHLIocjXpNpm95', 'spotify:album:4TFrlUENkLrNjZXMSZZf9S', 'spotify:album:4h0tjU6OtEblavBHGOnZFY', 'spotify:album:6g7DKD0AwTwXecNmv4LGsZ', 'spotify:album:2Ikwvi1jUFdIjxg93aQyYd', 'spotify:album:58wGNG8mnqB59k2e13lre7', 'spotify:album:57R9CGPhzwaV54uT2F4Vbx', 'spotify:album:4IsuDtntzsiVmTTTEP7nQl', 'spotify:album:2EK49El8u15IXCEB2jG9kZ', 'spotify:album:7t834kJtkjoiN1x374FmgK', 'spotify:album:7za8qVGR3wUEJ01pLFcnPB', 'spotify:album:7HUnDmvDPJGVdNwCyyFHdd', 'spotify:album:17b8zmLzuoWmrLjbwdSO4e', 'spotify:album:16ElbnOtY2UgGaPKoLfst4', 'spotify:album:0CYqqFFdIDafAsrYEXkK5w', 'spotify:album:0ja8b5YdGJVr6A4SQA2v9U', 'spotify:album:6pUg9RDDoVyQQVJ48FkmXz', 'spotify:album:3fbJak1k96KraCoZNyvjwH', 'spotify:album:2rGZDtgaNopMScqimif5Ot', 'spotify:album:2JUpjRRxWKUZwVwY9sTXS1', 'spotify:album:0LNmHHs49sHToICuw5Ufx2', 'spotify:album:53ACU7fnyveK5SCWjPlVTG', 'spotify:album:3VLsJrvLxXyarSq5ngtR8B', 'spotify:album:6KbN9ipWBRR5xa5wg4CFtF', 'spotify:album:6r2NtrEC8GsU8G7eCHRxkK', 'spotify:album:2NeJdEWras0uSuzLPlJZk5', 'spotify:album:5AGquc2cY104P5S1nis7yx', 'spotify:album:7BLcea96Wy0Xo7Nm1HqNBC', 'spotify:album:01sizdfN5713iRU00hbIFp', 'spotify:album:3gQerhWK0nFDxmqRZww8Qp', 'spotify:album:63o2Wjzlnv5FsMSuEmT0Xu', 'spotify:album:2DBI4FHJsNsf6cYm73Lke1', 'spotify:album:3rdhHLp8c07rmDpN7lEARY', 'spotify:album:55Fm920hiqUcGhKuv8hjgV', 'spotify:album:6ojPMWx8YMfdd2idb8rM9h', 'spotify:album:5rf2b44aWkkcAaoED4wVpu', 'spotify:album:4pgbf6PoUwBlPQDBcATNq0', 'spotify:album:0acdHwwT3BP0dB8VCdYOYT']))"
     ]
    }
   ],
   "source": [
    "get_g = lambda: get_cached(\"G\", pickled_graph, fallback=load_graph)\n",
    "get_ghetero = lambda: get_cached(\"ghetero\", pickled_ghetero, fallback=lambda: nx2hetero(get_g()))\n",
    "get_datasets = lambda: get_cached(\"datasets\", pickled_datasets, fallback=lambda: ghetero2datasets(get_ghetero()))\n",
    "\n",
    "ghetero = get_ghetero()\n",
    "datasets = get_datasets()\n",
    "data_train, data_val, data_test = datasets\n",
    "print(\"Finished loading data.\")"
   ]
  },
  {
   "cell_type": "code",
   "execution_count": null,
   "metadata": {},
   "outputs": [
    {
     "data": {
      "text/plain": [
       "<networkx.classes.graph.Graph at 0x7f441736b820>"
      ]
     },
     "execution_count": 8,
     "metadata": {},
     "output_type": "execute_result"
    }
   ],
   "source": [
    "nx.Graph()"
   ]
  },
  {
   "attachments": {},
   "cell_type": "markdown",
   "metadata": {},
   "source": [
    "# Processing"
   ]
  },
  {
   "cell_type": "code",
   "execution_count": null,
   "metadata": {},
   "outputs": [
    {
     "ename": "AttributeError",
     "evalue": "'EdgeStorage' object has no attribute 'edge_index'",
     "output_type": "error",
     "traceback": [
      "\u001b[0;31m---------------------------------------------------------------------------\u001b[0m",
      "\u001b[0;31mKeyError\u001b[0m                                  Traceback (most recent call last)",
      "File \u001b[0;32m~/jupyter-server/venv/lib/python3.10/site-packages/torch_geometric/data/storage.py:62\u001b[0m, in \u001b[0;36mBaseStorage.__getattr__\u001b[0;34m(self, key)\u001b[0m\n\u001b[1;32m     61\u001b[0m \u001b[39mtry\u001b[39;00m:\n\u001b[0;32m---> 62\u001b[0m     \u001b[39mreturn\u001b[39;00m \u001b[39mself\u001b[39;49m[key]\n\u001b[1;32m     63\u001b[0m \u001b[39mexcept\u001b[39;00m \u001b[39mKeyError\u001b[39;00m:\n",
      "File \u001b[0;32m~/jupyter-server/venv/lib/python3.10/site-packages/torch_geometric/data/storage.py:85\u001b[0m, in \u001b[0;36mBaseStorage.__getitem__\u001b[0;34m(self, key)\u001b[0m\n\u001b[1;32m     84\u001b[0m \u001b[39mdef\u001b[39;00m \u001b[39m__getitem__\u001b[39m(\u001b[39mself\u001b[39m, key: \u001b[39mstr\u001b[39m) \u001b[39m-\u001b[39m\u001b[39m>\u001b[39m Any:\n\u001b[0;32m---> 85\u001b[0m     \u001b[39mreturn\u001b[39;00m \u001b[39mself\u001b[39;49m\u001b[39m.\u001b[39;49m_mapping[key]\n",
      "\u001b[0;31mKeyError\u001b[0m: 'edge_index'",
      "\nDuring handling of the above exception, another exception occurred:\n",
      "\u001b[0;31mAttributeError\u001b[0m                            Traceback (most recent call last)",
      "Cell \u001b[0;32mIn[118], line 1\u001b[0m\n\u001b[0;32m----> 1\u001b[0m ghetero\u001b[39m.\u001b[39;49mis_directed()\n",
      "File \u001b[0;32m~/jupyter-server/venv/lib/python3.10/site-packages/torch_geometric/data/data.py:221\u001b[0m, in \u001b[0;36mBaseData.is_directed\u001b[0;34m(self)\u001b[0m\n\u001b[1;32m    219\u001b[0m \u001b[39mdef\u001b[39;00m \u001b[39mis_directed\u001b[39m(\u001b[39mself\u001b[39m) \u001b[39m-\u001b[39m\u001b[39m>\u001b[39m \u001b[39mbool\u001b[39m:\n\u001b[1;32m    220\u001b[0m \u001b[39m    \u001b[39m\u001b[39mr\u001b[39m\u001b[39m\"\"\"Returns :obj:`True` if graph edges are directed.\"\"\"\u001b[39;00m\n\u001b[0;32m--> 221\u001b[0m     \u001b[39mreturn\u001b[39;00m \u001b[39mnot\u001b[39;00m \u001b[39mself\u001b[39;49m\u001b[39m.\u001b[39;49mis_undirected()\n",
      "File \u001b[0;32m~/jupyter-server/venv/lib/python3.10/site-packages/torch_geometric/data/hetero_data.py:335\u001b[0m, in \u001b[0;36mHeteroData.is_undirected\u001b[0;34m(self)\u001b[0m\n\u001b[1;32m    333\u001b[0m \u001b[39mdef\u001b[39;00m \u001b[39mis_undirected\u001b[39m(\u001b[39mself\u001b[39m) \u001b[39m-\u001b[39m\u001b[39m>\u001b[39m \u001b[39mbool\u001b[39m:\n\u001b[1;32m    334\u001b[0m \u001b[39m    \u001b[39m\u001b[39mr\u001b[39m\u001b[39m\"\"\"Returns :obj:`True` if graph edges are undirected.\"\"\"\u001b[39;00m\n\u001b[0;32m--> 335\u001b[0m     edge_index, _, _ \u001b[39m=\u001b[39m to_homogeneous_edge_index(\u001b[39mself\u001b[39;49m)\n\u001b[1;32m    336\u001b[0m     \u001b[39mreturn\u001b[39;00m is_undirected(edge_index, num_nodes\u001b[39m=\u001b[39m\u001b[39mself\u001b[39m\u001b[39m.\u001b[39mnum_nodes)\n",
      "File \u001b[0;32m~/jupyter-server/venv/lib/python3.10/site-packages/torch_geometric/data/hetero_data.py:945\u001b[0m, in \u001b[0;36mto_homogeneous_edge_index\u001b[0;34m(data)\u001b[0m\n\u001b[1;32m    943\u001b[0m src, _, dst \u001b[39m=\u001b[39m edge_type\n\u001b[1;32m    944\u001b[0m offset \u001b[39m=\u001b[39m [[node_slices[src][\u001b[39m0\u001b[39m]], [node_slices[dst][\u001b[39m0\u001b[39m]]]\n\u001b[0;32m--> 945\u001b[0m offset \u001b[39m=\u001b[39m torch\u001b[39m.\u001b[39mtensor(offset, device\u001b[39m=\u001b[39mstore\u001b[39m.\u001b[39;49medge_index\u001b[39m.\u001b[39mdevice)\n\u001b[1;32m    946\u001b[0m edge_indices\u001b[39m.\u001b[39mappend(store\u001b[39m.\u001b[39medge_index \u001b[39m+\u001b[39m offset)\n\u001b[1;32m    948\u001b[0m num_edges \u001b[39m=\u001b[39m store\u001b[39m.\u001b[39mnum_edges\n",
      "File \u001b[0;32m~/jupyter-server/venv/lib/python3.10/site-packages/torch_geometric/data/storage.py:64\u001b[0m, in \u001b[0;36mBaseStorage.__getattr__\u001b[0;34m(self, key)\u001b[0m\n\u001b[1;32m     62\u001b[0m     \u001b[39mreturn\u001b[39;00m \u001b[39mself\u001b[39m[key]\n\u001b[1;32m     63\u001b[0m \u001b[39mexcept\u001b[39;00m \u001b[39mKeyError\u001b[39;00m:\n\u001b[0;32m---> 64\u001b[0m     \u001b[39mraise\u001b[39;00m \u001b[39mAttributeError\u001b[39;00m(\n\u001b[1;32m     65\u001b[0m         \u001b[39mf\u001b[39m\u001b[39m\"\u001b[39m\u001b[39m'\u001b[39m\u001b[39m{\u001b[39;00m\u001b[39mself\u001b[39m\u001b[39m.\u001b[39m\u001b[39m__class__\u001b[39m\u001b[39m.\u001b[39m\u001b[39m__name__\u001b[39m\u001b[39m}\u001b[39;00m\u001b[39m'\u001b[39m\u001b[39m object has no attribute \u001b[39m\u001b[39m'\u001b[39m\u001b[39m{\u001b[39;00mkey\u001b[39m}\u001b[39;00m\u001b[39m'\u001b[39m\u001b[39m\"\u001b[39m)\n",
      "\u001b[0;31mAttributeError\u001b[0m: 'EdgeStorage' object has no attribute 'edge_index'"
     ]
    }
   ],
   "source": [
    "ghetero.is_directed()"
   ]
  },
  {
   "cell_type": "code",
   "execution_count": null,
   "metadata": {},
   "outputs": [],
   "source": [
    "# create training mask for playlist nodes\n",
    "train_mask = torch.zeros(ghetero[\"playlist\"].x.shape[0], dtype=torch.bool)\n",
    "train_mask[torch.randperm(train_mask.shape[0])[:int(train_mask.shape[0]*0.8)]] = True\n",
    "\n",
    "ghetero[\"playlist\"].train_mask = train_mask\n",
    "\n",
    "ghetero[\"playlist\"].y = torch.LongTensor([1]*ghetero[\"playlist\"].x.shape[0])"
   ]
  },
  {
   "cell_type": "code",
   "execution_count": null,
   "metadata": {},
   "outputs": [
    {
     "ename": "NotImplementedError",
     "evalue": "",
     "output_type": "error",
     "traceback": [
      "\u001b[0;31m---------------------------------------------------------------------------\u001b[0m",
      "\u001b[0;31mNotImplementedError\u001b[0m                       Traceback (most recent call last)",
      "Cell \u001b[0;32mIn[110], line 58\u001b[0m\n\u001b[1;32m     55\u001b[0m             torch\u001b[39m.\u001b[39mnn\u001b[39m.\u001b[39minit\u001b[39m.\u001b[39mxavier_uniform_(v\u001b[39m.\u001b[39mweight)\n\u001b[1;32m     56\u001b[0m         \u001b[39mself\u001b[39m\u001b[39m.\u001b[39mgnn\u001b[39m.\u001b[39mreset_parameters()\n\u001b[0;32m---> 58\u001b[0m model \u001b[39m=\u001b[39m HeteroModel(\u001b[39m64\u001b[39;49m, ghetero\u001b[39m.\u001b[39;49mx_dict, ghetero\u001b[39m.\u001b[39;49mmetadata())\n\u001b[1;32m     59\u001b[0m optimizer \u001b[39m=\u001b[39m torch\u001b[39m.\u001b[39moptim\u001b[39m.\u001b[39mAdam(model\u001b[39m.\u001b[39mparameters(), lr\u001b[39m=\u001b[39m\u001b[39m0.01\u001b[39m)\n",
      "Cell \u001b[0;32mIn[110], line 36\u001b[0m, in \u001b[0;36mHeteroModel.__init__\u001b[0;34m(self, hidden_channels, node_features, metadata)\u001b[0m\n\u001b[1;32m     34\u001b[0m \u001b[39mself\u001b[39m\u001b[39m.\u001b[39mgnn \u001b[39m=\u001b[39m GNN(hidden_channels)\n\u001b[1;32m     35\u001b[0m \u001b[39m# Convert GNN model into a heterogeneous variant:\u001b[39;00m\n\u001b[0;32m---> 36\u001b[0m \u001b[39mself\u001b[39m\u001b[39m.\u001b[39mgnn \u001b[39m=\u001b[39m torch_geometric\u001b[39m.\u001b[39;49mnn\u001b[39m.\u001b[39;49mto_hetero(\u001b[39mself\u001b[39;49m\u001b[39m.\u001b[39;49mgnn, metadata\u001b[39m=\u001b[39;49mmetadata)\n\u001b[1;32m     38\u001b[0m \u001b[39mself\u001b[39m\u001b[39m.\u001b[39mclassifier \u001b[39m=\u001b[39m LinkPredictor()\n",
      "File \u001b[0;32m~/jupyter-server/venv/lib/python3.10/site-packages/torch_geometric/nn/to_hetero_transformer.py:119\u001b[0m, in \u001b[0;36mto_hetero\u001b[0;34m(module, metadata, aggr, input_map, debug)\u001b[0m\n\u001b[1;32m     29\u001b[0m \u001b[39m\u001b[39m\u001b[39mr\u001b[39m\u001b[39m\"\"\"Converts a homogeneous GNN model into its heterogeneous equivalent in\u001b[39;00m\n\u001b[1;32m     30\u001b[0m \u001b[39mwhich node representations are learned for each node type in\u001b[39;00m\n\u001b[1;32m     31\u001b[0m \u001b[39m:obj:`metadata[0]`, and messages are exchanged between each edge type in\u001b[39;00m\n\u001b[0;32m   (...)\u001b[0m\n\u001b[1;32m    116\u001b[0m \u001b[39m        transformation in debug mode. (default: :obj:`False`)\u001b[39;00m\n\u001b[1;32m    117\u001b[0m \u001b[39m\"\"\"\u001b[39;00m\n\u001b[1;32m    118\u001b[0m transformer \u001b[39m=\u001b[39m ToHeteroTransformer(module, metadata, aggr, input_map, debug)\n\u001b[0;32m--> 119\u001b[0m \u001b[39mreturn\u001b[39;00m transformer\u001b[39m.\u001b[39;49mtransform()\n",
      "File \u001b[0;32m~/jupyter-server/venv/lib/python3.10/site-packages/torch_geometric/nn/fx.py:157\u001b[0m, in \u001b[0;36mTransformer.transform\u001b[0;34m(self)\u001b[0m\n\u001b[1;32m    155\u001b[0m     \u001b[39melif\u001b[39;00m is_global_pooling_op(\u001b[39mself\u001b[39m\u001b[39m.\u001b[39mmodule, op, node\u001b[39m.\u001b[39mtarget):\n\u001b[1;32m    156\u001b[0m         op \u001b[39m=\u001b[39m \u001b[39m'\u001b[39m\u001b[39mcall_global_pooling_module\u001b[39m\u001b[39m'\u001b[39m\n\u001b[0;32m--> 157\u001b[0m     \u001b[39mgetattr\u001b[39;49m(\u001b[39mself\u001b[39;49m, op)(node, node\u001b[39m.\u001b[39;49mtarget, node\u001b[39m.\u001b[39;49mname)\n\u001b[1;32m    159\u001b[0m \u001b[39m# Remove all unused nodes in the computation graph, i.e., all nodes\u001b[39;00m\n\u001b[1;32m    160\u001b[0m \u001b[39m# which have been replaced by node type-wise or edge type-wise variants\u001b[39;00m\n\u001b[1;32m    161\u001b[0m \u001b[39m# but which are still present in the computation graph.\u001b[39;00m\n\u001b[1;32m    162\u001b[0m \u001b[39m# We do this by iterating over the computation graph in reversed order,\u001b[39;00m\n\u001b[1;32m    163\u001b[0m \u001b[39m# and try to remove every node. This does only succeed in case there\u001b[39;00m\n\u001b[1;32m    164\u001b[0m \u001b[39m# are no users of that node left in the computation graph.\u001b[39;00m\n\u001b[1;32m    165\u001b[0m \u001b[39mfor\u001b[39;00m node \u001b[39min\u001b[39;00m \u001b[39mreversed\u001b[39m(\u001b[39mlist\u001b[39m(\u001b[39mself\u001b[39m\u001b[39m.\u001b[39mgraph\u001b[39m.\u001b[39mnodes)):\n",
      "File \u001b[0;32m~/jupyter-server/venv/lib/python3.10/site-packages/torch_geometric/nn/to_hetero_transformer.py:307\u001b[0m, in \u001b[0;36mToHeteroTransformer.call_method\u001b[0;34m(self, node, target, name)\u001b[0m\n\u001b[1;32m    305\u001b[0m \u001b[39mself\u001b[39m\u001b[39m.\u001b[39mgraph\u001b[39m.\u001b[39minserting_after(node)\n\u001b[1;32m    306\u001b[0m \u001b[39mfor\u001b[39;00m key \u001b[39min\u001b[39;00m \u001b[39mself\u001b[39m\u001b[39m.\u001b[39mmetadata[\u001b[39mint\u001b[39m(\u001b[39mself\u001b[39m\u001b[39m.\u001b[39mis_edge_level(node))]:\n\u001b[0;32m--> 307\u001b[0m     args, kwargs \u001b[39m=\u001b[39m \u001b[39mself\u001b[39;49m\u001b[39m.\u001b[39;49mmap_args_kwargs(node, key)\n\u001b[1;32m    308\u001b[0m     out \u001b[39m=\u001b[39m \u001b[39mself\u001b[39m\u001b[39m.\u001b[39mgraph\u001b[39m.\u001b[39mcreate_node(\u001b[39m'\u001b[39m\u001b[39mcall_method\u001b[39m\u001b[39m'\u001b[39m, target\u001b[39m=\u001b[39mtarget,\n\u001b[1;32m    309\u001b[0m                                  args\u001b[39m=\u001b[39margs, kwargs\u001b[39m=\u001b[39mkwargs,\n\u001b[1;32m    310\u001b[0m                                  name\u001b[39m=\u001b[39m\u001b[39mf\u001b[39m\u001b[39m'\u001b[39m\u001b[39m{\u001b[39;00mname\u001b[39m}\u001b[39;00m\u001b[39m__\u001b[39m\u001b[39m{\u001b[39;00mkey2str(key)\u001b[39m}\u001b[39;00m\u001b[39m'\u001b[39m)\n\u001b[1;32m    311\u001b[0m     \u001b[39mself\u001b[39m\u001b[39m.\u001b[39mgraph\u001b[39m.\u001b[39minserting_after(out)\n",
      "File \u001b[0;32m~/jupyter-server/venv/lib/python3.10/site-packages/torch_geometric/nn/to_hetero_transformer.py:410\u001b[0m, in \u001b[0;36mToHeteroTransformer.map_args_kwargs\u001b[0;34m(self, node, key)\u001b[0m\n\u001b[1;32m    407\u001b[0m     \u001b[39melse\u001b[39;00m:\n\u001b[1;32m    408\u001b[0m         \u001b[39mreturn\u001b[39;00m value\n\u001b[0;32m--> 410\u001b[0m args \u001b[39m=\u001b[39m \u001b[39mtuple\u001b[39;49m(_recurse(v) \u001b[39mfor\u001b[39;49;00m v \u001b[39min\u001b[39;49;00m node\u001b[39m.\u001b[39;49margs)\n\u001b[1;32m    411\u001b[0m kwargs \u001b[39m=\u001b[39m {k: _recurse(v) \u001b[39mfor\u001b[39;00m k, v \u001b[39min\u001b[39;00m node\u001b[39m.\u001b[39mkwargs\u001b[39m.\u001b[39mitems()}\n\u001b[1;32m    412\u001b[0m \u001b[39mreturn\u001b[39;00m args, kwargs\n",
      "File \u001b[0;32m~/jupyter-server/venv/lib/python3.10/site-packages/torch_geometric/nn/to_hetero_transformer.py:410\u001b[0m, in \u001b[0;36m<genexpr>\u001b[0;34m(.0)\u001b[0m\n\u001b[1;32m    407\u001b[0m     \u001b[39melse\u001b[39;00m:\n\u001b[1;32m    408\u001b[0m         \u001b[39mreturn\u001b[39;00m value\n\u001b[0;32m--> 410\u001b[0m args \u001b[39m=\u001b[39m \u001b[39mtuple\u001b[39m(_recurse(v) \u001b[39mfor\u001b[39;00m v \u001b[39min\u001b[39;00m node\u001b[39m.\u001b[39margs)\n\u001b[1;32m    411\u001b[0m kwargs \u001b[39m=\u001b[39m {k: _recurse(v) \u001b[39mfor\u001b[39;00m k, v \u001b[39min\u001b[39;00m node\u001b[39m.\u001b[39mkwargs\u001b[39m.\u001b[39mitems()}\n\u001b[1;32m    412\u001b[0m \u001b[39mreturn\u001b[39;00m args, kwargs\n",
      "File \u001b[0;32m~/jupyter-server/venv/lib/python3.10/site-packages/torch_geometric/nn/to_hetero_transformer.py:400\u001b[0m, in \u001b[0;36mToHeteroTransformer.map_args_kwargs.<locals>._recurse\u001b[0;34m(value)\u001b[0m\n\u001b[1;32m    395\u001b[0m         \u001b[39mreturn\u001b[39;00m (\n\u001b[1;32m    396\u001b[0m             \u001b[39mself\u001b[39m\u001b[39m.\u001b[39mfind_by_name(\u001b[39mf\u001b[39m\u001b[39m'\u001b[39m\u001b[39m{\u001b[39;00mvalue\u001b[39m.\u001b[39mname\u001b[39m}\u001b[39;00m\u001b[39m__\u001b[39m\u001b[39m{\u001b[39;00mkey2str(key[\u001b[39m0\u001b[39m])\u001b[39m}\u001b[39;00m\u001b[39m'\u001b[39m),\n\u001b[1;32m    397\u001b[0m             \u001b[39mself\u001b[39m\u001b[39m.\u001b[39mfind_by_name(\u001b[39mf\u001b[39m\u001b[39m'\u001b[39m\u001b[39m{\u001b[39;00mvalue\u001b[39m.\u001b[39mname\u001b[39m}\u001b[39;00m\u001b[39m__\u001b[39m\u001b[39m{\u001b[39;00mkey2str(key[\u001b[39m-\u001b[39m\u001b[39m1\u001b[39m])\u001b[39m}\u001b[39;00m\u001b[39m'\u001b[39m),\n\u001b[1;32m    398\u001b[0m         )\n\u001b[1;32m    399\u001b[0m     \u001b[39melse\u001b[39;00m:\n\u001b[0;32m--> 400\u001b[0m         \u001b[39mraise\u001b[39;00m \u001b[39mNotImplementedError\u001b[39;00m\n\u001b[1;32m    401\u001b[0m \u001b[39melif\u001b[39;00m \u001b[39misinstance\u001b[39m(value, \u001b[39mdict\u001b[39m):\n\u001b[1;32m    402\u001b[0m     \u001b[39mreturn\u001b[39;00m {k: _recurse(v) \u001b[39mfor\u001b[39;00m k, v \u001b[39min\u001b[39;00m value\u001b[39m.\u001b[39mitems()}\n",
      "\u001b[0;31mNotImplementedError\u001b[0m: "
     ]
    }
   ],
   "source": [
    "class GNN(torch.nn.Module):\n",
    "    def __init__(self, hidden_channels):\n",
    "        super().__init__()\n",
    "        self.conv1 = torch_geometric.nn.SAGEConv((-1, -1), hidden_channels, normalize=True)\n",
    "        self.conv2 = torch_geometric.nn.SAGEConv((-1, -1), hidden_channels, normalize=True)\n",
    "\n",
    "    def forward(self, x, edge_index):\n",
    "        x = self.conv1(x, edge_index).relu()\n",
    "        x = self.conv2(x, edge_index)\n",
    "        return x\n",
    "\n",
    "class LinkPredictor(torch.nn.Module):\n",
    "    def forward(self, x_playlist, x_track, playlist_track_edge):\n",
    "        playlist_embedding = x_playlist[playlist_track_edge[0]]\n",
    "        track_embedding = x_track[playlist_track_edge[1]]\n",
    "\n",
    "        # Apply dot-product to get a prediction per supervision edge:\n",
    "        return (playlist_embedding * track_embedding).sum(dim=-1)\n",
    "\n",
    "class HeteroModel(torch.nn.Module):\n",
    "    def __init__(self, hidden_channels, node_features, metadata):\n",
    "        super().__init__()\n",
    "        # Since the dataset does not come with rich features, we also learn two\n",
    "        # embedding matrices for users and movies:\n",
    "        \n",
    "        self.node_lin = {\n",
    "            k: torch.nn.Linear(v.shape[1], hidden_channels) for k, v in node_features.items()\n",
    "        }\n",
    "\n",
    "        for _, v in self.node_lin.items():\n",
    "            torch.nn.init.xavier_uniform_(v.weight)\n",
    "        \n",
    "        # Instantiate homogeneous GNN:\n",
    "        self.gnn = GNN(hidden_channels)\n",
    "        # Convert GNN model into a heterogeneous variant:\n",
    "        self.gnn = torch_geometric.nn.to_hetero(self.gnn, metadata=metadata)\n",
    "\n",
    "        self.classifier = LinkPredictor()\n",
    "\n",
    "    def forward(self, data):\n",
    "        x_dict = {\n",
    "            k: self.node_lin[k](v) for k, v in data.x_dict.items()\n",
    "        }\n",
    "        \n",
    "        x_dict = self.gnn(x_dict, data.edge_index_dict)\n",
    "        pred = self.classifier(\n",
    "            x_dict[\"playlist\"],\n",
    "            x_dict[\"track\"],\n",
    "            data[\"track\", \"contains\", \"playlist\"].edge_index,\n",
    "        )\n",
    "        return pred\n",
    "\n",
    "    def reset_parameters(self):\n",
    "        for _, v in self.node_lin.items():\n",
    "            torch.nn.init.xavier_uniform_(v.weight)\n",
    "        self.gnn.reset_parameters()\n",
    "\n",
    "model = HeteroModel(64, ghetero.x_dict, ghetero.metadata())\n",
    "optimizer = torch.optim.Adam(model.parameters(), lr=0.01)"
   ]
  },
  {
   "cell_type": "code",
   "execution_count": null,
   "metadata": {},
   "outputs": [],
   "source": [
    "edge_label_index = train_data[\"track\", \"contains\", \"playlist\"].edge_label_index\n",
    "edge_label = train_data[\"track\", \"contains\", \"playlist\"].edge_label\n",
    "train_loader = torch_geometric.loader.LinkNeighborLoader(\n",
    "    data=train_data,\n",
    "    num_neighbors=[20, 10],\n",
    "    neg_sampling_ratio=2.0,\n",
    "    edge_label_index=((\"track\", \"contains\", \"playlist\"), edge_label_index),\n",
    "    edge_label=edge_label,\n",
    "    batch_size=128,\n",
    "    shuffle=True,\n",
    ")\n",
    "\n",
    "batch = next(iter(train_loader))"
   ]
  },
  {
   "cell_type": "code",
   "execution_count": null,
   "metadata": {},
   "outputs": [],
   "source": [
    "def train():\n",
    "    model.train()\n",
    "\n",
    "    total_examples = total_loss = 0\n",
    "    for batch in train_loader:\n",
    "        optimizer.zero_grad()\n",
    "        # batch = batch.to('cuda:0')\n",
    "        batch_size = 100\n",
    "        out = model(batch)\n",
    "        loss = torch.nn.functional.cross_entropy(\n",
    "            out, batch[\"track\", \"contains\", \"playlist\"].edge_label\n",
    "        )\n",
    "        loss.backward()\n",
    "        optimizer.step()\n",
    "\n",
    "        total_examples += batch_size\n",
    "        print(f'Loss: {loss:.4f}')\n",
    "        total_loss += float(loss) * batch_size\n",
    "\n",
    "    return total_loss / total_examples"
   ]
  },
  {
   "cell_type": "code",
   "execution_count": null,
   "metadata": {},
   "outputs": [],
   "source": [
    "train()"
   ]
  }
 ],
 "metadata": {
  "kernelspec": {
   "display_name": "Python 3 (ipykernel)",
   "language": "python",
   "name": "python3"
  },
  "language_info": {
   "codemirror_mode": {
    "name": "ipython",
    "version": 3
   },
   "file_extension": ".py",
   "mimetype": "text/x-python",
   "name": "python",
   "nbconvert_exporter": "python",
   "pygments_lexer": "ipython3",
   "version": "3.10.8"
  },
  "orig_nbformat": 4
 },
 "nbformat": 4,
 "nbformat_minor": 2
}
